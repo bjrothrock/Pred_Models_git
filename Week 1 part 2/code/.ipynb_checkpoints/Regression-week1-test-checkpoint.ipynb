{
 "cells": [
  {
   "cell_type": "markdown",
   "metadata": {
    "collapsed": false
   },
   "source": [
    "# Receipes for several Regression implementations and Regularization"
   ]
  },
  {
   "cell_type": "code",
   "execution_count": 48,
   "metadata": {
    "collapsed": false
   },
   "outputs": [],
   "source": [
    "#Load Packages\n",
    "import numpy as np\n",
    "import matplotlib.pyplot as plt\n",
    "import pandas as pd\n",
    "from sklearn.metrics import mean_squared_error\n",
    "from sklearn.metrics import explained_variance_score\n",
    "%matplotlib inline "
   ]
  },
  {
   "cell_type": "code",
   "execution_count": 2,
   "metadata": {
    "collapsed": false
   },
   "outputs": [
    {
     "data": {
      "text/plain": [
       "'/Users/mpgartland/Documents/Courses/Predictive Models/Pred_Models_git/Week 1 part 2/code'"
      ]
     },
     "execution_count": 2,
     "metadata": {},
     "output_type": "execute_result"
    }
   ],
   "source": [
    "%pwd"
   ]
  },
  {
   "cell_type": "code",
   "execution_count": 10,
   "metadata": {
    "collapsed": false
   },
   "outputs": [
    {
     "name": "stdout",
     "output_type": "stream",
     "text": [
      "/Users/mpgartland/Documents/Courses/Predictive Models/Pred_Models_git/Week 1 part 2\n"
     ]
    }
   ],
   "source": [
    "cd '/Users/mpgartland/Documents/Courses/Predictive Models/Pred_Models_git/Week 1 part 2/'"
   ]
  },
  {
   "cell_type": "code",
   "execution_count": 12,
   "metadata": {
    "collapsed": false
   },
   "outputs": [
    {
     "data": {
      "text/html": [
       "<div>\n",
       "<table border=\"1\" class=\"dataframe\">\n",
       "  <thead>\n",
       "    <tr style=\"text-align: right;\">\n",
       "      <th></th>\n",
       "      <th>Unnamed: 0</th>\n",
       "      <th>Y</th>\n",
       "      <th>FP001</th>\n",
       "      <th>FP002</th>\n",
       "      <th>FP003</th>\n",
       "      <th>FP004</th>\n",
       "      <th>FP005</th>\n",
       "      <th>FP006</th>\n",
       "      <th>FP007</th>\n",
       "      <th>FP008</th>\n",
       "      <th>...</th>\n",
       "      <th>NumCarbon</th>\n",
       "      <th>NumNitrogen</th>\n",
       "      <th>NumOxygen</th>\n",
       "      <th>NumSulfer</th>\n",
       "      <th>NumChlorine</th>\n",
       "      <th>NumHalogen</th>\n",
       "      <th>NumRings</th>\n",
       "      <th>HydrophilicFactor</th>\n",
       "      <th>SurfaceArea1</th>\n",
       "      <th>SurfaceArea2</th>\n",
       "    </tr>\n",
       "  </thead>\n",
       "  <tbody>\n",
       "    <tr>\n",
       "      <th>0</th>\n",
       "      <td>1</td>\n",
       "      <td>0.93</td>\n",
       "      <td>1</td>\n",
       "      <td>0</td>\n",
       "      <td>0</td>\n",
       "      <td>1</td>\n",
       "      <td>0</td>\n",
       "      <td>0</td>\n",
       "      <td>0</td>\n",
       "      <td>0</td>\n",
       "      <td>...</td>\n",
       "      <td>1.301297</td>\n",
       "      <td>0.000000</td>\n",
       "      <td>1.098612</td>\n",
       "      <td>0.0</td>\n",
       "      <td>0.375</td>\n",
       "      <td>0.375</td>\n",
       "      <td>0.000000</td>\n",
       "      <td>0.416563</td>\n",
       "      <td>8.245324</td>\n",
       "      <td>8.245324</td>\n",
       "    </tr>\n",
       "    <tr>\n",
       "      <th>1</th>\n",
       "      <td>2</td>\n",
       "      <td>0.85</td>\n",
       "      <td>1</td>\n",
       "      <td>0</td>\n",
       "      <td>1</td>\n",
       "      <td>1</td>\n",
       "      <td>0</td>\n",
       "      <td>1</td>\n",
       "      <td>0</td>\n",
       "      <td>0</td>\n",
       "      <td>...</td>\n",
       "      <td>1.719055</td>\n",
       "      <td>0.456826</td>\n",
       "      <td>1.098612</td>\n",
       "      <td>0.0</td>\n",
       "      <td>0.000</td>\n",
       "      <td>0.000</td>\n",
       "      <td>0.000000</td>\n",
       "      <td>0.915006</td>\n",
       "      <td>9.765805</td>\n",
       "      <td>9.765805</td>\n",
       "    </tr>\n",
       "    <tr>\n",
       "      <th>2</th>\n",
       "      <td>3</td>\n",
       "      <td>0.81</td>\n",
       "      <td>0</td>\n",
       "      <td>1</td>\n",
       "      <td>0</td>\n",
       "      <td>0</td>\n",
       "      <td>1</td>\n",
       "      <td>0</td>\n",
       "      <td>0</td>\n",
       "      <td>0</td>\n",
       "      <td>...</td>\n",
       "      <td>2.642633</td>\n",
       "      <td>0.000000</td>\n",
       "      <td>1.098612</td>\n",
       "      <td>0.0</td>\n",
       "      <td>0.000</td>\n",
       "      <td>0.000</td>\n",
       "      <td>0.693147</td>\n",
       "      <td>0.652185</td>\n",
       "      <td>8.591537</td>\n",
       "      <td>8.591537</td>\n",
       "    </tr>\n",
       "    <tr>\n",
       "      <th>3</th>\n",
       "      <td>4</td>\n",
       "      <td>0.74</td>\n",
       "      <td>0</td>\n",
       "      <td>0</td>\n",
       "      <td>1</td>\n",
       "      <td>0</td>\n",
       "      <td>0</td>\n",
       "      <td>1</td>\n",
       "      <td>0</td>\n",
       "      <td>0</td>\n",
       "      <td>...</td>\n",
       "      <td>2.372566</td>\n",
       "      <td>0.584815</td>\n",
       "      <td>0.000000</td>\n",
       "      <td>0.0</td>\n",
       "      <td>0.000</td>\n",
       "      <td>0.000</td>\n",
       "      <td>0.693147</td>\n",
       "      <td>0.734273</td>\n",
       "      <td>6.568437</td>\n",
       "      <td>6.568437</td>\n",
       "    </tr>\n",
       "    <tr>\n",
       "      <th>4</th>\n",
       "      <td>5</td>\n",
       "      <td>0.61</td>\n",
       "      <td>1</td>\n",
       "      <td>1</td>\n",
       "      <td>0</td>\n",
       "      <td>1</td>\n",
       "      <td>1</td>\n",
       "      <td>1</td>\n",
       "      <td>0</td>\n",
       "      <td>1</td>\n",
       "      <td>...</td>\n",
       "      <td>2.642633</td>\n",
       "      <td>0.584815</td>\n",
       "      <td>0.693147</td>\n",
       "      <td>0.0</td>\n",
       "      <td>0.000</td>\n",
       "      <td>0.000</td>\n",
       "      <td>0.693147</td>\n",
       "      <td>0.650346</td>\n",
       "      <td>10.095894</td>\n",
       "      <td>10.095894</td>\n",
       "    </tr>\n",
       "  </tbody>\n",
       "</table>\n",
       "<p>5 rows × 230 columns</p>\n",
       "</div>"
      ],
      "text/plain": [
       "   Unnamed: 0     Y  FP001  FP002  FP003  FP004  FP005  FP006  FP007  FP008  \\\n",
       "0           1  0.93      1      0      0      1      0      0      0      0   \n",
       "1           2  0.85      1      0      1      1      0      1      0      0   \n",
       "2           3  0.81      0      1      0      0      1      0      0      0   \n",
       "3           4  0.74      0      0      1      0      0      1      0      0   \n",
       "4           5  0.61      1      1      0      1      1      1      0      1   \n",
       "\n",
       "       ...       NumCarbon  NumNitrogen  NumOxygen  NumSulfer  NumChlorine  \\\n",
       "0      ...        1.301297     0.000000   1.098612        0.0        0.375   \n",
       "1      ...        1.719055     0.456826   1.098612        0.0        0.000   \n",
       "2      ...        2.642633     0.000000   1.098612        0.0        0.000   \n",
       "3      ...        2.372566     0.584815   0.000000        0.0        0.000   \n",
       "4      ...        2.642633     0.584815   0.693147        0.0        0.000   \n",
       "\n",
       "   NumHalogen  NumRings  HydrophilicFactor  SurfaceArea1  SurfaceArea2  \n",
       "0       0.375  0.000000           0.416563      8.245324      8.245324  \n",
       "1       0.000  0.000000           0.915006      9.765805      9.765805  \n",
       "2       0.000  0.693147           0.652185      8.591537      8.591537  \n",
       "3       0.000  0.693147           0.734273      6.568437      6.568437  \n",
       "4       0.000  0.693147           0.650346     10.095894     10.095894  \n",
       "\n",
       "[5 rows x 230 columns]"
      ]
     },
     "execution_count": 12,
     "metadata": {},
     "output_type": "execute_result"
    }
   ],
   "source": [
    "#Load Data\n",
    "#load the Boston House datasets.\n",
    "#The diabetes dataset consists of 13 economic variables\n",
    "#measure on 506 houses, and an median value (MEDV) as the target:\n",
    "dataset = pd.read_csv(\"data/solubility.csv\", sep=\",\", header=0)\n",
    "dataset.head()"
   ]
  },
  {
   "cell_type": "code",
   "execution_count": 39,
   "metadata": {
    "collapsed": false
   },
   "outputs": [
    {
     "name": "stdout",
     "output_type": "stream",
     "text": [
      "(1267,)\n",
      "(1267, 228)\n"
     ]
    }
   ],
   "source": [
    "#In a imported data set, you would break the data into two objects dataname.features (your PV) and dataname.target (your target/DV)\n",
    "#There are a lot of ways to do this- here is one.\n",
    "#View our .data and .target\n",
    "dataset.target=dataset['Y'] \n",
    "dataset.features=dataset.drop(['Y','Unnamed: 0'], axis=1)                         \n",
    "print(dataset.target.shape)\n",
    "print(dataset.features.shape)"
   ]
  },
  {
   "cell_type": "code",
   "execution_count": 49,
   "metadata": {
    "collapsed": false
   },
   "outputs": [
    {
     "name": "stdout",
     "output_type": "stream",
     "text": [
      "LinearRegression(copy_X=True, fit_intercept=True, n_jobs=1, normalize=False)\n",
      "Coef 5.76958100568 [  3.70898932e-01   9.01484507e-02  -1.86742821e-02  -2.85230203e-01\n",
      "   2.08591925e+00   1.40568556e-01  -4.12748093e-02  -8.13101492e-04\n",
      "  -3.99332798e-01   4.57282377e-01  -4.86163160e-02  -1.40126885e-02\n",
      "   1.01449478e-01   3.46996252e-02  -4.00443421e-04  -1.55165411e-01\n",
      "  -2.37056734e-01  -1.97858389e-01  -8.84695942e-01  -9.09692495e-02\n",
      "   2.70588286e-02   4.98986237e-01  -1.48651704e-01   8.30693278e-02\n",
      "   2.69255120e-01  -9.73033448e-03   4.12620618e-01   1.00497456e-01\n",
      "  -3.80948623e-02  -4.88575538e-02   1.10688280e-01  -1.11690281e+00\n",
      "   6.79959901e-01  -1.06736689e-01  -1.38624827e-01  -6.73940180e-02\n",
      "   1.07920743e-01   1.03208286e-01  -2.82567448e-02   5.04736858e-01\n",
      "  -2.58317908e-01  -3.08817348e-01   2.15651948e-03  -5.61900261e-01\n",
      "   1.65421505e-01  -7.35835808e-02  -3.49413935e-02   3.14451992e-02\n",
      "   1.56028060e-01  -5.06469933e-02   9.66128114e-03  -2.96802848e-01\n",
      "   1.21896798e-01  -2.02493947e-01  -2.97184327e-01  -2.24990237e-01\n",
      "  -8.61383656e-02   1.55156737e-01  -2.52862408e-01  -4.62700646e-02\n",
      "  -5.53487418e-01  -5.90931681e-01  -1.03286095e+00   3.51233706e-01\n",
      "  -2.54943438e-01   1.57174969e-01  -9.72034641e-02   3.29165427e-01\n",
      "   2.11951271e-01   2.30886294e-03   5.90216534e-02  -7.03469538e-01\n",
      "  -2.91501452e-01   1.84267063e-01   4.35434373e-02   4.57789477e-01\n",
      "   2.03914884e-01  -2.65081177e-01   4.34610224e-01   1.87575727e-01\n",
      "  -3.26361933e-01   1.81249897e-01  -9.13331780e-01   4.03157088e-01\n",
      "  -1.65712509e-01  -3.08459274e-03   1.25852934e-01   2.40618459e-01\n",
      "   4.12404607e-01   1.01226730e-02  -1.55616979e-01   1.68740380e-01\n",
      "   1.85140073e-01  -2.36944464e-01  -4.27115117e-02  -2.67467461e-01\n",
      "  -1.93909722e-01  -1.70577734e-01   3.08219372e-01  -4.37024646e-01\n",
      "  -2.68567746e-02   2.45844592e-01  -1.33775897e-01  -2.41959651e-01\n",
      "   3.00215005e-02   5.11304104e-03   2.52693217e+00   1.87606184e-01\n",
      "   4.61713289e-01   4.37131454e-01  -4.74160758e-01  -2.11635438e-01\n",
      "   2.81283520e-01  -2.86566308e-02  -1.42248750e-01  -1.79275736e-01\n",
      "   2.58001467e-01  -2.69719333e-01   3.67741222e-01  -1.44560460e-02\n",
      "  -2.44603840e-01   1.32379493e-01   1.41417443e-02   3.81638172e-01\n",
      "  -2.66151405e-02  -1.42734322e-01  -4.86031481e-01  -3.76827503e-01\n",
      "  -1.16265546e-01  -8.20188395e-01   4.42946754e-01  -7.17603447e-02\n",
      "  -1.88967751e-01   1.78134468e+00   1.45111692e-01   2.30230764e-01\n",
      "   2.47161587e-01  -1.22630318e-01   6.26562461e-01   1.84589821e-01\n",
      "   1.86374737e-01   6.71908170e-01   5.61134209e-01   2.43221875e-01\n",
      "  -7.00658042e-02   2.89686101e-02   9.75135289e-02  -2.78397279e-01\n",
      "   2.56143453e-01   1.83234934e-01   4.40835789e-02  -2.26208249e-01\n",
      "  -5.80634608e-01  -9.27020870e-01   3.28741253e-02  -2.00813445e-01\n",
      "  -2.99743405e-01  -1.71620532e-01   3.76188249e-01  -1.63238706e-01\n",
      "  -3.15414968e-01   1.21505812e-01   6.21727212e-01   2.44142391e-01\n",
      "   4.38521406e-01  -1.09909752e-01  -4.71217449e-01  -2.59637976e-02\n",
      "  -1.46287604e-01   8.84156780e-03   4.21532359e-01  -4.22552252e-01\n",
      "   4.86563021e-01   4.65932883e-02   5.43814472e-02   7.57672062e-01\n",
      "  -6.81886850e-02  -1.11350103e-01   2.27668312e-01  -5.98604803e-01\n",
      "   4.53361462e-01  -1.29650771e-01   3.53452184e-01   4.86501642e-01\n",
      "  -4.82974540e-01  -1.93252599e-01   2.72262208e-01   1.05392060e-01\n",
      "   1.95158271e-01   3.92961433e-01   2.13864238e-01  -3.13276878e-01\n",
      "   1.69747279e-01  -1.14864627e-01  -2.57486189e-01  -1.24914653e-01\n",
      "  -1.30843753e-01  -5.25091604e-02  -1.30295484e-01  -2.06871754e-01\n",
      "  -2.70635887e-01   5.00445608e-01   7.06234419e-01   1.75712037e-03\n",
      "   1.93883150e-01   3.24576547e-05  -9.93716948e-02  -6.87210358e-01\n",
      "  -1.57590180e+00  -1.67875514e+01   1.71284668e+01   1.04991479e+01\n",
      "  -8.99702980e+00   1.23516893e-01  -4.17413207e-01  -6.91276246e-01\n",
      "  -1.82528221e+00   1.11271687e+00   1.46415665e-02   3.63078132e+00\n",
      "   1.76519728e+00  -5.86939156e+00  -7.27204498e+00   5.99690447e-01\n",
      "   7.64462354e-01   1.50317902e-01   1.15654841e-01   4.58314408e-02]\n",
      "MSE 0.267202474638\n",
      "EVS 0.936620688661\n"
     ]
    }
   ],
   "source": [
    "# Linear Regression-Ordinary Least Squares\n",
    "from sklearn.linear_model import LinearRegression\n",
    "\n",
    "# fit a linear regression model to the data\n",
    "model_LR = LinearRegression()\n",
    "model_LR.fit(dataset.features, dataset.target)\n",
    "print(model_LR)\n",
    "# make predictions\n",
    "expected_LR = dataset.target\n",
    "predicted_LR = model_LR.predict(dataset.features)\n",
    "# summarize the fit of the model\n",
    "print(\"Coef\", model_LR.intercept_, model_LR.coef_)\n",
    "print(\"MSE\", mean_squared_error(expected_LR, predicted_LR))\n",
    "print(\"EVS\", explained_variance_score(expected_LR, predicted_LR))\n"
   ]
  },
  {
   "cell_type": "markdown",
   "metadata": {},
   "source": [
    "Just for explanation purposes: Showing the variance of the Coefficient for LR"
   ]
  },
  {
   "cell_type": "code",
   "execution_count": 15,
   "metadata": {
    "collapsed": false
   },
   "outputs": [
    {
     "data": {
      "image/png": "[encoded data removed]",
      "text/plain": [
       "<matplotlib.figure.Figure at 0x10ee7b860>"
      ]
     },
     "metadata": {},
     "output_type": "display_data"
    }
   ],
   "source": [
    "fig, ax = plt.subplots()\n",
    "plt.plot(model_LR.coef_, label='LR')\n",
    "plt.axhline(linewidth=4, color='r') # for reference\n",
    "legend = ax.legend(loc='lower right', shadow=True)\n",
    "plt.show()"
   ]
  },
  {
   "cell_type": "code",
   "execution_count": 50,
   "metadata": {
    "collapsed": false
   },
   "outputs": [
    {
     "name": "stdout",
     "output_type": "stream",
     "text": [
      "Ridge(alpha=0.01, copy_X=True, fit_intercept=True, max_iter=None,\n",
      "   normalize=False, random_state=None, solver='auto', tol=0.001)\n",
      "Coef 6.45779459985 [  3.56774467e-01   1.10547720e-01  -4.50224397e-02  -2.73807964e-01\n",
      "   2.08626639e+00   1.27793633e-01  -5.04439229e-02  -5.74343282e-03\n",
      "  -3.02892297e-01   4.62127945e-01  -2.29014564e-02  -3.42127130e-02\n",
      "   1.18298595e-01  -1.96758286e-02  -3.43563529e-02  -1.57827620e-01\n",
      "  -2.48541559e-01  -1.81549883e-01  -8.34950366e-01  -6.70128523e-02\n",
      "  -9.87897159e-03   5.00593958e-01  -1.72539949e-01   7.82122324e-02\n",
      "   2.58698975e-01  -2.60050302e-02   4.01000742e-01   1.11714017e-01\n",
      "  -3.47166919e-02  -4.85996084e-02   1.07236924e-01  -1.02296721e+00\n",
      "   6.99591661e-01  -1.07594522e-01  -1.56931325e-01  -6.85719767e-02\n",
      "   1.00255523e-01   8.52645529e-02  -8.34239963e-02   5.05171926e-01\n",
      "  -2.65490484e-01  -2.54029032e-01   1.77800540e-03  -5.90573013e-01\n",
      "   1.47857019e-01  -7.16379012e-02  -4.13842463e-02   3.17496201e-02\n",
      "   1.73445378e-01  -7.06362705e-02  -7.31716679e-03  -3.00161050e-01\n",
      "   1.16746786e-01  -2.38636691e-01  -3.27752220e-01  -2.08204769e-01\n",
      "  -9.04629217e-02   1.57147605e-01  -2.66701297e-01  -3.02713212e-02\n",
      "  -4.91381133e-01  -5.82687352e-01  -5.02942115e-01   3.52142172e-01\n",
      "  -2.18548347e-01   1.45553429e-01  -1.11740283e-01   3.00060209e-01\n",
      "   1.90203116e-01  -8.34480224e-03   6.05643559e-02  -5.68397759e-01\n",
      "  -3.00506687e-01   1.78105424e-01   3.45346543e-02   4.80634632e-01\n",
      "   2.00215427e-01  -2.73524497e-01   4.87089935e-01   1.98757506e-01\n",
      "  -3.20756956e-01   2.05863737e-01  -8.88820617e-01   4.03914269e-01\n",
      "  -1.66566588e-01   7.81541477e-04   1.90520221e-01   2.36512852e-01\n",
      "   4.28069460e-01  -9.72795380e-04  -5.50826055e-02   1.77606266e-01\n",
      "   1.85867765e-01  -2.46057749e-01  -3.16872916e-02  -2.28954114e-01\n",
      "  -1.38188003e-01  -1.32718937e-01   3.15390337e-01  -4.44733179e-01\n",
      "  -3.56018052e-02   2.26766666e-01  -1.24700527e-01  -2.47109033e-01\n",
      "   8.96439969e-03   6.23917418e-03   2.36763360e+00   1.55375875e-01\n",
      "   4.22003621e-01   4.84089823e-01  -4.76953166e-01  -1.76514587e-01\n",
      "   2.86738866e-01  -7.89294336e-03  -1.36862656e-01  -1.86034284e-01\n",
      "   2.75853391e-01  -2.81856568e-01   3.68106765e-01  -3.68783036e-02\n",
      "  -2.44555497e-01   1.43604308e-01   4.74779853e-02   3.61667680e-01\n",
      "  -4.90327884e-03  -1.39115552e-01  -4.76279272e-01  -3.74339259e-01\n",
      "  -1.07432254e-01  -8.28359596e-01   4.66818891e-01  -9.01532889e-02\n",
      "  -1.93820854e-01   1.45341330e+00   1.41218688e-01   2.44119443e-01\n",
      "   2.42323919e-01  -1.25051036e-01   6.57815939e-01   1.78367894e-01\n",
      "   1.79341330e-01   6.63236215e-01   5.04722950e-01   2.29214045e-01\n",
      "  -7.33743229e-02   2.54194409e-02   1.08384018e-01  -2.83027070e-01\n",
      "   2.53959943e-01   1.89977245e-01   1.24406064e-02  -1.84715426e-01\n",
      "  -5.69785253e-01  -8.95680378e-01   3.23160132e-02  -2.64345244e-01\n",
      "  -3.02308225e-01  -1.72061000e-01   4.01003385e-01  -2.00278075e-01\n",
      "  -3.15734127e-01   1.46722663e-01   6.46119431e-01   2.61447091e-01\n",
      "   4.08067609e-01  -1.05732740e-01  -4.71035118e-01   6.78818333e-03\n",
      "  -1.49591584e-01  -3.58689855e-03   4.11963550e-01  -4.74391998e-01\n",
      "   4.99501942e-01   2.61490844e-02   6.32611346e-02   7.25879044e-01\n",
      "  -4.57589630e-02  -9.39262432e-02   2.25457872e-01  -5.86760962e-01\n",
      "   4.46309504e-01  -1.32470686e-01   2.70642080e-01   4.95839559e-01\n",
      "  -4.63845817e-01  -1.92089242e-01   2.43660730e-01   1.07448080e-01\n",
      "   2.21353566e-01   4.32813782e-01   1.85701439e-01  -2.94716670e-01\n",
      "   1.79714013e-01  -1.11289571e-01  -2.04849244e-01  -1.61738247e-01\n",
      "  -1.41097679e-01  -3.64535334e-02  -1.11841494e-01  -2.03129037e-01\n",
      "  -2.50043953e-01   4.92144524e-01   6.92275367e-01  -1.11514083e-02\n",
      "   1.93391070e-01   9.14246854e-03  -1.24726652e-01  -6.65227294e-01\n",
      "  -1.57315210e+00  -1.11947185e+01   1.21569659e+01   6.49452565e+00\n",
      "  -6.37239683e+00   1.52162380e-01  -4.09429970e-01  -6.50713100e-01\n",
      "  -1.83452746e+00   8.99993983e-01  -2.72885458e-01   2.34548049e+00\n",
      "   1.48911334e+00  -4.89866053e+00  -6.83949602e+00   3.84179716e-01\n",
      "   2.90652533e-01   1.08625302e-01   1.42627908e-01   3.42434228e-02]\n",
      "MSE 0.268612752462\n",
      "EVS 0.936286176649\n"
     ]
    }
   ],
   "source": [
    "# Ridge Regression\n",
    "from sklearn.linear_model import Ridge\n",
    "\n",
    "# fit a ridge regression model to the data\n",
    "model_RG = Ridge(alpha=.01)\n",
    "model_RG.fit(dataset.features, dataset.target)\n",
    "print(model_RG)\n",
    "# make predictions\n",
    "expected_RG = dataset.target\n",
    "predicted_RG= model_RG.predict(dataset.features)\n",
    "# summarize the fit of the model\n",
    "print(\"Coef\", model_RG.intercept_, model_RG.coef_)\n",
    "print(\"MSE\", mean_squared_error(expected_RG, predicted_RG))\n",
    "print(\"EVS\", explained_variance_score(expected_RG, predicted_RG))"
   ]
  },
  {
   "cell_type": "markdown",
   "metadata": {},
   "source": [
    "# Example of a Grid Search with CV. On Regression, grid search displays and finds the optimal metric \"R2\". On classification models it uses \"accuracy\", all based on fit (not predict). "
   ]
  },
  {
   "cell_type": "code",
   "execution_count": 37,
   "metadata": {
    "collapsed": false
   },
   "outputs": [
    {
     "name": "stdout",
     "output_type": "stream",
     "text": [
      "Grid Scores {'split2_test_score': array([ 0.7341869 ,  0.73674942,  0.74216206,  0.75256154,  0.75922217,\n",
      "        0.76698625,  0.78581445]), 'std_score_time': array([  5.38468473e-03,   5.00929260e-03,   5.09724401e-03,\n",
      "         3.33686372e-03,   3.51782670e-04,   8.06275094e-05,\n",
      "         1.14662691e-04]), 'mean_fit_time': array([ 0.04441843,  0.02966771,  0.02548037,  0.02775164,  0.0240788 ,\n",
      "        0.01508303,  0.01641717]), 'mean_train_score': array([ 0.94133121,  0.94091116,  0.93876973,  0.93683408,  0.93561066,\n",
      "        0.9337973 ,  0.92537005]), 'mean_score_time': array([ 0.00860753,  0.00777917,  0.00616202,  0.00384316,  0.00125179,\n",
      "        0.00112438,  0.0012187 ]), 'split1_train_score': array([ 0.9279242 ,  0.92749609,  0.92544174,  0.92333325,  0.92185235,\n",
      "        0.91966295,  0.90994934]), 'split3_train_score': array([ 0.95270714,  0.95229198,  0.95026562,  0.94857535,  0.94748116,\n",
      "        0.94587578,  0.93899192]), 'std_test_score': array([ 0.4072214 ,  0.40401611,  0.403992  ,  0.38496214,  0.36927446,\n",
      "        0.35302524,  0.32238856]), 'param_alpha': masked_array(data = [0.001 0.01 0.1 0.5 1 2 10],\n",
      "             mask = [False False False False False False False],\n",
      "       fill_value = ?)\n",
      ", 'std_fit_time': array([ 0.00796404,  0.00618361,  0.00586699,  0.00432521,  0.00414778,\n",
      "        0.00105534,  0.00113673]), 'split4_train_score': array([ 0.92875018,  0.92829687,  0.92598002,  0.92375283,  0.92235469,\n",
      "        0.92027546,  0.90991933]), 'rank_test_score': array([5, 6, 7, 4, 3, 2, 1], dtype=int32), 'split3_test_score': array([-0.32485374, -0.31870952, -0.32127878, -0.26587296, -0.22142526,\n",
      "       -0.17700138, -0.10456052]), 'split2_train_score': array([ 0.94600657,  0.94553186,  0.943266  ,  0.94140642,  0.9403272 ,\n",
      "        0.93875164,  0.93115558]), 'params': ({'alpha': 0.001}, {'alpha': 0.01}, {'alpha': 0.1}, {'alpha': 0.5}, {'alpha': 1}, {'alpha': 2}, {'alpha': 10}), 'split1_test_score': array([ 0.74999253,  0.7457462 ,  0.73834906,  0.74181096,  0.74408517,\n",
      "        0.74470048,  0.73264717]), 'split0_test_score': array([ 0.64868934,  0.6427529 ,  0.63259985,  0.63291222,  0.63486863,\n",
      "        0.63520544,  0.60309683]), 'std_train_score': array([ 0.01084472,  0.01086753,  0.01091888,  0.01111393,  0.01128622,\n",
      "        0.01154046,  0.01286059]), 'mean_test_score': array([ 0.42145268,  0.42118304,  0.41672613,  0.43418224,  0.44896605,\n",
      "        0.46441439,  0.48413371]), 'split0_train_score': array([ 0.95126797,  0.95093902,  0.94889525,  0.94710254,  0.94603793,\n",
      "        0.94442065,  0.93683405]), 'split4_test_score': array([ 0.29705162,  0.29721758,  0.289674  ,  0.30749802,  0.32617827,\n",
      "        0.35039821,  0.40221813])}\n",
      "Best {'alpha': 10}\n"
     ]
    }
   ],
   "source": [
    "# use a full grid over several parameters and cross validate 5 times\n",
    "from sklearn.model_selection import GridSearchCV\n",
    "param_grid = {\"alpha\": [.001,.01,.1, .5, 1, 2, 10]}\n",
    "#param_grid={\"alpha\": [1,10,1]} this does a range 1 through 10 changes by a factor of 1. \n",
    "#param_grid={\"alpha\": [.01,1,.05]} this does a range 1 through 1 changes by a factor of .05\n",
    "\n",
    "# run grid search\n",
    "grid_search = GridSearchCV(model_RG, param_grid=param_grid,n_jobs=-1,cv=5)\n",
    "\n",
    "grid_search.fit(dataset.features, dataset.target)\n",
    "print(\"Grid Scores\", grid_search.cv_results_)\n",
    "print(\"Best\", grid_search.best_params_)                                   "
   ]
  },
  {
   "cell_type": "markdown",
   "metadata": {},
   "source": [
    "Just for explanation purposes: Showing the variance of the Coefficient for LR and Ridge"
   ]
  },
  {
   "cell_type": "code",
   "execution_count": 45,
   "metadata": {
    "collapsed": false
   },
   "outputs": [
    {
     "data": {
      "image/png": "[encoded data removed]",
      "text/plain": [
       "<matplotlib.figure.Figure at 0x114d25518>"
      ]
     },
     "metadata": {},
     "output_type": "display_data"
    }
   ],
   "source": [
    "fig, ax = plt.subplots()\n",
    "plt.plot(model_LR.coef_, label='LR')\n",
    "plt.plot(model_RG.coef_, label='Ridge')\n",
    "plt.axhline(linewidth=4, color='r') # for reference\n",
    "legend = ax.legend(loc='lower right', shadow=True)\n",
    "plt.show()"
   ]
  },
  {
   "cell_type": "code",
   "execution_count": 51,
   "metadata": {
    "collapsed": false
   },
   "outputs": [
    {
     "name": "stdout",
     "output_type": "stream",
     "text": [
      "Lasso(alpha=0.01, copy_X=True, fit_intercept=True, max_iter=1000,\n",
      "   normalize=False, positive=False, precompute=False, random_state=None,\n",
      "   selection='cyclic', tol=0.0001, warm_start=False)\n",
      "Coef 5.88063360847 [-0.          0.10091527 -0.03573081 -0.          0.          0.          0.\n",
      "  0.         -0.         -0.          0.         -0.         -0.         -0.\n",
      " -0.         -0.         -0.         -0.          0.          0.          0.\n",
      "  0.         -0.          0.         -0.03272053  0.06486881  0.          0.\n",
      " -0.          0.          0.02786601 -0.         -0.         -0.          0.\n",
      " -0.          0.         -0.         -0.013725    0.11513586  0.         -0.\n",
      "  0.         -0.06895895  0.          0.          0.         -0.          0.0695297\n",
      " -0.12979117  0.          0.          0.12864991 -0.         -0.         -0.\n",
      "  0.          0.         -0.33426059 -0.         -0.11463265 -0.          0.\n",
      "  0.03793096 -0.          0.          0.          0.          0.03088955\n",
      " -0.          0.         -0.         -0.          0.13022737  0.          0.\n",
      " -0.         -0.          0.04587688  0.00682659 -0.1038307   0.\n",
      " -0.29992129  0.20535148 -0.16133744 -0.          0.          0.02096002\n",
      " -0.         -0.         -0.          0.          0.         -0.11717779\n",
      " -0.          0.         -0.         -0.          0.01034931 -0.          0.2369914\n",
      "  0.         -0.         -0.01444011 -0.         -0.         -0.         -0.\n",
      "  0.         -0.         -0.18650393 -0.          0.00638358  0.         -0.\n",
      "  0.05130789 -0.          0.         -0.          0.          0.\n",
      "  0.02195841 -0.          0.15899517  0.         -0.         -0.26176155\n",
      " -0.          0.         -0.          0.         -0.03293285 -0.         -0.\n",
      "  0.2198355   0.          0.26295158  0.0481862   0.          0.         -0.\n",
      "  0.53543021 -0.          0.         -0.          0.          0.04654513\n",
      " -0.         -0.          0.          0.         -0.          0.\n",
      " -0.23261957  0.         -0.         -0.         -0.          0.         -0.\n",
      " -0.          0.24110137  0.          0.35197034 -0.          0.1520279  -0.\n",
      "  0.         -0.05498469  0.18705645  0.         -0.3475972   0.05338924\n",
      "  0.         -0.01284166  0.          0.         -0.          0.07111158\n",
      " -0.0689633   0.         -0.         -0.         -0.         -0.         -0.\n",
      "  0.          0.0321178   0.          0.         -0.          0.         -0.\n",
      " -0.         -0.         -0.          0.          0.         -0.         -0.\n",
      "  0.          0.09022561  0.19688183 -0.13387871 -0.         -0.02910034\n",
      "  0.          0.         -1.04397985 -0.         -0.         -0.         -1.2971419\n",
      " -0.21096268 -0.09647807 -0.         -0.          0.16303969 -0.40134382\n",
      "  0.          0.         -0.         -0.         -0.          0.          0.\n",
      "  0.35188522 -0.04516648]\n",
      "MSE 0.43551266522\n",
      "EVS 0.896698214196\n"
     ]
    }
   ],
   "source": [
    "# Lasso Regression-Least Absolute Shrinkage and Selection Operator\n",
    "from sklearn.linear_model import Lasso\n",
    "\n",
    "# fit a LASSO model to the data\n",
    "model_LAS = Lasso(alpha=.01)\n",
    "model_LAS.fit(dataset.features, dataset.target)\n",
    "print(model_LAS)\n",
    "# make predictions\n",
    "expected_LAS = dataset.target\n",
    "predicted_LAS = model_LAS.predict(dataset.features)\n",
    "# summarize the fit of the model\n",
    "print(\"Coef\", model_LAS.intercept_,model_LAS.coef_)\n",
    "print(\"MSE\", mean_squared_error(expected_LAS, predicted_LAS))\n",
    "print(\"EVS\", explained_variance_score(expected_LAS, predicted_LAS))"
   ]
  },
  {
   "cell_type": "markdown",
   "metadata": {},
   "source": [
    "Just for explanation purposes: Showing the variance of the Coefficient for LR, Ridge and Lasso"
   ]
  },
  {
   "cell_type": "code",
   "execution_count": 44,
   "metadata": {
    "collapsed": false
   },
   "outputs": [
    {
     "data": {
      "image/png": "[encoded data removed]",
      "text/plain": [
       "<matplotlib.figure.Figure at 0x114ec5518>"
      ]
     },
     "metadata": {},
     "output_type": "display_data"
    }
   ],
   "source": [
    "fig, ax = plt.subplots()\n",
    "plt.plot(model_LR.coef_, label='LR')\n",
    "plt.plot(model_RG.coef_, label='Ridge')\n",
    "plt.plot(model_LAS.coef_, label='Lasso')\n",
    "plt.axhline(linewidth=4, color='r') # for reference\n",
    "legend = ax.legend(loc='lower right', shadow=True)\n",
    "plt.show()"
   ]
  },
  {
   "cell_type": "code",
   "execution_count": 18,
   "metadata": {
    "collapsed": false
   },
   "outputs": [
    {
     "name": "stdout",
     "output_type": "stream",
     "text": [
      "ElasticNet(alpha=0.1, copy_X=True, fit_intercept=True, l1_ratio=0.5,\n",
      "      max_iter=1000, normalize=False, positive=False, precompute=False,\n",
      "      random_state=None, selection='cyclic', tol=0.0001, warm_start=False)\n",
      "Coef 3.51027537394 [  7.52952177e-04  -0.00000000e+00   0.00000000e+00  -0.00000000e+00\n",
      "  -0.00000000e+00   0.00000000e+00  -0.00000000e+00   0.00000000e+00\n",
      "   2.62702487e-03  -3.08287235e-02  -0.00000000e+00   0.00000000e+00\n",
      "   0.00000000e+00  -0.00000000e+00  -0.00000000e+00   0.00000000e+00\n",
      "   0.00000000e+00  -0.00000000e+00   0.00000000e+00   0.00000000e+00\n",
      "   0.00000000e+00  -0.00000000e+00  -0.00000000e+00   0.00000000e+00\n",
      "   0.00000000e+00  -0.00000000e+00   0.00000000e+00  -0.00000000e+00\n",
      "   0.00000000e+00   0.00000000e+00   0.00000000e+00   0.00000000e+00\n",
      "   0.00000000e+00   0.00000000e+00  -0.00000000e+00  -0.00000000e+00\n",
      "  -0.00000000e+00   0.00000000e+00  -0.00000000e+00  -0.00000000e+00\n",
      "   0.00000000e+00   0.00000000e+00  -0.00000000e+00   0.00000000e+00\n",
      "  -0.00000000e+00   0.00000000e+00   0.00000000e+00   0.00000000e+00\n",
      "  -0.00000000e+00  -0.00000000e+00  -0.00000000e+00   0.00000000e+00\n",
      "  -0.00000000e+00   0.00000000e+00  -0.00000000e+00   0.00000000e+00\n",
      "  -0.00000000e+00   0.00000000e+00   0.00000000e+00  -0.00000000e+00\n",
      "   0.00000000e+00  -0.00000000e+00  -0.00000000e+00   0.00000000e+00\n",
      "   0.00000000e+00  -0.00000000e+00   0.00000000e+00   0.00000000e+00\n",
      "   0.00000000e+00   0.00000000e+00  -6.12922983e-02  -0.00000000e+00\n",
      "   0.00000000e+00   0.00000000e+00   3.63937647e-02   0.00000000e+00\n",
      "  -0.00000000e+00   0.00000000e+00   0.00000000e+00   0.00000000e+00\n",
      "   1.00524670e-02  -0.00000000e+00   0.00000000e+00  -0.00000000e+00\n",
      "   1.10240891e-01  -0.00000000e+00  -0.00000000e+00   0.00000000e+00\n",
      "   0.00000000e+00  -0.00000000e+00  -0.00000000e+00  -0.00000000e+00\n",
      "  -5.21480936e-03   0.00000000e+00  -0.00000000e+00  -0.00000000e+00\n",
      "  -0.00000000e+00  -0.00000000e+00  -0.00000000e+00  -0.00000000e+00\n",
      "  -0.00000000e+00   2.43205711e-03   0.00000000e+00  -0.00000000e+00\n",
      "  -0.00000000e+00  -0.00000000e+00  -0.00000000e+00  -6.99319424e-02\n",
      "   0.00000000e+00   0.00000000e+00  -0.00000000e+00  -1.17190714e-01\n",
      "  -5.04295025e-02  -0.00000000e+00  -0.00000000e+00  -0.00000000e+00\n",
      "   0.00000000e+00   0.00000000e+00  -0.00000000e+00   0.00000000e+00\n",
      "   0.00000000e+00   5.90415422e-02   0.00000000e+00   0.00000000e+00\n",
      "   0.00000000e+00   0.00000000e+00  -0.00000000e+00  -0.00000000e+00\n",
      "  -0.00000000e+00   0.00000000e+00  -0.00000000e+00   0.00000000e+00\n",
      "  -0.00000000e+00   0.00000000e+00  -0.00000000e+00   1.42231987e-02\n",
      "   0.00000000e+00   1.33518285e-01   0.00000000e+00  -0.00000000e+00\n",
      "   0.00000000e+00  -0.00000000e+00   2.32286109e-01  -0.00000000e+00\n",
      "   0.00000000e+00   0.00000000e+00  -0.00000000e+00   0.00000000e+00\n",
      "  -0.00000000e+00  -0.00000000e+00   0.00000000e+00  -0.00000000e+00\n",
      "  -0.00000000e+00   0.00000000e+00  -0.00000000e+00   0.00000000e+00\n",
      "  -0.00000000e+00   0.00000000e+00  -0.00000000e+00  -0.00000000e+00\n",
      "  -0.00000000e+00  -0.00000000e+00   1.19462015e-01  -0.00000000e+00\n",
      "   0.00000000e+00  -0.00000000e+00   1.45699356e-01  -0.00000000e+00\n",
      "   0.00000000e+00  -0.00000000e+00   0.00000000e+00   0.00000000e+00\n",
      "  -1.47280625e-01   0.00000000e+00  -0.00000000e+00  -0.00000000e+00\n",
      "   0.00000000e+00  -0.00000000e+00  -0.00000000e+00   0.00000000e+00\n",
      "  -0.00000000e+00  -0.00000000e+00  -0.00000000e+00   0.00000000e+00\n",
      "  -0.00000000e+00   0.00000000e+00   0.00000000e+00   0.00000000e+00\n",
      "   0.00000000e+00   0.00000000e+00  -0.00000000e+00   0.00000000e+00\n",
      "   0.00000000e+00  -0.00000000e+00  -0.00000000e+00  -0.00000000e+00\n",
      "  -0.00000000e+00   0.00000000e+00   0.00000000e+00  -0.00000000e+00\n",
      "   0.00000000e+00   0.00000000e+00   0.00000000e+00   0.00000000e+00\n",
      "  -0.00000000e+00  -0.00000000e+00  -0.00000000e+00  -0.00000000e+00\n",
      "   0.00000000e+00  -7.69473366e-01  -0.00000000e+00  -1.16324211e-01\n",
      "  -0.00000000e+00  -8.59220990e-01  -1.60094708e-01  -1.78310528e-01\n",
      "  -0.00000000e+00   0.00000000e+00   1.72899648e-02  -2.64771199e-01\n",
      "   0.00000000e+00   0.00000000e+00  -0.00000000e+00  -0.00000000e+00\n",
      "  -0.00000000e+00   0.00000000e+00  -0.00000000e+00   2.61757235e-01\n",
      "  -0.00000000e+00]\n",
      "MSE 0.762754814216\n"
     ]
    }
   ],
   "source": [
    "# ElasticNet Regression\n",
    "from sklearn.linear_model import ElasticNet\n",
    "\n",
    "# fit a model to the data\n",
    "model_EN = ElasticNet(alpha=0.1)\n",
    "model_EN.fit(dataset.features, dataset.target)\n",
    "print(model_EN)\n",
    "# make predictions\n",
    "expected_EN = dataset.target\n",
    "predicted_EN = model_EN.predict(dataset.features)\n",
    "# summarize the fit of the model\n",
    "print(\"Coef\", model_EN.intercept_, model_EN.coef_)\n",
    "print(\"MSE\", mean_squared_error(expected_EN, predicted_EN))"
   ]
  },
  {
   "cell_type": "code",
   "execution_count": 19,
   "metadata": {
    "collapsed": false
   },
   "outputs": [
    {
     "data": {
      "image/png": "[encoded data removed]",
      "text/plain": [
       "<matplotlib.figure.Figure at 0x119be1240>"
      ]
     },
     "metadata": {},
     "output_type": "display_data"
    }
   ],
   "source": [
    "#Plot all the model coefficients\n",
    "fig, ax = plt.subplots()\n",
    "plt.plot(model_LR.coef_, label='LR')\n",
    "plt.plot(model_RG.coef_, label='Ridge')\n",
    "plt.plot(model_LAS.coef_, label='Lasso')\n",
    "plt.plot(model_EN.coef_, label='ElasticNet')\n",
    "plt.axhline(linewidth=4, color='r') # for reference\n",
    "legend = ax.legend(loc='lower right', shadow=True)\n",
    "plt.show()"
   ]
  },
  {
   "cell_type": "code",
   "execution_count": 46,
   "metadata": {
    "collapsed": false
   },
   "outputs": [
    {
     "name": "stdout",
     "output_type": "stream",
     "text": [
      "Lars(copy_X=True, eps=2.2204460492503131e-16, fit_intercept=True,\n",
      "   fit_path=True, n_nonzero_coefs=1, normalize=True, positive=False,\n",
      "   precompute='auto', verbose=False)\n",
      "Coef 2.58511021557 [ 0.          0.          0.          0.          0.          0.          0.\n",
      "  0.          0.          0.          0.          0.          0.          0.\n",
      "  0.          0.          0.          0.          0.          0.          0.\n",
      "  0.          0.          0.          0.          0.          0.          0.\n",
      "  0.          0.          0.          0.          0.          0.          0.\n",
      "  0.          0.          0.          0.          0.          0.          0.\n",
      "  0.          0.          0.          0.          0.          0.          0.\n",
      "  0.          0.          0.          0.          0.          0.          0.\n",
      "  0.          0.          0.          0.          0.          0.          0.\n",
      "  0.          0.          0.          0.          0.          0.          0.\n",
      "  0.          0.          0.          0.          0.          0.          0.\n",
      "  0.          0.          0.          0.          0.          0.          0.\n",
      "  0.          0.          0.          0.          0.          0.          0.\n",
      "  0.          0.          0.          0.          0.          0.          0.\n",
      "  0.          0.          0.          0.          0.          0.          0.\n",
      "  0.          0.          0.          0.          0.          0.          0.\n",
      "  0.          0.          0.          0.          0.          0.          0.\n",
      "  0.          0.          0.          0.          0.          0.          0.\n",
      "  0.          0.          0.          0.          0.          0.          0.\n",
      "  0.          0.          0.          0.          0.          0.          0.\n",
      "  0.          0.          0.          0.          0.          0.          0.\n",
      "  0.          0.          0.          0.          0.          0.          0.\n",
      "  0.          0.          0.          0.          0.          0.          0.\n",
      "  0.          0.          0.          0.          0.          0.          0.\n",
      "  0.          0.          0.          0.          0.          0.          0.\n",
      "  0.          0.          0.          0.          0.          0.          0.\n",
      "  0.          0.          0.          0.          0.          0.          0.\n",
      "  0.          0.          0.          0.          0.          0.          0.\n",
      "  0.          0.          0.          0.          0.          0.          0.\n",
      "  0.          0.          0.          0.          0.         -1.02534085\n",
      "  0.          0.          0.          0.          0.          0.          0.\n",
      "  0.          0.          0.          0.          0.          0.          0.\n",
      "  0.          0.          0.          0.          0.        ]\n",
      "MSE 3.12328451853\n"
     ]
    }
   ],
   "source": [
    "#LARS Regression Model- Least Angle Regression model\n",
    "from sklearn import linear_model\n",
    "model_LAR = linear_model.Lars(n_nonzero_coefs=1)\n",
    "model_LAR.fit(dataset.features, dataset.target)\n",
    "print(model_LAR)\n",
    "# make predictions\n",
    "expected_LAR = dataset.target\n",
    "predicted_LAR = model_LAR.predict(dataset.features)\n",
    "# summarize the fit of the model\n",
    "mse_LAR = np.mean((predicted_LAR-expected_LAR)**2)\n",
    "print(\"Coef\", model_LAR.intercept_, model_LAR.coef_)\n",
    "print(\"MSE\", mean_squared_error(expected_LAR, predicted_LAR))"
   ]
  },
  {
   "cell_type": "code",
   "execution_count": 47,
   "metadata": {
    "collapsed": false
   },
   "outputs": [
    {
     "data": {
      "image/png": "[encoded data removed]",
      "text/plain": [
       "<matplotlib.figure.Figure at 0x1100b1978>"
      ]
     },
     "metadata": {},
     "output_type": "display_data"
    }
   ],
   "source": [
    "#Plot all the model coefficients\n",
    "fig, ax = plt.subplots()\n",
    "plt.plot(model_LR.coef_, label='LR')\n",
    "plt.plot(model_RG.coef_, label='Ridge')\n",
    "plt.plot(model_LAS.coef_, label='Lasso')\n",
    "plt.plot(model_EN.coef_, label='ElasticNet')\n",
    "plt.plot(model_LAR.coef_, label='LARS')\n",
    "plt.axhline(linewidth=4, color='r') # for reference\n",
    "legend = ax.legend(loc='lower right', shadow=True)\n",
    "plt.show()"
   ]
  },
  {
   "cell_type": "code",
   "execution_count": 22,
   "metadata": {
    "collapsed": false
   },
   "outputs": [
    {
     "name": "stdout",
     "output_type": "stream",
     "text": [
      "                            OLS Regression Results                            \n",
      "==============================================================================\n",
      "Dep. Variable:                Lottery   R-squared:                       0.348\n",
      "Model:                            OLS   Adj. R-squared:                  0.333\n",
      "Method:                 Least Squares   F-statistic:                     22.20\n",
      "Date:                Sat, 18 Feb 2017   Prob (F-statistic):           1.90e-08\n",
      "Time:                        12:40:12   Log-Likelihood:                -379.82\n",
      "No. Observations:                  86   AIC:                             765.6\n",
      "Df Residuals:                      83   BIC:                             773.0\n",
      "Df Model:                           2                                         \n",
      "Covariance Type:            nonrobust                                         \n",
      "===================================================================================\n",
      "                      coef    std err          t      P>|t|      [95.0% Conf. Int.]\n",
      "-----------------------------------------------------------------------------------\n",
      "Intercept         246.4341     35.233      6.995      0.000       176.358   316.510\n",
      "Literacy           -0.4889      0.128     -3.832      0.000        -0.743    -0.235\n",
      "np.log(Pop1831)   -31.3114      5.977     -5.239      0.000       -43.199   -19.424\n",
      "==============================================================================\n",
      "Omnibus:                        3.713   Durbin-Watson:                   2.019\n",
      "Prob(Omnibus):                  0.156   Jarque-Bera (JB):                3.394\n",
      "Skew:                          -0.487   Prob(JB):                        0.183\n",
      "Kurtosis:                       3.003   Cond. No.                         702.\n",
      "==============================================================================\n",
      "\n",
      "Warnings:\n",
      "[1] Standard Errors assume that the covariance matrix of the errors is correctly specified.\n"
     ]
    }
   ],
   "source": [
    "#USING the STATSMODEL instead of skLearn\n",
    "\n",
    "import numpy as np\n",
    "import pandas as pd\n",
    "import statsmodels.formula.api as smf\n",
    "\n",
    "# Load data\n",
    "url = 'http://vincentarelbundock.github.io/Rdatasets/csv/HistData/Guerry.csv'\n",
    "dat = pd.read_csv(url)\n",
    "\n",
    "\n",
    "# Fit regression model (using the natural log of one of the regressors)\n",
    "results = smf.ols('Lottery ~ Literacy + np.log(Pop1831)', data=dat).fit()\n",
    "\n",
    "# Inspect the results\n",
    "print(results.summary())"
   ]
  },
  {
   "cell_type": "code",
   "execution_count": 23,
   "metadata": {
    "collapsed": false
   },
   "outputs": [
    {
     "name": "stdout",
     "output_type": "stream",
     "text": [
      "                            OLS Regression Results                            \n",
      "==============================================================================\n",
      "Dep. Variable:         dataset.target   R-squared:                       0.741\n",
      "Model:                            OLS   Adj. R-squared:                  0.734\n",
      "Method:                 Least Squares   F-statistic:                     108.1\n",
      "Date:                Sat, 18 Feb 2017   Prob (F-statistic):          6.95e-135\n",
      "Time:                        12:40:12   Log-Likelihood:                -1498.8\n",
      "No. Observations:                 506   AIC:                             3026.\n",
      "Df Residuals:                     492   BIC:                             3085.\n",
      "Df Model:                          13                                         \n",
      "Covariance Type:            nonrobust                                         \n",
      "========================================================================================\n",
      "                           coef    std err          t      P>|t|      [95.0% Conf. Int.]\n",
      "----------------------------------------------------------------------------------------\n",
      "Intercept               36.4911      5.104      7.149      0.000        26.462    46.520\n",
      "dataset.features[0]     -0.1072      0.033     -3.276      0.001        -0.171    -0.043\n",
      "dataset.features[1]      0.0464      0.014      3.380      0.001         0.019     0.073\n",
      "dataset.features[2]      0.0209      0.061      0.339      0.735        -0.100     0.142\n",
      "dataset.features[3]      2.6886      0.862      3.120      0.002         0.996     4.381\n",
      "dataset.features[4]    -17.7958      3.821     -4.658      0.000       -25.302   -10.289\n",
      "dataset.features[5]      3.8048      0.418      9.102      0.000         2.983     4.626\n",
      "dataset.features[6]      0.0008      0.013      0.057      0.955        -0.025     0.027\n",
      "dataset.features[7]     -1.4758      0.199     -7.398      0.000        -1.868    -1.084\n",
      "dataset.features[8]      0.3057      0.066      4.608      0.000         0.175     0.436\n",
      "dataset.features[9]     -0.0123      0.004     -3.278      0.001        -0.020    -0.005\n",
      "dataset.features[10]    -0.9535      0.131     -7.287      0.000        -1.211    -0.696\n",
      "dataset.features[11]     0.0094      0.003      3.500      0.001         0.004     0.015\n",
      "dataset.features[12]    -0.5255      0.051    -10.366      0.000        -0.625    -0.426\n",
      "==============================================================================\n",
      "Omnibus:                      178.029   Durbin-Watson:                   1.078\n",
      "Prob(Omnibus):                  0.000   Jarque-Bera (JB):              782.015\n",
      "Skew:                           1.521   Prob(JB):                    1.54e-170\n",
      "Kurtosis:                       8.276   Cond. No.                     1.51e+04\n",
      "==============================================================================\n",
      "\n",
      "Warnings:\n",
      "[1] Standard Errors assume that the covariance matrix of the errors is correctly specified.\n",
      "[2] The condition number is large, 1.51e+04. This might indicate that there are\n",
      "strong multicollinearity or other numerical problems.\n"
     ]
    }
   ],
   "source": [
    "#USING the STATSMODEL instead of skLearn with the diabetes dataset\n",
    "\n",
    "# Fit regression model \n",
    "results1 = smf.ols('dataset.target~ dataset.features', data=dataset).fit()\n",
    "\n",
    "# Inspect the results\n",
    "print(results1.summary())"
   ]
  },
  {
   "cell_type": "code",
   "execution_count": 24,
   "metadata": {
    "collapsed": false
   },
   "outputs": [
    {
     "name": "stdout",
     "output_type": "stream",
     "text": [
      "Parameters:  Intercept          246.434135\n",
      "Literacy            -0.488923\n",
      "np.log(Pop1831)    -31.311392\n",
      "dtype: float64\n",
      "Standard errors:  Intercept          35.232504\n",
      "Literacy            0.127588\n",
      "np.log(Pop1831)     5.976778\n",
      "dtype: float64\n",
      "Predicted values:  [ 45.28111552  26.10731517  61.66689491  65.84571262  60.50666251\n",
      "  50.65364442  36.18545491  64.36053682  45.16226913  54.50128015\n",
      "  47.05726094  43.59906372  26.75575698  57.33509109  44.31149942\n",
      "  36.4093396   66.44356669  62.5179869   31.445032    38.37361199\n",
      "  60.4349197   44.14479871  35.96987559  47.35193753  32.05500621\n",
      "  43.73139604  43.02036876  42.80379617  41.5681693   48.01756606\n",
      "  29.0649797   41.34530592  36.80711795  65.8333425   54.95241358\n",
      "  34.66823101  30.8711604   56.14387953  62.18620796  45.34919918\n",
      "  58.41110071  42.04335068  46.75969329  57.84147286  48.13693343\n",
      "  78.42531729  42.68049242  25.57205184  33.38962699  38.36831808\n",
      "  53.49369591  24.39057162  30.17352354  49.46837681  29.66117011\n",
      "  59.94201695   8.45773319  32.60937127  33.71368948  19.4234143\n",
      "  38.28350577  33.70590127  49.83755855  72.94944268  19.11091862\n",
      "  22.27579943  34.24609352  35.17579164  34.73435572  39.96872771\n",
      "  -2.47014786  20.57096245  39.03977407  27.89226927  48.02011015\n",
      "  27.70990542  54.71575446  62.27884968  54.82031562  56.85386179\n",
      "  51.13247489  57.47413433  63.07654546  28.67752189  39.81272132\n",
      "  57.30616412]\n"
     ]
    }
   ],
   "source": [
    "#extra individually\n",
    "print('Parameters: ', results.params)\n",
    "print('Standard errors: ', results.bse)\n",
    "print('Predicted values: ', results.predict())"
   ]
  },
  {
   "cell_type": "code",
   "execution_count": null,
   "metadata": {
    "collapsed": true
   },
   "outputs": [],
   "source": []
  }
 ],
 "metadata": {
  "anaconda-cloud": {},
  "kernelspec": {
   "display_name": "Python [conda root]",
   "language": "python",
   "name": "conda-root-py"
  },
  "language_info": {
   "codemirror_mode": {
    "name": "ipython",
    "version": 3
   },
   "file_extension": ".py",
   "mimetype": "text/x-python",
   "name": "python",
   "nbconvert_exporter": "python",
   "pygments_lexer": "ipython3",
   "version": "3.5.2"
  }
 },
 "nbformat": 4,
 "nbformat_minor": 0
}
