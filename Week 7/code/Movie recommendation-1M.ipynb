{
 "cells": [
  {
   "cell_type": "markdown",
   "metadata": {},
   "source": [
    "#FIRST Install new packages\n",
    "from terminal run: <br/>\n",
    "pip install csc-pysparse networkx divisi2 <br/>\n",
    "pip install https://github.com/ocelma/python-recsys/zipball/master"
   ]
  },
  {
   "cell_type": "code",
   "execution_count": 1,
   "metadata": {
    "collapsed": false
   },
   "outputs": [
    {
     "name": "stdout",
     "output_type": "stream",
     "text": [
      "/Users/mylesgartland/Documents/Courses/Predictive Models/week 6\n"
     ]
    }
   ],
   "source": [
    "cd /Users/mylesgartland/Documents/Courses/Predictive Models/week 6"
   ]
  },
  {
   "cell_type": "code",
   "execution_count": 7,
   "metadata": {
    "collapsed": false
   },
   "outputs": [
    {
     "ename": "ImportError",
     "evalue": "No module named csc",
     "output_type": "error",
     "traceback": [
      "\u001b[0;31m---------------------------------------------------------------------------\u001b[0m",
      "\u001b[0;31mImportError\u001b[0m                               Traceback (most recent call last)",
      "\u001b[0;32m<ipython-input-7-447063b2323b>\u001b[0m in \u001b[0;36m<module>\u001b[0;34m()\u001b[0m\n\u001b[0;32m----> 1\u001b[0;31m \u001b[0;32mfrom\u001b[0m \u001b[0mcsc\u001b[0m \u001b[0;32mimport\u001b[0m \u001b[0mdivisi2\u001b[0m\u001b[0;34m\u001b[0m\u001b[0m\n\u001b[0m",
      "\u001b[0;31mImportError\u001b[0m: No module named csc"
     ]
    }
   ],
   "source": [
    "from csc import divisi2"
   ]
  },
  {
   "cell_type": "code",
   "execution_count": 6,
   "metadata": {
    "collapsed": false
   },
   "outputs": [
    {
     "ename": "ImportError",
     "evalue": "No module named csc",
     "output_type": "error",
     "traceback": [
      "\u001b[0;31m---------------------------------------------------------------------------\u001b[0m",
      "\u001b[0;31mImportError\u001b[0m                               Traceback (most recent call last)",
      "\u001b[0;32m<ipython-input-6-a2ac354f3dcb>\u001b[0m in \u001b[0;36m<module>\u001b[0;34m()\u001b[0m\n\u001b[0;32m----> 1\u001b[0;31m \u001b[0;32mfrom\u001b[0m \u001b[0mrecsys\u001b[0m\u001b[0;34m.\u001b[0m\u001b[0malgorithm\u001b[0m\u001b[0;34m.\u001b[0m\u001b[0mfactorize\u001b[0m \u001b[0;32mimport\u001b[0m \u001b[0mSVD\u001b[0m\u001b[0;34m\u001b[0m\u001b[0m\n\u001b[0m\u001b[1;32m      2\u001b[0m \u001b[0;32mfrom\u001b[0m \u001b[0mcsc\u001b[0m \u001b[0;32mimport\u001b[0m \u001b[0mdivisi2\u001b[0m\u001b[0;34m\u001b[0m\u001b[0m\n\u001b[1;32m      3\u001b[0m \u001b[0msvd\u001b[0m \u001b[0;34m=\u001b[0m \u001b[0mSVD\u001b[0m\u001b[0;34m(\u001b[0m\u001b[0;34m)\u001b[0m\u001b[0;34m\u001b[0m\u001b[0m\n",
      "\u001b[0;32m/Users/mylesgartland/anaconda/lib/python2.7/site-packages/recsys/algorithm/factorize.py\u001b[0m in \u001b[0;36m<module>\u001b[0;34m()\u001b[0m\n\u001b[1;32m     13\u001b[0m     \u001b[0;32mimport\u001b[0m \u001b[0mdivisi2\u001b[0m\u001b[0;34m\u001b[0m\u001b[0m\n\u001b[1;32m     14\u001b[0m \u001b[0;32mexcept\u001b[0m\u001b[0;34m:\u001b[0m\u001b[0;34m\u001b[0m\u001b[0m\n\u001b[0;32m---> 15\u001b[0;31m     \u001b[0;32mfrom\u001b[0m \u001b[0mcsc\u001b[0m \u001b[0;32mimport\u001b[0m \u001b[0mdivisi2\u001b[0m\u001b[0;34m\u001b[0m\u001b[0m\n\u001b[0m\u001b[1;32m     16\u001b[0m \u001b[0;32mfrom\u001b[0m \u001b[0mnumpy\u001b[0m \u001b[0;32mimport\u001b[0m \u001b[0mloads\u001b[0m\u001b[0;34m,\u001b[0m \u001b[0mmean\u001b[0m\u001b[0;34m,\u001b[0m \u001b[0msum\u001b[0m\u001b[0;34m,\u001b[0m \u001b[0mnan\u001b[0m\u001b[0;34m\u001b[0m\u001b[0m\n\u001b[1;32m     17\u001b[0m \u001b[0;32mfrom\u001b[0m \u001b[0moperator\u001b[0m \u001b[0;32mimport\u001b[0m \u001b[0mitemgetter\u001b[0m\u001b[0;34m\u001b[0m\u001b[0m\n",
      "\u001b[0;31mImportError\u001b[0m: No module named csc"
     ]
    }
   ],
   "source": [
    "from recsys.algorithm.factorize import SVD\n",
    "from csc import divisi2\n",
    "svd = SVD()"
   ]
  },
  {
   "cell_type": "code",
   "execution_count": 12,
   "metadata": {
    "collapsed": false
   },
   "outputs": [],
   "source": [
    "#Load Movie data\n",
    "svd.load_data(filename='Movie ratings/ml-1m/ratings.dat',\n",
    "            sep='::',\n",
    "            format={'col':0, 'row':1, 'value':2, 'ids': int})"
   ]
  },
  {
   "cell_type": "code",
   "execution_count": 13,
   "metadata": {
    "collapsed": false
   },
   "outputs": [
    {
     "name": "stdout",
     "output_type": "stream",
     "text": [
      "1000209 rows.\n",
      "E.g: (5.0, 1193, 1)\n"
     ]
    }
   ],
   "source": [
    "print svd"
   ]
  },
  {
   "cell_type": "code",
   "execution_count": 14,
   "metadata": {
    "collapsed": false
   },
   "outputs": [],
   "source": [
    "#Compute Singular Value Decomposition (SVD), M=U Sigma V^t:\n",
    "svd.compute(k=100,\n",
    "            min_values=10,\n",
    "            pre_normalize=None,\n",
    "            mean_center=True,\n",
    "            post_normalize=True,\n",
    "            savefile='/tmp/movielens')"
   ]
  },
  {
   "cell_type": "code",
   "execution_count": 15,
   "metadata": {
    "collapsed": false
   },
   "outputs": [
    {
     "data": {
      "text/plain": [
       "0.67706936677314966"
      ]
     },
     "execution_count": 15,
     "metadata": {},
     "output_type": "execute_result"
    }
   ],
   "source": [
    "#Get similarity between two movies:\n",
    "ITEMID1 = 1    # Toy Story (1995)\n",
    "ITEMID2 = 2355 # A bug's life (1998)\n",
    "\n",
    "svd.similarity(ITEMID1, ITEMID2)"
   ]
  },
  {
   "cell_type": "code",
   "execution_count": 16,
   "metadata": {
    "collapsed": false
   },
   "outputs": [
    {
     "data": {
      "text/plain": [
       "[(1, 0.99999999999999989),\n",
       " (3114, 0.87060391051017294),\n",
       " (2355, 0.67706936677314977),\n",
       " (588, 0.58073514967544992),\n",
       " (595, 0.46031829709744221),\n",
       " (1907, 0.44589398718134976),\n",
       " (364, 0.42908159895577563),\n",
       " (2081, 0.42566581277822424),\n",
       " (3396, 0.42474056361934948),\n",
       " (2761, 0.40439361857576017)]"
      ]
     },
     "execution_count": 16,
     "metadata": {},
     "output_type": "execute_result"
    }
   ],
   "source": [
    "#Get movies similar to Toy Story:\n",
    "svd.similar(ITEMID1)"
   ]
  },
  {
   "cell_type": "code",
   "execution_count": 8,
   "metadata": {
    "collapsed": false
   },
   "outputs": [
    {
     "data": {
      "text/plain": [
       "5.0"
      ]
     },
     "execution_count": 8,
     "metadata": {},
     "output_type": "execute_result"
    }
   ],
   "source": [
    "#Predict the rating a user (USERID) would give to a movie (ITEMID):\n",
    "MIN_RATING = 0.0\n",
    "MAX_RATING = 5.0\n",
    "ITEMID = 1\n",
    "USERID = 1\n",
    "\n",
    "svd.predict(ITEMID, USERID, MIN_RATING, MAX_RATING)\n",
    "\n",
    "svd.get_matrix().value(ITEMID, USERID)\n",
    " "
   ]
  },
  {
   "cell_type": "code",
   "execution_count": 11,
   "metadata": {
    "collapsed": false
   },
   "outputs": [
    {
     "data": {
      "text/plain": [
       "[(2028, 5.4018452642332546),\n",
       " (527, 5.3498144196809516),\n",
       " (2905, 5.2133848204673132),\n",
       " (318, 5.2052108435955446),\n",
       " (1193, 5.1942189963876562),\n",
       " (3114, 5.1753939214583697),\n",
       " (1, 5.1714259073839521),\n",
       " (2019, 5.1037438278754719),\n",
       " (1178, 5.0962756861446641),\n",
       " (1207, 5.090305272922329)]"
      ]
     },
     "execution_count": 11,
     "metadata": {},
     "output_type": "execute_result"
    }
   ],
   "source": [
    "#Recommend (non-rated) movies to a user:\n",
    "svd.recommend(USERID, is_row=False) #cols are users and rows are items, thus we set is_row=False\n"
   ]
  },
  {
   "cell_type": "code",
   "execution_count": 9,
   "metadata": {
    "collapsed": false
   },
   "outputs": [
    {
     "data": {
      "text/plain": [
       "[(869, 6.8215500393190904),\n",
       " (4086, 6.2667649038936908),\n",
       " (549, 6.2394061595542869),\n",
       " (1343, 6.2163075783431427),\n",
       " (1586, 6.039893928886932),\n",
       " (840, 5.9616632765170472),\n",
       " (1676, 5.8962337727810361),\n",
       " (4595, 5.88945710113423),\n",
       " (2691, 5.8735094161364714),\n",
       " (2665, 5.8498694241604259)]"
      ]
     },
     "execution_count": 9,
     "metadata": {},
     "output_type": "execute_result"
    }
   ],
   "source": [
    "#Which users should see Toy Story? (e.g. which users -that have not rated Toy Story- would give it a high rating?)\n",
    "svd.recommend(ITEMID)"
   ]
  },
  {
   "cell_type": "code",
   "execution_count": null,
   "metadata": {
    "collapsed": true
   },
   "outputs": [],
   "source": []
  }
 ],
 "metadata": {
  "kernelspec": {
   "display_name": "Python 2",
   "language": "python",
   "name": "python2"
  },
  "language_info": {
   "codemirror_mode": {
    "name": "ipython",
    "version": 2
   },
   "file_extension": ".py",
   "mimetype": "text/x-python",
   "name": "python",
   "nbconvert_exporter": "python",
   "pygments_lexer": "ipython2",
   "version": "2.7.11"
  }
 },
 "nbformat": 4,
 "nbformat_minor": 0
}
