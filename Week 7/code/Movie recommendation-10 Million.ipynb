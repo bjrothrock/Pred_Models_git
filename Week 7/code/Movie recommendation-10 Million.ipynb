{
 "cells": [
  {
   "cell_type": "markdown",
   "metadata": {},
   "source": [
    "#FIRST Install new packages\n",
    "from terminal run: <br/>\n",
    "pip install csc-pysparse networkx divisi2 <br/>\n",
    "pip install https://github.com/ocelma/python-recsys/zipball/master"
   ]
  },
  {
   "cell_type": "code",
   "execution_count": 2,
   "metadata": {
    "collapsed": false
   },
   "outputs": [
    {
     "name": "stdout",
     "output_type": "stream",
     "text": [
      "/Users/mpgartland1/Documents/Documents/Courses/Predictive Models/ml-10M100K\n"
     ]
    }
   ],
   "source": [
    "cd /Users/mpgartland1/Documents/Documents/Courses/Predictive Models/ml-10M100K"
   ]
  },
  {
   "cell_type": "code",
   "execution_count": 3,
   "metadata": {
    "collapsed": false
   },
   "outputs": [],
   "source": [
    "from recsys.algorithm.factorize import SVD\n",
    "svd = SVD()"
   ]
  },
  {
   "cell_type": "code",
   "execution_count": null,
   "metadata": {
    "collapsed": false
   },
   "outputs": [],
   "source": [
    "#Load Movie data\n",
    "svd.load_data(filename='ratings.dat',\n",
    "            sep='::',\n",
    "            format={'col':0, 'row':1, 'value':2, 'ids': int})"
   ]
  },
  {
   "cell_type": "code",
   "execution_count": null,
   "metadata": {
    "collapsed": false
   },
   "outputs": [],
   "source": [
    "#Compute Singular Value Decomposition (SVD), M=U Sigma V^t:\n",
    "svd.compute(k=100,\n",
    "            min_values=10,\n",
    "            pre_normalize=None,\n",
    "            mean_center=True,\n",
    "            post_normalize=True,\n",
    "            savefile='/tmp/movielens')"
   ]
  },
  {
   "cell_type": "code",
   "execution_count": null,
   "metadata": {
    "collapsed": false
   },
   "outputs": [],
   "source": [
    "#Get similarity between two movies:\n",
    "ITEMID1 = 1    # Toy Story (1995)\n",
    "ITEMID2 = 2355 # A bug's life (1998)\n",
    "\n",
    "svd.similarity(ITEMID1, ITEMID2)"
   ]
  },
  {
   "cell_type": "code",
   "execution_count": null,
   "metadata": {
    "collapsed": false
   },
   "outputs": [],
   "source": [
    "#Get movies similar to Toy Story:\n",
    "svd.similar(ITEMID1)"
   ]
  },
  {
   "cell_type": "code",
   "execution_count": null,
   "metadata": {
    "collapsed": false
   },
   "outputs": [],
   "source": [
    "#Predict the rating a user (USERID) would give to a movie (ITEMID):\n",
    "MIN_RATING = 0.0\n",
    "MAX_RATING = 5.0\n",
    "ITEMID = 1\n",
    "USERID = 1\n",
    "\n",
    "svd.predict(ITEMID, USERID, MIN_RATING, MAX_RATING)\n",
    "\n",
    "svd.get_matrix().value(ITEMID, USERID)\n",
    " "
   ]
  },
  {
   "cell_type": "code",
   "execution_count": null,
   "metadata": {
    "collapsed": false
   },
   "outputs": [],
   "source": [
    "#Recommend (non-rated) movies to a user:\n",
    "svd.recommend(USERID, is_row=False) #cols are users and rows are items, thus we set is_row=False\n"
   ]
  },
  {
   "cell_type": "code",
   "execution_count": null,
   "metadata": {
    "collapsed": false
   },
   "outputs": [],
   "source": [
    "#Which users should see Toy Story? (e.g. which users -that have not rated Toy Story- would give it a high rating?)\n",
    "svd.recommend(ITEMID)"
   ]
  },
  {
   "cell_type": "code",
   "execution_count": null,
   "metadata": {
    "collapsed": true
   },
   "outputs": [],
   "source": []
  }
 ],
 "metadata": {
  "kernelspec": {
   "display_name": "Python 2",
   "language": "python",
   "name": "python2"
  },
  "language_info": {
   "codemirror_mode": {
    "name": "ipython",
    "version": 2
   },
   "file_extension": ".py",
   "mimetype": "text/x-python",
   "name": "python",
   "nbconvert_exporter": "python",
   "pygments_lexer": "ipython2",
   "version": "2.7.10"
  }
 },
 "nbformat": 4,
 "nbformat_minor": 0
}
