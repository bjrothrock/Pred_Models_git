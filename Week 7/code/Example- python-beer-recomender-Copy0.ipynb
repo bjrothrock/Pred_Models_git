{
 "cells": [
  {
   "cell_type": "markdown",
   "metadata": {},
   "source": [
    "Building a Recommendation System in Python\n",
    "============================\n",
    "> In this tutorial we'll show you how to build a recommendation system using pandas, scikit-learn, and numpy. We've provided a dataset of beer reviews which we'll use for building our product recommender, but this use case could be easily substituted with a different product."
   ]
  },
  {
   "cell_type": "code",
   "execution_count": 2,
   "metadata": {
    "collapsed": false
   },
   "outputs": [],
   "source": [
    "import pandas as pd\n",
    "import numpy as np\n",
    "import pylab as pl"
   ]
  },
  {
   "cell_type": "markdown",
   "metadata": {},
   "source": [
    "<h2><a href=\"https://s3.amazonaws.com/demo-datasets/beer_reviews.tar.gz\">Download the data</a></h2>\n",
    "<p>Grab the dataset from our data demos bucket on S3, then decompress it. It will create a directory called ~/Downloads/beer_reviews.</p>"
   ]
  },
  {
   "cell_type": "code",
   "execution_count": 3,
   "metadata": {
    "collapsed": false
   },
   "outputs": [
    {
     "name": "stdout",
     "output_type": "stream",
     "text": [
      "/Users/mpgartland1/Documents/Documents/Courses/Predictive Models/week 6/beer_reviews\n"
     ]
    }
   ],
   "source": [
    "cd /Users/mpgartland1/Documents/Documents/Courses/Predictive Models/week 6/beer_reviews"
   ]
  },
  {
   "cell_type": "code",
   "execution_count": 4,
   "metadata": {
    "collapsed": false
   },
   "outputs": [
    {
     "data": {
      "text/html": [
       "<div style=\"max-height:1000px;max-width:1500px;overflow:auto;\">\n",
       "<table border=\"1\" class=\"dataframe\">\n",
       "  <thead>\n",
       "    <tr style=\"text-align: right;\">\n",
       "      <th></th>\n",
       "      <th>brewery_id</th>\n",
       "      <th>brewery_name</th>\n",
       "      <th>review_time</th>\n",
       "      <th>review_overall</th>\n",
       "      <th>review_aroma</th>\n",
       "      <th>review_appearance</th>\n",
       "      <th>review_profilename</th>\n",
       "      <th>beer_style</th>\n",
       "      <th>review_palate</th>\n",
       "      <th>review_taste</th>\n",
       "      <th>beer_name</th>\n",
       "      <th>beer_abv</th>\n",
       "      <th>beer_beerid</th>\n",
       "    </tr>\n",
       "  </thead>\n",
       "  <tbody>\n",
       "    <tr>\n",
       "      <th>0 </th>\n",
       "      <td> 10325</td>\n",
       "      <td>         Vecchio Birraio</td>\n",
       "      <td> 1234817823</td>\n",
       "      <td> 1.5</td>\n",
       "      <td> 2.0</td>\n",
       "      <td> 2.5</td>\n",
       "      <td>        stcules</td>\n",
       "      <td>                     Hefeweizen</td>\n",
       "      <td> 1.5</td>\n",
       "      <td> 1.5</td>\n",
       "      <td>           Sausa Weizen</td>\n",
       "      <td> 5.0</td>\n",
       "      <td> 47986</td>\n",
       "    </tr>\n",
       "    <tr>\n",
       "      <th>1 </th>\n",
       "      <td> 10325</td>\n",
       "      <td>         Vecchio Birraio</td>\n",
       "      <td> 1235915097</td>\n",
       "      <td> 3.0</td>\n",
       "      <td> 2.5</td>\n",
       "      <td> 3.0</td>\n",
       "      <td>        stcules</td>\n",
       "      <td>             English Strong Ale</td>\n",
       "      <td> 3.0</td>\n",
       "      <td> 3.0</td>\n",
       "      <td>               Red Moon</td>\n",
       "      <td> 6.2</td>\n",
       "      <td> 48213</td>\n",
       "    </tr>\n",
       "    <tr>\n",
       "      <th>2 </th>\n",
       "      <td> 10325</td>\n",
       "      <td>         Vecchio Birraio</td>\n",
       "      <td> 1235916604</td>\n",
       "      <td> 3.0</td>\n",
       "      <td> 2.5</td>\n",
       "      <td> 3.0</td>\n",
       "      <td>        stcules</td>\n",
       "      <td>         Foreign / Export Stout</td>\n",
       "      <td> 3.0</td>\n",
       "      <td> 3.0</td>\n",
       "      <td> Black Horse Black Beer</td>\n",
       "      <td> 6.5</td>\n",
       "      <td> 48215</td>\n",
       "    </tr>\n",
       "    <tr>\n",
       "      <th>3 </th>\n",
       "      <td> 10325</td>\n",
       "      <td>         Vecchio Birraio</td>\n",
       "      <td> 1234725145</td>\n",
       "      <td> 3.0</td>\n",
       "      <td> 3.0</td>\n",
       "      <td> 3.5</td>\n",
       "      <td>        stcules</td>\n",
       "      <td>                German Pilsener</td>\n",
       "      <td> 2.5</td>\n",
       "      <td> 3.0</td>\n",
       "      <td>             Sausa Pils</td>\n",
       "      <td> 5.0</td>\n",
       "      <td> 47969</td>\n",
       "    </tr>\n",
       "    <tr>\n",
       "      <th>4 </th>\n",
       "      <td>  1075</td>\n",
       "      <td> Caldera Brewing Company</td>\n",
       "      <td> 1293735206</td>\n",
       "      <td> 4.0</td>\n",
       "      <td> 4.5</td>\n",
       "      <td> 4.0</td>\n",
       "      <td> johnmichaelsen</td>\n",
       "      <td> American Double / Imperial IPA</td>\n",
       "      <td> 4.0</td>\n",
       "      <td> 4.5</td>\n",
       "      <td>          Cauldron DIPA</td>\n",
       "      <td> 7.7</td>\n",
       "      <td> 64883</td>\n",
       "    </tr>\n",
       "    <tr>\n",
       "      <th>5 </th>\n",
       "      <td>  1075</td>\n",
       "      <td> Caldera Brewing Company</td>\n",
       "      <td> 1325524659</td>\n",
       "      <td> 3.0</td>\n",
       "      <td> 3.5</td>\n",
       "      <td> 3.5</td>\n",
       "      <td>        oline73</td>\n",
       "      <td>           Herbed / Spiced Beer</td>\n",
       "      <td> 3.0</td>\n",
       "      <td> 3.5</td>\n",
       "      <td>    Caldera Ginger Beer</td>\n",
       "      <td> 4.7</td>\n",
       "      <td> 52159</td>\n",
       "    </tr>\n",
       "    <tr>\n",
       "      <th>6 </th>\n",
       "      <td>  1075</td>\n",
       "      <td> Caldera Brewing Company</td>\n",
       "      <td> 1318991115</td>\n",
       "      <td> 3.5</td>\n",
       "      <td> 3.5</td>\n",
       "      <td> 3.5</td>\n",
       "      <td>      Reidrover</td>\n",
       "      <td>           Herbed / Spiced Beer</td>\n",
       "      <td> 4.0</td>\n",
       "      <td> 4.0</td>\n",
       "      <td>    Caldera Ginger Beer</td>\n",
       "      <td> 4.7</td>\n",
       "      <td> 52159</td>\n",
       "    </tr>\n",
       "    <tr>\n",
       "      <th>7 </th>\n",
       "      <td>  1075</td>\n",
       "      <td> Caldera Brewing Company</td>\n",
       "      <td> 1306276018</td>\n",
       "      <td> 3.0</td>\n",
       "      <td> 2.5</td>\n",
       "      <td> 3.5</td>\n",
       "      <td>   alpinebryant</td>\n",
       "      <td>           Herbed / Spiced Beer</td>\n",
       "      <td> 2.0</td>\n",
       "      <td> 3.5</td>\n",
       "      <td>    Caldera Ginger Beer</td>\n",
       "      <td> 4.7</td>\n",
       "      <td> 52159</td>\n",
       "    </tr>\n",
       "    <tr>\n",
       "      <th>8 </th>\n",
       "      <td>  1075</td>\n",
       "      <td> Caldera Brewing Company</td>\n",
       "      <td> 1290454503</td>\n",
       "      <td> 4.0</td>\n",
       "      <td> 3.0</td>\n",
       "      <td> 3.5</td>\n",
       "      <td>  LordAdmNelson</td>\n",
       "      <td>           Herbed / Spiced Beer</td>\n",
       "      <td> 3.5</td>\n",
       "      <td> 4.0</td>\n",
       "      <td>    Caldera Ginger Beer</td>\n",
       "      <td> 4.7</td>\n",
       "      <td> 52159</td>\n",
       "    </tr>\n",
       "    <tr>\n",
       "      <th>9 </th>\n",
       "      <td>  1075</td>\n",
       "      <td> Caldera Brewing Company</td>\n",
       "      <td> 1285632924</td>\n",
       "      <td> 4.5</td>\n",
       "      <td> 3.5</td>\n",
       "      <td> 5.0</td>\n",
       "      <td>   augustgarage</td>\n",
       "      <td>           Herbed / Spiced Beer</td>\n",
       "      <td> 4.0</td>\n",
       "      <td> 4.0</td>\n",
       "      <td>    Caldera Ginger Beer</td>\n",
       "      <td> 4.7</td>\n",
       "      <td> 52159</td>\n",
       "    </tr>\n",
       "    <tr>\n",
       "      <th>10</th>\n",
       "      <td>   163</td>\n",
       "      <td>  Amstel Brouwerij B. V.</td>\n",
       "      <td> 1010963392</td>\n",
       "      <td> 3.0</td>\n",
       "      <td> 2.0</td>\n",
       "      <td> 3.0</td>\n",
       "      <td>        fodeeoz</td>\n",
       "      <td>                    Light Lager</td>\n",
       "      <td> 2.5</td>\n",
       "      <td> 2.5</td>\n",
       "      <td>           Amstel Light</td>\n",
       "      <td> 3.5</td>\n",
       "      <td>   436</td>\n",
       "    </tr>\n",
       "    <tr>\n",
       "      <th>11</th>\n",
       "      <td>  1075</td>\n",
       "      <td> Caldera Brewing Company</td>\n",
       "      <td> 1283154365</td>\n",
       "      <td> 5.0</td>\n",
       "      <td> 5.0</td>\n",
       "      <td> 4.0</td>\n",
       "      <td>   MadeInOregon</td>\n",
       "      <td>           Herbed / Spiced Beer</td>\n",
       "      <td> 4.0</td>\n",
       "      <td> 4.0</td>\n",
       "      <td>    Caldera Ginger Beer</td>\n",
       "      <td> 4.7</td>\n",
       "      <td> 52159</td>\n",
       "    </tr>\n",
       "    <tr>\n",
       "      <th>12</th>\n",
       "      <td>  1075</td>\n",
       "      <td> Caldera Brewing Company</td>\n",
       "      <td> 1277557990</td>\n",
       "      <td> 4.0</td>\n",
       "      <td> 4.0</td>\n",
       "      <td> 4.0</td>\n",
       "      <td>        rawthar</td>\n",
       "      <td>           Herbed / Spiced Beer</td>\n",
       "      <td> 3.5</td>\n",
       "      <td> 4.0</td>\n",
       "      <td>    Caldera Ginger Beer</td>\n",
       "      <td> 4.7</td>\n",
       "      <td> 52159</td>\n",
       "    </tr>\n",
       "    <tr>\n",
       "      <th>13</th>\n",
       "      <td>  1075</td>\n",
       "      <td> Caldera Brewing Company</td>\n",
       "      <td> 1275779250</td>\n",
       "      <td> 4.0</td>\n",
       "      <td> 4.5</td>\n",
       "      <td> 3.0</td>\n",
       "      <td>    Halcyondays</td>\n",
       "      <td>           Herbed / Spiced Beer</td>\n",
       "      <td> 2.5</td>\n",
       "      <td> 3.0</td>\n",
       "      <td>    Caldera Ginger Beer</td>\n",
       "      <td> 4.7</td>\n",
       "      <td> 52159</td>\n",
       "    </tr>\n",
       "    <tr>\n",
       "      <th>14</th>\n",
       "      <td>  1075</td>\n",
       "      <td> Caldera Brewing Company</td>\n",
       "      <td> 1273109020</td>\n",
       "      <td> 3.5</td>\n",
       "      <td> 4.0</td>\n",
       "      <td> 3.0</td>\n",
       "      <td>    RangerClegg</td>\n",
       "      <td>           Herbed / Spiced Beer</td>\n",
       "      <td> 3.0</td>\n",
       "      <td> 4.0</td>\n",
       "      <td>    Caldera Ginger Beer</td>\n",
       "      <td> 4.7</td>\n",
       "      <td> 52159</td>\n",
       "    </tr>\n",
       "  </tbody>\n",
       "</table>\n",
       "</div>"
      ],
      "text/plain": [
       "    brewery_id             brewery_name  review_time  review_overall  \\\n",
       "0        10325          Vecchio Birraio   1234817823             1.5   \n",
       "1        10325          Vecchio Birraio   1235915097             3.0   \n",
       "2        10325          Vecchio Birraio   1235916604             3.0   \n",
       "3        10325          Vecchio Birraio   1234725145             3.0   \n",
       "4         1075  Caldera Brewing Company   1293735206             4.0   \n",
       "5         1075  Caldera Brewing Company   1325524659             3.0   \n",
       "6         1075  Caldera Brewing Company   1318991115             3.5   \n",
       "7         1075  Caldera Brewing Company   1306276018             3.0   \n",
       "8         1075  Caldera Brewing Company   1290454503             4.0   \n",
       "9         1075  Caldera Brewing Company   1285632924             4.5   \n",
       "10         163   Amstel Brouwerij B. V.   1010963392             3.0   \n",
       "11        1075  Caldera Brewing Company   1283154365             5.0   \n",
       "12        1075  Caldera Brewing Company   1277557990             4.0   \n",
       "13        1075  Caldera Brewing Company   1275779250             4.0   \n",
       "14        1075  Caldera Brewing Company   1273109020             3.5   \n",
       "\n",
       "    review_aroma  review_appearance review_profilename  \\\n",
       "0            2.0                2.5            stcules   \n",
       "1            2.5                3.0            stcules   \n",
       "2            2.5                3.0            stcules   \n",
       "3            3.0                3.5            stcules   \n",
       "4            4.5                4.0     johnmichaelsen   \n",
       "5            3.5                3.5            oline73   \n",
       "6            3.5                3.5          Reidrover   \n",
       "7            2.5                3.5       alpinebryant   \n",
       "8            3.0                3.5      LordAdmNelson   \n",
       "9            3.5                5.0       augustgarage   \n",
       "10           2.0                3.0            fodeeoz   \n",
       "11           5.0                4.0       MadeInOregon   \n",
       "12           4.0                4.0            rawthar   \n",
       "13           4.5                3.0        Halcyondays   \n",
       "14           4.0                3.0        RangerClegg   \n",
       "\n",
       "                        beer_style  review_palate  review_taste  \\\n",
       "0                       Hefeweizen            1.5           1.5   \n",
       "1               English Strong Ale            3.0           3.0   \n",
       "2           Foreign / Export Stout            3.0           3.0   \n",
       "3                  German Pilsener            2.5           3.0   \n",
       "4   American Double / Imperial IPA            4.0           4.5   \n",
       "5             Herbed / Spiced Beer            3.0           3.5   \n",
       "6             Herbed / Spiced Beer            4.0           4.0   \n",
       "7             Herbed / Spiced Beer            2.0           3.5   \n",
       "8             Herbed / Spiced Beer            3.5           4.0   \n",
       "9             Herbed / Spiced Beer            4.0           4.0   \n",
       "10                     Light Lager            2.5           2.5   \n",
       "11            Herbed / Spiced Beer            4.0           4.0   \n",
       "12            Herbed / Spiced Beer            3.5           4.0   \n",
       "13            Herbed / Spiced Beer            2.5           3.0   \n",
       "14            Herbed / Spiced Beer            3.0           4.0   \n",
       "\n",
       "                 beer_name  beer_abv  beer_beerid  \n",
       "0             Sausa Weizen       5.0        47986  \n",
       "1                 Red Moon       6.2        48213  \n",
       "2   Black Horse Black Beer       6.5        48215  \n",
       "3               Sausa Pils       5.0        47969  \n",
       "4            Cauldron DIPA       7.7        64883  \n",
       "5      Caldera Ginger Beer       4.7        52159  \n",
       "6      Caldera Ginger Beer       4.7        52159  \n",
       "7      Caldera Ginger Beer       4.7        52159  \n",
       "8      Caldera Ginger Beer       4.7        52159  \n",
       "9      Caldera Ginger Beer       4.7        52159  \n",
       "10            Amstel Light       3.5          436  \n",
       "11     Caldera Ginger Beer       4.7        52159  \n",
       "12     Caldera Ginger Beer       4.7        52159  \n",
       "13     Caldera Ginger Beer       4.7        52159  \n",
       "14     Caldera Ginger Beer       4.7        52159  "
      ]
     },
     "execution_count": 4,
     "metadata": {},
     "output_type": "execute_result"
    }
   ],
   "source": [
    "# substitute your name here. If you're on windows you'll need a different filepath\n",
    "df = pd.read_csv(\"beer_reviews.csv\")\n",
    "df.head(15)"
   ]
  },
  {
   "cell_type": "markdown",
   "metadata": {},
   "source": [
    "## Finding People Who Have Reviewed 2 Beers"
   ]
  },
  {
   "cell_type": "code",
   "execution_count": 5,
   "metadata": {
    "collapsed": false
   },
   "outputs": [
    {
     "name": "stdout",
     "output_type": "stream",
     "text": [
      "Users in the sameset: 499\n"
     ]
    },
    {
     "data": {
      "text/plain": [
       "['womencantsail',\n",
       " 'Marty30',\n",
       " 'Winter',\n",
       " 'Lothore',\n",
       " 'bump8628',\n",
       " 'gford217',\n",
       " 'lackenhauser',\n",
       " 'wspscott',\n",
       " 'mjurney',\n",
       " 'LiquidBread219']"
      ]
     },
     "execution_count": 5,
     "metadata": {},
     "output_type": "execute_result"
    }
   ],
   "source": [
    "beer_1, beer_2 = \"Dale's Pale Ale\", \"Fat Tire Amber Ale\"\n",
    "\n",
    "beer_1_reviewers = df[df.beer_name==beer_1].review_profilename.unique()\n",
    "beer_2_reviewers = df[df.beer_name==beer_2].review_profilename.unique()\n",
    "common_reviewers = set(beer_1_reviewers).intersection(beer_2_reviewers)\n",
    "print \"Users in the sameset: %d\" % len(common_reviewers)\n",
    "list(common_reviewers)[:10]"
   ]
  },
  {
   "cell_type": "markdown",
   "metadata": {},
   "source": [
    "## Extracting Reviews"
   ]
  },
  {
   "cell_type": "code",
   "execution_count": 6,
   "metadata": {
    "collapsed": false
   },
   "outputs": [
    {
     "data": {
      "text/html": [
       "<div style=\"max-height:1000px;max-width:1500px;overflow:auto;\">\n",
       "<table border=\"1\" class=\"dataframe\">\n",
       "  <thead>\n",
       "    <tr style=\"text-align: right;\">\n",
       "      <th></th>\n",
       "      <th>beer_name</th>\n",
       "      <th>review_profilename</th>\n",
       "      <th>review_overall</th>\n",
       "      <th>review_aroma</th>\n",
       "      <th>review_palate</th>\n",
       "      <th>review_taste</th>\n",
       "    </tr>\n",
       "  </thead>\n",
       "  <tbody>\n",
       "    <tr>\n",
       "      <th>202456</th>\n",
       "      <td> Fat Tire Amber Ale</td>\n",
       "      <td>         ATPete</td>\n",
       "      <td> 4.5</td>\n",
       "      <td> 4.0</td>\n",
       "      <td> 4.0</td>\n",
       "      <td> 4.5</td>\n",
       "    </tr>\n",
       "    <tr>\n",
       "      <th>201458</th>\n",
       "      <td> Fat Tire Amber Ale</td>\n",
       "      <td>       AdamBear</td>\n",
       "      <td> 3.5</td>\n",
       "      <td> 2.5</td>\n",
       "      <td> 4.5</td>\n",
       "      <td> 3.5</td>\n",
       "    </tr>\n",
       "    <tr>\n",
       "      <th>201886</th>\n",
       "      <td> Fat Tire Amber Ale</td>\n",
       "      <td> AlCaponeJunior</td>\n",
       "      <td> 2.0</td>\n",
       "      <td> 3.0</td>\n",
       "      <td> 3.5</td>\n",
       "      <td> 3.0</td>\n",
       "    </tr>\n",
       "    <tr>\n",
       "      <th>202481</th>\n",
       "      <td> Fat Tire Amber Ale</td>\n",
       "      <td>        AltBock</td>\n",
       "      <td> 4.0</td>\n",
       "      <td> 3.0</td>\n",
       "      <td> 3.0</td>\n",
       "      <td> 3.0</td>\n",
       "    </tr>\n",
       "    <tr>\n",
       "      <th>201803</th>\n",
       "      <td> Fat Tire Amber Ale</td>\n",
       "      <td>        Andreji</td>\n",
       "      <td> 4.0</td>\n",
       "      <td> 4.5</td>\n",
       "      <td> 4.0</td>\n",
       "      <td> 4.0</td>\n",
       "    </tr>\n",
       "  </tbody>\n",
       "</table>\n",
       "</div>"
      ],
      "text/plain": [
       "                 beer_name review_profilename  review_overall  review_aroma  \\\n",
       "202456  Fat Tire Amber Ale             ATPete             4.5           4.0   \n",
       "201458  Fat Tire Amber Ale           AdamBear             3.5           2.5   \n",
       "201886  Fat Tire Amber Ale     AlCaponeJunior             2.0           3.0   \n",
       "202481  Fat Tire Amber Ale            AltBock             4.0           3.0   \n",
       "201803  Fat Tire Amber Ale            Andreji             4.0           4.5   \n",
       "\n",
       "        review_palate  review_taste  \n",
       "202456            4.0           4.5  \n",
       "201458            4.5           3.5  \n",
       "201886            3.5           3.0  \n",
       "202481            3.0           3.0  \n",
       "201803            4.0           4.0  "
      ]
     },
     "execution_count": 6,
     "metadata": {},
     "output_type": "execute_result"
    }
   ],
   "source": [
    "def get_beer_reviews(beer, common_users):\n",
    "    mask = (df.review_profilename.isin(common_users)) & (df.beer_name==beer)\n",
    "    reviews = df[mask].sort('review_profilename')\n",
    "    reviews = reviews[reviews.review_profilename.duplicated()==False]\n",
    "    return reviews\n",
    "beer_1_reviews = get_beer_reviews(beer_1, common_reviewers)\n",
    "beer_2_reviews = get_beer_reviews(beer_2, common_reviewers)\n",
    "\n",
    "cols = ['beer_name', 'review_profilename', 'review_overall', 'review_aroma', 'review_palate', 'review_taste']\n",
    "beer_2_reviews[cols].head()"
   ]
  },
  {
   "cell_type": "markdown",
   "metadata": {},
   "source": [
    "## Calculating Distance"
   ]
  },
  {
   "cell_type": "code",
   "execution_count": 16,
   "metadata": {
    "collapsed": false
   },
   "outputs": [
    {
     "data": {
      "text/plain": [
       "[292.0, 307.5, 272.5, 308.5]"
      ]
     },
     "execution_count": 16,
     "metadata": {},
     "output_type": "execute_result"
    }
   ],
   "source": [
    "# choose your own way to calculate distance\n",
    "from sklearn.metrics.pairwise import euclidean_distances\n",
    "from sklearn.metrics.pairwise import manhattan_distances\n",
    "from sklearn.metrics.pairwise import *\n",
    "from scipy.stats.stats import pearsonr\n",
    "\n",
    "\n",
    "ALL_FEATURES = ['review_overall', 'review_aroma', 'review_palate', 'review_taste']\n",
    "def calculate_similarity(beer1, beer2):\n",
    "    # find common reviewers\n",
    "    beer_1_reviewers = df[df.beer_name==beer1].review_profilename.unique()\n",
    "    beer_2_reviewers = df[df.beer_name==beer2].review_profilename.unique()\n",
    "    common_reviewers = set(beer_1_reviewers).intersection(beer_2_reviewers)\n",
    "\n",
    "    # get reviews\n",
    "    beer_1_reviews = get_beer_reviews(beer1, common_reviewers)\n",
    "    beer_2_reviews = get_beer_reviews(beer2, common_reviewers)\n",
    "    dists = []\n",
    "    for f in ALL_FEATURES:\n",
    "        #dists.append(euclidean_distances(beer_1_reviews[f], beer_2_reviews[f])[0][0])\n",
    "         \n",
    "        dists.append(manhattan_distances(beer_1_reviews[f], beer_2_reviews[f])[0][0])\n",
    "    \n",
    "    return dists\n",
    "\n",
    "calculate_similarity(beer_1, beer_2)"
   ]
  },
  {
   "cell_type": "markdown",
   "metadata": {},
   "source": [
    "## Calculate the Similarity for a Set of Beers"
   ]
  },
  {
   "cell_type": "code",
   "execution_count": 18,
   "metadata": {
    "collapsed": false
   },
   "outputs": [
    {
     "name": "stdout",
     "output_type": "stream",
     "text": [
      "starting Dale's Pale Ale\n",
      "starting Sierra Nevada Pale Ale\n",
      "starting Michelob Ultra\n",
      "starting Natural Light\n",
      "starting Bud Light\n",
      "starting Fat Tire Amber Ale\n",
      "starting Coors Light\n",
      "starting Blue Moon Belgian White\n",
      "starting 60 Minute IPA\n",
      "starting Guinness Draught\n",
      "starting Old Rasputin Russian Imperial Stout\n",
      "starting 90 Minute IPA\n",
      "starting Sierra Nevada Celebration Ale\n",
      "starting Two Hearted Ale\n",
      "starting Arrogant Bastard Ale\n",
      "starting Pliny The Elder\n",
      "starting Sierra Nevada Bigfoot Barleywine Style Ale\n",
      "starting La Fin Du Monde\n",
      "starting Trappistes Rochefort 10\n",
      "starting Ayinger Celebrator Doppelbock\n",
      "starting St. Bernardus Abt 12\n",
      "starting Imperial Stout\n",
      "starting Samuel Adams Boston Lager\n",
      "starting Duvel\n",
      "starting Dead Guy Ale\n",
      "starting Orval Trappist Ale\n",
      "starting Weihenstephaner Hefeweissbier\n",
      "starting Budweiser\n",
      "starting Samuel Smith's Oatmeal Stout\n",
      "starting Samuel Adams Octoberfest\n"
     ]
    }
   ],
   "source": [
    "# calculate only a subset for the demo\n",
    "beers = [\"Dale's Pale Ale\", \"Sierra Nevada Pale Ale\", \"Michelob Ultra\",\n",
    "        \"Natural Light\", \"Bud Light\", \"Fat Tire Amber Ale\", \"Coors Light\",\n",
    "         \"Blue Moon Belgian White\", \"60 Minute IPA\", \"Guinness Draught\", \"Old Rasputin Russian Imperial Stout\",\n",
    "         \"90 Minute IPA\",\"Sierra Nevada Celebration Ale\",\"Two Hearted Ale\",\"Arrogant Bastard Ale\",\"Pliny The Elder\",\n",
    "         \"Sierra Nevada Bigfoot Barleywine Style Ale\",\"La Fin Du Monde\",\"Trappistes Rochefort 10\",\"Ayinger Celebrator Doppelbock\",\n",
    "         \"St. Bernardus Abt 12\",\"Imperial Stout\", \"Samuel Adams Boston Lager\",\"Duvel\",\"Dead Guy Ale\",\"Orval Trappist Ale\",\n",
    "         \"Weihenstephaner Hefeweissbier\", \"Budweiser\",\"Samuel Smith's Oatmeal Stout\",\"Samuel Adams Octoberfest\"\n",
    "         ]\n",
    "\n",
    "# calculate everything for real production\n",
    "# beers = df.beer_name.unique()\n",
    "\n",
    "simple_distances = []\n",
    "for beer1 in beers:\n",
    "    print \"starting\", beer1\n",
    "    for beer2 in beers:\n",
    "        if beer1 != beer2:\n",
    "            row = [beer1, beer2] + calculate_similarity(beer1, beer2)\n",
    "            simple_distances.append(row)"
   ]
  },
  {
   "cell_type": "markdown",
   "metadata": {},
   "source": [
    "## Inspect the Results"
   ]
  },
  {
   "cell_type": "code",
   "execution_count": 1,
   "metadata": {
    "collapsed": false
   },
   "outputs": [
    {
     "ename": "NameError",
     "evalue": "name 'pd' is not defined",
     "output_type": "error",
     "traceback": [
      "\u001b[0;31m---------------------------------------------------------------------------\u001b[0m",
      "\u001b[0;31mNameError\u001b[0m                                 Traceback (most recent call last)",
      "\u001b[0;32m<ipython-input-1-21b76fc5b986>\u001b[0m in \u001b[0;36m<module>\u001b[0;34m()\u001b[0m\n\u001b[1;32m      1\u001b[0m \u001b[0mcols\u001b[0m \u001b[0;34m=\u001b[0m \u001b[0;34m[\u001b[0m\u001b[0;34m\"beer1\"\u001b[0m\u001b[0;34m,\u001b[0m \u001b[0;34m\"beer2\"\u001b[0m\u001b[0;34m,\u001b[0m \u001b[0;34m\"overall_dist\"\u001b[0m\u001b[0;34m,\u001b[0m \u001b[0;34m\"aroma_dist\"\u001b[0m\u001b[0;34m,\u001b[0m \u001b[0;34m\"palate_dist\"\u001b[0m\u001b[0;34m,\u001b[0m \u001b[0;34m\"taste_dist\"\u001b[0m\u001b[0;34m]\u001b[0m\u001b[0;34m\u001b[0m\u001b[0m\n\u001b[0;32m----> 2\u001b[0;31m \u001b[0msimple_distances\u001b[0m \u001b[0;34m=\u001b[0m \u001b[0mpd\u001b[0m\u001b[0;34m.\u001b[0m\u001b[0mDataFrame\u001b[0m\u001b[0;34m(\u001b[0m\u001b[0msimple_distances\u001b[0m\u001b[0;34m,\u001b[0m \u001b[0mcolumns\u001b[0m\u001b[0;34m=\u001b[0m\u001b[0mcols\u001b[0m\u001b[0;34m)\u001b[0m\u001b[0;34m\u001b[0m\u001b[0m\n\u001b[0m\u001b[1;32m      3\u001b[0m \u001b[0msimple_distances\u001b[0m\u001b[0;34m.\u001b[0m\u001b[0mtail\u001b[0m\u001b[0;34m(\u001b[0m\u001b[0;34m)\u001b[0m\u001b[0;34m\u001b[0m\u001b[0m\n",
      "\u001b[0;31mNameError\u001b[0m: name 'pd' is not defined"
     ]
    }
   ],
   "source": [
    "cols = [\"beer1\", \"beer2\", \"overall_dist\", \"aroma_dist\", \"palate_dist\", \"taste_dist\"]\n",
    "simple_distances = pd.DataFrame(simple_distances, columns=cols)\n",
    "simple_distances.tail()"
   ]
  },
  {
   "cell_type": "markdown",
   "metadata": {},
   "source": [
    "## Allow the User to Customize the Weights"
   ]
  },
  {
   "cell_type": "code",
   "execution_count": 21,
   "metadata": {
    "collapsed": false
   },
   "outputs": [
    {
     "name": "stdout",
     "output_type": "stream",
     "text": [
      "1472.5\n",
      "2146.5\n"
     ]
    }
   ],
   "source": [
    "def calc_distance(dists, beer1, beer2, weights):\n",
    "    mask = (dists.beer1==beer1) & (dists.beer2==beer2)\n",
    "    row = dists[mask]\n",
    "    row = row[['overall_dist', 'aroma_dist', 'palate_dist', 'taste_dist']]\n",
    "    dist = weights * row\n",
    "    return dist.sum(axis=1).tolist()[0]\n",
    "\n",
    "weights = [2, 1, 1, 1]\n",
    "print calc_distance(simple_distances, \"Fat Tire Amber Ale\", \"Dale's Pale Ale\", weights)\n",
    "print calc_distance(simple_distances, \"Fat Tire Amber Ale\", \"Michelob Ultra\", weights)"
   ]
  },
  {
   "cell_type": "markdown",
   "metadata": {},
   "source": [
    "## Find Similar Beers for Coors Light"
   ]
  },
  {
   "cell_type": "code",
   "execution_count": 22,
   "metadata": {
    "collapsed": false
   },
   "outputs": [
    {
     "data": {
      "text/plain": [
       "[('Fat Tire Amber Ale', \"Dale's Pale Ale\", 1472.5),\n",
       " ('Fat Tire Amber Ale', 'Natural Light', 1516.5),\n",
       " ('Fat Tire Amber Ale', 'Blue Moon Belgian White', 1629.0),\n",
       " ('Fat Tire Amber Ale', 'Samuel Adams Octoberfest', 1631.5)]"
      ]
     },
     "execution_count": 22,
     "metadata": {},
     "output_type": "execute_result"
    }
   ],
   "source": [
    "my_beer = \"Fat Tire Amber Ale\"\n",
    "results = []\n",
    "for b in beers:\n",
    "    if my_beer!=b:\n",
    "        results.append((my_beer, b, calc_distance(simple_distances, my_beer, b, weights)))\n",
    "sorted(results, key=lambda x: x[2])[0:4]"
   ]
  },
  {
   "cell_type": "markdown",
   "metadata": {},
   "source": [
    "## Wrap it in Yhat"
   ]
  },
  {
   "cell_type": "code",
   "execution_count": 23,
   "metadata": {
    "collapsed": false
   },
   "outputs": [],
   "source": [
    "from yhat import Yhat, BaseModel\n",
    "\n",
    "class BeerRec(BaseModel):\n",
    "    \n",
    "    def transform(self, raw_data):\n",
    "        beer = raw_data['beer']\n",
    "        weights = raw_data.get(\"weights\", [1, 1, 1, 1])\n",
    "        # normalize the weights so they sum to 1.0\n",
    "        weights = [float(w) / sum(weights) for w in weights]\n",
    "        return (beer, weights)\n",
    "        \n",
    "    def predict(self, data):\n",
    "        beer, weights = data\n",
    "        results = []\n",
    "        for beer_cmp in self.beers:\n",
    "            if beer!=beer_cmp:\n",
    "                dist = calc_distance(self.simple_distances, beer, beer_cmp, weights)\n",
    "                results.append((beer, beer_cmp, dist))\n",
    "        return sorted(results, key=lambda x: x[2])"
   ]
  },
  {
   "cell_type": "markdown",
   "metadata": {},
   "source": [
    "## Deploy to Yhat"
   ]
  },
  {
   "cell_type": "code",
   "execution_count": 24,
   "metadata": {
    "collapsed": false
   },
   "outputs": [
    {
     "name": "stdout",
     "output_type": "stream",
     "text": [
      "Are you sure you want to deploy? (y/N): y\n"
     ]
    },
    {
     "data": {
      "text/plain": [
       "{u'lang': u'python',\n",
       " u'message': u'Your model has been uploaded and is currently being built. You can check the status by logging into your Yhat account and viewing: /model/PydataBeerRec3/',\n",
       " u'model_endpoint': u'/myles.gartland@rockhurst.edu/models/PydataBeerRec3/',\n",
       " u'modelname': u'PydataBeerRec3',\n",
       " u'status': u'success',\n",
       " u'timestamp': u'20141126032237',\n",
       " u'version': 5}"
      ]
     },
     "execution_count": 24,
     "metadata": {},
     "output_type": "execute_result"
    }
   ],
   "source": [
    "yh = Yhat(\"myles.gartland@rockhurst.edu\", \"e68038ecb98e3dcc0f9f78a5c2467aeb\",\"http://cloud.yhathq.com/\")\n",
    "br = BeerRec(simple_distances=simple_distances, beers=beers,\n",
    "             udfs=[calc_distance])\n",
    "#yh.deploy(\"PydataBeerRec_test\", br, )\n",
    "yh.deploy(\"PydataBeerRec3\", BeerRec, globals())"
   ]
  },
  {
   "cell_type": "markdown",
   "metadata": {},
   "source": [
    "## Test it Out"
   ]
  },
  {
   "cell_type": "code",
   "execution_count": 23,
   "metadata": {
    "collapsed": false
   },
   "outputs": [
    {
     "ename": "HTTPError",
     "evalue": "HTTP Error 400: Bad Request",
     "output_type": "error",
     "traceback": [
      "\u001b[0;31m---------------------------------------------------------------------------\u001b[0m\n\u001b[0;31mHTTPError\u001b[0m                                 Traceback (most recent call last)",
      "\u001b[0;32m<ipython-input-23-a4a597fd326d>\u001b[0m in \u001b[0;36m<module>\u001b[0;34m()\u001b[0m\n\u001b[0;32m----> 1\u001b[0;31m \u001b[0myh\u001b[0m\u001b[0;34m.\u001b[0m\u001b[0mpredict\u001b[0m\u001b[0;34m(\u001b[0m\u001b[0;34m\"PydataBeerRec\"\u001b[0m\u001b[0;34m,\u001b[0m \u001b[0;36m1\u001b[0m\u001b[0;34m,\u001b[0m \u001b[0;34m{\u001b[0m\u001b[0;34m\"beer\"\u001b[0m\u001b[0;34m:\u001b[0m \u001b[0;34m\"Coors Light\"\u001b[0m\u001b[0;34m,\u001b[0m \u001b[0;34m\"weights\"\u001b[0m\u001b[0;34m:\u001b[0m \u001b[0;34m[\u001b[0m\u001b[0;36m1\u001b[0m\u001b[0;34m,\u001b[0m \u001b[0;36m1\u001b[0m\u001b[0;34m,\u001b[0m \u001b[0;36m1\u001b[0m\u001b[0;34m,\u001b[0m \u001b[0;36m1\u001b[0m\u001b[0;34m]\u001b[0m\u001b[0;34m}\u001b[0m\u001b[0;34m)\u001b[0m\u001b[0;34m\u001b[0m\u001b[0m\n\u001b[0m",
      "\u001b[0;32m/Users/mpgartland1/anaconda/lib/python2.7/site-packages/yhat/api.pyc\u001b[0m in \u001b[0;36mpredict\u001b[0;34m(self, model, data, model_owner)\u001b[0m\n\u001b[1;32m    267\u001b[0m             \u001b[0mdata\u001b[0m \u001b[0;34m=\u001b[0m \u001b[0;34m{\u001b[0m\u001b[0;34m\"data\"\u001b[0m\u001b[0;34m:\u001b[0m \u001b[0mdata\u001b[0m\u001b[0;34m}\u001b[0m\u001b[0;34m\u001b[0m\u001b[0m\n\u001b[1;32m    268\u001b[0m             \u001b[0mendpoint\u001b[0m \u001b[0;34m=\u001b[0m \u001b[0;34m'predict'\u001b[0m\u001b[0;34m\u001b[0m\u001b[0m\n\u001b[0;32m--> 269\u001b[0;31m         \u001b[0;32mreturn\u001b[0m \u001b[0mself\u001b[0m\u001b[0;34m.\u001b[0m\u001b[0mpost\u001b[0m\u001b[0;34m(\u001b[0m\u001b[0mendpoint\u001b[0m\u001b[0;34m,\u001b[0m \u001b[0mq\u001b[0m\u001b[0;34m,\u001b[0m \u001b[0mdata\u001b[0m\u001b[0;34m)\u001b[0m\u001b[0;34m\u001b[0m\u001b[0m\n\u001b[0m\u001b[1;32m    270\u001b[0m \u001b[0;34m\u001b[0m\u001b[0m\n\u001b[1;32m    271\u001b[0m     \u001b[0;32mdef\u001b[0m \u001b[0mpredict_ws\u001b[0m\u001b[0;34m(\u001b[0m\u001b[0mself\u001b[0m\u001b[0;34m,\u001b[0m \u001b[0mdata\u001b[0m\u001b[0;34m)\u001b[0m\u001b[0;34m:\u001b[0m\u001b[0;34m\u001b[0m\u001b[0m\n",
      "\u001b[0;32m/Users/mpgartland1/anaconda/lib/python2.7/site-packages/yhat/api.pyc\u001b[0m in \u001b[0;36mpost\u001b[0;34m(self, endpoint, params, data)\u001b[0m\n\u001b[1;32m    113\u001b[0m                 \u001b[0;32mraise\u001b[0m \u001b[0mException\u001b[0m\u001b[0;34m(\u001b[0m\u001b[0mmsg\u001b[0m\u001b[0;34m)\u001b[0m\u001b[0;34m\u001b[0m\u001b[0m\n\u001b[1;32m    114\u001b[0m         \u001b[0;32mexcept\u001b[0m \u001b[0mException\u001b[0m\u001b[0;34m,\u001b[0m \u001b[0me\u001b[0m\u001b[0;34m:\u001b[0m\u001b[0;34m\u001b[0m\u001b[0m\n\u001b[0;32m--> 115\u001b[0;31m             \u001b[0;32mraise\u001b[0m \u001b[0me\u001b[0m\u001b[0;34m\u001b[0m\u001b[0m\n\u001b[0m\u001b[1;32m    116\u001b[0m             \u001b[0;32mprint\u001b[0m \u001b[0;34m\"Message: %s\"\u001b[0m \u001b[0;34m%\u001b[0m \u001b[0mstr\u001b[0m\u001b[0;34m(\u001b[0m\u001b[0mrsp\u001b[0m\u001b[0;34m)\u001b[0m\u001b[0;34m\u001b[0m\u001b[0m\n\u001b[1;32m    117\u001b[0m \u001b[0;34m\u001b[0m\u001b[0m\n",
      "\u001b[0;31mHTTPError\u001b[0m: HTTP Error 400: Bad Request"
     ]
    }
   ],
   "source": [
    "yh.predict(\"PydataBeerRec\", 1, {\"beer\": \"Coors Light\", \"weights\": [1, 1, 1, 1]})"
   ]
  },
  {
   "cell_type": "code",
   "execution_count": 25,
   "metadata": {
    "collapsed": false
   },
   "outputs": [
    {
     "data": {
      "text/plain": [
       "[[u'Coors Light', u'Natural Light', 14.79369],\n",
       " [u'Coors Light', u'Michelob Ultra', 15.81099],\n",
       " [u'Coors Light', u'Bud Light', 21.75517],\n",
       " [u'Coors Light', u'Blue Moon Belgian White', 34.41245],\n",
       " [u'Coors Light', u'Fat Tire Amber Ale', 35.19777],\n",
       " [u'Coors Light', u\"Dale's Pale Ale\", 35.41338],\n",
       " [u'Coors Light', u'Guinness Draught', 40.43252],\n",
       " [u'Coors Light', u'60 Minute IPA', 45.5498],\n",
       " [u'Coors Light', u'Sierra Nevada Pale Ale', 49.73314]]"
      ]
     },
     "execution_count": 25,
     "metadata": {},
     "output_type": "execute_result"
    }
   ],
   "source": [
    "yh.predict(\"PydataBeerRec\", 1, {\"beer\": \"Coors Light\", \"weights\": [2, 1, 0, 0]})"
   ]
  },
  {
   "cell_type": "code",
   "execution_count": null,
   "metadata": {
    "collapsed": false
   },
   "outputs": [],
   "source": []
  }
 ],
 "metadata": {
  "kernelspec": {
   "display_name": "Python 2",
   "language": "python",
   "name": "python2"
  },
  "language_info": {
   "codemirror_mode": {
    "name": "ipython",
    "version": 2
   },
   "file_extension": ".py",
   "mimetype": "text/x-python",
   "name": "python",
   "nbconvert_exporter": "python",
   "pygments_lexer": "ipython2",
   "version": "2.7.10"
  }
 },
 "nbformat": 4,
 "nbformat_minor": 0
}
