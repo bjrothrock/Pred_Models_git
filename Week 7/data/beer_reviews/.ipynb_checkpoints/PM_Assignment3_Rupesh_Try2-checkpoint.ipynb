{
 "metadata": {
  "name": "",
  "signature": "sha256:5d13cb8c636a3594c855af6a44764a9bcf9c507cda57e52dede079b01de5bbde"
 },
 "nbformat": 3,
 "nbformat_minor": 0,
 "worksheets": [
  {
   "cells": [
    {
     "cell_type": "markdown",
     "metadata": {},
     "source": [
      "Building a Recommendation System in Python\n",
      "============================\n",
      "> In this tutorial we'll show you how to build a recommendation system using pandas, scikit-learn, and numpy. We've provided a dataset of beer reviews which we'll use for building our product recommender, but this use case could be easily substituted with a different product."
     ]
    },
    {
     "cell_type": "code",
     "collapsed": false,
     "input": [
      "import pandas as pd\n",
      "import numpy as np\n",
      "import pylab as pl"
     ],
     "language": "python",
     "metadata": {},
     "outputs": [],
     "prompt_number": 14
    },
    {
     "cell_type": "markdown",
     "metadata": {},
     "source": [
      "<h2><a href=\"https://s3.amazonaws.com/demo-datasets/beer_reviews.tar.gz\">Download the data</a></h2>\n",
      "<p>Grab the dataset from our data demos bucket on S3, then decompress it. It will create a directory called ~/Downloads/beer_reviews.</p>"
     ]
    },
    {
     "cell_type": "code",
     "collapsed": false,
     "input": [
      "#cd /Users/rkothari/Documents/OneDrive/Documents/Rockhurst/PredictiveModels/Assignment3"
     ],
     "language": "python",
     "metadata": {},
     "outputs": [],
     "prompt_number": 15
    },
    {
     "cell_type": "code",
     "collapsed": false,
     "input": [
      "# substitute your name here. If you're on windows you'll need a different filepath\n",
      "df = pd.read_csv(\"beer_reviews.csv\")\n",
      "df.head(15)"
     ],
     "language": "python",
     "metadata": {},
     "outputs": [
      {
       "html": [
        "<div style=\"max-height:1000px;max-width:1500px;overflow:auto;\">\n",
        "<table border=\"1\" class=\"dataframe\">\n",
        "  <thead>\n",
        "    <tr style=\"text-align: right;\">\n",
        "      <th></th>\n",
        "      <th>brewery_id</th>\n",
        "      <th>brewery_name</th>\n",
        "      <th>review_time</th>\n",
        "      <th>review_overall</th>\n",
        "      <th>review_aroma</th>\n",
        "      <th>review_appearance</th>\n",
        "      <th>review_profilename</th>\n",
        "      <th>beer_style</th>\n",
        "      <th>review_palate</th>\n",
        "      <th>review_taste</th>\n",
        "      <th>beer_name</th>\n",
        "      <th>beer_abv</th>\n",
        "      <th>beer_beerid</th>\n",
        "    </tr>\n",
        "  </thead>\n",
        "  <tbody>\n",
        "    <tr>\n",
        "      <th>0 </th>\n",
        "      <td> 10325</td>\n",
        "      <td>         Vecchio Birraio</td>\n",
        "      <td> 1234817823</td>\n",
        "      <td> 1.5</td>\n",
        "      <td> 2.0</td>\n",
        "      <td> 2.5</td>\n",
        "      <td>        stcules</td>\n",
        "      <td>                     Hefeweizen</td>\n",
        "      <td> 1.5</td>\n",
        "      <td> 1.5</td>\n",
        "      <td>           Sausa Weizen</td>\n",
        "      <td> 5.0</td>\n",
        "      <td> 47986</td>\n",
        "    </tr>\n",
        "    <tr>\n",
        "      <th>1 </th>\n",
        "      <td> 10325</td>\n",
        "      <td>         Vecchio Birraio</td>\n",
        "      <td> 1235915097</td>\n",
        "      <td> 3.0</td>\n",
        "      <td> 2.5</td>\n",
        "      <td> 3.0</td>\n",
        "      <td>        stcules</td>\n",
        "      <td>             English Strong Ale</td>\n",
        "      <td> 3.0</td>\n",
        "      <td> 3.0</td>\n",
        "      <td>               Red Moon</td>\n",
        "      <td> 6.2</td>\n",
        "      <td> 48213</td>\n",
        "    </tr>\n",
        "    <tr>\n",
        "      <th>2 </th>\n",
        "      <td> 10325</td>\n",
        "      <td>         Vecchio Birraio</td>\n",
        "      <td> 1235916604</td>\n",
        "      <td> 3.0</td>\n",
        "      <td> 2.5</td>\n",
        "      <td> 3.0</td>\n",
        "      <td>        stcules</td>\n",
        "      <td>         Foreign / Export Stout</td>\n",
        "      <td> 3.0</td>\n",
        "      <td> 3.0</td>\n",
        "      <td> Black Horse Black Beer</td>\n",
        "      <td> 6.5</td>\n",
        "      <td> 48215</td>\n",
        "    </tr>\n",
        "    <tr>\n",
        "      <th>3 </th>\n",
        "      <td> 10325</td>\n",
        "      <td>         Vecchio Birraio</td>\n",
        "      <td> 1234725145</td>\n",
        "      <td> 3.0</td>\n",
        "      <td> 3.0</td>\n",
        "      <td> 3.5</td>\n",
        "      <td>        stcules</td>\n",
        "      <td>                German Pilsener</td>\n",
        "      <td> 2.5</td>\n",
        "      <td> 3.0</td>\n",
        "      <td>             Sausa Pils</td>\n",
        "      <td> 5.0</td>\n",
        "      <td> 47969</td>\n",
        "    </tr>\n",
        "    <tr>\n",
        "      <th>4 </th>\n",
        "      <td>  1075</td>\n",
        "      <td> Caldera Brewing Company</td>\n",
        "      <td> 1293735206</td>\n",
        "      <td> 4.0</td>\n",
        "      <td> 4.5</td>\n",
        "      <td> 4.0</td>\n",
        "      <td> johnmichaelsen</td>\n",
        "      <td> American Double / Imperial IPA</td>\n",
        "      <td> 4.0</td>\n",
        "      <td> 4.5</td>\n",
        "      <td>          Cauldron DIPA</td>\n",
        "      <td> 7.7</td>\n",
        "      <td> 64883</td>\n",
        "    </tr>\n",
        "    <tr>\n",
        "      <th>5 </th>\n",
        "      <td>  1075</td>\n",
        "      <td> Caldera Brewing Company</td>\n",
        "      <td> 1325524659</td>\n",
        "      <td> 3.0</td>\n",
        "      <td> 3.5</td>\n",
        "      <td> 3.5</td>\n",
        "      <td>        oline73</td>\n",
        "      <td>           Herbed / Spiced Beer</td>\n",
        "      <td> 3.0</td>\n",
        "      <td> 3.5</td>\n",
        "      <td>    Caldera Ginger Beer</td>\n",
        "      <td> 4.7</td>\n",
        "      <td> 52159</td>\n",
        "    </tr>\n",
        "    <tr>\n",
        "      <th>6 </th>\n",
        "      <td>  1075</td>\n",
        "      <td> Caldera Brewing Company</td>\n",
        "      <td> 1318991115</td>\n",
        "      <td> 3.5</td>\n",
        "      <td> 3.5</td>\n",
        "      <td> 3.5</td>\n",
        "      <td>      Reidrover</td>\n",
        "      <td>           Herbed / Spiced Beer</td>\n",
        "      <td> 4.0</td>\n",
        "      <td> 4.0</td>\n",
        "      <td>    Caldera Ginger Beer</td>\n",
        "      <td> 4.7</td>\n",
        "      <td> 52159</td>\n",
        "    </tr>\n",
        "    <tr>\n",
        "      <th>7 </th>\n",
        "      <td>  1075</td>\n",
        "      <td> Caldera Brewing Company</td>\n",
        "      <td> 1306276018</td>\n",
        "      <td> 3.0</td>\n",
        "      <td> 2.5</td>\n",
        "      <td> 3.5</td>\n",
        "      <td>   alpinebryant</td>\n",
        "      <td>           Herbed / Spiced Beer</td>\n",
        "      <td> 2.0</td>\n",
        "      <td> 3.5</td>\n",
        "      <td>    Caldera Ginger Beer</td>\n",
        "      <td> 4.7</td>\n",
        "      <td> 52159</td>\n",
        "    </tr>\n",
        "    <tr>\n",
        "      <th>8 </th>\n",
        "      <td>  1075</td>\n",
        "      <td> Caldera Brewing Company</td>\n",
        "      <td> 1290454503</td>\n",
        "      <td> 4.0</td>\n",
        "      <td> 3.0</td>\n",
        "      <td> 3.5</td>\n",
        "      <td>  LordAdmNelson</td>\n",
        "      <td>           Herbed / Spiced Beer</td>\n",
        "      <td> 3.5</td>\n",
        "      <td> 4.0</td>\n",
        "      <td>    Caldera Ginger Beer</td>\n",
        "      <td> 4.7</td>\n",
        "      <td> 52159</td>\n",
        "    </tr>\n",
        "    <tr>\n",
        "      <th>9 </th>\n",
        "      <td>  1075</td>\n",
        "      <td> Caldera Brewing Company</td>\n",
        "      <td> 1285632924</td>\n",
        "      <td> 4.5</td>\n",
        "      <td> 3.5</td>\n",
        "      <td> 5.0</td>\n",
        "      <td>   augustgarage</td>\n",
        "      <td>           Herbed / Spiced Beer</td>\n",
        "      <td> 4.0</td>\n",
        "      <td> 4.0</td>\n",
        "      <td>    Caldera Ginger Beer</td>\n",
        "      <td> 4.7</td>\n",
        "      <td> 52159</td>\n",
        "    </tr>\n",
        "    <tr>\n",
        "      <th>10</th>\n",
        "      <td>   163</td>\n",
        "      <td>  Amstel Brouwerij B. V.</td>\n",
        "      <td> 1010963392</td>\n",
        "      <td> 3.0</td>\n",
        "      <td> 2.0</td>\n",
        "      <td> 3.0</td>\n",
        "      <td>        fodeeoz</td>\n",
        "      <td>                    Light Lager</td>\n",
        "      <td> 2.5</td>\n",
        "      <td> 2.5</td>\n",
        "      <td>           Amstel Light</td>\n",
        "      <td> 3.5</td>\n",
        "      <td>   436</td>\n",
        "    </tr>\n",
        "    <tr>\n",
        "      <th>11</th>\n",
        "      <td>  1075</td>\n",
        "      <td> Caldera Brewing Company</td>\n",
        "      <td> 1283154365</td>\n",
        "      <td> 5.0</td>\n",
        "      <td> 5.0</td>\n",
        "      <td> 4.0</td>\n",
        "      <td>   MadeInOregon</td>\n",
        "      <td>           Herbed / Spiced Beer</td>\n",
        "      <td> 4.0</td>\n",
        "      <td> 4.0</td>\n",
        "      <td>    Caldera Ginger Beer</td>\n",
        "      <td> 4.7</td>\n",
        "      <td> 52159</td>\n",
        "    </tr>\n",
        "    <tr>\n",
        "      <th>12</th>\n",
        "      <td>  1075</td>\n",
        "      <td> Caldera Brewing Company</td>\n",
        "      <td> 1277557990</td>\n",
        "      <td> 4.0</td>\n",
        "      <td> 4.0</td>\n",
        "      <td> 4.0</td>\n",
        "      <td>        rawthar</td>\n",
        "      <td>           Herbed / Spiced Beer</td>\n",
        "      <td> 3.5</td>\n",
        "      <td> 4.0</td>\n",
        "      <td>    Caldera Ginger Beer</td>\n",
        "      <td> 4.7</td>\n",
        "      <td> 52159</td>\n",
        "    </tr>\n",
        "    <tr>\n",
        "      <th>13</th>\n",
        "      <td>  1075</td>\n",
        "      <td> Caldera Brewing Company</td>\n",
        "      <td> 1275779250</td>\n",
        "      <td> 4.0</td>\n",
        "      <td> 4.5</td>\n",
        "      <td> 3.0</td>\n",
        "      <td>    Halcyondays</td>\n",
        "      <td>           Herbed / Spiced Beer</td>\n",
        "      <td> 2.5</td>\n",
        "      <td> 3.0</td>\n",
        "      <td>    Caldera Ginger Beer</td>\n",
        "      <td> 4.7</td>\n",
        "      <td> 52159</td>\n",
        "    </tr>\n",
        "    <tr>\n",
        "      <th>14</th>\n",
        "      <td>  1075</td>\n",
        "      <td> Caldera Brewing Company</td>\n",
        "      <td> 1273109020</td>\n",
        "      <td> 3.5</td>\n",
        "      <td> 4.0</td>\n",
        "      <td> 3.0</td>\n",
        "      <td>    RangerClegg</td>\n",
        "      <td>           Herbed / Spiced Beer</td>\n",
        "      <td> 3.0</td>\n",
        "      <td> 4.0</td>\n",
        "      <td>    Caldera Ginger Beer</td>\n",
        "      <td> 4.7</td>\n",
        "      <td> 52159</td>\n",
        "    </tr>\n",
        "  </tbody>\n",
        "</table>\n",
        "</div>"
       ],
       "metadata": {},
       "output_type": "pyout",
       "prompt_number": 16,
       "text": [
        "    brewery_id             brewery_name  review_time  review_overall  \\\n",
        "0        10325          Vecchio Birraio   1234817823             1.5   \n",
        "1        10325          Vecchio Birraio   1235915097             3.0   \n",
        "2        10325          Vecchio Birraio   1235916604             3.0   \n",
        "3        10325          Vecchio Birraio   1234725145             3.0   \n",
        "4         1075  Caldera Brewing Company   1293735206             4.0   \n",
        "5         1075  Caldera Brewing Company   1325524659             3.0   \n",
        "6         1075  Caldera Brewing Company   1318991115             3.5   \n",
        "7         1075  Caldera Brewing Company   1306276018             3.0   \n",
        "8         1075  Caldera Brewing Company   1290454503             4.0   \n",
        "9         1075  Caldera Brewing Company   1285632924             4.5   \n",
        "10         163   Amstel Brouwerij B. V.   1010963392             3.0   \n",
        "11        1075  Caldera Brewing Company   1283154365             5.0   \n",
        "12        1075  Caldera Brewing Company   1277557990             4.0   \n",
        "13        1075  Caldera Brewing Company   1275779250             4.0   \n",
        "14        1075  Caldera Brewing Company   1273109020             3.5   \n",
        "\n",
        "    review_aroma  review_appearance review_profilename  \\\n",
        "0            2.0                2.5            stcules   \n",
        "1            2.5                3.0            stcules   \n",
        "2            2.5                3.0            stcules   \n",
        "3            3.0                3.5            stcules   \n",
        "4            4.5                4.0     johnmichaelsen   \n",
        "5            3.5                3.5            oline73   \n",
        "6            3.5                3.5          Reidrover   \n",
        "7            2.5                3.5       alpinebryant   \n",
        "8            3.0                3.5      LordAdmNelson   \n",
        "9            3.5                5.0       augustgarage   \n",
        "10           2.0                3.0            fodeeoz   \n",
        "11           5.0                4.0       MadeInOregon   \n",
        "12           4.0                4.0            rawthar   \n",
        "13           4.5                3.0        Halcyondays   \n",
        "14           4.0                3.0        RangerClegg   \n",
        "\n",
        "                        beer_style  review_palate  review_taste  \\\n",
        "0                       Hefeweizen            1.5           1.5   \n",
        "1               English Strong Ale            3.0           3.0   \n",
        "2           Foreign / Export Stout            3.0           3.0   \n",
        "3                  German Pilsener            2.5           3.0   \n",
        "4   American Double / Imperial IPA            4.0           4.5   \n",
        "5             Herbed / Spiced Beer            3.0           3.5   \n",
        "6             Herbed / Spiced Beer            4.0           4.0   \n",
        "7             Herbed / Spiced Beer            2.0           3.5   \n",
        "8             Herbed / Spiced Beer            3.5           4.0   \n",
        "9             Herbed / Spiced Beer            4.0           4.0   \n",
        "10                     Light Lager            2.5           2.5   \n",
        "11            Herbed / Spiced Beer            4.0           4.0   \n",
        "12            Herbed / Spiced Beer            3.5           4.0   \n",
        "13            Herbed / Spiced Beer            2.5           3.0   \n",
        "14            Herbed / Spiced Beer            3.0           4.0   \n",
        "\n",
        "                 beer_name  beer_abv  beer_beerid  \n",
        "0             Sausa Weizen       5.0        47986  \n",
        "1                 Red Moon       6.2        48213  \n",
        "2   Black Horse Black Beer       6.5        48215  \n",
        "3               Sausa Pils       5.0        47969  \n",
        "4            Cauldron DIPA       7.7        64883  \n",
        "5      Caldera Ginger Beer       4.7        52159  \n",
        "6      Caldera Ginger Beer       4.7        52159  \n",
        "7      Caldera Ginger Beer       4.7        52159  \n",
        "8      Caldera Ginger Beer       4.7        52159  \n",
        "9      Caldera Ginger Beer       4.7        52159  \n",
        "10            Amstel Light       3.5          436  \n",
        "11     Caldera Ginger Beer       4.7        52159  \n",
        "12     Caldera Ginger Beer       4.7        52159  \n",
        "13     Caldera Ginger Beer       4.7        52159  \n",
        "14     Caldera Ginger Beer       4.7        52159  "
       ]
      }
     ],
     "prompt_number": 16
    },
    {
     "cell_type": "heading",
     "level": 2,
     "metadata": {},
     "source": [
      "Finding People Who Have Reviewed 2 Beers"
     ]
    },
    {
     "cell_type": "code",
     "collapsed": false,
     "input": [
      "beer_1, beer_2 = \"Dale's Pale Ale\", \"Fat Tire Amber Ale\"\n",
      "\n",
      "beer_1_reviewers = df[df.beer_name==beer_1].review_profilename.unique()\n",
      "beer_2_reviewers = df[df.beer_name==beer_2].review_profilename.unique()\n",
      "common_reviewers = set(beer_1_reviewers).intersection(beer_2_reviewers)\n",
      "print \"Users in the sameset: %d\" % len(common_reviewers)\n",
      "list(common_reviewers)[:10]"
     ],
     "language": "python",
     "metadata": {},
     "outputs": [
      {
       "output_type": "stream",
       "stream": "stdout",
       "text": [
        "Users in the sameset: 499\n"
       ]
      },
      {
       "metadata": {},
       "output_type": "pyout",
       "prompt_number": 17,
       "text": [
        "['womencantsail',\n",
        " 'Marty30',\n",
        " 'Winter',\n",
        " 'Lothore',\n",
        " 'bump8628',\n",
        " 'gford217',\n",
        " 'lackenhauser',\n",
        " 'wspscott',\n",
        " 'mjurney',\n",
        " 'LiquidBread219']"
       ]
      }
     ],
     "prompt_number": 17
    },
    {
     "cell_type": "heading",
     "level": 2,
     "metadata": {},
     "source": [
      "Extracting Reviews"
     ]
    },
    {
     "cell_type": "code",
     "collapsed": false,
     "input": [
      "def get_beer_reviews(beer, common_users):\n",
      "    mask = (df.review_profilename.isin(common_users)) & (df.beer_name==beer)\n",
      "    reviews = df[mask].sort('review_profilename')\n",
      "    reviews = reviews[reviews.review_profilename.duplicated()==False]\n",
      "    return reviews\n",
      "beer_1_reviews = get_beer_reviews(beer_1, common_reviewers)\n",
      "beer_2_reviews = get_beer_reviews(beer_2, common_reviewers)\n",
      "\n",
      "cols = ['beer_name', 'review_profilename', 'review_overall', 'review_aroma', 'review_palate', 'review_taste']\n",
      "beer_2_reviews[cols].head()"
     ],
     "language": "python",
     "metadata": {},
     "outputs": [
      {
       "html": [
        "<div style=\"max-height:1000px;max-width:1500px;overflow:auto;\">\n",
        "<table border=\"1\" class=\"dataframe\">\n",
        "  <thead>\n",
        "    <tr style=\"text-align: right;\">\n",
        "      <th></th>\n",
        "      <th>beer_name</th>\n",
        "      <th>review_profilename</th>\n",
        "      <th>review_overall</th>\n",
        "      <th>review_aroma</th>\n",
        "      <th>review_palate</th>\n",
        "      <th>review_taste</th>\n",
        "    </tr>\n",
        "  </thead>\n",
        "  <tbody>\n",
        "    <tr>\n",
        "      <th>202456</th>\n",
        "      <td> Fat Tire Amber Ale</td>\n",
        "      <td>         ATPete</td>\n",
        "      <td> 4.5</td>\n",
        "      <td> 4.0</td>\n",
        "      <td> 4.0</td>\n",
        "      <td> 4.5</td>\n",
        "    </tr>\n",
        "    <tr>\n",
        "      <th>201458</th>\n",
        "      <td> Fat Tire Amber Ale</td>\n",
        "      <td>       AdamBear</td>\n",
        "      <td> 3.5</td>\n",
        "      <td> 2.5</td>\n",
        "      <td> 4.5</td>\n",
        "      <td> 3.5</td>\n",
        "    </tr>\n",
        "    <tr>\n",
        "      <th>201886</th>\n",
        "      <td> Fat Tire Amber Ale</td>\n",
        "      <td> AlCaponeJunior</td>\n",
        "      <td> 2.0</td>\n",
        "      <td> 3.0</td>\n",
        "      <td> 3.5</td>\n",
        "      <td> 3.0</td>\n",
        "    </tr>\n",
        "    <tr>\n",
        "      <th>202481</th>\n",
        "      <td> Fat Tire Amber Ale</td>\n",
        "      <td>        AltBock</td>\n",
        "      <td> 4.0</td>\n",
        "      <td> 3.0</td>\n",
        "      <td> 3.0</td>\n",
        "      <td> 3.0</td>\n",
        "    </tr>\n",
        "    <tr>\n",
        "      <th>201803</th>\n",
        "      <td> Fat Tire Amber Ale</td>\n",
        "      <td>        Andreji</td>\n",
        "      <td> 4.0</td>\n",
        "      <td> 4.5</td>\n",
        "      <td> 4.0</td>\n",
        "      <td> 4.0</td>\n",
        "    </tr>\n",
        "  </tbody>\n",
        "</table>\n",
        "</div>"
       ],
       "metadata": {},
       "output_type": "pyout",
       "prompt_number": 18,
       "text": [
        "                 beer_name review_profilename  review_overall  review_aroma  \\\n",
        "202456  Fat Tire Amber Ale             ATPete             4.5           4.0   \n",
        "201458  Fat Tire Amber Ale           AdamBear             3.5           2.5   \n",
        "201886  Fat Tire Amber Ale     AlCaponeJunior             2.0           3.0   \n",
        "202481  Fat Tire Amber Ale            AltBock             4.0           3.0   \n",
        "201803  Fat Tire Amber Ale            Andreji             4.0           4.5   \n",
        "\n",
        "        review_palate  review_taste  \n",
        "202456            4.0           4.5  \n",
        "201458            4.5           3.5  \n",
        "201886            3.5           3.0  \n",
        "202481            3.0           3.0  \n",
        "201803            4.0           4.0  "
       ]
      }
     ],
     "prompt_number": 18
    },
    {
     "cell_type": "heading",
     "level": 2,
     "metadata": {},
     "source": [
      "Calculating EUCLIDEAN Distance"
     ]
    },
    {
     "cell_type": "code",
     "collapsed": false,
     "input": [
      "# choose your own way to calculate distance\n",
      "from sklearn.metrics.pairwise import euclidean_distances\n",
      "from sklearn.metrics.pairwise import manhattan_distances\n",
      "from scipy.stats.stats import pearsonr\n",
      "\n",
      "\n",
      "ALL_FEATURES = ['review_overall', 'review_aroma', 'review_palate', 'review_taste']\n",
      "def calculate_euclidean_similarity(beer1, beer2):\n",
      "    # find common reviewers\n",
      "    beer_1_reviewers = df[df.beer_name==beer1].review_profilename.unique()\n",
      "    beer_2_reviewers = df[df.beer_name==beer2].review_profilename.unique()\n",
      "    common_reviewers = set(beer_1_reviewers).intersection(beer_2_reviewers)\n",
      "\n",
      "    # get reviews\n",
      "    beer_1_reviews = get_beer_reviews(beer1, common_reviewers)\n",
      "    beer_2_reviews = get_beer_reviews(beer2, common_reviewers)\n",
      "    dists = []\n",
      "    for f in ALL_FEATURES:\n",
      "        dists.append(euclidean_distances(beer_1_reviews[f], beer_2_reviews[f])[0][0])\n",
      "    \n",
      "    return dists\n",
      "\n",
      "calculate_euclidean_similarity(beer_1, beer_2)"
     ],
     "language": "python",
     "metadata": {},
     "outputs": [
      {
       "metadata": {},
       "output_type": "pyout",
       "prompt_number": 19,
       "text": [
        "[17.592612085759182, 17.38533865071371, 16.454482671904334, 17.613914953808536]"
       ]
      }
     ],
     "prompt_number": 19
    },
    {
     "cell_type": "heading",
     "level": 2,
     "metadata": {},
     "source": [
      "Calculate the Similarity for a Set of Beers"
     ]
    },
    {
     "cell_type": "code",
     "collapsed": false,
     "input": [
      "beername = pd.Series(sorted(set(df['beer_name'])))\n",
      "print beername.shape\n",
      "\n",
      "# calculate only a subset for the demo\n",
      "beers = beername[:50]\n",
      "beers[50] = \"Dale's Pale Ale\"\n",
      "print beers"
     ],
     "language": "python",
     "metadata": {},
     "outputs": [
      {
       "output_type": "stream",
       "stream": "stdout",
       "text": [
        "(56857,)\n",
        "0                                       ! (Old Ale)\n",
        "1                                             \"100\"\n",
        "2                                    \"100\" Pale Ale\n",
        "3                   \"12\"  Belgian Golden Strong Ale\n",
        "4                                       \"33\" Export\n",
        "5                           \"4\" Horse Oatmeal Stout\n",
        "6                                         \"400\" Ale\n",
        "7                     \"50\" Golden Anniversary Lager\n",
        "8                              \"76\" Anniversary Ale\n",
        "9            \"76\" Anniversary Ale With English Hops\n",
        "10                                  \"Alt\"ered State\n",
        "11                      \"Best Of Both Worlds\" Stout\n",
        "12                     \"Cellar Reserve\" Triple Gold\n",
        "13                         \"Certifiably\" Blonde Ale\n",
        "14                        \"Check-Mate\" Cask Pilsner\n",
        "15                       \"Double Wrecked Wreck\" IPA\n",
        "16                           \"Fade To Black\" Porter\n",
        "17                            \"Great Satchmo\" Stout\n",
        "18                                  \"Hop Obama\" Ale\n",
        "19                 \"Jessica & Brendan's\" Bridal Ale\n",
        "20                       \"Just One More\" Scotch Ale\n",
        "21               \"Little John's Myth\" Robust Porter\n",
        "22                                              \"M\"\n",
        "23                                 \"M\"-perial Stout\n",
        "24                       \"Marnie\" Gras Carnival Ale\n",
        "25                        \"Naughty Scot\" Scotch Ale\n",
        "26                      \"Nein Toll Bier\" German Alt\n",
        "27                     \"Not Guilty\" 1924 Deer Brand\n",
        "28                          \"Not Your Bock\" Maibock\n",
        "29                                 \"O Smokey Night\"\n",
        "30                                        \"O!\" Gold\n",
        "31                     \"Old School\" Craft Cream Ale\n",
        "32                     \"Old Yeltsin\" Imperial Stout\n",
        "33                  \"Requisite\" Imperialistic Stout\n",
        "34                  \"See No Evil\" American Pale Ale\n",
        "35                       \"Shabadoo\" Black & Tan Ale\n",
        "36                   \"Six\" Belgian Style Table Beer\n",
        "37                              \"Stout Stoat\" Stout\n",
        "38                                 \"Talk To Me\" IPA\n",
        "39                       \"The Bridge\" Nut-Brown Ale\n",
        "40                               \"The Buk\" Pale Ale\n",
        "41                            \"The Camp\" Barleywine\n",
        "42                               \"The Mountain\" Ale\n",
        "43    \"The Wind Cried Mari...\" Scottish Heather Ale\n",
        "44               \"They Made Me Do It\" Blueberry Ale\n",
        "45                                        \"Trouble\"\n",
        "46                        \"True Blue\" Blueberry Ale\n",
        "47                              \"Woosta\" Weizenbock\n",
        "48                                            # 100\n",
        "49                                          #'s Ale\n",
        "50                                  Dale's Pale Ale\n",
        "Length: 51, dtype: object\n"
       ]
      }
     ],
     "prompt_number": 20
    },
    {
     "cell_type": "code",
     "collapsed": false,
     "input": [
      "simple_euclidean_distances = []\n",
      "for beer1 in beers:\n",
      "    print \"starting\", beer1\n",
      "    for beer2 in beers:\n",
      "        if beer1 != beer2:\n",
      "            row = [beer1, beer2] + calculate_euclidean_similarity(beer1, beer2)\n",
      "            simple_euclidean_distances.append(row)"
     ],
     "language": "python",
     "metadata": {},
     "outputs": [
      {
       "output_type": "stream",
       "stream": "stdout",
       "text": [
        "starting ! (Old Ale)\n",
        "starting"
       ]
      },
      {
       "output_type": "stream",
       "stream": "stdout",
       "text": [
        " \"100\"\n",
        "starting"
       ]
      },
      {
       "output_type": "stream",
       "stream": "stdout",
       "text": [
        " \"100\" Pale Ale\n",
        "starting"
       ]
      },
      {
       "output_type": "stream",
       "stream": "stdout",
       "text": [
        " \"12\"  Belgian Golden Strong Ale\n",
        "starting"
       ]
      },
      {
       "output_type": "stream",
       "stream": "stdout",
       "text": [
        " \"33\" Export\n",
        "starting"
       ]
      },
      {
       "output_type": "stream",
       "stream": "stdout",
       "text": [
        " \"4\" Horse Oatmeal Stout\n",
        "starting"
       ]
      },
      {
       "output_type": "stream",
       "stream": "stdout",
       "text": [
        " \"400\" Ale\n",
        "starting"
       ]
      },
      {
       "output_type": "stream",
       "stream": "stdout",
       "text": [
        " \"50\" Golden Anniversary Lager\n",
        "starting"
       ]
      },
      {
       "output_type": "stream",
       "stream": "stdout",
       "text": [
        " \"76\" Anniversary Ale\n",
        "starting"
       ]
      },
      {
       "output_type": "stream",
       "stream": "stdout",
       "text": [
        " \"76\" Anniversary Ale With English Hops\n",
        "starting"
       ]
      },
      {
       "output_type": "stream",
       "stream": "stdout",
       "text": [
        " \"Alt\"ered State\n",
        "starting"
       ]
      },
      {
       "output_type": "stream",
       "stream": "stdout",
       "text": [
        " \"Best Of Both Worlds\" Stout\n",
        "starting"
       ]
      },
      {
       "output_type": "stream",
       "stream": "stdout",
       "text": [
        " \"Cellar Reserve\" Triple Gold\n",
        "starting"
       ]
      },
      {
       "output_type": "stream",
       "stream": "stdout",
       "text": [
        " \"Certifiably\" Blonde Ale\n",
        "starting"
       ]
      },
      {
       "output_type": "stream",
       "stream": "stdout",
       "text": [
        " \"Check-Mate\" Cask Pilsner\n",
        "starting"
       ]
      },
      {
       "output_type": "stream",
       "stream": "stdout",
       "text": [
        " \"Double Wrecked Wreck\" IPA\n",
        "starting"
       ]
      },
      {
       "output_type": "stream",
       "stream": "stdout",
       "text": [
        " \"Fade To Black\" Porter\n",
        "starting"
       ]
      },
      {
       "output_type": "stream",
       "stream": "stdout",
       "text": [
        " \"Great Satchmo\" Stout\n",
        "starting"
       ]
      },
      {
       "output_type": "stream",
       "stream": "stdout",
       "text": [
        " \"Hop Obama\" Ale\n",
        "starting"
       ]
      },
      {
       "output_type": "stream",
       "stream": "stdout",
       "text": [
        " \"Jessica & Brendan's\" Bridal Ale\n",
        "starting"
       ]
      },
      {
       "output_type": "stream",
       "stream": "stdout",
       "text": [
        " \"Just One More\" Scotch Ale\n",
        "starting"
       ]
      },
      {
       "output_type": "stream",
       "stream": "stdout",
       "text": [
        " \"Little John's Myth\" Robust Porter\n",
        "starting"
       ]
      },
      {
       "output_type": "stream",
       "stream": "stdout",
       "text": [
        " \"M\"\n",
        "starting"
       ]
      },
      {
       "output_type": "stream",
       "stream": "stdout",
       "text": [
        " \"M\"-perial Stout\n",
        "starting"
       ]
      },
      {
       "output_type": "stream",
       "stream": "stdout",
       "text": [
        " \"Marnie\" Gras Carnival Ale\n",
        "starting"
       ]
      },
      {
       "output_type": "stream",
       "stream": "stdout",
       "text": [
        " \"Naughty Scot\" Scotch Ale\n",
        "starting"
       ]
      },
      {
       "output_type": "stream",
       "stream": "stdout",
       "text": [
        " \"Nein Toll Bier\" German Alt\n",
        "starting"
       ]
      },
      {
       "output_type": "stream",
       "stream": "stdout",
       "text": [
        " \"Not Guilty\" 1924 Deer Brand\n",
        "starting"
       ]
      },
      {
       "output_type": "stream",
       "stream": "stdout",
       "text": [
        " \"Not Your Bock\" Maibock\n",
        "starting"
       ]
      },
      {
       "output_type": "stream",
       "stream": "stdout",
       "text": [
        " \"O Smokey Night\"\n",
        "starting"
       ]
      },
      {
       "output_type": "stream",
       "stream": "stdout",
       "text": [
        " \"O!\" Gold\n",
        "starting"
       ]
      },
      {
       "output_type": "stream",
       "stream": "stdout",
       "text": [
        " \"Old School\" Craft Cream Ale\n",
        "starting"
       ]
      },
      {
       "output_type": "stream",
       "stream": "stdout",
       "text": [
        " \"Old Yeltsin\" Imperial Stout\n",
        "starting"
       ]
      },
      {
       "output_type": "stream",
       "stream": "stdout",
       "text": [
        " \"Requisite\" Imperialistic Stout\n",
        "starting"
       ]
      },
      {
       "output_type": "stream",
       "stream": "stdout",
       "text": [
        " \"See No Evil\" American Pale Ale\n",
        "starting"
       ]
      },
      {
       "output_type": "stream",
       "stream": "stdout",
       "text": [
        " \"Shabadoo\" Black & Tan Ale\n",
        "starting"
       ]
      },
      {
       "output_type": "stream",
       "stream": "stdout",
       "text": [
        " \"Six\" Belgian Style Table Beer\n",
        "starting"
       ]
      },
      {
       "output_type": "stream",
       "stream": "stdout",
       "text": [
        " \"Stout Stoat\" Stout\n",
        "starting"
       ]
      },
      {
       "output_type": "stream",
       "stream": "stdout",
       "text": [
        " \"Talk To Me\" IPA\n",
        "starting"
       ]
      },
      {
       "output_type": "stream",
       "stream": "stdout",
       "text": [
        " \"The Bridge\" Nut-Brown Ale\n",
        "starting"
       ]
      },
      {
       "output_type": "stream",
       "stream": "stdout",
       "text": [
        " \"The Buk\" Pale Ale\n",
        "starting"
       ]
      },
      {
       "output_type": "stream",
       "stream": "stdout",
       "text": [
        " \"The Camp\" Barleywine\n",
        "starting"
       ]
      },
      {
       "output_type": "stream",
       "stream": "stdout",
       "text": [
        " \"The Mountain\" Ale\n",
        "starting"
       ]
      },
      {
       "output_type": "stream",
       "stream": "stdout",
       "text": [
        " \"The Wind Cried Mari...\" Scottish Heather Ale\n",
        "starting"
       ]
      },
      {
       "output_type": "stream",
       "stream": "stdout",
       "text": [
        " \"They Made Me Do It\" Blueberry Ale\n",
        "starting"
       ]
      },
      {
       "output_type": "stream",
       "stream": "stdout",
       "text": [
        " \"Trouble\"\n",
        "starting"
       ]
      },
      {
       "output_type": "stream",
       "stream": "stdout",
       "text": [
        " \"True Blue\" Blueberry Ale\n",
        "starting"
       ]
      },
      {
       "output_type": "stream",
       "stream": "stdout",
       "text": [
        " \"Woosta\" Weizenbock\n",
        "starting"
       ]
      },
      {
       "output_type": "stream",
       "stream": "stdout",
       "text": [
        " # 100\n",
        "starting"
       ]
      },
      {
       "output_type": "stream",
       "stream": "stdout",
       "text": [
        " #'s Ale\n",
        "starting"
       ]
      },
      {
       "output_type": "stream",
       "stream": "stdout",
       "text": [
        " Dale's Pale Ale\n"
       ]
      }
     ],
     "prompt_number": 21
    },
    {
     "cell_type": "heading",
     "level": 2,
     "metadata": {},
     "source": [
      "Inspect the Results"
     ]
    },
    {
     "cell_type": "code",
     "collapsed": false,
     "input": [
      "cols = [\"beer1\", \"beer2\", \"overall_dist\", \"aroma_dist\", \"palate_dist\", \"taste_dist\"]\n",
      "simple_euclidean_distances = pd.DataFrame(simple_euclidean_distances, columns=cols)\n",
      "simple_euclidean_distances.tail()"
     ],
     "language": "python",
     "metadata": {},
     "outputs": [
      {
       "html": [
        "<div style=\"max-height:1000px;max-width:1500px;overflow:auto;\">\n",
        "<table border=\"1\" class=\"dataframe\">\n",
        "  <thead>\n",
        "    <tr style=\"text-align: right;\">\n",
        "      <th></th>\n",
        "      <th>beer1</th>\n",
        "      <th>beer2</th>\n",
        "      <th>overall_dist</th>\n",
        "      <th>aroma_dist</th>\n",
        "      <th>palate_dist</th>\n",
        "      <th>taste_dist</th>\n",
        "    </tr>\n",
        "  </thead>\n",
        "  <tbody>\n",
        "    <tr>\n",
        "      <th>2545</th>\n",
        "      <td> Dale's Pale Ale</td>\n",
        "      <td>                 \"Trouble\"</td>\n",
        "      <td> 0.500000</td>\n",
        "      <td> 0.500000</td>\n",
        "      <td> 0.000000</td>\n",
        "      <td> 0.000000</td>\n",
        "    </tr>\n",
        "    <tr>\n",
        "      <th>2546</th>\n",
        "      <td> Dale's Pale Ale</td>\n",
        "      <td> \"True Blue\" Blueberry Ale</td>\n",
        "      <td> 2.738613</td>\n",
        "      <td> 2.121320</td>\n",
        "      <td> 2.291288</td>\n",
        "      <td> 2.449490</td>\n",
        "    </tr>\n",
        "    <tr>\n",
        "      <th>2547</th>\n",
        "      <td> Dale's Pale Ale</td>\n",
        "      <td>       \"Woosta\" Weizenbock</td>\n",
        "      <td> 0.000000</td>\n",
        "      <td> 0.000000</td>\n",
        "      <td> 0.500000</td>\n",
        "      <td> 0.000000</td>\n",
        "    </tr>\n",
        "    <tr>\n",
        "      <th>2548</th>\n",
        "      <td> Dale's Pale Ale</td>\n",
        "      <td>                     # 100</td>\n",
        "      <td> 7.088723</td>\n",
        "      <td> 5.522681</td>\n",
        "      <td> 6.164414</td>\n",
        "      <td> 5.916080</td>\n",
        "    </tr>\n",
        "    <tr>\n",
        "      <th>2549</th>\n",
        "      <td> Dale's Pale Ale</td>\n",
        "      <td>                   #'s Ale</td>\n",
        "      <td> 2.783882</td>\n",
        "      <td> 3.535534</td>\n",
        "      <td> 2.549510</td>\n",
        "      <td> 2.061553</td>\n",
        "    </tr>\n",
        "  </tbody>\n",
        "</table>\n",
        "</div>"
       ],
       "metadata": {},
       "output_type": "pyout",
       "prompt_number": 22,
       "text": [
        "                beer1                      beer2  overall_dist  aroma_dist  \\\n",
        "2545  Dale's Pale Ale                  \"Trouble\"      0.500000    0.500000   \n",
        "2546  Dale's Pale Ale  \"True Blue\" Blueberry Ale      2.738613    2.121320   \n",
        "2547  Dale's Pale Ale        \"Woosta\" Weizenbock      0.000000    0.000000   \n",
        "2548  Dale's Pale Ale                      # 100      7.088723    5.522681   \n",
        "2549  Dale's Pale Ale                    #'s Ale      2.783882    3.535534   \n",
        "\n",
        "      palate_dist  taste_dist  \n",
        "2545     0.000000    0.000000  \n",
        "2546     2.291288    2.449490  \n",
        "2547     0.500000    0.000000  \n",
        "2548     6.164414    5.916080  \n",
        "2549     2.549510    2.061553  "
       ]
      }
     ],
     "prompt_number": 22
    },
    {
     "cell_type": "heading",
     "level": 2,
     "metadata": {},
     "source": [
      "Allow the User to Customize the Weights"
     ]
    },
    {
     "cell_type": "code",
     "collapsed": false,
     "input": [
      "def calc_distance(dists, beer1, beer2, weights):\n",
      "    mask = (dists.beer1==beer1) & (dists.beer2==beer2)\n",
      "    row = dists[mask]\n",
      "    row = row[['overall_dist', 'aroma_dist', 'palate_dist', 'taste_dist']]\n",
      "    dist = weights * row\n",
      "    return dist.sum(axis=1).tolist()[0]\n",
      "\n",
      "weights1 = [2, 1, 1, 1]\n",
      "weights2 = [2, 2, 1, 1]\n",
      "weights3 = [2, 2, 2, 1]\n",
      "\n",
      "print calc_distance(simple_euclidean_distances, \"#'s Ale\", \"! (Old Ale)\", weights1)\n",
      "print calc_distance(simple_euclidean_distances, \"#'s Ale\", \"# 100\", weights1)\n",
      "print calc_distance(simple_euclidean_distances, \"#'s Ale\", \"! (Old Ale)\", weights2)\n",
      "print calc_distance(simple_euclidean_distances, \"#'s Ale\", \"# 100\", weights2)\n",
      "print calc_distance(simple_euclidean_distances, \"#'s Ale\", \"! (Old Ale)\", weights3)\n",
      "print calc_distance(simple_euclidean_distances, \"#'s Ale\", \"# 100\", weights3)"
     ],
     "language": "python",
     "metadata": {},
     "outputs": [
      {
       "output_type": "stream",
       "stream": "stdout",
       "text": [
        "0.0\n",
        "10.1558294406\n",
        "0.0\n",
        "12.3352789124\n",
        "0.0\n",
        "14.8352789124\n"
       ]
      }
     ],
     "prompt_number": 23
    },
    {
     "cell_type": "heading",
     "level": 2,
     "metadata": {},
     "source": [
      "Calculating MANHATTAN DISTANCE FOR SIMILARITY MEASURE"
     ]
    },
    {
     "cell_type": "code",
     "collapsed": false,
     "input": [
      "# choose your own way to calculate distance\n",
      "from sklearn.metrics.pairwise import euclidean_distances\n",
      "from sklearn.metrics.pairwise import manhattan_distances\n",
      "from scipy.stats.stats import pearsonr\n",
      "\n",
      "\n",
      "ALL_FEATURES = ['review_overall', 'review_aroma', 'review_palate', 'review_taste']\n",
      "def calculate_manhattan_similarity(beer1, beer2):\n",
      "    # find common reviewers\n",
      "    beer_1_reviewers = df[df.beer_name==beer1].review_profilename.unique()\n",
      "    beer_2_reviewers = df[df.beer_name==beer2].review_profilename.unique()\n",
      "    common_reviewers = set(beer_1_reviewers).intersection(beer_2_reviewers)\n",
      "\n",
      "    # get reviews\n",
      "    beer_1_reviews = get_beer_reviews(beer1, common_reviewers)\n",
      "    beer_2_reviews = get_beer_reviews(beer2, common_reviewers)\n",
      "    dists = []\n",
      "    for f in ALL_FEATURES:\n",
      "        dists.append(manhattan_distances(beer_1_reviews[f], beer_2_reviews[f])[0][0])\n",
      "    \n",
      "    return dists\n",
      "\n",
      "calculate_manhattan_similarity(beer_1, beer_2)"
     ],
     "language": "python",
     "metadata": {},
     "outputs": [
      {
       "metadata": {},
       "output_type": "pyout",
       "prompt_number": 24,
       "text": [
        "[292.0, 307.5, 272.5, 308.5]"
       ]
      }
     ],
     "prompt_number": 24
    },
    {
     "cell_type": "code",
     "collapsed": false,
     "input": [
      "simple_manhattan_distances = []\n",
      "for beer1 in beers:\n",
      "    print \"starting\", beer1\n",
      "    for beer2 in beers:\n",
      "        if beer1 != beer2:\n",
      "            row = [beer1, beer2] + calculate_manhattan_similarity(beer1, beer2)\n",
      "            simple_manhattan_distances.append(row)"
     ],
     "language": "python",
     "metadata": {},
     "outputs": [
      {
       "output_type": "stream",
       "stream": "stdout",
       "text": [
        "starting ! (Old Ale)\n",
        "starting"
       ]
      },
      {
       "output_type": "stream",
       "stream": "stdout",
       "text": [
        " \"100\"\n",
        "starting"
       ]
      },
      {
       "output_type": "stream",
       "stream": "stdout",
       "text": [
        " \"100\" Pale Ale\n",
        "starting"
       ]
      },
      {
       "output_type": "stream",
       "stream": "stdout",
       "text": [
        " \"12\"  Belgian Golden Strong Ale\n",
        "starting"
       ]
      },
      {
       "output_type": "stream",
       "stream": "stdout",
       "text": [
        " \"33\" Export\n",
        "starting"
       ]
      },
      {
       "output_type": "stream",
       "stream": "stdout",
       "text": [
        " \"4\" Horse Oatmeal Stout\n",
        "starting"
       ]
      },
      {
       "output_type": "stream",
       "stream": "stdout",
       "text": [
        " \"400\" Ale\n",
        "starting"
       ]
      },
      {
       "output_type": "stream",
       "stream": "stdout",
       "text": [
        " \"50\" Golden Anniversary Lager\n",
        "starting"
       ]
      },
      {
       "output_type": "stream",
       "stream": "stdout",
       "text": [
        " \"76\" Anniversary Ale\n",
        "starting"
       ]
      },
      {
       "output_type": "stream",
       "stream": "stdout",
       "text": [
        " \"76\" Anniversary Ale With English Hops\n",
        "starting"
       ]
      },
      {
       "output_type": "stream",
       "stream": "stdout",
       "text": [
        " \"Alt\"ered State\n",
        "starting"
       ]
      },
      {
       "output_type": "stream",
       "stream": "stdout",
       "text": [
        " \"Best Of Both Worlds\" Stout\n",
        "starting"
       ]
      },
      {
       "output_type": "stream",
       "stream": "stdout",
       "text": [
        " \"Cellar Reserve\" Triple Gold\n",
        "starting"
       ]
      },
      {
       "output_type": "stream",
       "stream": "stdout",
       "text": [
        " \"Certifiably\" Blonde Ale\n",
        "starting"
       ]
      },
      {
       "output_type": "stream",
       "stream": "stdout",
       "text": [
        " \"Check-Mate\" Cask Pilsner\n",
        "starting"
       ]
      },
      {
       "output_type": "stream",
       "stream": "stdout",
       "text": [
        " \"Double Wrecked Wreck\" IPA\n",
        "starting"
       ]
      },
      {
       "output_type": "stream",
       "stream": "stdout",
       "text": [
        " \"Fade To Black\" Porter\n",
        "starting"
       ]
      },
      {
       "output_type": "stream",
       "stream": "stdout",
       "text": [
        " \"Great Satchmo\" Stout\n",
        "starting"
       ]
      },
      {
       "output_type": "stream",
       "stream": "stdout",
       "text": [
        " \"Hop Obama\" Ale\n",
        "starting"
       ]
      },
      {
       "output_type": "stream",
       "stream": "stdout",
       "text": [
        " \"Jessica & Brendan's\" Bridal Ale\n",
        "starting"
       ]
      },
      {
       "output_type": "stream",
       "stream": "stdout",
       "text": [
        " \"Just One More\" Scotch Ale\n",
        "starting"
       ]
      },
      {
       "output_type": "stream",
       "stream": "stdout",
       "text": [
        " \"Little John's Myth\" Robust Porter\n",
        "starting"
       ]
      },
      {
       "output_type": "stream",
       "stream": "stdout",
       "text": [
        " \"M\"\n",
        "starting"
       ]
      },
      {
       "output_type": "stream",
       "stream": "stdout",
       "text": [
        " \"M\"-perial Stout\n",
        "starting"
       ]
      },
      {
       "output_type": "stream",
       "stream": "stdout",
       "text": [
        " \"Marnie\" Gras Carnival Ale\n",
        "starting"
       ]
      },
      {
       "output_type": "stream",
       "stream": "stdout",
       "text": [
        " \"Naughty Scot\" Scotch Ale\n",
        "starting"
       ]
      },
      {
       "output_type": "stream",
       "stream": "stdout",
       "text": [
        " \"Nein Toll Bier\" German Alt\n",
        "starting"
       ]
      },
      {
       "output_type": "stream",
       "stream": "stdout",
       "text": [
        " \"Not Guilty\" 1924 Deer Brand\n",
        "starting"
       ]
      },
      {
       "output_type": "stream",
       "stream": "stdout",
       "text": [
        " \"Not Your Bock\" Maibock\n",
        "starting"
       ]
      },
      {
       "output_type": "stream",
       "stream": "stdout",
       "text": [
        " \"O Smokey Night\"\n",
        "starting"
       ]
      },
      {
       "output_type": "stream",
       "stream": "stdout",
       "text": [
        " \"O!\" Gold\n",
        "starting"
       ]
      },
      {
       "output_type": "stream",
       "stream": "stdout",
       "text": [
        " \"Old School\" Craft Cream Ale\n",
        "starting"
       ]
      },
      {
       "output_type": "stream",
       "stream": "stdout",
       "text": [
        " \"Old Yeltsin\" Imperial Stout\n",
        "starting"
       ]
      },
      {
       "output_type": "stream",
       "stream": "stdout",
       "text": [
        " \"Requisite\" Imperialistic Stout\n",
        "starting"
       ]
      },
      {
       "output_type": "stream",
       "stream": "stdout",
       "text": [
        " \"See No Evil\" American Pale Ale\n",
        "starting"
       ]
      },
      {
       "output_type": "stream",
       "stream": "stdout",
       "text": [
        " \"Shabadoo\" Black & Tan Ale\n",
        "starting"
       ]
      },
      {
       "output_type": "stream",
       "stream": "stdout",
       "text": [
        " \"Six\" Belgian Style Table Beer\n",
        "starting"
       ]
      },
      {
       "output_type": "stream",
       "stream": "stdout",
       "text": [
        " \"Stout Stoat\" Stout\n",
        "starting"
       ]
      },
      {
       "output_type": "stream",
       "stream": "stdout",
       "text": [
        " \"Talk To Me\" IPA\n",
        "starting"
       ]
      },
      {
       "output_type": "stream",
       "stream": "stdout",
       "text": [
        " \"The Bridge\" Nut-Brown Ale\n",
        "starting"
       ]
      },
      {
       "output_type": "stream",
       "stream": "stdout",
       "text": [
        " \"The Buk\" Pale Ale\n",
        "starting"
       ]
      },
      {
       "output_type": "stream",
       "stream": "stdout",
       "text": [
        " \"The Camp\" Barleywine\n",
        "starting"
       ]
      },
      {
       "output_type": "stream",
       "stream": "stdout",
       "text": [
        " \"The Mountain\" Ale\n",
        "starting"
       ]
      },
      {
       "output_type": "stream",
       "stream": "stdout",
       "text": [
        " \"The Wind Cried Mari...\" Scottish Heather Ale\n",
        "starting"
       ]
      },
      {
       "output_type": "stream",
       "stream": "stdout",
       "text": [
        " \"They Made Me Do It\" Blueberry Ale\n",
        "starting"
       ]
      },
      {
       "output_type": "stream",
       "stream": "stdout",
       "text": [
        " \"Trouble\"\n",
        "starting"
       ]
      },
      {
       "output_type": "stream",
       "stream": "stdout",
       "text": [
        " \"True Blue\" Blueberry Ale\n",
        "starting"
       ]
      },
      {
       "output_type": "stream",
       "stream": "stdout",
       "text": [
        " \"Woosta\" Weizenbock\n",
        "starting"
       ]
      },
      {
       "output_type": "stream",
       "stream": "stdout",
       "text": [
        " # 100\n",
        "starting"
       ]
      },
      {
       "output_type": "stream",
       "stream": "stdout",
       "text": [
        " #'s Ale\n",
        "starting"
       ]
      },
      {
       "output_type": "stream",
       "stream": "stdout",
       "text": [
        " Dale's Pale Ale\n"
       ]
      }
     ],
     "prompt_number": 25
    },
    {
     "cell_type": "heading",
     "level": 2,
     "metadata": {},
     "source": [
      "Inspect the Results"
     ]
    },
    {
     "cell_type": "code",
     "collapsed": false,
     "input": [
      "cols = [\"beer1\", \"beer2\", \"overall_dist\", \"aroma_dist\", \"palate_dist\", \"taste_dist\"]\n",
      "simple_manhattan_distances = pd.DataFrame(simple_manhattan_distances, columns=cols)\n",
      "simple_manhattan_distances.tail()"
     ],
     "language": "python",
     "metadata": {},
     "outputs": [
      {
       "html": [
        "<div style=\"max-height:1000px;max-width:1500px;overflow:auto;\">\n",
        "<table border=\"1\" class=\"dataframe\">\n",
        "  <thead>\n",
        "    <tr style=\"text-align: right;\">\n",
        "      <th></th>\n",
        "      <th>beer1</th>\n",
        "      <th>beer2</th>\n",
        "      <th>overall_dist</th>\n",
        "      <th>aroma_dist</th>\n",
        "      <th>palate_dist</th>\n",
        "      <th>taste_dist</th>\n",
        "    </tr>\n",
        "  </thead>\n",
        "  <tbody>\n",
        "    <tr>\n",
        "      <th>2545</th>\n",
        "      <td> Dale's Pale Ale</td>\n",
        "      <td>                 \"Trouble\"</td>\n",
        "      <td>  0.5</td>\n",
        "      <td>  0.5</td>\n",
        "      <td>  0.0</td>\n",
        "      <td>  0.0</td>\n",
        "    </tr>\n",
        "    <tr>\n",
        "      <th>2546</th>\n",
        "      <td> Dale's Pale Ale</td>\n",
        "      <td> \"True Blue\" Blueberry Ale</td>\n",
        "      <td>  7.0</td>\n",
        "      <td>  5.0</td>\n",
        "      <td>  6.5</td>\n",
        "      <td>  7.0</td>\n",
        "    </tr>\n",
        "    <tr>\n",
        "      <th>2547</th>\n",
        "      <td> Dale's Pale Ale</td>\n",
        "      <td>       \"Woosta\" Weizenbock</td>\n",
        "      <td>  0.0</td>\n",
        "      <td>  0.0</td>\n",
        "      <td>  0.5</td>\n",
        "      <td>  0.0</td>\n",
        "    </tr>\n",
        "    <tr>\n",
        "      <th>2548</th>\n",
        "      <td> Dale's Pale Ale</td>\n",
        "      <td>                     # 100</td>\n",
        "      <td> 50.5</td>\n",
        "      <td> 34.0</td>\n",
        "      <td> 44.0</td>\n",
        "      <td> 40.0</td>\n",
        "    </tr>\n",
        "    <tr>\n",
        "      <th>2549</th>\n",
        "      <td> Dale's Pale Ale</td>\n",
        "      <td>                   #'s Ale</td>\n",
        "      <td> 10.5</td>\n",
        "      <td> 14.0</td>\n",
        "      <td>  9.0</td>\n",
        "      <td>  7.5</td>\n",
        "    </tr>\n",
        "  </tbody>\n",
        "</table>\n",
        "</div>"
       ],
       "metadata": {},
       "output_type": "pyout",
       "prompt_number": 26,
       "text": [
        "                beer1                      beer2  overall_dist  aroma_dist  \\\n",
        "2545  Dale's Pale Ale                  \"Trouble\"           0.5         0.5   \n",
        "2546  Dale's Pale Ale  \"True Blue\" Blueberry Ale           7.0         5.0   \n",
        "2547  Dale's Pale Ale        \"Woosta\" Weizenbock           0.0         0.0   \n",
        "2548  Dale's Pale Ale                      # 100          50.5        34.0   \n",
        "2549  Dale's Pale Ale                    #'s Ale          10.5        14.0   \n",
        "\n",
        "      palate_dist  taste_dist  \n",
        "2545          0.0         0.0  \n",
        "2546          6.5         7.0  \n",
        "2547          0.5         0.0  \n",
        "2548         44.0        40.0  \n",
        "2549          9.0         7.5  "
       ]
      }
     ],
     "prompt_number": 26
    },
    {
     "cell_type": "heading",
     "level": 2,
     "metadata": {},
     "source": [
      "Calculating COSINE SIMILARITY MEASURE"
     ]
    },
    {
     "cell_type": "code",
     "collapsed": false,
     "input": [
      "# choose your own way to calculate distance\n",
      "from sklearn.metrics.pairwise import euclidean_distances\n",
      "from sklearn.metrics.pairwise import manhattan_distances\n",
      "from sklearn.metrics.pairwise import cosine_similarity\n",
      "from scipy.stats.stats import pearsonr\n",
      "\n",
      "\n",
      "ALL_FEATURES = ['review_overall', 'review_aroma', 'review_palate', 'review_taste']\n",
      "def calculate_cosine_similarity(beer1, beer2):\n",
      "    # find common reviewers\n",
      "    beer_1_reviewers = df[df.beer_name==beer1].review_profilename.unique()\n",
      "    beer_2_reviewers = df[df.beer_name==beer2].review_profilename.unique()\n",
      "    common_reviewers = set(beer_1_reviewers).intersection(beer_2_reviewers)\n",
      "\n",
      "    # get reviews\n",
      "    beer_1_reviews = get_beer_reviews(beer1, common_reviewers)\n",
      "    beer_2_reviews = get_beer_reviews(beer2, common_reviewers)\n",
      "    dists = []\n",
      "    for f in ALL_FEATURES:\n",
      "        dists.append(cosine_similarity(beer_1_reviews[f], beer_2_reviews[f])[0][0])\n",
      "    \n",
      "    return dists\n",
      "\n",
      "calculate_cosine_similarity(beer_1, beer_2)"
     ],
     "language": "python",
     "metadata": {},
     "outputs": [
      {
       "metadata": {},
       "output_type": "pyout",
       "prompt_number": 27,
       "text": [
        "[0.98204120387151073,\n",
        " 0.98450173081582404,\n",
        " 0.98420966845155144,\n",
        " 0.98456043970839247]"
       ]
      }
     ],
     "prompt_number": 27
    },
    {
     "cell_type": "code",
     "collapsed": false,
     "input": [
      "simple_cosine_distances = []\n",
      "for beer1 in beers:\n",
      "    print \"starting\", beer1\n",
      "    for beer2 in beers:\n",
      "        if beer1 != beer2:\n",
      "            row = [beer1, beer2] + calculate_cosine_similarity(beer1, beer2)\n",
      "            simple_cosine_distances.append(row)"
     ],
     "language": "python",
     "metadata": {},
     "outputs": [
      {
       "output_type": "stream",
       "stream": "stdout",
       "text": [
        "starting ! (Old Ale)\n",
        "starting"
       ]
      },
      {
       "output_type": "stream",
       "stream": "stdout",
       "text": [
        " \"100\"\n",
        "starting"
       ]
      },
      {
       "output_type": "stream",
       "stream": "stdout",
       "text": [
        " \"100\" Pale Ale\n",
        "starting"
       ]
      },
      {
       "output_type": "stream",
       "stream": "stdout",
       "text": [
        " \"12\"  Belgian Golden Strong Ale\n",
        "starting"
       ]
      },
      {
       "output_type": "stream",
       "stream": "stdout",
       "text": [
        " \"33\" Export\n",
        "starting"
       ]
      },
      {
       "output_type": "stream",
       "stream": "stdout",
       "text": [
        " \"4\" Horse Oatmeal Stout\n",
        "starting"
       ]
      },
      {
       "output_type": "stream",
       "stream": "stdout",
       "text": [
        " \"400\" Ale\n",
        "starting"
       ]
      },
      {
       "output_type": "stream",
       "stream": "stdout",
       "text": [
        " \"50\" Golden Anniversary Lager\n",
        "starting"
       ]
      },
      {
       "output_type": "stream",
       "stream": "stdout",
       "text": [
        " \"76\" Anniversary Ale\n",
        "starting"
       ]
      },
      {
       "output_type": "stream",
       "stream": "stdout",
       "text": [
        " \"76\" Anniversary Ale With English Hops\n",
        "starting"
       ]
      },
      {
       "output_type": "stream",
       "stream": "stdout",
       "text": [
        " \"Alt\"ered State\n",
        "starting"
       ]
      },
      {
       "output_type": "stream",
       "stream": "stdout",
       "text": [
        " \"Best Of Both Worlds\" Stout\n",
        "starting"
       ]
      },
      {
       "output_type": "stream",
       "stream": "stdout",
       "text": [
        " \"Cellar Reserve\" Triple Gold\n",
        "starting"
       ]
      },
      {
       "output_type": "stream",
       "stream": "stdout",
       "text": [
        " \"Certifiably\" Blonde Ale\n",
        "starting"
       ]
      },
      {
       "output_type": "stream",
       "stream": "stdout",
       "text": [
        " \"Check-Mate\" Cask Pilsner\n",
        "starting"
       ]
      },
      {
       "output_type": "stream",
       "stream": "stdout",
       "text": [
        " \"Double Wrecked Wreck\" IPA\n",
        "starting"
       ]
      },
      {
       "output_type": "stream",
       "stream": "stdout",
       "text": [
        " \"Fade To Black\" Porter\n",
        "starting"
       ]
      },
      {
       "output_type": "stream",
       "stream": "stdout",
       "text": [
        " \"Great Satchmo\" Stout\n",
        "starting"
       ]
      },
      {
       "output_type": "stream",
       "stream": "stdout",
       "text": [
        " \"Hop Obama\" Ale\n",
        "starting"
       ]
      },
      {
       "output_type": "stream",
       "stream": "stdout",
       "text": [
        " \"Jessica & Brendan's\" Bridal Ale\n",
        "starting"
       ]
      },
      {
       "output_type": "stream",
       "stream": "stdout",
       "text": [
        " \"Just One More\" Scotch Ale\n",
        "starting"
       ]
      },
      {
       "output_type": "stream",
       "stream": "stdout",
       "text": [
        " \"Little John's Myth\" Robust Porter\n",
        "starting"
       ]
      },
      {
       "output_type": "stream",
       "stream": "stdout",
       "text": [
        " \"M\"\n",
        "starting"
       ]
      },
      {
       "output_type": "stream",
       "stream": "stdout",
       "text": [
        " \"M\"-perial Stout\n",
        "starting"
       ]
      },
      {
       "output_type": "stream",
       "stream": "stdout",
       "text": [
        " \"Marnie\" Gras Carnival Ale\n",
        "starting"
       ]
      },
      {
       "output_type": "stream",
       "stream": "stdout",
       "text": [
        " \"Naughty Scot\" Scotch Ale\n",
        "starting"
       ]
      },
      {
       "output_type": "stream",
       "stream": "stdout",
       "text": [
        " \"Nein Toll Bier\" German Alt\n",
        "starting"
       ]
      },
      {
       "output_type": "stream",
       "stream": "stdout",
       "text": [
        " \"Not Guilty\" 1924 Deer Brand\n",
        "starting"
       ]
      },
      {
       "output_type": "stream",
       "stream": "stdout",
       "text": [
        " \"Not Your Bock\" Maibock\n",
        "starting"
       ]
      },
      {
       "output_type": "stream",
       "stream": "stdout",
       "text": [
        " \"O Smokey Night\"\n",
        "starting"
       ]
      },
      {
       "output_type": "stream",
       "stream": "stdout",
       "text": [
        " \"O!\" Gold\n",
        "starting"
       ]
      },
      {
       "output_type": "stream",
       "stream": "stdout",
       "text": [
        " \"Old School\" Craft Cream Ale\n",
        "starting"
       ]
      },
      {
       "output_type": "stream",
       "stream": "stdout",
       "text": [
        " \"Old Yeltsin\" Imperial Stout\n",
        "starting"
       ]
      },
      {
       "output_type": "stream",
       "stream": "stdout",
       "text": [
        " \"Requisite\" Imperialistic Stout\n",
        "starting"
       ]
      },
      {
       "output_type": "stream",
       "stream": "stdout",
       "text": [
        " \"See No Evil\" American Pale Ale\n",
        "starting"
       ]
      },
      {
       "output_type": "stream",
       "stream": "stdout",
       "text": [
        " \"Shabadoo\" Black & Tan Ale\n",
        "starting"
       ]
      },
      {
       "output_type": "stream",
       "stream": "stdout",
       "text": [
        " \"Six\" Belgian Style Table Beer\n",
        "starting"
       ]
      },
      {
       "output_type": "stream",
       "stream": "stdout",
       "text": [
        " \"Stout Stoat\" Stout\n",
        "starting"
       ]
      },
      {
       "output_type": "stream",
       "stream": "stdout",
       "text": [
        " \"Talk To Me\" IPA\n",
        "starting"
       ]
      },
      {
       "output_type": "stream",
       "stream": "stdout",
       "text": [
        " \"The Bridge\" Nut-Brown Ale\n",
        "starting"
       ]
      },
      {
       "output_type": "stream",
       "stream": "stdout",
       "text": [
        " \"The Buk\" Pale Ale\n",
        "starting"
       ]
      },
      {
       "output_type": "stream",
       "stream": "stdout",
       "text": [
        " \"The Camp\" Barleywine\n",
        "starting"
       ]
      },
      {
       "output_type": "stream",
       "stream": "stdout",
       "text": [
        " \"The Mountain\" Ale\n",
        "starting"
       ]
      },
      {
       "output_type": "stream",
       "stream": "stdout",
       "text": [
        " \"The Wind Cried Mari...\" Scottish Heather Ale\n",
        "starting"
       ]
      },
      {
       "output_type": "stream",
       "stream": "stdout",
       "text": [
        " \"They Made Me Do It\" Blueberry Ale\n",
        "starting"
       ]
      },
      {
       "output_type": "stream",
       "stream": "stdout",
       "text": [
        " \"Trouble\"\n",
        "starting"
       ]
      },
      {
       "output_type": "stream",
       "stream": "stdout",
       "text": [
        " \"True Blue\" Blueberry Ale\n",
        "starting"
       ]
      },
      {
       "output_type": "stream",
       "stream": "stdout",
       "text": [
        " \"Woosta\" Weizenbock\n",
        "starting"
       ]
      },
      {
       "output_type": "stream",
       "stream": "stdout",
       "text": [
        " # 100\n",
        "starting"
       ]
      },
      {
       "output_type": "stream",
       "stream": "stdout",
       "text": [
        " #'s Ale\n",
        "starting"
       ]
      },
      {
       "output_type": "stream",
       "stream": "stdout",
       "text": [
        " Dale's Pale Ale\n"
       ]
      }
     ],
     "prompt_number": 28
    },
    {
     "cell_type": "heading",
     "level": 2,
     "metadata": {},
     "source": [
      "Inspect the Results"
     ]
    },
    {
     "cell_type": "code",
     "collapsed": false,
     "input": [
      "#print simple_cosine_distances\n",
      "cols = [\"beer1\", \"beer2\", \"overall_dist\", \"aroma_dist\", \"palate_dist\", \"taste_dist\"]\n",
      "simple_cosine_distances = pd.DataFrame(simple_cosine_distances, columns=cols)\n",
      "simple_cosine_distances.tail()"
     ],
     "language": "python",
     "metadata": {},
     "outputs": [
      {
       "output_type": "stream",
       "stream": "stdout",
       "text": [
        "[['! (Old Ale)', '\"100\"', 0.0, 0.0, 0.0, 0.0], ['! (Old Ale)', '\"100\" Pale Ale', 0.0, 0.0, 0.0, 0.0], ['! (Old Ale)', '\"12\"  Belgian Golden Strong Ale', 0.0, 0.0, 0.0, 0.0], ['! (Old Ale)', '\"33\" Export', 0.0, 0.0, 0.0, 0.0], ['! (Old Ale)', '\"4\" Horse Oatmeal Stout', 0.0, 0.0, 0.0, 0.0], ['! (Old Ale)', '\"400\" Ale', 0.0, 0.0, 0.0, 0.0], ['! (Old Ale)', '\"50\" Golden Anniversary Lager', 0.0, 0.0, 0.0, 0.0], ['! (Old Ale)', '\"76\" Anniversary Ale', 0.0, 0.0, 0.0, 0.0], ['! (Old Ale)', '\"76\" Anniversary Ale With English Hops', 0.0, 0.0, 0.0, 0.0], ['! (Old Ale)', '\"Alt\"ered State', 0.0, 0.0, 0.0, 0.0], ['! (Old Ale)', '\"Best Of Both Worlds\" Stout', 0.0, 0.0, 0.0, 0.0], ['! (Old Ale)', '\"Cellar Reserve\" Triple Gold', 0.0, 0.0, 0.0, 0.0], ['! (Old Ale)', '\"Certifiably\" Blonde Ale', 0.0, 0.0, 0.0, 0.0], ['! (Old Ale)', '\"Check-Mate\" Cask Pilsner', 0.0, 0.0, 0.0, 0.0], ['! (Old Ale)', '\"Double Wrecked Wreck\" IPA', 0.0, 0.0, 0.0, 0.0], ['! (Old Ale)', '\"Fade To Black\" Porter', 0.0, 0.0, 0.0, 0.0], ['! (Old Ale)', '\"Great Satchmo\" Stout', 0.0, 0.0, 0.0, 0.0], ['! (Old Ale)', '\"Hop Obama\" Ale', 0.0, 0.0, 0.0, 0.0], ['! (Old Ale)', '\"Jessica & Brendan\\'s\" Bridal Ale', 0.0, 0.0, 0.0, 0.0], ['! (Old Ale)', '\"Just One More\" Scotch Ale', 0.0, 0.0, 0.0, 0.0], ['! (Old Ale)', '\"Little John\\'s Myth\" Robust Porter', 0.0, 0.0, 0.0, 0.0], ['! (Old Ale)', '\"M\"', 0.0, 0.0, 0.0, 0.0], ['! (Old Ale)', '\"M\"-perial Stout', 0.0, 0.0, 0.0, 0.0], ['! (Old Ale)', '\"Marnie\" Gras Carnival Ale', 0.0, 0.0, 0.0, 0.0], ['! (Old Ale)', '\"Naughty Scot\" Scotch Ale', 0.0, 0.0, 0.0, 0.0], ['! (Old Ale)', '\"Nein Toll Bier\" German Alt', 0.0, 0.0, 0.0, 0.0], ['! (Old Ale)', '\"Not Guilty\" 1924 Deer Brand', 0.0, 0.0, 0.0, 0.0], ['! (Old Ale)', '\"Not Your Bock\" Maibock', 0.0, 0.0, 0.0, 0.0], ['! (Old Ale)', '\"O Smokey Night\"', 0.0, 0.0, 0.0, 0.0], ['! (Old Ale)', '\"O!\" Gold', 0.0, 0.0, 0.0, 0.0], ['! (Old Ale)', '\"Old School\" Craft Cream Ale', 0.0, 0.0, 0.0, 0.0], ['! (Old Ale)', '\"Old Yeltsin\" Imperial Stout', 0.0, 0.0, 0.0, 0.0], ['! (Old Ale)', '\"Requisite\" Imperialistic Stout', 0.0, 0.0, 0.0, 0.0], ['! (Old Ale)', '\"See No Evil\" American Pale Ale', 0.0, 0.0, 0.0, 0.0], ['! (Old Ale)', '\"Shabadoo\" Black & Tan Ale', 0.0, 0.0, 0.0, 0.0], ['! (Old Ale)', '\"Six\" Belgian Style Table Beer', 0.0, 0.0, 0.0, 0.0], ['! (Old Ale)', '\"Stout Stoat\" Stout', 0.0, 0.0, 0.0, 0.0], ['! (Old Ale)', '\"Talk To Me\" IPA', 0.0, 0.0, 0.0, 0.0], ['! (Old Ale)', '\"The Bridge\" Nut-Brown Ale', 0.0, 0.0, 0.0, 0.0], ['! (Old Ale)', '\"The Buk\" Pale Ale', 0.0, 0.0, 0.0, 0.0], ['! (Old Ale)', '\"The Camp\" Barleywine', 0.0, 0.0, 0.0, 0.0], ['! (Old Ale)', '\"The Mountain\" Ale', 0.0, 0.0, 0.0, 0.0], ['! (Old Ale)', '\"The Wind Cried Mari...\" Scottish Heather Ale', 0.0, 0.0, 0.0, 0.0], ['! (Old Ale)', '\"They Made Me Do It\" Blueberry Ale', 0.0, 0.0, 0.0, 0.0], ['! (Old Ale)', '\"Trouble\"', 0.0, 0.0, 0.0, 0.0], ['! (Old Ale)', '\"True Blue\" Blueberry Ale', 0.0, 0.0, 0.0, 0.0], ['! (Old Ale)', '\"Woosta\" Weizenbock', 0.0, 0.0, 0.0, 0.0], ['! (Old Ale)', '# 100', 1.0, 1.0, 1.0, 1.0], ['! (Old Ale)', \"#'s Ale\", 0.0, 0.0, 0.0, 0.0], ['! (Old Ale)', \"Dale's Pale Ale\", 1.0, 1.0, 1.0, 1.0], ['\"100\"', '! (Old Ale)', 0.0, 0.0, 0.0, 0.0], ['\"100\"', '\"100\" Pale Ale', 0.0, 0.0, 0.0, 0.0], ['\"100\"', '\"12\"  Belgian Golden Strong Ale', 0.0, 0.0, 0.0, 0.0], ['\"100\"', '\"33\" Export', 0.0, 0.0, 0.0, 0.0], ['\"100\"', '\"4\" Horse Oatmeal Stout', 0.0, 0.0, 0.0, 0.0], ['\"100\"', '\"400\" Ale', 0.0, 0.0, 0.0, 0.0], ['\"100\"', '\"50\" Golden Anniversary Lager', 0.0, 0.0, 0.0, 0.0], ['\"100\"', '\"76\" Anniversary Ale', 0.0, 0.0, 0.0, 0.0], ['\"100\"', '\"76\" Anniversary Ale With English Hops', 0.0, 0.0, 0.0, 0.0], ['\"100\"', '\"Alt\"ered State', 0.0, 0.0, 0.0, 0.0], ['\"100\"', '\"Best Of Both Worlds\" Stout', 0.0, 0.0, 0.0, 0.0], ['\"100\"', '\"Cellar Reserve\" Triple Gold', 0.0, 0.0, 0.0, 0.0], ['\"100\"', '\"Certifiably\" Blonde Ale', 0.0, 0.0, 0.0, 0.0], ['\"100\"', '\"Check-Mate\" Cask Pilsner', 0.0, 0.0, 0.0, 0.0], ['\"100\"', '\"Double Wrecked Wreck\" IPA', 0.0, 0.0, 0.0, 0.0], ['\"100\"', '\"Fade To Black\" Porter', 0.0, 0.0, 0.0, 0.0], ['\"100\"', '\"Great Satchmo\" Stout', 0.0, 0.0, 0.0, 0.0], ['\"100\"', '\"Hop Obama\" Ale', 0.0, 0.0, 0.0, 0.0], ['\"100\"', '\"Jessica & Brendan\\'s\" Bridal Ale', 0.0, 0.0, 0.0, 0.0], ['\"100\"', '\"Just One More\" Scotch Ale', 0.0, 0.0, 0.0, 0.0], ['\"100\"', '\"Little John\\'s Myth\" Robust Porter', 0.0, 0.0, 0.0, 0.0], ['\"100\"', '\"M\"', 0.0, 0.0, 0.0, 0.0], ['\"100\"', '\"M\"-perial Stout', 0.0, 0.0, 0.0, 0.0], ['\"100\"', '\"Marnie\" Gras Carnival Ale', 0.0, 0.0, 0.0, 0.0], ['\"100\"', '\"Naughty Scot\" Scotch Ale', 0.0, 0.0, 0.0, 0.0], ['\"100\"', '\"Nein Toll Bier\" German Alt', 0.0, 0.0, 0.0, 0.0], ['\"100\"', '\"Not Guilty\" 1924 Deer Brand', 0.0, 0.0, 0.0, 0.0], ['\"100\"', '\"Not Your Bock\" Maibock', 0.0, 0.0, 0.0, 0.0], ['\"100\"', '\"O Smokey Night\"', 0.0, 0.0, 0.0, 0.0], ['\"100\"', '\"O!\" Gold', 0.0, 0.0, 0.0, 0.0], ['\"100\"', '\"Old School\" Craft Cream Ale', 0.0, 0.0, 0.0, 0.0], ['\"100\"', '\"Old Yeltsin\" Imperial Stout', 1.0, 1.0, 1.0, 1.0], ['\"100\"', '\"Requisite\" Imperialistic Stout', 0.0, 0.0, 0.0, 0.0], ['\"100\"', '\"See No Evil\" American Pale Ale', 0.0, 0.0, 0.0, 0.0], ['\"100\"', '\"Shabadoo\" Black & Tan Ale', 0.0, 0.0, 0.0, 0.0], ['\"100\"', '\"Six\" Belgian Style Table Beer', 0.0, 0.0, 0.0, 0.0], ['\"100\"', '\"Stout Stoat\" Stout', 0.0, 0.0, 0.0, 0.0], ['\"100\"', '\"Talk To Me\" IPA', 0.0, 0.0, 0.0, 0.0], ['\"100\"', '\"The Bridge\" Nut-Brown Ale', 0.0, 0.0, 0.0, 0.0], ['\"100\"', '\"The Buk\" Pale Ale', 0.0, 0.0, 0.0, 0.0], ['\"100\"', '\"The Camp\" Barleywine', 0.0, 0.0, 0.0, 0.0], ['\"100\"', '\"The Mountain\" Ale', 0.0, 0.0, 0.0, 0.0], ['\"100\"', '\"The Wind Cried Mari...\" Scottish Heather Ale', 0.0, 0.0, 0.0, 0.0], ['\"100\"', '\"They Made Me Do It\" Blueberry Ale', 0.0, 0.0, 0.0, 0.0], ['\"100\"', '\"Trouble\"', 0.0, 0.0, 0.0, 0.0], ['\"100\"', '\"True Blue\" Blueberry Ale', 0.0, 0.0, 0.0, 0.0], ['\"100\"', '\"Woosta\" Weizenbock', 0.0, 0.0, 0.0, 0.0], ['\"100\"', '# 100', 1.0, 1.0, 1.0, 1.0], ['\"100\"', \"#'s Ale\", 1.0, 1.0, 1.0, 1.0], ['\"100\"', \"Dale's Pale Ale\", 0.99366079189645551, 0.99336361922143168, 0.99435028248587587, 1.0], ['\"100\" Pale Ale', '! (Old Ale)', 0.0, 0.0, 0.0, 0.0], ['\"100\" Pale Ale', '\"100\"', 0.0, 0.0, 0.0, 0.0], ['\"100\" Pale Ale', '\"12\"  Belgian Golden Strong Ale', 0.0, 0.0, 0.0, 0.0], ['\"100\" Pale Ale', '\"33\" Export', 0.0, 0.0, 0.0, 0.0], ['\"100\" Pale Ale', '\"4\" Horse Oatmeal Stout', 0.0, 0.0, 0.0, 0.0], ['\"100\" Pale Ale', '\"400\" Ale', 0.0, 0.0, 0.0, 0.0], ['\"100\" Pale Ale', '\"50\" Golden Anniversary Lager', 0.0, 0.0, 0.0, 0.0], ['\"100\" Pale Ale', '\"76\" Anniversary Ale', 0.0, 0.0, 0.0, 0.0], ['\"100\" Pale Ale', '\"76\" Anniversary Ale With English Hops', 0.0, 0.0, 0.0, 0.0], ['\"100\" Pale Ale', '\"Alt\"ered State', 0.0, 0.0, 0.0, 0.0], ['\"100\" Pale Ale', '\"Best Of Both Worlds\" Stout', 0.0, 0.0, 0.0, 0.0], ['\"100\" Pale Ale', '\"Cellar Reserve\" Triple Gold', 0.0, 0.0, 0.0, 0.0], ['\"100\" Pale Ale', '\"Certifiably\" Blonde Ale', 0.0, 0.0, 0.0, 0.0], ['\"100\" Pale Ale', '\"Check-Mate\" Cask Pilsner', 0.0, 0.0, 0.0, 0.0], ['\"100\" Pale Ale', '\"Double Wrecked Wreck\" IPA', 0.0, 0.0, 0.0, 0.0], ['\"100\" Pale Ale', '\"Fade To Black\" Porter', 0.0, 0.0, 0.0, 0.0], ['\"100\" Pale Ale', '\"Great Satchmo\" Stout', 0.0, 0.0, 0.0, 0.0], ['\"100\" Pale Ale', '\"Hop Obama\" Ale', 0.0, 0.0, 0.0, 0.0], ['\"100\" Pale Ale', '\"Jessica & Brendan\\'s\" Bridal Ale', 0.0, 0.0, 0.0, 0.0], ['\"100\" Pale Ale', '\"Just One More\" Scotch Ale', 0.0, 0.0, 0.0, 0.0], ['\"100\" Pale Ale', '\"Little John\\'s Myth\" Robust Porter', 0.0, 0.0, 0.0, 0.0], ['\"100\" Pale Ale', '\"M\"', 0.0, 0.0, 0.0, 0.0], ['\"100\" Pale Ale', '\"M\"-perial Stout', 0.0, 0.0, 0.0, 0.0], ['\"100\" Pale Ale', '\"Marnie\" Gras Carnival Ale', 0.0, 0.0, 0.0, 0.0], ['\"100\" Pale Ale', '\"Naughty Scot\" Scotch Ale', 0.0, 0.0, 0.0, 0.0], ['\"100\" Pale Ale', '\"Nein Toll Bier\" German Alt', 0.0, 0.0, 0.0, 0.0], ['\"100\" Pale Ale', '\"Not Guilty\" 1924 Deer Brand', 0.0, 0.0, 0.0, 0.0], ['\"100\" Pale Ale', '\"Not Your Bock\" Maibock', 0.0, 0.0, 0.0, 0.0], ['\"100\" Pale Ale', '\"O Smokey Night\"', 0.0, 0.0, 0.0, 0.0], ['\"100\" Pale Ale', '\"O!\" Gold', 0.0, 0.0, 0.0, 0.0], ['\"100\" Pale Ale', '\"Old School\" Craft Cream Ale', 0.0, 0.0, 0.0, 0.0], ['\"100\" Pale Ale', '\"Old Yeltsin\" Imperial Stout', 0.0, 0.0, 0.0, 0.0], ['\"100\" Pale Ale', '\"Requisite\" Imperialistic Stout', 0.0, 0.0, 0.0, 0.0], ['\"100\" Pale Ale', '\"See No Evil\" American Pale Ale', 0.0, 0.0, 0.0, 0.0], ['\"100\" Pale Ale', '\"Shabadoo\" Black & Tan Ale', 0.0, 0.0, 0.0, 0.0], ['\"100\" Pale Ale', '\"Six\" Belgian Style Table Beer', 0.0, 0.0, 0.0, 0.0], ['\"100\" Pale Ale', '\"Stout Stoat\" Stout', 0.0, 0.0, 0.0, 0.0], ['\"100\" Pale Ale', '\"Talk To Me\" IPA', 0.0, 0.0, 0.0, 0.0], ['\"100\" Pale Ale', '\"The Bridge\" Nut-Brown Ale', 0.0, 0.0, 0.0, 0.0], ['\"100\" Pale Ale', '\"The Buk\" Pale Ale', 0.0, 0.0, 0.0, 0.0], ['\"100\" Pale Ale', '\"The Camp\" Barleywine', 0.0, 0.0, 0.0, 0.0], ['\"100\" Pale Ale', '\"The Mountain\" Ale', 0.0, 0.0, 0.0, 0.0], ['\"100\" Pale Ale', '\"The Wind Cried Mari...\" Scottish Heather Ale', 0.0, 0.0, 0.0, 0.0], ['\"100\" Pale Ale', '\"They Made Me Do It\" Blueberry Ale', 0.0, 0.0, 0.0, 0.0], ['\"100\" Pale Ale', '\"Trouble\"', 0.0, 0.0, 0.0, 0.0], ['\"100\" Pale Ale', '\"True Blue\" Blueberry Ale', 0.0, 0.0, 0.0, 0.0], ['\"100\" Pale Ale', '\"Woosta\" Weizenbock', 0.0, 0.0, 0.0, 0.0], ['\"100\" Pale Ale', '# 100', 0.0, 0.0, 0.0, 0.0], ['\"100\" Pale Ale', \"#'s Ale\", 0.0, 0.0, 0.0, 0.0], ['\"100\" Pale Ale', \"Dale's Pale Ale\", 1.0, 1.0, 1.0, 1.0], ['\"12\"  Belgian Golden Strong Ale', '! (Old Ale)', 0.0, 0.0, 0.0, 0.0], ['\"12\"  Belgian Golden Strong Ale', '\"100\"', 0.0, 0.0, 0.0, 0.0], ['\"12\"  Belgian Golden Strong Ale', '\"100\" Pale Ale', 0.0, 0.0, 0.0, 0.0], ['\"12\"  Belgian Golden Strong Ale', '\"33\" Export', 0.0, 0.0, 0.0, 0.0], ['\"12\"  Belgian Golden Strong Ale', '\"4\" Horse Oatmeal Stout', 0.0, 0.0, 0.0, 0.0], ['\"12\"  Belgian Golden Strong Ale', '\"400\" Ale', 0.0, 0.0, 0.0, 0.0], ['\"12\"  Belgian Golden Strong Ale', '\"50\" Golden Anniversary Lager', 0.0, 0.0, 0.0, 0.0], ['\"12\"  Belgian Golden Strong Ale', '\"76\" Anniversary Ale', 0.0, 0.0, 0.0, 0.0], ['\"12\"  Belgian Golden Strong Ale', '\"76\" Anniversary Ale With English Hops', 0.0, 0.0, 0.0, 0.0], ['\"12\"  Belgian Golden Strong Ale', '\"Alt\"ered State', 0.0, 0.0, 0.0, 0.0], ['\"12\"  Belgian Golden Strong Ale', '\"Best Of Both Worlds\" Stout', 0.0, 0.0, 0.0, 0.0], ['\"12\"  Belgian Golden Strong Ale', '\"Cellar Reserve\" Triple Gold', 0.0, 0.0, 0.0, 0.0], ['\"12\"  Belgian Golden Strong Ale', '\"Certifiably\" Blonde Ale', 0.0, 0.0, 0.0, 0.0], ['\"12\"  Belgian Golden Strong Ale', '\"Check-Mate\" Cask Pilsner', 0.0, 0.0, 0.0, 0.0], ['\"12\"  Belgian Golden Strong Ale', '\"Double Wrecked Wreck\" IPA', 0.0, 0.0, 0.0, 0.0], ['\"12\"  Belgian Golden Strong Ale', '\"Fade To Black\" Porter', 0.0, 0.0, 0.0, 0.0], ['\"12\"  Belgian Golden Strong Ale', '\"Great Satchmo\" Stout', 0.0, 0.0, 0.0, 0.0], ['\"12\"  Belgian Golden Strong Ale', '\"Hop Obama\" Ale', 0.0, 0.0, 0.0, 0.0], ['\"12\"  Belgian Golden Strong Ale', '\"Jessica & Brendan\\'s\" Bridal Ale', 0.0, 0.0, 0.0, 0.0], ['\"12\"  Belgian Golden Strong Ale', '\"Just One More\" Scotch Ale', 0.0, 0.0, 0.0, 0.0], ['\"12\"  Belgian Golden Strong Ale', '\"Little John\\'s Myth\" Robust Porter', 0.0, 0.0, 0.0, 0.0], ['\"12\"  Belgian Golden Strong Ale', '\"M\"', 0.0, 0.0, 0.0, 0.0], ['\"12\"  Belgian Golden Strong Ale', '\"M\"-perial Stout', 0.0, 0.0, 0.0, 0.0], ['\"12\"  Belgian Golden Strong Ale', '\"Marnie\" Gras Carnival Ale', 0.0, 0.0, 0.0, 0.0], ['\"12\"  Belgian Golden Strong Ale', '\"Naughty Scot\" Scotch Ale', 0.0, 0.0, 0.0, 0.0], ['\"12\"  Belgian Golden Strong Ale', '\"Nein Toll Bier\" German Alt', 0.0, 0.0, 0.0, 0.0], ['\"12\"  Belgian Golden Strong Ale', '\"Not Guilty\" 1924 Deer Brand', 0.0, 0.0, 0.0, 0.0], ['\"12\"  Belgian Golden Strong Ale', '\"Not Your Bock\" Maibock', 0.0, 0.0, 0.0, 0.0], ['\"12\"  Belgian Golden Strong Ale', '\"O Smokey Night\"', 0.0, 0.0, 0.0, 0.0], ['\"12\"  Belgian Golden Strong Ale', '\"O!\" Gold', 0.0, 0.0, 0.0, 0.0], ['\"12\"  Belgian Golden Strong Ale', '\"Old School\" Craft Cream Ale', 0.0, 0.0, 0.0, 0.0], ['\"12\"  Belgian Golden Strong Ale', '\"Old Yeltsin\" Imperial Stout', 0.0, 0.0, 0.0, 0.0], ['\"12\"  Belgian Golden Strong Ale', '\"Requisite\" Imperialistic Stout', 0.0, 0.0, 0.0, 0.0], ['\"12\"  Belgian Golden Strong Ale', '\"See No Evil\" American Pale Ale', 0.0, 0.0, 0.0, 0.0], ['\"12\"  Belgian Golden Strong Ale', '\"Shabadoo\" Black & Tan Ale', 0.0, 0.0, 0.0, 0.0], ['\"12\"  Belgian Golden Strong Ale', '\"Six\" Belgian Style Table Beer', 0.0, 0.0, 0.0, 0.0], ['\"12\"  Belgian Golden Strong Ale', '\"Stout Stoat\" Stout', 0.0, 0.0, 0.0, 0.0], ['\"12\"  Belgian Golden Strong Ale', '\"Talk To Me\" IPA', 0.0, 0.0, 0.0, 0.0], ['\"12\"  Belgian Golden Strong Ale', '\"The Bridge\" Nut-Brown Ale', 0.0, 0.0, 0.0, 0.0], ['\"12\"  Belgian Golden Strong Ale', '\"The Buk\" Pale Ale', 0.0, 0.0, 0.0, 0.0], ['\"12\"  Belgian Golden Strong Ale', '\"The Camp\" Barleywine', 0.0, 0.0, 0.0, 0.0], ['\"12\"  Belgian Golden Strong Ale', '\"The Mountain\" Ale', 0.0, 0.0, 0.0, 0.0], ['\"12\"  Belgian Golden Strong Ale', '\"The Wind Cried Mari...\" Scottish Heather Ale', 0.0, 0.0, 0.0, 0.0], ['\"12\"  Belgian Golden Strong Ale', '\"They Made Me Do It\" Blueberry Ale', 0.0, 0.0, 0.0, 0.0], ['\"12\"  Belgian Golden Strong Ale', '\"Trouble\"', 0.0, 0.0, 0.0, 0.0], ['\"12\"  Belgian Golden Strong Ale', '\"True Blue\" Blueberry Ale', 0.0, 0.0, 0.0, 0.0], ['\"12\"  Belgian Golden Strong Ale', '\"Woosta\" Weizenbock', 0.0, 0.0, 0.0, 0.0], ['\"12\"  Belgian Golden Strong Ale', '# 100', 0.0, 0.0, 0.0, 0.0], ['\"12\"  Belgian Golden Strong Ale', \"#'s Ale\", 0.0, 0.0, 0.0, 0.0], ['\"12\"  Belgian Golden Strong Ale', \"Dale's Pale Ale\", 1.0, 1.0, 1.0, 1.0], ['\"33\" Export', '! (Old Ale)', 0.0, 0.0, 0.0, 0.0], ['\"33\" Export', '\"100\"', 0.0, 0.0, 0.0, 0.0], ['\"33\" Export', '\"100\" Pale Ale', 0.0, 0.0, 0.0, 0.0], ['\"33\" Export', '\"12\"  Belgian Golden Strong Ale', 0.0, 0.0, 0.0, 0.0], ['\"33\" Export', '\"4\" Horse Oatmeal Stout', 0.0, 0.0, 0.0, 0.0], ['\"33\" Export', '\"400\" Ale', 0.0, 0.0, 0.0, 0.0], ['\"33\" Export', '\"50\" Golden Anniversary Lager', 0.0, 0.0, 0.0, 0.0], ['\"33\" Export', '\"76\" Anniversary Ale', 0.0, 0.0, 0.0, 0.0], ['\"33\" Export', '\"76\" Anniversary Ale With English Hops', 0.0, 0.0, 0.0, 0.0], ['\"33\" Export', '\"Alt\"ered State', 0.0, 0.0, 0.0, 0.0], ['\"33\" Export', '\"Best Of Both Worlds\" Stout', 0.0, 0.0, 0.0, 0.0], ['\"33\" Export', '\"Cellar Reserve\" Triple Gold', 0.0, 0.0, 0.0, 0.0], ['\"33\" Export', '\"Certifiably\" Blonde Ale', 0.0, 0.0, 0.0, 0.0], ['\"33\" Export', '\"Check-Mate\" Cask Pilsner', 0.0, 0.0, 0.0, 0.0], ['\"33\" Export', '\"Double Wrecked Wreck\" IPA', 0.0, 0.0, 0.0, 0.0], ['\"33\" Export', '\"Fade To Black\" Porter', 0.0, 0.0, 0.0, 0.0], ['\"33\" Export', '\"Great Satchmo\" Stout', 0.0, 0.0, 0.0, 0.0], ['\"33\" Export', '\"Hop Obama\" Ale', 0.0, 0.0, 0.0, 0.0], ['\"33\" Export', '\"Jessica & Brendan\\'s\" Bridal Ale', 0.0, 0.0, 0.0, 0.0], ['\"33\" Export', '\"Just One More\" Scotch Ale', 0.0, 0.0, 0.0, 0.0], ['\"33\" Export', '\"Little John\\'s Myth\" Robust Porter', 0.0, 0.0, 0.0, 0.0], ['\"33\" Export', '\"M\"', 0.0, 0.0, 0.0, 0.0], ['\"33\" Export', '\"M\"-perial Stout', 0.0, 0.0, 0.0, 0.0], ['\"33\" Export', '\"Marnie\" Gras Carnival Ale', 0.0, 0.0, 0.0, 0.0], ['\"33\" Export', '\"Naughty Scot\" Scotch Ale', 0.0, 0.0, 0.0, 0.0], ['\"33\" Export', '\"Nein Toll Bier\" German Alt', 0.0, 0.0, 0.0, 0.0], ['\"33\" Export', '\"Not Guilty\" 1924 Deer Brand', 0.0, 0.0, 0.0, 0.0], ['\"33\" Export', '\"Not Your Bock\" Maibock', 0.0, 0.0, 0.0, 0.0], ['\"33\" Export', '\"O Smokey Night\"', 0.0, 0.0, 0.0, 0.0], ['\"33\" Export', '\"O!\" Gold', 0.0, 0.0, 0.0, 0.0], ['\"33\" Export', '\"Old School\" Craft Cream Ale', 0.0, 0.0, 0.0, 0.0], ['\"33\" Export', '\"Old Yeltsin\" Imperial Stout', 0.0, 0.0, 0.0, 0.0], ['\"33\" Export', '\"Requisite\" Imperialistic Stout', 0.0, 0.0, 0.0, 0.0], ['\"33\" Export', '\"See No Evil\" American Pale Ale', 0.0, 0.0, 0.0, 0.0], ['\"33\" Export', '\"Shabadoo\" Black & Tan Ale', 0.0, 0.0, 0.0, 0.0], ['\"33\" Export', '\"Six\" Belgian Style Table Beer', 0.0, 0.0, 0.0, 0.0], ['\"33\" Export', '\"Stout Stoat\" Stout', 0.0, 0.0, 0.0, 0.0], ['\"33\" Export', '\"Talk To Me\" IPA', 0.0, 0.0, 0.0, 0.0], ['\"33\" Export', '\"The Bridge\" Nut-Brown Ale', 0.0, 0.0, 0.0, 0.0], ['\"33\" Export', '\"The Buk\" Pale Ale', 0.0, 0.0, 0.0, 0.0], ['\"33\" Export', '\"The Camp\" Barleywine', 0.0, 0.0, 0.0, 0.0], ['\"33\" Export', '\"The Mountain\" Ale', 0.0, 0.0, 0.0, 0.0], ['\"33\" Export', '\"The Wind Cried Mari...\" Scottish Heather Ale', 0.0, 0.0, 0.0, 0.0], ['\"33\" Export', '\"They Made Me Do It\" Blueberry Ale', 0.0, 0.0, 0.0, 0.0], ['\"33\" Export', '\"Trouble\"', 0.0, 0.0, 0.0, 0.0], ['\"33\" Export', '\"True Blue\" Blueberry Ale', 0.0, 0.0, 0.0, 0.0], ['\"33\" Export', '\"Woosta\" Weizenbock', 0.0, 0.0, 0.0, 0.0], ['\"33\" Export', '# 100', 1.0, 1.0, 1.0, 1.0], ['\"33\" Export', \"#'s Ale\", 1.0, 1.0, 1.0, 1.0], ['\"33\" Export', \"Dale's Pale Ale\", 0.98058067569092011, 0.96265094015389874, 0.97618706018395274, 0.988767049205314], ['\"4\" Horse Oatmeal Stout', '! (Old Ale)', 0.0, 0.0, 0.0, 0.0], ['\"4\" Horse Oatmeal Stout', '\"100\"', 0.0, 0.0, 0.0, 0.0], ['\"4\" Horse Oatmeal Stout', '\"100\" Pale Ale', 0.0, 0.0, 0.0, 0.0], ['\"4\" Horse Oatmeal Stout', '\"12\"  Belgian Golden Strong Ale', 0.0, 0.0, 0.0, 0.0], ['\"4\" Horse Oatmeal Stout', '\"33\" Export', 0.0, 0.0, 0.0, 0.0], ['\"4\" Horse Oatmeal Stout', '\"400\" Ale', 0.0, 0.0, 0.0, 0.0], ['\"4\" Horse Oatmeal Stout', '\"50\" Golden Anniversary Lager', 0.0, 0.0, 0.0, 0.0], ['\"4\" Horse Oatmeal Stout', '\"76\" Anniversary Ale', 0.0, 0.0, 0.0, 0.0], ['\"4\" Horse Oatmeal Stout', '\"76\" Anniversary Ale With English Hops', 0.0, 0.0, 0.0, 0.0], ['\"4\" Horse Oatmeal Stout', '\"Alt\"ered State', 0.0, 0.0, 0.0, 0.0], ['\"4\" Horse Oatmeal Stout', '\"Best Of Both Worlds\" Stout', 0.0, 0.0, 0.0, 0.0], ['\"4\" Horse Oatmeal Stout', '\"Cellar Reserve\" Triple Gold', 0.0, 0.0, 0.0, 0.0], ['\"4\" Horse Oatmeal Stout', '\"Certifiably\" Blonde Ale', 0.0, 0.0, 0.0, 0.0], ['\"4\" Horse Oatmeal Stout', '\"Check-Mate\" Cask Pilsner', 0.0, 0.0, 0.0, 0.0], ['\"4\" Horse Oatmeal Stout', '\"Double Wrecked Wreck\" IPA', 0.0, 0.0, 0.0, 0.0], ['\"4\" Horse Oatmeal Stout', '\"Fade To Black\" Porter', 0.0, 0.0, 0.0, 0.0], ['\"4\" Horse Oatmeal Stout', '\"Great Satchmo\" Stout', 0.0, 0.0, 0.0, 0.0], ['\"4\" Horse Oatmeal Stout', '\"Hop Obama\" Ale', 0.0, 0.0, 0.0, 0.0], ['\"4\" Horse Oatmeal Stout', '\"Jessica & Brendan\\'s\" Bridal Ale', 0.0, 0.0, 0.0, 0.0], ['\"4\" Horse Oatmeal Stout', '\"Just One More\" Scotch Ale', 0.0, 0.0, 0.0, 0.0], ['\"4\" Horse Oatmeal Stout', '\"Little John\\'s Myth\" Robust Porter', 0.0, 0.0, 0.0, 0.0], ['\"4\" Horse Oatmeal Stout', '\"M\"', 0.0, 0.0, 0.0, 0.0], ['\"4\" Horse Oatmeal Stout', '\"M\"-perial Stout', 0.0, 0.0, 0.0, 0.0], ['\"4\" Horse Oatmeal Stout', '\"Marnie\" Gras Carnival Ale', 0.0, 0.0, 0.0, 0.0], ['\"4\" Horse Oatmeal Stout', '\"Naughty Scot\" Scotch Ale', 0.0, 0.0, 0.0, 0.0], ['\"4\" Horse Oatmeal Stout', '\"Nein Toll Bier\" German Alt', 0.0, 0.0, 0.0, 0.0], ['\"4\" Horse Oatmeal Stout', '\"Not Guilty\" 1924 Deer Brand', 0.0, 0.0, 0.0, 0.0], ['\"4\" Horse Oatmeal Stout', '\"Not Your Bock\" Maibock', 0.0, 0.0, 0.0, 0.0], ['\"4\" Horse Oatmeal Stout', '\"O Smokey Night\"', 0.0, 0.0, 0.0, 0.0], ['\"4\" Horse Oatmeal Stout', '\"O!\" Gold', 1.0, 1.0, 1.0, 1.0], ['\"4\" Horse Oatmeal Stout', '\"Old School\" Craft Cream Ale', 0.0, 0.0, 0.0, 0.0], ['\"4\" Horse Oatmeal Stout', '\"Old Yeltsin\" Imperial Stout', 1.0, 1.0, 1.0, 1.0], ['\"4\" Horse Oatmeal Stout', '\"Requisite\" Imperialistic Stout', 0.0, 0.0, 0.0, 0.0], ['\"4\" Horse Oatmeal Stout', '\"See No Evil\" American Pale Ale', 0.0, 0.0, 0.0, 0.0], ['\"4\" Horse Oatmeal Stout', '\"Shabadoo\" Black & Tan Ale', 0.0, 0.0, 0.0, 0.0], ['\"4\" Horse Oatmeal Stout', '\"Six\" Belgian Style Table Beer', 0.0, 0.0, 0.0, 0.0], ['\"4\" Horse Oatmeal Stout', '\"Stout Stoat\" Stout', 0.0, 0.0, 0.0, 0.0], ['\"4\" Horse Oatmeal Stout', '\"Talk To Me\" IPA', 0.0, 0.0, 0.0, 0.0], ['\"4\" Horse Oatmeal Stout', '\"The Bridge\" Nut-Brown Ale', 0.0, 0.0, 0.0, 0.0], ['\"4\" Horse Oatmeal Stout', '\"The Buk\" Pale Ale', 0.0, 0.0, 0.0, 0.0], ['\"4\" Horse Oatmeal Stout', '\"The Camp\" Barleywine', 0.0, 0.0, 0.0, 0.0], ['\"4\" Horse Oatmeal Stout', '\"The Mountain\" Ale', 0.0, 0.0, 0.0, 0.0], ['\"4\" Horse Oatmeal Stout', '\"The Wind Cried Mari...\" Scottish Heather Ale', 1.0, 1.0, 1.0, 1.0], ['\"4\" Horse Oatmeal Stout', '\"They Made Me Do It\" Blueberry Ale', 0.0, 0.0, 0.0, 0.0], ['\"4\" Horse Oatmeal Stout', '\"Trouble\"', 0.0, 0.0, 0.0, 0.0], ['\"4\" Horse Oatmeal Stout', '\"True Blue\" Blueberry Ale', 0.0, 0.0, 0.0, 0.0], ['\"4\" Horse Oatmeal Stout', '\"Woosta\" Weizenbock', 0.0, 0.0, 0.0, 0.0], ['\"4\" Horse Oatmeal Stout', '# 100', 0.0, 0.0, 0.0, 0.0], ['\"4\" Horse Oatmeal Stout', \"#'s Ale\", 0.0, 0.0, 0.0, 0.0], ['\"4\" Horse Oatmeal Stout', \"Dale's Pale Ale\", 0.99827437317499579, 0.98478355881793689, 0.98974439199138509, 0.99994794242428597], ['\"400\" Ale', '! (Old Ale)', 0.0, 0.0, 0.0, 0.0], ['\"400\" Ale', '\"100\"', 0.0, 0.0, 0.0, 0.0], ['\"400\" Ale', '\"100\" Pale Ale', 0.0, 0.0, 0.0, 0.0], ['\"400\" Ale', '\"12\"  Belgian Golden Strong Ale', 0.0, 0.0, 0.0, 0.0], ['\"400\" Ale', '\"33\" Export', 0.0, 0.0, 0.0, 0.0], ['\"400\" Ale', '\"4\" Horse Oatmeal Stout', 0.0, 0.0, 0.0, 0.0], ['\"400\" Ale', '\"50\" Golden Anniversary Lager', 0.0, 0.0, 0.0, 0.0], ['\"400\" Ale', '\"76\" Anniversary Ale', 0.0, 0.0, 0.0, 0.0], ['\"400\" Ale', '\"76\" Anniversary Ale With English Hops', 0.0, 0.0, 0.0, 0.0], ['\"400\" Ale', '\"Alt\"ered State', 0.0, 0.0, 0.0, 0.0], ['\"400\" Ale', '\"Best Of Both Worlds\" Stout', 0.0, 0.0, 0.0, 0.0], ['\"400\" Ale', '\"Cellar Reserve\" Triple Gold', 0.0, 0.0, 0.0, 0.0], ['\"400\" Ale', '\"Certifiably\" Blonde Ale', 0.0, 0.0, 0.0, 0.0], ['\"400\" Ale', '\"Check-Mate\" Cask Pilsner', 0.0, 0.0, 0.0, 0.0], ['\"400\" Ale', '\"Double Wrecked Wreck\" IPA', 0.0, 0.0, 0.0, 0.0], ['\"400\" Ale', '\"Fade To Black\" Porter', 0.0, 0.0, 0.0, 0.0], ['\"400\" Ale', '\"Great Satchmo\" Stout', 0.0, 0.0, 0.0, 0.0], ['\"400\" Ale', '\"Hop Obama\" Ale', 0.0, 0.0, 0.0, 0.0], ['\"400\" Ale', '\"Jessica & Brendan\\'s\" Bridal Ale', 0.0, 0.0, 0.0, 0.0], ['\"400\" Ale', '\"Just One More\" Scotch Ale', 0.0, 0.0, 0.0, 0.0], ['\"400\" Ale', '\"Little John\\'s Myth\" Robust Porter', 0.0, 0.0, 0.0, 0.0], ['\"400\" Ale', '\"M\"', 0.0, 0.0, 0.0, 0.0], ['\"400\" Ale', '\"M\"-perial Stout', 0.0, 0.0, 0.0, 0.0], ['\"400\" Ale', '\"Marnie\" Gras Carnival Ale', 0.0, 0.0, 0.0, 0.0], ['\"400\" Ale', '\"Naughty Scot\" Scotch Ale', 0.0, 0.0, 0.0, 0.0], ['\"400\" Ale', '\"Nein Toll Bier\" German Alt', 0.0, 0.0, 0.0, 0.0], ['\"400\" Ale', '\"Not Guilty\" 1924 Deer Brand', 0.0, 0.0, 0.0, 0.0], ['\"400\" Ale', '\"Not Your Bock\" Maibock', 0.0, 0.0, 0.0, 0.0], ['\"400\" Ale', '\"O Smokey Night\"', 0.0, 0.0, 0.0, 0.0], ['\"400\" Ale', '\"O!\" Gold', 0.0, 0.0, 0.0, 0.0], ['\"400\" Ale', '\"Old School\" Craft Cream Ale', 0.0, 0.0, 0.0, 0.0], ['\"400\" Ale', '\"Old Yeltsin\" Imperial Stout', 0.0, 0.0, 0.0, 0.0], ['\"400\" Ale', '\"Requisite\" Imperialistic Stout', 0.0, 0.0, 0.0, 0.0], ['\"400\" Ale', '\"See No Evil\" American Pale Ale', 0.0, 0.0, 0.0, 0.0], ['\"400\" Ale', '\"Shabadoo\" Black & Tan Ale', 0.0, 0.0, 0.0, 0.0], ['\"400\" Ale', '\"Six\" Belgian Style Table Beer', 0.0, 0.0, 0.0, 0.0], ['\"400\" Ale', '\"Stout Stoat\" Stout', 0.0, 0.0, 0.0, 0.0], ['\"400\" Ale', '\"Talk To Me\" IPA', 0.0, 0.0, 0.0, 0.0], ['\"400\" Ale', '\"The Bridge\" Nut-Brown Ale', 0.0, 0.0, 0.0, 0.0], ['\"400\" Ale', '\"The Buk\" Pale Ale', 0.0, 0.0, 0.0, 0.0], ['\"400\" Ale', '\"The Camp\" Barleywine', 0.0, 0.0, 0.0, 0.0], ['\"400\" Ale', '\"The Mountain\" Ale', 0.0, 0.0, 0.0, 0.0], ['\"400\" Ale', '\"The Wind Cried Mari...\" Scottish Heather Ale', 0.0, 0.0, 0.0, 0.0], ['\"400\" Ale', '\"They Made Me Do It\" Blueberry Ale', 0.0, 0.0, 0.0, 0.0], ['\"400\" Ale', '\"Trouble\"', 0.0, 0.0, 0.0, 0.0], ['\"400\" Ale', '\"True Blue\" Blueberry Ale', 1.0, 1.0, 1.0, 1.0], ['\"400\" Ale', '\"Woosta\" Weizenbock', 0.0, 0.0, 0.0, 0.0], ['\"400\" Ale', '# 100', 0.99277506656169934, 0.99482490433055115, 0.98460893256855697, 0.9939603106164222], ['\"400\" Ale', \"#'s Ale\", 1.0, 1.0, 1.0, 1.0], ['\"400\" Ale', \"Dale's Pale Ale\", 0.90070558381146237, 0.98818710692836143, 0.97743127164469334, 0.90026366159914617], ['\"50\" Golden Anniversary Lager', '! (Old Ale)', 0.0, 0.0, 0.0, 0.0], ['\"50\" Golden Anniversary Lager', '\"100\"', 0.0, 0.0, 0.0, 0.0], ['\"50\" Golden Anniversary Lager', '\"100\" Pale Ale', 0.0, 0.0, 0.0, 0.0], ['\"50\" Golden Anniversary Lager', '\"12\"  Belgian Golden Strong Ale', 0.0, 0.0, 0.0, 0.0], ['\"50\" Golden Anniversary Lager', '\"33\" Export', 0.0, 0.0, 0.0, 0.0], ['\"50\" Golden Anniversary Lager', '\"4\" Horse Oatmeal Stout', 0.0, 0.0, 0.0, 0.0], ['\"50\" Golden Anniversary Lager', '\"400\" Ale', 0.0, 0.0, 0.0, 0.0], ['\"50\" Golden Anniversary Lager', '\"76\" Anniversary Ale', 0.0, 0.0, 0.0, 0.0], ['\"50\" Golden Anniversary Lager', '\"76\" Anniversary Ale With English Hops', 0.0, 0.0, 0.0, 0.0], ['\"50\" Golden Anniversary Lager', '\"Alt\"ered State', 0.0, 0.0, 0.0, 0.0], ['\"50\" Golden Anniversary Lager', '\"Best Of Both Worlds\" Stout', 0.0, 0.0, 0.0, 0.0], ['\"50\" Golden Anniversary Lager', '\"Cellar Reserve\" Triple Gold', 0.0, 0.0, 0.0, 0.0], ['\"50\" Golden Anniversary Lager', '\"Certifiably\" Blonde Ale', 0.0, 0.0, 0.0, 0.0], ['\"50\" Golden Anniversary Lager', '\"Check-Mate\" Cask Pilsner', 0.0, 0.0, 0.0, 0.0], ['\"50\" Golden Anniversary Lager', '\"Double Wrecked Wreck\" IPA', 1.0, 1.0, 1.0, 1.0], ['\"50\" Golden Anniversary Lager', '\"Fade To Black\" Porter', 0.0, 0.0, 0.0, 0.0], ['\"50\" Golden Anniversary Lager', '\"Great Satchmo\" Stout', 0.0, 0.0, 0.0, 0.0], ['\"50\" Golden Anniversary Lager', '\"Hop Obama\" Ale', 0.0, 0.0, 0.0, 0.0], ['\"50\" Golden Anniversary Lager', '\"Jessica & Brendan\\'s\" Bridal Ale', 0.0, 0.0, 0.0, 0.0], ['\"50\" Golden Anniversary Lager', '\"Just One More\" Scotch Ale', 0.0, 0.0, 0.0, 0.0], ['\"50\" Golden Anniversary Lager', '\"Little John\\'s Myth\" Robust Porter', 0.0, 0.0, 0.0, 0.0], ['\"50\" Golden Anniversary Lager', '\"M\"', 0.0, 0.0, 0.0, 0.0], ['\"50\" Golden Anniversary Lager', '\"M\"-perial Stout', 0.0, 0.0, 0.0, 0.0], ['\"50\" Golden Anniversary Lager', '\"Marnie\" Gras Carnival Ale', 0.0, 0.0, 0.0, 0.0], ['\"50\" Golden Anniversary Lager', '\"Naughty Scot\" Scotch Ale', 0.0, 0.0, 0.0, 0.0], ['\"50\" Golden Anniversary Lager', '\"Nein Toll Bier\" German Alt', 0.0, 0.0, 0.0, 0.0], ['\"50\" Golden Anniversary Lager', '\"Not Guilty\" 1924 Deer Brand', 0.0, 0.0, 0.0, 0.0], ['\"50\" Golden Anniversary Lager', '\"Not Your Bock\" Maibock', 0.0, 0.0, 0.0, 0.0], ['\"50\" Golden Anniversary Lager', '\"O Smokey Night\"', 0.0, 0.0, 0.0, 0.0], ['\"50\" Golden Anniversary Lager', '\"O!\" Gold', 0.0, 0.0, 0.0, 0.0], ['\"50\" Golden Anniversary Lager', '\"Old School\" Craft Cream Ale', 0.0, 0.0, 0.0, 0.0], ['\"50\" Golden Anniversary Lager', '\"Old Yeltsin\" Imperial Stout', 0.0, 0.0, 0.0, 0.0], ['\"50\" Golden Anniversary Lager', '\"Requisite\" Imperialistic Stout', 0.0, 0.0, 0.0, 0.0], ['\"50\" Golden Anniversary Lager', '\"See No Evil\" American Pale Ale', 0.0, 0.0, 0.0, 0.0], ['\"50\" Golden Anniversary Lager', '\"Shabadoo\" Black & Tan Ale', 0.0, 0.0, 0.0, 0.0], ['\"50\" Golden Anniversary Lager', '\"Six\" Belgian Style Table Beer', 0.0, 0.0, 0.0, 0.0], ['\"50\" Golden Anniversary Lager', '\"Stout Stoat\" Stout', 0.0, 0.0, 0.0, 0.0], ['\"50\" Golden Anniversary Lager', '\"Talk To Me\" IPA', 0.0, 0.0, 0.0, 0.0], ['\"50\" Golden Anniversary Lager', '\"The Bridge\" Nut-Brown Ale', 0.0, 0.0, 0.0, 0.0], ['\"50\" Golden Anniversary Lager', '\"The Buk\" Pale Ale', 0.0, 0.0, 0.0, 0.0], ['\"50\" Golden Anniversary Lager', '\"The Camp\" Barleywine', 0.0, 0.0, 0.0, 0.0], ['\"50\" Golden Anniversary Lager', '\"The Mountain\" Ale', 0.0, 0.0, 0.0, 0.0], ['\"50\" Golden Anniversary Lager', '\"The Wind Cried Mari...\" Scottish Heather Ale', 0.0, 0.0, 0.0, 0.0], ['\"50\" Golden Anniversary Lager', '\"They Made Me Do It\" Blueberry Ale', 0.0, 0.0, 0.0, 0.0], ['\"50\" Golden Anniversary Lager', '\"Trouble\"', 0.0, 0.0, 0.0, 0.0], ['\"50\" Golden Anniversary Lager', '\"True Blue\" Blueberry Ale', 0.0, 0.0, 0.0, 0.0], ['\"50\" Golden Anniversary Lager', '\"Woosta\" Weizenbock', 0.0, 0.0, 0.0, 0.0], ['\"50\" Golden Anniversary Lager', '# 100', 0.0, 0.0, 0.0, 0.0], ['\"50\" Golden Anniversary Lager', \"#'s Ale\", 0.0, 0.0, 0.0, 0.0], ['\"50\" Golden Anniversary Lager', \"Dale's Pale Ale\", 0.0, 0.0, 0.0, 0.0], ['\"76\" Anniversary Ale', '! (Old Ale)', 0.0, 0.0, 0.0, 0.0], ['\"76\" Anniversary Ale', '\"100\"', 0.0, 0.0, 0.0, 0.0], ['\"76\" Anniversary Ale', '\"100\" Pale Ale', 0.0, 0.0, 0.0, 0.0], ['\"76\" Anniversary Ale', '\"12\"  Belgian Golden Strong Ale', 0.0, 0.0, 0.0, 0.0], ['\"76\" Anniversary Ale', '\"33\" Export', 0.0, 0.0, 0.0, 0.0], ['\"76\" Anniversary Ale', '\"4\" Horse Oatmeal Stout', 0.0, 0.0, 0.0, 0.0], ['\"76\" Anniversary Ale', '\"400\" Ale', 0.0, 0.0, 0.0, 0.0], ['\"76\" Anniversary Ale', '\"50\" Golden Anniversary Lager', 0.0, 0.0, 0.0, 0.0], ['\"76\" Anniversary Ale', '\"76\" Anniversary Ale With English Hops', 1.0, 1.0, 1.0, 1.0], ['\"76\" Anniversary Ale', '\"Alt\"ered State', 0.0, 0.0, 0.0, 0.0], ['\"76\" Anniversary Ale', '\"Best Of Both Worlds\" Stout', 0.0, 0.0, 0.0, 0.0], ['\"76\" Anniversary Ale', '\"Cellar Reserve\" Triple Gold', 0.0, 0.0, 0.0, 0.0], ['\"76\" Anniversary Ale', '\"Certifiably\" Blonde Ale', 0.0, 0.0, 0.0, 0.0], ['\"76\" Anniversary Ale', '\"Check-Mate\" Cask Pilsner', 0.0, 0.0, 0.0, 0.0], ['\"76\" Anniversary Ale', '\"Double Wrecked Wreck\" IPA', 0.0, 0.0, 0.0, 0.0], ['\"76\" Anniversary Ale', '\"Fade To Black\" Porter', 0.0, 0.0, 0.0, 0.0], ['\"76\" Anniversary Ale', '\"Great Satchmo\" Stout', 0.0, 0.0, 0.0, 0.0], ['\"76\" Anniversary Ale', '\"Hop Obama\" Ale', 0.0, 0.0, 0.0, 0.0], ['\"76\" Anniversary Ale', '\"Jessica & Brendan\\'s\" Bridal Ale', 0.0, 0.0, 0.0, 0.0], ['\"76\" Anniversary Ale', '\"Just One More\" Scotch Ale', 1.0, 1.0, 1.0, 1.0], ['\"76\" Anniversary Ale', '\"Little John\\'s Myth\" Robust Porter', 0.0, 0.0, 0.0, 0.0], ['\"76\" Anniversary Ale', '\"M\"', 0.0, 0.0, 0.0, 0.0], ['\"76\" Anniversary Ale', '\"M\"-perial Stout', 0.0, 0.0, 0.0, 0.0], ['\"76\" Anniversary Ale', '\"Marnie\" Gras Carnival Ale', 0.0, 0.0, 0.0, 0.0], ['\"76\" Anniversary Ale', '\"Naughty Scot\" Scotch Ale', 0.0, 0.0, 0.0, 0.0], ['\"76\" Anniversary Ale', '\"Nein Toll Bier\" German Alt', 0.0, 0.0, 0.0, 0.0], ['\"76\" Anniversary Ale', '\"Not Guilty\" 1924 Deer Brand', 0.0, 0.0, 0.0, 0.0], ['\"76\" Anniversary Ale', '\"Not Your Bock\" Maibock', 0.0, 0.0, 0.0, 0.0], ['\"76\" Anniversary Ale', '\"O Smokey Night\"', 0.0, 0.0, 0.0, 0.0], ['\"76\" Anniversary Ale', '\"O!\" Gold', 0.0, 0.0, 0.0, 0.0], ['\"76\" Anniversary Ale', '\"Old School\" Craft Cream Ale', 0.0, 0.0, 0.0, 0.0], ['\"76\" Anniversary Ale', '\"Old Yeltsin\" Imperial Stout', 0.0, 0.0, 0.0, 0.0], ['\"76\" Anniversary Ale', '\"Requisite\" Imperialistic Stout', 0.0, 0.0, 0.0, 0.0], ['\"76\" Anniversary Ale', '\"See No Evil\" American Pale Ale', 0.0, 0.0, 0.0, 0.0], ['\"76\" Anniversary Ale', '\"Shabadoo\" Black & Tan Ale', 0.0, 0.0, 0.0, 0.0], ['\"76\" Anniversary Ale', '\"Six\" Belgian Style Table Beer', 0.0, 0.0, 0.0, 0.0], ['\"76\" Anniversary Ale', '\"Stout Stoat\" Stout', 0.0, 0.0, 0.0, 0.0], ['\"76\" Anniversary Ale', '\"Talk To Me\" IPA', 0.0, 0.0, 0.0, 0.0], ['\"76\" Anniversary Ale', '\"The Bridge\" Nut-Brown Ale', 0.0, 0.0, 0.0, 0.0], ['\"76\" Anniversary Ale', '\"The Buk\" Pale Ale', 0.0, 0.0, 0.0, 0.0], ['\"76\" Anniversary Ale', '\"The Camp\" Barleywine', 0.0, 0.0, 0.0, 0.0], ['\"76\" Anniversary Ale', '\"The Mountain\" Ale', 0.0, 0.0, 0.0, 0.0], ['\"76\" Anniversary Ale', '\"The Wind Cried Mari...\" Scottish Heather Ale', 0.0, 0.0, 0.0, 0.0], ['\"76\" Anniversary Ale', '\"They Made Me Do It\" Blueberry Ale', 0.0, 0.0, 0.0, 0.0], ['\"76\" Anniversary Ale', '\"Trouble\"', 0.0, 0.0, 0.0, 0.0], ['\"76\" Anniversary Ale', '\"True Blue\" Blueberry Ale', 0.0, 0.0, 0.0, 0.0], ['\"76\" Anniversary Ale', '\"Woosta\" Weizenbock', 0.0, 0.0, 0.0, 0.0], ['\"76\" Anniversary Ale', '# 100', 1.0, 1.0, 1.0, 1.0], ['\"76\" Anniversary Ale', \"#'s Ale\", 0.0, 0.0, 0.0, 0.0], ['\"76\" Anniversary Ale', \"Dale's Pale Ale\", 0.99183659813417568, 0.99821030596075133, 0.99183659813417568, 0.98749227911400661], ['\"76\" Anniversary Ale With English Hops', '! (Old Ale)', 0.0, 0.0, 0.0, 0.0], ['\"76\" Anniversary Ale With English Hops', '\"100\"', 0.0, 0.0, 0.0, 0.0], ['\"76\" Anniversary Ale With English Hops', '\"100\" Pale Ale', 0.0, 0.0, 0.0, 0.0], ['\"76\" Anniversary Ale With English Hops', '\"12\"  Belgian Golden Strong Ale', 0.0, 0.0, 0.0, 0.0], ['\"76\" Anniversary Ale With English Hops', '\"33\" Export', 0.0, 0.0, 0.0, 0.0], ['\"76\" Anniversary Ale With English Hops', '\"4\" Horse Oatmeal Stout', 0.0, 0.0, 0.0, 0.0], ['\"76\" Anniversary Ale With English Hops', '\"400\" Ale', 0.0, 0.0, 0.0, 0.0], ['\"76\" Anniversary Ale With English Hops', '\"50\" Golden Anniversary Lager', 0.0, 0.0, 0.0, 0.0], ['\"76\" Anniversary Ale With English Hops', '\"76\" Anniversary Ale', 1.0, 1.0, 1.0, 1.0], ['\"76\" Anniversary Ale With English Hops', '\"Alt\"ered State', 0.0, 0.0, 0.0, 0.0], ['\"76\" Anniversary Ale With English Hops', '\"Best Of Both Worlds\" Stout', 0.0, 0.0, 0.0, 0.0], ['\"76\" Anniversary Ale With English Hops', '\"Cellar Reserve\" Triple Gold', 0.0, 0.0, 0.0, 0.0], ['\"76\" Anniversary Ale With English Hops', '\"Certifiably\" Blonde Ale', 0.0, 0.0, 0.0, 0.0], ['\"76\" Anniversary Ale With English Hops', '\"Check-Mate\" Cask Pilsner', 0.0, 0.0, 0.0, 0.0], ['\"76\" Anniversary Ale With English Hops', '\"Double Wrecked Wreck\" IPA', 0.0, 0.0, 0.0, 0.0], ['\"76\" Anniversary Ale With English Hops', '\"Fade To Black\" Porter', 0.0, 0.0, 0.0, 0.0], ['\"76\" Anniversary Ale With English Hops', '\"Great Satchmo\" Stout', 0.0, 0.0, 0.0, 0.0], ['\"76\" Anniversary Ale With English Hops', '\"Hop Obama\" Ale', 0.0, 0.0, 0.0, 0.0], ['\"76\" Anniversary Ale With English Hops', '\"Jessica & Brendan\\'s\" Bridal Ale', 0.0, 0.0, 0.0, 0.0], ['\"76\" Anniversary Ale With English Hops', '\"Just One More\" Scotch Ale', 1.0, 1.0, 1.0, 1.0], ['\"76\" Anniversary Ale With English Hops', '\"Little John\\'s Myth\" Robust Porter', 0.0, 0.0, 0.0, 0.0], ['\"76\" Anniversary Ale With English Hops', '\"M\"', 0.0, 0.0, 0.0, 0.0], ['\"76\" Anniversary Ale With English Hops', '\"M\"-perial Stout', 0.0, 0.0, 0.0, 0.0], ['\"76\" Anniversary Ale With English Hops', '\"Marnie\" Gras Carnival Ale', 0.0, 0.0, 0.0, 0.0], ['\"76\" Anniversary Ale With English Hops', '\"Naughty Scot\" Scotch Ale', 0.0, 0.0, 0.0, 0.0], ['\"76\" Anniversary Ale With English Hops', '\"Nein Toll Bier\" German Alt', 0.0, 0.0, 0.0, 0.0], ['\"76\" Anniversary Ale With English Hops', '\"Not Guilty\" 1924 Deer Brand', 0.0, 0.0, 0.0, 0.0], ['\"76\" Anniversary Ale With English Hops', '\"Not Your Bock\" Maibock', 0.0, 0.0, 0.0, 0.0], ['\"76\" Anniversary Ale With English Hops', '\"O Smokey Night\"', 0.0, 0.0, 0.0, 0.0], ['\"76\" Anniversary Ale With English Hops', '\"O!\" Gold', 0.0, 0.0, 0.0, 0.0], ['\"76\" Anniversary Ale With English Hops', '\"Old School\" Craft Cream Ale', 0.0, 0.0, 0.0, 0.0], ['\"76\" Anniversary Ale With English Hops', '\"Old Yeltsin\" Imperial Stout', 0.0, 0.0, 0.0, 0.0], ['\"76\" Anniversary Ale With English Hops', '\"Requisite\" Imperialistic Stout', 0.0, 0.0, 0.0, 0.0], ['\"76\" Anniversary Ale With English Hops', '\"See No Evil\" American Pale Ale', 0.0, 0.0, 0.0, 0.0], ['\"76\" Anniversary Ale With English Hops', '\"Shabadoo\" Black & Tan Ale', 0.0, 0.0, 0.0, 0.0], ['\"76\" Anniversary Ale With English Hops', '\"Six\" Belgian Style Table Beer', 0.0, 0.0, 0.0, 0.0], ['\"76\" Anniversary Ale With English Hops', '\"Stout Stoat\" Stout', 0.0, 0.0, 0.0, 0.0], ['\"76\" Anniversary Ale With English Hops', '\"Talk To Me\" IPA', 0.0, 0.0, 0.0, 0.0], ['\"76\" Anniversary Ale With English Hops', '\"The Bridge\" Nut-Brown Ale', 0.0, 0.0, 0.0, 0.0], ['\"76\" Anniversary Ale With English Hops', '\"The Buk\" Pale Ale', 0.0, 0.0, 0.0, 0.0], ['\"76\" Anniversary Ale With English Hops', '\"The Camp\" Barleywine', 0.0, 0.0, 0.0, 0.0], ['\"76\" Anniversary Ale With English Hops', '\"The Mountain\" Ale', 0.0, 0.0, 0.0, 0.0], ['\"76\" Anniversary Ale With English Hops', '\"The Wind Cried Mari...\" Scottish Heather Ale', 0.0, 0.0, 0.0, 0.0], ['\"76\" Anniversary Ale With English Hops', '\"They Made Me Do It\" Blueberry Ale', 0.0, 0.0, 0.0, 0.0], ['\"76\" Anniversary Ale With English Hops', '\"Trouble\"', 0.0, 0.0, 0.0, 0.0], ['\"76\" Anniversary Ale With English Hops', '\"True Blue\" Blueberry Ale', 0.0, 0.0, 0.0, 0.0], ['\"76\" Anniversary Ale With English Hops', '\"Woosta\" Weizenbock', 0.0, 0.0, 0.0, 0.0], ['\"76\" Anniversary Ale With English Hops', '# 100', 0.0, 0.0, 0.0, 0.0], ['\"76\" Anniversary Ale With English Hops', \"#'s Ale\", 0.0, 0.0, 0.0, 0.0], ['\"76\" Anniversary Ale With English Hops', \"Dale's Pale Ale\", 1.0, 1.0, 1.0, 1.0], ['\"Alt\"ered State', '! (Old Ale)', 0.0, 0.0, 0.0, 0.0], ['\"Alt\"ered State', '\"100\"', 0.0, 0.0, 0.0, 0.0], ['\"Alt\"ered State', '\"100\" Pale Ale', 0.0, 0.0, 0.0, 0.0], ['\"Alt\"ered State', '\"12\"  Belgian Golden Strong Ale', 0.0, 0.0, 0.0, 0.0], ['\"Alt\"ered State', '\"33\" Export', 0.0, 0.0, 0.0, 0.0], ['\"Alt\"ered State', '\"4\" Horse Oatmeal Stout', 0.0, 0.0, 0.0, 0.0], ['\"Alt\"ered State', '\"400\" Ale', 0.0, 0.0, 0.0, 0.0], ['\"Alt\"ered State', '\"50\" Golden Anniversary Lager', 0.0, 0.0, 0.0, 0.0], ['\"Alt\"ered State', '\"76\" Anniversary Ale', 0.0, 0.0, 0.0, 0.0], ['\"Alt\"ered State', '\"76\" Anniversary Ale With English Hops', 0.0, 0.0, 0.0, 0.0], ['\"Alt\"ered State', '\"Best Of Both Worlds\" Stout', 0.0, 0.0, 0.0, 0.0], ['\"Alt\"ered State', '\"Cellar Reserve\" Triple Gold', 0.0, 0.0, 0.0, 0.0], ['\"Alt\"ered State', '\"Certifiably\" Blonde Ale', 0.0, 0.0, 0.0, 0.0], ['\"Alt\"ered State', '\"Check-Mate\" Cask Pilsner', 0.0, 0.0, 0.0, 0.0], ['\"Alt\"ered State', '\"Double Wrecked Wreck\" IPA', 0.0, 0.0, 0.0, 0.0], ['\"Alt\"ered State', '\"Fade To Black\" Porter', 0.0, 0.0, 0.0, 0.0], ['\"Alt\"ered State', '\"Great Satchmo\" Stout', 0.0, 0.0, 0.0, 0.0], ['\"Alt\"ered State', '\"Hop Obama\" Ale', 1.0, 1.0, 1.0, 1.0], ['\"Alt\"ered State', '\"Jessica & Brendan\\'s\" Bridal Ale', 0.0, 0.0, 0.0, 0.0], ['\"Alt\"ered State', '\"Just One More\" Scotch Ale', 0.0, 0.0, 0.0, 0.0], ['\"Alt\"ered State', '\"Little John\\'s Myth\" Robust Porter', 0.0, 0.0, 0.0, 0.0], ['\"Alt\"ered State', '\"M\"', 0.0, 0.0, 0.0, 0.0], ['\"Alt\"ered State', '\"M\"-perial Stout', 0.0, 0.0, 0.0, 0.0], ['\"Alt\"ered State', '\"Marnie\" Gras Carnival Ale', 0.0, 0.0, 0.0, 0.0], ['\"Alt\"ered State', '\"Naughty Scot\" Scotch Ale', 0.0, 0.0, 0.0, 0.0], ['\"Alt\"ered State', '\"Nein Toll Bier\" German Alt', 0.0, 0.0, 0.0, 0.0], ['\"Alt\"ered State', '\"Not Guilty\" 1924 Deer Brand', 0.0, 0.0, 0.0, 0.0], ['\"Alt\"ered State', '\"Not Your Bock\" Maibock', 0.0, 0.0, 0.0, 0.0], ['\"Alt\"ered State', '\"O Smokey Night\"', 0.0, 0.0, 0.0, 0.0], ['\"Alt\"ered State', '\"O!\" Gold', 0.0, 0.0, 0.0, 0.0], ['\"Alt\"ered State', '\"Old School\" Craft Cream Ale', 0.0, 0.0, 0.0, 0.0], ['\"Alt\"ered State', '\"Old Yeltsin\" Imperial Stout', 1.0, 1.0, 1.0, 1.0], ['\"Alt\"ered State', '\"Requisite\" Imperialistic Stout', 0.0, 0.0, 0.0, 0.0], ['\"Alt\"ered State', '\"See No Evil\" American Pale Ale', 0.0, 0.0, 0.0, 0.0], ['\"Alt\"ered State', '\"Shabadoo\" Black & Tan Ale', 0.0, 0.0, 0.0, 0.0], ['\"Alt\"ered State', '\"Six\" Belgian Style Table Beer', 0.0, 0.0, 0.0, 0.0], ['\"Alt\"ered State', '\"Stout Stoat\" Stout', 0.0, 0.0, 0.0, 0.0], ['\"Alt\"ered State', '\"Talk To Me\" IPA', 0.0, 0.0, 0.0, 0.0], ['\"Alt\"ered State', '\"The Bridge\" Nut-Brown Ale', 0.0, 0.0, 0.0, 0.0], ['\"Alt\"ered State', '\"The Buk\" Pale Ale', 0.0, 0.0, 0.0, 0.0], ['\"Alt\"ered State', '\"The Camp\" Barleywine', 0.0, 0.0, 0.0, 0.0], ['\"Alt\"ered State', '\"The Mountain\" Ale', 0.0, 0.0, 0.0, 0.0], ['\"Alt\"ered State', '\"The Wind Cried Mari...\" Scottish Heather Ale', 0.0, 0.0, 0.0, 0.0], ['\"Alt\"ered State', '\"They Made Me Do It\" Blueberry Ale', 0.0, 0.0, 0.0, 0.0], ['\"Alt\"ered State', '\"Trouble\"', 0.0, 0.0, 0.0, 0.0], ['\"Alt\"ered State', '\"True Blue\" Blueberry Ale', 0.0, 0.0, 0.0, 0.0], ['\"Alt\"ered State', '\"Woosta\" Weizenbock', 0.0, 0.0, 0.0, 0.0], ['\"Alt\"ered State', '# 100', 1.0, 1.0, 1.0, 1.0], ['\"Alt\"ered State', \"#'s Ale\", 0.0, 0.0, 0.0, 0.0], ['\"Alt\"ered State', \"Dale's Pale Ale\", 1.0000000000000002, 0.99778515785660893, 0.99999999999999978, 0.99227787671366774], ['\"Best Of Both Worlds\" Stout', '! (Old Ale)', 0.0, 0.0, 0.0, 0.0], ['\"Best Of Both Worlds\" Stout', '\"100\"', 0.0, 0.0, 0.0, 0.0], ['\"Best Of Both Worlds\" Stout', '\"100\" Pale Ale', 0.0, 0.0, 0.0, 0.0], ['\"Best Of Both Worlds\" Stout', '\"12\"  Belgian Golden Strong Ale', 0.0, 0.0, 0.0, 0.0], ['\"Best Of Both Worlds\" Stout', '\"33\" Export', 0.0, 0.0, 0.0, 0.0], ['\"Best Of Both Worlds\" Stout', '\"4\" Horse Oatmeal Stout', 0.0, 0.0, 0.0, 0.0], ['\"Best Of Both Worlds\" Stout', '\"400\" Ale', 0.0, 0.0, 0.0, 0.0], ['\"Best Of Both Worlds\" Stout', '\"50\" Golden Anniversary Lager', 0.0, 0.0, 0.0, 0.0], ['\"Best Of Both Worlds\" Stout', '\"76\" Anniversary Ale', 0.0, 0.0, 0.0, 0.0], ['\"Best Of Both Worlds\" Stout', '\"76\" Anniversary Ale With English Hops', 0.0, 0.0, 0.0, 0.0], ['\"Best Of Both Worlds\" Stout', '\"Alt\"ered State', 0.0, 0.0, 0.0, 0.0], ['\"Best Of Both Worlds\" Stout', '\"Cellar Reserve\" Triple Gold', 0.0, 0.0, 0.0, 0.0], ['\"Best Of Both Worlds\" Stout', '\"Certifiably\" Blonde Ale', 0.0, 0.0, 0.0, 0.0], ['\"Best Of Both Worlds\" Stout', '\"Check-Mate\" Cask Pilsner', 0.0, 0.0, 0.0, 0.0], ['\"Best Of Both Worlds\" Stout', '\"Double Wrecked Wreck\" IPA', 0.0, 0.0, 0.0, 0.0], ['\"Best Of Both Worlds\" Stout', '\"Fade To Black\" Porter', 0.0, 0.0, 0.0, 0.0], ['\"Best Of Both Worlds\" Stout', '\"Great Satchmo\" Stout', 0.0, 0.0, 0.0, 0.0], ['\"Best Of Both Worlds\" Stout', '\"Hop Obama\" Ale', 0.0, 0.0, 0.0, 0.0], ['\"Best Of Both Worlds\" Stout', '\"Jessica & Brendan\\'s\" Bridal Ale', 0.0, 0.0, 0.0, 0.0], ['\"Best Of Both Worlds\" Stout', '\"Just One More\" Scotch Ale', 0.0, 0.0, 0.0, 0.0], ['\"Best Of Both Worlds\" Stout', '\"Little John\\'s Myth\" Robust Porter', 0.0, 0.0, 0.0, 0.0], ['\"Best Of Both Worlds\" Stout', '\"M\"', 0.0, 0.0, 0.0, 0.0], ['\"Best Of Both Worlds\" Stout', '\"M\"-perial Stout', 0.0, 0.0, 0.0, 0.0], ['\"Best Of Both Worlds\" Stout', '\"Marnie\" Gras Carnival Ale', 0.0, 0.0, 0.0, 0.0], ['\"Best Of Both Worlds\" Stout', '\"Naughty Scot\" Scotch Ale', 0.0, 0.0, 0.0, 0.0], ['\"Best Of Both Worlds\" Stout', '\"Nein Toll Bier\" German Alt', 0.0, 0.0, 0.0, 0.0], ['\"Best Of Both Worlds\" Stout', '\"Not Guilty\" 1924 Deer Brand', 0.0, 0.0, 0.0, 0.0], ['\"Best Of Both Worlds\" Stout', '\"Not Your Bock\" Maibock', 0.0, 0.0, 0.0, 0.0], ['\"Best Of Both Worlds\" Stout', '\"O Smokey Night\"', 0.0, 0.0, 0.0, 0.0], ['\"Best Of Both Worlds\" Stout', '\"O!\" Gold', 0.0, 0.0, 0.0, 0.0], ['\"Best Of Both Worlds\" Stout', '\"Old School\" Craft Cream Ale', 0.0, 0.0, 0.0, 0.0], ['\"Best Of Both Worlds\" Stout', '\"Old Yeltsin\" Imperial Stout', 0.0, 0.0, 0.0, 0.0], ['\"Best Of Both Worlds\" Stout', '\"Requisite\" Imperialistic Stout', 0.0, 0.0, 0.0, 0.0], ['\"Best Of Both Worlds\" Stout', '\"See No Evil\" American Pale Ale', 0.0, 0.0, 0.0, 0.0], ['\"Best Of Both Worlds\" Stout', '\"Shabadoo\" Black & Tan Ale', 0.0, 0.0, 0.0, 0.0], ['\"Best Of Both Worlds\" Stout', '\"Six\" Belgian Style Table Beer', 0.0, 0.0, 0.0, 0.0], ['\"Best Of Both Worlds\" Stout', '\"Stout Stoat\" Stout', 0.0, 0.0, 0.0, 0.0], ['\"Best Of Both Worlds\" Stout', '\"Talk To Me\" IPA', 0.0, 0.0, 0.0, 0.0], ['\"Best Of Both Worlds\" Stout', '\"The Bridge\" Nut-Brown Ale', 0.0, 0.0, 0.0, 0.0], ['\"Best Of Both Worlds\" Stout', '\"The Buk\" Pale Ale', 0.0, 0.0, 0.0, 0.0], ['\"Best Of Both Worlds\" Stout', '\"The Camp\" Barleywine', 0.0, 0.0, 0.0, 0.0], ['\"Best Of Both Worlds\" Stout', '\"The Mountain\" Ale', 0.0, 0.0, 0.0, 0.0], ['\"Best Of Both Worlds\" Stout', '\"The Wind Cried Mari...\" Scottish Heather Ale', 0.0, 0.0, 0.0, 0.0], ['\"Best Of Both Worlds\" Stout', '\"They Made Me Do It\" Blueberry Ale', 0.0, 0.0, 0.0, 0.0], ['\"Best Of Both Worlds\" Stout', '\"Trouble\"', 0.0, 0.0, 0.0, 0.0], ['\"Best Of Both Worlds\" Stout', '\"True Blue\" Blueberry Ale', 0.0, 0.0, 0.0, 0.0], ['\"Best Of Both Worlds\" Stout', '\"Woosta\" Weizenbock', 0.0, 0.0, 0.0, 0.0], ['\"Best Of Both Worlds\" Stout', '# 100', 0.0, 0.0, 0.0, 0.0], ['\"Best Of Both Worlds\" Stout', \"#'s Ale\", 0.0, 0.0, 0.0, 0.0], ['\"Best Of Both Worlds\" Stout', \"Dale's Pale Ale\", 0.0, 0.0, 0.0, 0.0], ['\"Cellar Reserve\" Triple Gold', '! (Old Ale)', 0.0, 0.0, 0.0, 0.0], ['\"Cellar Reserve\" Triple Gold', '\"100\"', 0.0, 0.0, 0.0, 0.0], ['\"Cellar Reserve\" Triple Gold', '\"100\" Pale Ale', 0.0, 0.0, 0.0, 0.0], ['\"Cellar Reserve\" Triple Gold', '\"12\"  Belgian Golden Strong Ale', 0.0, 0.0, 0.0, 0.0], ['\"Cellar Reserve\" Triple Gold', '\"33\" Export', 0.0, 0.0, 0.0, 0.0], ['\"Cellar Reserve\" Triple Gold', '\"4\" Horse Oatmeal Stout', 0.0, 0.0, 0.0, 0.0], ['\"Cellar Reserve\" Triple Gold', '\"400\" Ale', 0.0, 0.0, 0.0, 0.0], ['\"Cellar Reserve\" Triple Gold', '\"50\" Golden Anniversary Lager', 0.0, 0.0, 0.0, 0.0], ['\"Cellar Reserve\" Triple Gold', '\"76\" Anniversary Ale', 0.0, 0.0, 0.0, 0.0], ['\"Cellar Reserve\" Triple Gold', '\"76\" Anniversary Ale With English Hops', 0.0, 0.0, 0.0, 0.0], ['\"Cellar Reserve\" Triple Gold', '\"Alt\"ered State', 0.0, 0.0, 0.0, 0.0], ['\"Cellar Reserve\" Triple Gold', '\"Best Of Both Worlds\" Stout', 0.0, 0.0, 0.0, 0.0], ['\"Cellar Reserve\" Triple Gold', '\"Certifiably\" Blonde Ale', 0.0, 0.0, 0.0, 0.0], ['\"Cellar Reserve\" Triple Gold', '\"Check-Mate\" Cask Pilsner', 0.0, 0.0, 0.0, 0.0], ['\"Cellar Reserve\" Triple Gold', '\"Double Wrecked Wreck\" IPA', 0.0, 0.0, 0.0, 0.0], ['\"Cellar Reserve\" Triple Gold', '\"Fade To Black\" Porter', 0.0, 0.0, 0.0, 0.0], ['\"Cellar Reserve\" Triple Gold', '\"Great Satchmo\" Stout', 0.0, 0.0, 0.0, 0.0], ['\"Cellar Reserve\" Triple Gold', '\"Hop Obama\" Ale', 0.0, 0.0, 0.0, 0.0], ['\"Cellar Reserve\" Triple Gold', '\"Jessica & Brendan\\'s\" Bridal Ale', 0.0, 0.0, 0.0, 0.0], ['\"Cellar Reserve\" Triple Gold', '\"Just One More\" Scotch Ale', 0.0, 0.0, 0.0, 0.0], ['\"Cellar Reserve\" Triple Gold', '\"Little John\\'s Myth\" Robust Porter', 0.0, 0.0, 0.0, 0.0], ['\"Cellar Reserve\" Triple Gold', '\"M\"', 0.0, 0.0, 0.0, 0.0], ['\"Cellar Reserve\" Triple Gold', '\"M\"-perial Stout', 0.0, 0.0, 0.0, 0.0], ['\"Cellar Reserve\" Triple Gold', '\"Marnie\" Gras Carnival Ale', 0.0, 0.0, 0.0, 0.0], ['\"Cellar Reserve\" Triple Gold', '\"Naughty Scot\" Scotch Ale', 0.0, 0.0, 0.0, 0.0], ['\"Cellar Reserve\" Triple Gold', '\"Nein Toll Bier\" German Alt', 0.0, 0.0, 0.0, 0.0], ['\"Cellar Reserve\" Triple Gold', '\"Not Guilty\" 1924 Deer Brand', 0.0, 0.0, 0.0, 0.0], ['\"Cellar Reserve\" Triple Gold', '\"Not Your Bock\" Maibock', 0.0, 0.0, 0.0, 0.0], ['\"Cellar Reserve\" Triple Gold', '\"O Smokey Night\"', 0.0, 0.0, 0.0, 0.0], ['\"Cellar Reserve\" Triple Gold', '\"O!\" Gold', 0.0, 0.0, 0.0, 0.0], ['\"Cellar Reserve\" Triple Gold', '\"Old School\" Craft Cream Ale', 0.0, 0.0, 0.0, 0.0], ['\"Cellar Reserve\" Triple Gold', '\"Old Yeltsin\" Imperial Stout', 0.0, 0.0, 0.0, 0.0], ['\"Cellar Reserve\" Triple Gold', '\"Requisite\" Imperialistic Stout', 0.0, 0.0, 0.0, 0.0], ['\"Cellar Reserve\" Triple Gold', '\"See No Evil\" American Pale Ale', 0.0, 0.0, 0.0, 0.0], ['\"Cellar Reserve\" Triple Gold', '\"Shabadoo\" Black & Tan Ale', 0.0, 0.0, 0.0, 0.0], ['\"Cellar Reserve\" Triple Gold', '\"Six\" Belgian Style Table Beer', 0.0, 0.0, 0.0, 0.0], ['\"Cellar Reserve\" Triple Gold', '\"Stout Stoat\" Stout', 0.0, 0.0, 0.0, 0.0], ['\"Cellar Reserve\" Triple Gold', '\"Talk To Me\" IPA', 0.0, 0.0, 0.0, 0.0], ['\"Cellar Reserve\" Triple Gold', '\"The Bridge\" Nut-Brown Ale', 0.0, 0.0, 0.0, 0.0], ['\"Cellar Reserve\" Triple Gold', '\"The Buk\" Pale Ale', 0.0, 0.0, 0.0, 0.0], ['\"Cellar Reserve\" Triple Gold', '\"The Camp\" Barleywine', 0.0, 0.0, 0.0, 0.0], ['\"Cellar Reserve\" Triple Gold', '\"The Mountain\" Ale', 0.0, 0.0, 0.0, 0.0], ['\"Cellar Reserve\" Triple Gold', '\"The Wind Cried Mari...\" Scottish Heather Ale', 0.0, 0.0, 0.0, 0.0], ['\"Cellar Reserve\" Triple Gold', '\"They Made Me Do It\" Blueberry Ale', 0.0, 0.0, 0.0, 0.0], ['\"Cellar Reserve\" Triple Gold', '\"Trouble\"', 0.0, 0.0, 0.0, 0.0], ['\"Cellar Reserve\" Triple Gold', '\"True Blue\" Blueberry Ale', 0.0, 0.0, 0.0, 0.0], ['\"Cellar Reserve\" Triple Gold', '\"Woosta\" Weizenbock', 0.0, 0.0, 0.0, 0.0], ['\"Cellar Reserve\" Triple Gold', '# 100', 0.0, 0.0, 0.0, 0.0], ['\"Cellar Reserve\" Triple Gold', \"#'s Ale\", 0.0, 0.0, 0.0, 0.0], ['\"Cellar Reserve\" Triple Gold', \"Dale's Pale Ale\", 0.0, 0.0, 0.0, 0.0], ['\"Certifiably\" Blonde Ale', '! (Old Ale)', 0.0, 0.0, 0.0, 0.0], ['\"Certifiably\" Blonde Ale', '\"100\"', 0.0, 0.0, 0.0, 0.0], ['\"Certifiably\" Blonde Ale', '\"100\" Pale Ale', 0.0, 0.0, 0.0, 0.0], ['\"Certifiably\" Blonde Ale', '\"12\"  Belgian Golden Strong Ale', 0.0, 0.0, 0.0, 0.0], ['\"Certifiably\" Blonde Ale', '\"33\" Export', 0.0, 0.0, 0.0, 0.0], ['\"Certifiably\" Blonde Ale', '\"4\" Horse Oatmeal Stout', 0.0, 0.0, 0.0, 0.0], ['\"Certifiably\" Blonde Ale', '\"400\" Ale', 0.0, 0.0, 0.0, 0.0], ['\"Certifiably\" Blonde Ale', '\"50\" Golden Anniversary Lager', 0.0, 0.0, 0.0, 0.0], ['\"Certifiably\" Blonde Ale', '\"76\" Anniversary Ale', 0.0, 0.0, 0.0, 0.0], ['\"Certifiably\" Blonde Ale', '\"76\" Anniversary Ale With English Hops', 0.0, 0.0, 0.0, 0.0], ['\"Certifiably\" Blonde Ale', '\"Alt\"ered State', 0.0, 0.0, 0.0, 0.0], ['\"Certifiably\" Blonde Ale', '\"Best Of Both Worlds\" Stout', 0.0, 0.0, 0.0, 0.0], ['\"Certifiably\" Blonde Ale', '\"Cellar Reserve\" Triple Gold', 0.0, 0.0, 0.0, 0.0], ['\"Certifiably\" Blonde Ale', '\"Check-Mate\" Cask Pilsner', 0.0, 0.0, 0.0, 0.0], ['\"Certifiably\" Blonde Ale', '\"Double Wrecked Wreck\" IPA', 0.0, 0.0, 0.0, 0.0], ['\"Certifiably\" Blonde Ale', '\"Fade To Black\" Porter', 0.0, 0.0, 0.0, 0.0], ['\"Certifiably\" Blonde Ale', '\"Great Satchmo\" Stout', 0.0, 0.0, 0.0, 0.0], ['\"Certifiably\" Blonde Ale', '\"Hop Obama\" Ale', 0.0, 0.0, 0.0, 0.0], ['\"Certifiably\" Blonde Ale', '\"Jessica & Brendan\\'s\" Bridal Ale', 0.0, 0.0, 0.0, 0.0], ['\"Certifiably\" Blonde Ale', '\"Just One More\" Scotch Ale', 0.0, 0.0, 0.0, 0.0], ['\"Certifiably\" Blonde Ale', '\"Little John\\'s Myth\" Robust Porter', 0.0, 0.0, 0.0, 0.0], ['\"Certifiably\" Blonde Ale', '\"M\"', 0.0, 0.0, 0.0, 0.0], ['\"Certifiably\" Blonde Ale', '\"M\"-perial Stout', 0.0, 0.0, 0.0, 0.0], ['\"Certifiably\" Blonde Ale', '\"Marnie\" Gras Carnival Ale', 0.0, 0.0, 0.0, 0.0], ['\"Certifiably\" Blonde Ale', '\"Naughty Scot\" Scotch Ale', 0.0, 0.0, 0.0, 0.0], ['\"Certifiably\" Blonde Ale', '\"Nein Toll Bier\" German Alt', 0.0, 0.0, 0.0, 0.0], ['\"Certifiably\" Blonde Ale', '\"Not Guilty\" 1924 Deer Brand', 0.0, 0.0, 0.0, 0.0], ['\"Certifiably\" Blonde Ale', '\"Not Your Bock\" Maibock', 0.0, 0.0, 0.0, 0.0], ['\"Certifiably\" Blonde Ale', '\"O Smokey Night\"', 0.0, 0.0, 0.0, 0.0], ['\"Certifiably\" Blonde Ale', '\"O!\" Gold', 0.0, 0.0, 0.0, 0.0], ['\"Certifiably\" Blonde Ale', '\"Old School\" Craft Cream Ale', 0.0, 0.0, 0.0, 0.0], ['\"Certifiably\" Blonde Ale', '\"Old Yeltsin\" Imperial Stout', 0.0, 0.0, 0.0, 0.0], ['\"Certifiably\" Blonde Ale', '\"Requisite\" Imperialistic Stout', 0.0, 0.0, 0.0, 0.0], ['\"Certifiably\" Blonde Ale', '\"See No Evil\" American Pale Ale', 0.0, 0.0, 0.0, 0.0], ['\"Certifiably\" Blonde Ale', '\"Shabadoo\" Black & Tan Ale', 0.0, 0.0, 0.0, 0.0], ['\"Certifiably\" Blonde Ale', '\"Six\" Belgian Style Table Beer', 0.0, 0.0, 0.0, 0.0], ['\"Certifiably\" Blonde Ale', '\"Stout Stoat\" Stout', 0.0, 0.0, 0.0, 0.0], ['\"Certifiably\" Blonde Ale', '\"Talk To Me\" IPA', 0.0, 0.0, 0.0, 0.0], ['\"Certifiably\" Blonde Ale', '\"The Bridge\" Nut-Brown Ale', 0.0, 0.0, 0.0, 0.0], ['\"Certifiably\" Blonde Ale', '\"The Buk\" Pale Ale', 0.0, 0.0, 0.0, 0.0], ['\"Certifiably\" Blonde Ale', '\"The Camp\" Barleywine', 0.0, 0.0, 0.0, 0.0], ['\"Certifiably\" Blonde Ale', '\"The Mountain\" Ale', 0.0, 0.0, 0.0, 0.0], ['\"Certifiably\" Blonde Ale', '\"The Wind Cried Mari...\" Scottish Heather Ale', 0.0, 0.0, 0.0, 0.0], ['\"Certifiably\" Blonde Ale', '\"They Made Me Do It\" Blueberry Ale', 0.0, 0.0, 0.0, 0.0], ['\"Certifiably\" Blonde Ale', '\"Trouble\"', 0.0, 0.0, 0.0, 0.0], ['\"Certifiably\" Blonde Ale', '\"True Blue\" Blueberry Ale', 0.0, 0.0, 0.0, 0.0], ['\"Certifiably\" Blonde Ale', '\"Woosta\" Weizenbock', 0.0, 0.0, 0.0, 0.0], ['\"Certifiably\" Blonde Ale', '# 100', 0.0, 0.0, 0.0, 0.0], ['\"Certifiably\" Blonde Ale', \"#'s Ale\", 0.0, 0.0, 0.0, 0.0], ['\"Certifiably\" Blonde Ale', \"Dale's Pale Ale\", 0.0, 0.0, 0.0, 0.0], ['\"Check-Mate\" Cask Pilsner', '! (Old Ale)', 0.0, 0.0, 0.0, 0.0], ['\"Check-Mate\" Cask Pilsner', '\"100\"', 0.0, 0.0, 0.0, 0.0], ['\"Check-Mate\" Cask Pilsner', '\"100\" Pale Ale', 0.0, 0.0, 0.0, 0.0], ['\"Check-Mate\" Cask Pilsner', '\"12\"  Belgian Golden Strong Ale', 0.0, 0.0, 0.0, 0.0], ['\"Check-Mate\" Cask Pilsner', '\"33\" Export', 0.0, 0.0, 0.0, 0.0], ['\"Check-Mate\" Cask Pilsner', '\"4\" Horse Oatmeal Stout', 0.0, 0.0, 0.0, 0.0], ['\"Check-Mate\" Cask Pilsner', '\"400\" Ale', 0.0, 0.0, 0.0, 0.0], ['\"Check-Mate\" Cask Pilsner', '\"50\" Golden Anniversary Lager', 0.0, 0.0, 0.0, 0.0], ['\"Check-Mate\" Cask Pilsner', '\"76\" Anniversary Ale', 0.0, 0.0, 0.0, 0.0], ['\"Check-Mate\" Cask Pilsner', '\"76\" Anniversary Ale With English Hops', 0.0, 0.0, 0.0, 0.0], ['\"Check-Mate\" Cask Pilsner', '\"Alt\"ered State', 0.0, 0.0, 0.0, 0.0], ['\"Check-Mate\" Cask Pilsner', '\"Best Of Both Worlds\" Stout', 0.0, 0.0, 0.0, 0.0], ['\"Check-Mate\" Cask Pilsner', '\"Cellar Reserve\" Triple Gold', 0.0, 0.0, 0.0, 0.0], ['\"Check-Mate\" Cask Pilsner', '\"Certifiably\" Blonde Ale', 0.0, 0.0, 0.0, 0.0], ['\"Check-Mate\" Cask Pilsner', '\"Double Wrecked Wreck\" IPA', 0.0, 0.0, 0.0, 0.0], ['\"Check-Mate\" Cask Pilsner', '\"Fade To Black\" Porter', 0.0, 0.0, 0.0, 0.0], ['\"Check-Mate\" Cask Pilsner', '\"Great Satchmo\" Stout', 0.0, 0.0, 0.0, 0.0], ['\"Check-Mate\" Cask Pilsner', '\"Hop Obama\" Ale', 0.0, 0.0, 0.0, 0.0], ['\"Check-Mate\" Cask Pilsner', '\"Jessica & Brendan\\'s\" Bridal Ale', 0.0, 0.0, 0.0, 0.0], ['\"Check-Mate\" Cask Pilsner', '\"Just One More\" Scotch Ale', 0.0, 0.0, 0.0, 0.0], ['\"Check-Mate\" Cask Pilsner', '\"Little John\\'s Myth\" Robust Porter', 1.0, 1.0, 1.0, 1.0], ['\"Check-Mate\" Cask Pilsner', '\"M\"', 0.0, 0.0, 0.0, 0.0], ['\"Check-Mate\" Cask Pilsner', '\"M\"-perial Stout', 0.0, 0.0, 0.0, 0.0], ['\"Check-Mate\" Cask Pilsner', '\"Marnie\" Gras Carnival Ale', 0.0, 0.0, 0.0, 0.0], ['\"Check-Mate\" Cask Pilsner', '\"Naughty Scot\" Scotch Ale', 0.0, 0.0, 0.0, 0.0], ['\"Check-Mate\" Cask Pilsner', '\"Nein Toll Bier\" German Alt', 0.0, 0.0, 0.0, 0.0], ['\"Check-Mate\" Cask Pilsner', '\"Not Guilty\" 1924 Deer Brand', 0.0, 0.0, 0.0, 0.0], ['\"Check-Mate\" Cask Pilsner', '\"Not Your Bock\" Maibock', 0.0, 0.0, 0.0, 0.0], ['\"Check-Mate\" Cask Pilsner', '\"O Smokey Night\"', 0.0, 0.0, 0.0, 0.0], ['\"Check-Mate\" Cask Pilsner', '\"O!\" Gold', 0.0, 0.0, 0.0, 0.0], ['\"Check-Mate\" Cask Pilsner', '\"Old School\" Craft Cream Ale', 0.0, 0.0, 0.0, 0.0], ['\"Check-Mate\" Cask Pilsner', '\"Old Yeltsin\" Imperial Stout', 0.0, 0.0, 0.0, 0.0], ['\"Check-Mate\" Cask Pilsner', '\"Requisite\" Imperialistic Stout', 0.0, 0.0, 0.0, 0.0], ['\"Check-Mate\" Cask Pilsner', '\"See No Evil\" American Pale Ale', 0.0, 0.0, 0.0, 0.0], ['\"Check-Mate\" Cask Pilsner', '\"Shabadoo\" Black & Tan Ale', 0.0, 0.0, 0.0, 0.0], ['\"Check-Mate\" Cask Pilsner', '\"Six\" Belgian Style Table Beer', 0.0, 0.0, 0.0, 0.0], ['\"Check-Mate\" Cask Pilsner', '\"Stout Stoat\" Stout', 1.0, 1.0, 1.0, 1.0], ['\"Check-Mate\" Cask Pilsner', '\"Talk To Me\" IPA', 0.0, 0.0, 0.0, 0.0], ['\"Check-Mate\" Cask Pilsner', '\"The Bridge\" Nut-Brown Ale', 0.0, 0.0, 0.0, 0.0], ['\"Check-Mate\" Cask Pilsner', '\"The Buk\" Pale Ale', 0.0, 0.0, 0.0, 0.0], ['\"Check-Mate\" Cask Pilsner', '\"The Camp\" Barleywine', 0.0, 0.0, 0.0, 0.0], ['\"Check-Mate\" Cask Pilsner', '\"The Mountain\" Ale', 0.0, 0.0, 0.0, 0.0], ['\"Check-Mate\" Cask Pilsner', '\"The Wind Cried Mari...\" Scottish Heather Ale', 0.0, 0.0, 0.0, 0.0], ['\"Check-Mate\" Cask Pilsner', '\"They Made Me Do It\" Blueberry Ale', 0.0, 0.0, 0.0, 0.0], ['\"Check-Mate\" Cask Pilsner', '\"Trouble\"', 0.0, 0.0, 0.0, 0.0], ['\"Check-Mate\" Cask Pilsner', '\"True Blue\" Blueberry Ale', 0.0, 0.0, 0.0, 0.0], ['\"Check-Mate\" Cask Pilsner', '\"Woosta\" Weizenbock', 0.0, 0.0, 0.0, 0.0], ['\"Check-Mate\" Cask Pilsner', '# 100', 0.0, 0.0, 0.0, 0.0], ['\"Check-Mate\" Cask Pilsner', \"#'s Ale\", 0.0, 0.0, 0.0, 0.0], ['\"Check-Mate\" Cask Pilsner', \"Dale's Pale Ale\", 0.0, 0.0, 0.0, 0.0], ['\"Double Wrecked Wreck\" IPA', '! (Old Ale)', 0.0, 0.0, 0.0, 0.0], ['\"Double Wrecked Wreck\" IPA', '\"100\"', 0.0, 0.0, 0.0, 0.0], ['\"Double Wrecked Wreck\" IPA', '\"100\" Pale Ale', 0.0, 0.0, 0.0, 0.0], ['\"Double Wrecked Wreck\" IPA', '\"12\"  Belgian Golden Strong Ale', 0.0, 0.0, 0.0, 0.0], ['\"Double Wrecked Wreck\" IPA', '\"33\" Export', 0.0, 0.0, 0.0, 0.0], ['\"Double Wrecked Wreck\" IPA', '\"4\" Horse Oatmeal Stout', 0.0, 0.0, 0.0, 0.0], ['\"Double Wrecked Wreck\" IPA', '\"400\" Ale', 0.0, 0.0, 0.0, 0.0], ['\"Double Wrecked Wreck\" IPA', '\"50\" Golden Anniversary Lager', 1.0, 1.0, 1.0, 1.0], ['\"Double Wrecked Wreck\" IPA', '\"76\" Anniversary Ale', 0.0, 0.0, 0.0, 0.0], ['\"Double Wrecked Wreck\" IPA', '\"76\" Anniversary Ale With English Hops', 0.0, 0.0, 0.0, 0.0], ['\"Double Wrecked Wreck\" IPA', '\"Alt\"ered State', 0.0, 0.0, 0.0, 0.0], ['\"Double Wrecked Wreck\" IPA', '\"Best Of Both Worlds\" Stout', 0.0, 0.0, 0.0, 0.0], ['\"Double Wrecked Wreck\" IPA', '\"Cellar Reserve\" Triple Gold', 0.0, 0.0, 0.0, 0.0], ['\"Double Wrecked Wreck\" IPA', '\"Certifiably\" Blonde Ale', 0.0, 0.0, 0.0, 0.0], ['\"Double Wrecked Wreck\" IPA', '\"Check-Mate\" Cask Pilsner', 0.0, 0.0, 0.0, 0.0], ['\"Double Wrecked Wreck\" IPA', '\"Fade To Black\" Porter', 0.0, 0.0, 0.0, 0.0], ['\"Double Wrecked Wreck\" IPA', '\"Great Satchmo\" Stout', 0.0, 0.0, 0.0, 0.0], ['\"Double Wrecked Wreck\" IPA', '\"Hop Obama\" Ale', 0.0, 0.0, 0.0, 0.0], ['\"Double Wrecked Wreck\" IPA', '\"Jessica & Brendan\\'s\" Bridal Ale', 0.0, 0.0, 0.0, 0.0], ['\"Double Wrecked Wreck\" IPA', '\"Just One More\" Scotch Ale', 0.0, 0.0, 0.0, 0.0], ['\"Double Wrecked Wreck\" IPA', '\"Little John\\'s Myth\" Robust Porter', 0.0, 0.0, 0.0, 0.0], ['\"Double Wrecked Wreck\" IPA', '\"M\"', 0.0, 0.0, 0.0, 0.0], ['\"Double Wrecked Wreck\" IPA', '\"M\"-perial Stout', 0.0, 0.0, 0.0, 0.0], ['\"Double Wrecked Wreck\" IPA', '\"Marnie\" Gras Carnival Ale', 0.0, 0.0, 0.0, 0.0], ['\"Double Wrecked Wreck\" IPA', '\"Naughty Scot\" Scotch Ale', 0.0, 0.0, 0.0, 0.0], ['\"Double Wrecked Wreck\" IPA', '\"Nein Toll Bier\" German Alt', 0.0, 0.0, 0.0, 0.0], ['\"Double Wrecked Wreck\" IPA', '\"Not Guilty\" 1924 Deer Brand', 0.0, 0.0, 0.0, 0.0], ['\"Double Wrecked Wreck\" IPA', '\"Not Your Bock\" Maibock', 0.0, 0.0, 0.0, 0.0], ['\"Double Wrecked Wreck\" IPA', '\"O Smokey Night\"', 0.0, 0.0, 0.0, 0.0], ['\"Double Wrecked Wreck\" IPA', '\"O!\" Gold', 0.0, 0.0, 0.0, 0.0], ['\"Double Wrecked Wreck\" IPA', '\"Old School\" Craft Cream Ale', 0.0, 0.0, 0.0, 0.0], ['\"Double Wrecked Wreck\" IPA', '\"Old Yeltsin\" Imperial Stout', 0.0, 0.0, 0.0, 0.0], ['\"Double Wrecked Wreck\" IPA', '\"Requisite\" Imperialistic Stout', 0.0, 0.0, 0.0, 0.0], ['\"Double Wrecked Wreck\" IPA', '\"See No Evil\" American Pale Ale', 0.0, 0.0, 0.0, 0.0], ['\"Double Wrecked Wreck\" IPA', '\"Shabadoo\" Black & Tan Ale', 0.0, 0.0, 0.0, 0.0], ['\"Double Wrecked Wreck\" IPA', '\"Six\" Belgian Style Table Beer', 0.0, 0.0, 0.0, 0.0], ['\"Double Wrecked Wreck\" IPA', '\"Stout Stoat\" Stout', 0.0, 0.0, 0.0, 0.0], ['\"Double Wrecked Wreck\" IPA', '\"Talk To Me\" IPA', 0.0, 0.0, 0.0, 0.0], ['\"Double Wrecked Wreck\" IPA', '\"The Bridge\" Nut-Brown Ale', 0.0, 0.0, 0.0, 0.0], ['\"Double Wrecked Wreck\" IPA', '\"The Buk\" Pale Ale', 0.0, 0.0, 0.0, 0.0], ['\"Double Wrecked Wreck\" IPA', '\"The Camp\" Barleywine', 0.0, 0.0, 0.0, 0.0], ['\"Double Wrecked Wreck\" IPA', '\"The Mountain\" Ale', 0.0, 0.0, 0.0, 0.0], ['\"Double Wrecked Wreck\" IPA', '\"The Wind Cried Mari...\" Scottish Heather Ale', 0.0, 0.0, 0.0, 0.0], ['\"Double Wrecked Wreck\" IPA', '\"They Made Me Do It\" Blueberry Ale', 0.0, 0.0, 0.0, 0.0], ['\"Double Wrecked Wreck\" IPA', '\"Trouble\"', 0.0, 0.0, 0.0, 0.0], ['\"Double Wrecked Wreck\" IPA', '\"True Blue\" Blueberry Ale', 0.0, 0.0, 0.0, 0.0], ['\"Double Wrecked Wreck\" IPA', '\"Woosta\" Weizenbock', 0.0, 0.0, 0.0, 0.0], ['\"Double Wrecked Wreck\" IPA', '# 100', 1.0, 1.0, 1.0, 1.0], ['\"Double Wrecked Wreck\" IPA', \"#'s Ale\", 0.0, 0.0, 0.0, 0.0], ['\"Double Wrecked Wreck\" IPA', \"Dale's Pale Ale\", 1.0, 1.0, 1.0, 1.0], ['\"Fade To Black\" Porter', '! (Old Ale)', 0.0, 0.0, 0.0, 0.0], ['\"Fade To Black\" Porter', '\"100\"', 0.0, 0.0, 0.0, 0.0], ['\"Fade To Black\" Porter', '\"100\" Pale Ale', 0.0, 0.0, 0.0, 0.0], ['\"Fade To Black\" Porter', '\"12\"  Belgian Golden Strong Ale', 0.0, 0.0, 0.0, 0.0], ['\"Fade To Black\" Porter', '\"33\" Export', 0.0, 0.0, 0.0, 0.0], ['\"Fade To Black\" Porter', '\"4\" Horse Oatmeal Stout', 0.0, 0.0, 0.0, 0.0], ['\"Fade To Black\" Porter', '\"400\" Ale', 0.0, 0.0, 0.0, 0.0], ['\"Fade To Black\" Porter', '\"50\" Golden Anniversary Lager', 0.0, 0.0, 0.0, 0.0], ['\"Fade To Black\" Porter', '\"76\" Anniversary Ale', 0.0, 0.0, 0.0, 0.0], ['\"Fade To Black\" Porter', '\"76\" Anniversary Ale With English Hops', 0.0, 0.0, 0.0, 0.0], ['\"Fade To Black\" Porter', '\"Alt\"ered State', 0.0, 0.0, 0.0, 0.0], ['\"Fade To Black\" Porter', '\"Best Of Both Worlds\" Stout', 0.0, 0.0, 0.0, 0.0], ['\"Fade To Black\" Porter', '\"Cellar Reserve\" Triple Gold', 0.0, 0.0, 0.0, 0.0], ['\"Fade To Black\" Porter', '\"Certifiably\" Blonde Ale', 0.0, 0.0, 0.0, 0.0], ['\"Fade To Black\" Porter', '\"Check-Mate\" Cask Pilsner', 0.0, 0.0, 0.0, 0.0], ['\"Fade To Black\" Porter', '\"Double Wrecked Wreck\" IPA', 0.0, 0.0, 0.0, 0.0], ['\"Fade To Black\" Porter', '\"Great Satchmo\" Stout', 0.0, 0.0, 0.0, 0.0], ['\"Fade To Black\" Porter', '\"Hop Obama\" Ale', 0.0, 0.0, 0.0, 0.0], ['\"Fade To Black\" Porter', '\"Jessica & Brendan\\'s\" Bridal Ale', 0.0, 0.0, 0.0, 0.0], ['\"Fade To Black\" Porter', '\"Just One More\" Scotch Ale', 0.0, 0.0, 0.0, 0.0], ['\"Fade To Black\" Porter', '\"Little John\\'s Myth\" Robust Porter', 0.0, 0.0, 0.0, 0.0], ['\"Fade To Black\" Porter', '\"M\"', 0.0, 0.0, 0.0, 0.0], ['\"Fade To Black\" Porter', '\"M\"-perial Stout', 0.0, 0.0, 0.0, 0.0], ['\"Fade To Black\" Porter', '\"Marnie\" Gras Carnival Ale', 0.0, 0.0, 0.0, 0.0], ['\"Fade To Black\" Porter', '\"Naughty Scot\" Scotch Ale', 0.0, 0.0, 0.0, 0.0], ['\"Fade To Black\" Porter', '\"Nein Toll Bier\" German Alt', 0.0, 0.0, 0.0, 0.0], ['\"Fade To Black\" Porter', '\"Not Guilty\" 1924 Deer Brand', 0.0, 0.0, 0.0, 0.0], ['\"Fade To Black\" Porter', '\"Not Your Bock\" Maibock', 0.0, 0.0, 0.0, 0.0], ['\"Fade To Black\" Porter', '\"O Smokey Night\"', 0.0, 0.0, 0.0, 0.0], ['\"Fade To Black\" Porter', '\"O!\" Gold', 0.0, 0.0, 0.0, 0.0], ['\"Fade To Black\" Porter', '\"Old School\" Craft Cream Ale', 0.0, 0.0, 0.0, 0.0], ['\"Fade To Black\" Porter', '\"Old Yeltsin\" Imperial Stout', 0.0, 0.0, 0.0, 0.0], ['\"Fade To Black\" Porter', '\"Requisite\" Imperialistic Stout', 0.0, 0.0, 0.0, 0.0], ['\"Fade To Black\" Porter', '\"See No Evil\" American Pale Ale', 0.0, 0.0, 0.0, 0.0], ['\"Fade To Black\" Porter', '\"Shabadoo\" Black & Tan Ale', 0.0, 0.0, 0.0, 0.0], ['\"Fade To Black\" Porter', '\"Six\" Belgian Style Table Beer', 0.0, 0.0, 0.0, 0.0], ['\"Fade To Black\" Porter', '\"Stout Stoat\" Stout', 0.0, 0.0, 0.0, 0.0], ['\"Fade To Black\" Porter', '\"Talk To Me\" IPA', 0.0, 0.0, 0.0, 0.0], ['\"Fade To Black\" Porter', '\"The Bridge\" Nut-Brown Ale', 0.0, 0.0, 0.0, 0.0], ['\"Fade To Black\" Porter', '\"The Buk\" Pale Ale', 0.0, 0.0, 0.0, 0.0], ['\"Fade To Black\" Porter', '\"The Camp\" Barleywine', 0.0, 0.0, 0.0, 0.0], ['\"Fade To Black\" Porter', '\"The Mountain\" Ale', 0.0, 0.0, 0.0, 0.0], ['\"Fade To Black\" Porter', '\"The Wind Cried Mari...\" Scottish Heather Ale', 0.0, 0.0, 0.0, 0.0], ['\"Fade To Black\" Porter', '\"They Made Me Do It\" Blueberry Ale', 0.0, 0.0, 0.0, 0.0], ['\"Fade To Black\" Porter', '\"Trouble\"', 0.0, 0.0, 0.0, 0.0], ['\"Fade To Black\" Porter', '\"True Blue\" Blueberry Ale', 0.0, 0.0, 0.0, 0.0], ['\"Fade To Black\" Porter', '\"Woosta\" Weizenbock', 0.0, 0.0, 0.0, 0.0], ['\"Fade To Black\" Porter', '# 100', 0.0, 0.0, 0.0, 0.0], ['\"Fade To Black\" Porter', \"#'s Ale\", 0.0, 0.0, 0.0, 0.0], ['\"Fade To Black\" Porter', \"Dale's Pale Ale\", 1.0, 1.0, 1.0, 1.0], ['\"Great Satchmo\" Stout', '! (Old Ale)', 0.0, 0.0, 0.0, 0.0], ['\"Great Satchmo\" Stout', '\"100\"', 0.0, 0.0, 0.0, 0.0], ['\"Great Satchmo\" Stout', '\"100\" Pale Ale', 0.0, 0.0, 0.0, 0.0], ['\"Great Satchmo\" Stout', '\"12\"  Belgian Golden Strong Ale', 0.0, 0.0, 0.0, 0.0], ['\"Great Satchmo\" Stout', '\"33\" Export', 0.0, 0.0, 0.0, 0.0], ['\"Great Satchmo\" Stout', '\"4\" Horse Oatmeal Stout', 0.0, 0.0, 0.0, 0.0], ['\"Great Satchmo\" Stout', '\"400\" Ale', 0.0, 0.0, 0.0, 0.0], ['\"Great Satchmo\" Stout', '\"50\" Golden Anniversary Lager', 0.0, 0.0, 0.0, 0.0], ['\"Great Satchmo\" Stout', '\"76\" Anniversary Ale', 0.0, 0.0, 0.0, 0.0], ['\"Great Satchmo\" Stout', '\"76\" Anniversary Ale With English Hops', 0.0, 0.0, 0.0, 0.0], ['\"Great Satchmo\" Stout', '\"Alt\"ered State', 0.0, 0.0, 0.0, 0.0], ['\"Great Satchmo\" Stout', '\"Best Of Both Worlds\" Stout', 0.0, 0.0, 0.0, 0.0], ['\"Great Satchmo\" Stout', '\"Cellar Reserve\" Triple Gold', 0.0, 0.0, 0.0, 0.0], ['\"Great Satchmo\" Stout', '\"Certifiably\" Blonde Ale', 0.0, 0.0, 0.0, 0.0], ['\"Great Satchmo\" Stout', '\"Check-Mate\" Cask Pilsner', 0.0, 0.0, 0.0, 0.0], ['\"Great Satchmo\" Stout', '\"Double Wrecked Wreck\" IPA', 0.0, 0.0, 0.0, 0.0], ['\"Great Satchmo\" Stout', '\"Fade To Black\" Porter', 0.0, 0.0, 0.0, 0.0], ['\"Great Satchmo\" Stout', '\"Hop Obama\" Ale', 0.0, 0.0, 0.0, 0.0], ['\"Great Satchmo\" Stout', '\"Jessica & Brendan\\'s\" Bridal Ale', 0.0, 0.0, 0.0, 0.0], ['\"Great Satchmo\" Stout', '\"Just One More\" Scotch Ale', 0.0, 0.0, 0.0, 0.0], ['\"Great Satchmo\" Stout', '\"Little John\\'s Myth\" Robust Porter', 0.0, 0.0, 0.0, 0.0], ['\"Great Satchmo\" Stout', '\"M\"', 0.0, 0.0, 0.0, 0.0], ['\"Great Satchmo\" Stout', '\"M\"-perial Stout', 0.0, 0.0, 0.0, 0.0], ['\"Great Satchmo\" Stout', '\"Marnie\" Gras Carnival Ale', 0.0, 0.0, 0.0, 0.0], ['\"Great Satchmo\" Stout', '\"Naughty Scot\" Scotch Ale', 0.0, 0.0, 0.0, 0.0], ['\"Great Satchmo\" Stout', '\"Nein Toll Bier\" German Alt', 0.0, 0.0, 0.0, 0.0], ['\"Great Satchmo\" Stout', '\"Not Guilty\" 1924 Deer Brand', 0.0, 0.0, 0.0, 0.0], ['\"Great Satchmo\" Stout', '\"Not Your Bock\" Maibock', 0.0, 0.0, 0.0, 0.0], ['\"Great Satchmo\" Stout', '\"O Smokey Night\"', 0.0, 0.0, 0.0, 0.0], ['\"Great Satchmo\" Stout', '\"O!\" Gold', 0.0, 0.0, 0.0, 0.0], ['\"Great Satchmo\" Stout', '\"Old School\" Craft Cream Ale', 0.0, 0.0, 0.0, 0.0], ['\"Great Satchmo\" Stout', '\"Old Yeltsin\" Imperial Stout', 0.0, 0.0, 0.0, 0.0], ['\"Great Satchmo\" Stout', '\"Requisite\" Imperialistic Stout', 0.0, 0.0, 0.0, 0.0], ['\"Great Satchmo\" Stout', '\"See No Evil\" American Pale Ale', 0.0, 0.0, 0.0, 0.0], ['\"Great Satchmo\" Stout', '\"Shabadoo\" Black & Tan Ale', 0.0, 0.0, 0.0, 0.0], ['\"Great Satchmo\" Stout', '\"Six\" Belgian Style Table Beer', 0.0, 0.0, 0.0, 0.0], ['\"Great Satchmo\" Stout', '\"Stout Stoat\" Stout', 0.0, 0.0, 0.0, 0.0], ['\"Great Satchmo\" Stout', '\"Talk To Me\" IPA', 0.0, 0.0, 0.0, 0.0], ['\"Great Satchmo\" Stout', '\"The Bridge\" Nut-Brown Ale', 0.0, 0.0, 0.0, 0.0], ['\"Great Satchmo\" Stout', '\"The Buk\" Pale Ale', 0.0, 0.0, 0.0, 0.0], ['\"Great Satchmo\" Stout', '\"The Camp\" Barleywine', 0.0, 0.0, 0.0, 0.0], ['\"Great Satchmo\" Stout', '\"The Mountain\" Ale', 0.0, 0.0, 0.0, 0.0], ['\"Great Satchmo\" Stout', '\"The Wind Cried Mari...\" Scottish Heather Ale', 0.0, 0.0, 0.0, 0.0], ['\"Great Satchmo\" Stout', '\"They Made Me Do It\" Blueberry Ale', 0.0, 0.0, 0.0, 0.0], ['\"Great Satchmo\" Stout', '\"Trouble\"', 0.0, 0.0, 0.0, 0.0], ['\"Great Satchmo\" Stout', '\"True Blue\" Blueberry Ale', 0.0, 0.0, 0.0, 0.0], ['\"Great Satchmo\" Stout', '\"Woosta\" Weizenbock', 0.0, 0.0, 0.0, 0.0], ['\"Great Satchmo\" Stout', '# 100', 0.0, 0.0, 0.0, 0.0], ['\"Great Satchmo\" Stout', \"#'s Ale\", 0.0, 0.0, 0.0, 0.0], ['\"Great Satchmo\" Stout', \"Dale's Pale Ale\", 0.0, 0.0, 0.0, 0.0], ['\"Hop Obama\" Ale', '! (Old Ale)', 0.0, 0.0, 0.0, 0.0], ['\"Hop Obama\" Ale', '\"100\"', 0.0, 0.0, 0.0, 0.0], ['\"Hop Obama\" Ale', '\"100\" Pale Ale', 0.0, 0.0, 0.0, 0.0], ['\"Hop Obama\" Ale', '\"12\"  Belgian Golden Strong Ale', 0.0, 0.0, 0.0, 0.0], ['\"Hop Obama\" Ale', '\"33\" Export', 0.0, 0.0, 0.0, 0.0], ['\"Hop Obama\" Ale', '\"4\" Horse Oatmeal Stout', 0.0, 0.0, 0.0, 0.0], ['\"Hop Obama\" Ale', '\"400\" Ale', 0.0, 0.0, 0.0, 0.0], ['\"Hop Obama\" Ale', '\"50\" Golden Anniversary Lager', 0.0, 0.0, 0.0, 0.0], ['\"Hop Obama\" Ale', '\"76\" Anniversary Ale', 0.0, 0.0, 0.0, 0.0], ['\"Hop Obama\" Ale', '\"76\" Anniversary Ale With English Hops', 0.0, 0.0, 0.0, 0.0], ['\"Hop Obama\" Ale', '\"Alt\"ered State', 1.0, 1.0, 1.0, 1.0], ['\"Hop Obama\" Ale', '\"Best Of Both Worlds\" Stout', 0.0, 0.0, 0.0, 0.0], ['\"Hop Obama\" Ale', '\"Cellar Reserve\" Triple Gold', 0.0, 0.0, 0.0, 0.0], ['\"Hop Obama\" Ale', '\"Certifiably\" Blonde Ale', 0.0, 0.0, 0.0, 0.0], ['\"Hop Obama\" Ale', '\"Check-Mate\" Cask Pilsner', 0.0, 0.0, 0.0, 0.0], ['\"Hop Obama\" Ale', '\"Double Wrecked Wreck\" IPA', 0.0, 0.0, 0.0, 0.0], ['\"Hop Obama\" Ale', '\"Fade To Black\" Porter', 0.0, 0.0, 0.0, 0.0], ['\"Hop Obama\" Ale', '\"Great Satchmo\" Stout', 0.0, 0.0, 0.0, 0.0], ['\"Hop Obama\" Ale', '\"Jessica & Brendan\\'s\" Bridal Ale', 0.0, 0.0, 0.0, 0.0], ['\"Hop Obama\" Ale', '\"Just One More\" Scotch Ale', 0.0, 0.0, 0.0, 0.0], ['\"Hop Obama\" Ale', '\"Little John\\'s Myth\" Robust Porter', 0.0, 0.0, 0.0, 0.0], ['\"Hop Obama\" Ale', '\"M\"', 0.0, 0.0, 0.0, 0.0], ['\"Hop Obama\" Ale', '\"M\"-perial Stout', 0.0, 0.0, 0.0, 0.0], ['\"Hop Obama\" Ale', '\"Marnie\" Gras Carnival Ale', 0.0, 0.0, 0.0, 0.0], ['\"Hop Obama\" Ale', '\"Naughty Scot\" Scotch Ale', 0.0, 0.0, 0.0, 0.0], ['\"Hop Obama\" Ale', '\"Nein Toll Bier\" German Alt', 0.0, 0.0, 0.0, 0.0], ['\"Hop Obama\" Ale', '\"Not Guilty\" 1924 Deer Brand', 0.0, 0.0, 0.0, 0.0], ['\"Hop Obama\" Ale', '\"Not Your Bock\" Maibock', 0.0, 0.0, 0.0, 0.0], ['\"Hop Obama\" Ale', '\"O Smokey Night\"', 0.0, 0.0, 0.0, 0.0], ['\"Hop Obama\" Ale', '\"O!\" Gold', 0.0, 0.0, 0.0, 0.0], ['\"Hop Obama\" Ale', '\"Old School\" Craft Cream Ale', 0.0, 0.0, 0.0, 0.0], ['\"Hop Obama\" Ale', '\"Old Yeltsin\" Imperial Stout', 0.99778515785660882, 0.9982743731749959, 0.99215722222645342, 0.99778515785660882], ['\"Hop Obama\" Ale', '\"Requisite\" Imperialistic Stout', 0.0, 0.0, 0.0, 0.0], ['\"Hop Obama\" Ale', '\"See No Evil\" American Pale Ale', 0.0, 0.0, 0.0, 0.0], ['\"Hop Obama\" Ale', '\"Shabadoo\" Black & Tan Ale', 0.99996948381878781, 0.98994949366116647, 0.98994949366116647, 0.99996948381878781], ['\"Hop Obama\" Ale', '\"Six\" Belgian Style Table Beer', 0.0, 0.0, 0.0, 0.0], ['\"Hop Obama\" Ale', '\"Stout Stoat\" Stout', 0.0, 0.0, 0.0, 0.0], ['\"Hop Obama\" Ale', '\"Talk To Me\" IPA', 0.0, 0.0, 0.0, 0.0], ['\"Hop Obama\" Ale', '\"The Bridge\" Nut-Brown Ale', 0.0, 0.0, 0.0, 0.0], ['\"Hop Obama\" Ale', '\"The Buk\" Pale Ale', 1.0, 1.0, 1.0, 1.0], ['\"Hop Obama\" Ale', '\"The Camp\" Barleywine', 0.0, 0.0, 0.0, 0.0], ['\"Hop Obama\" Ale', '\"The Mountain\" Ale', 0.0, 0.0, 0.0, 0.0], ['\"Hop Obama\" Ale', '\"The Wind Cried Mari...\" Scottish Heather Ale', 1.0, 1.0, 1.0, 1.0], ['\"Hop Obama\" Ale', '\"They Made Me Do It\" Blueberry Ale', 0.0, 0.0, 0.0, 0.0], ['\"Hop Obama\" Ale', '\"Trouble\"', 0.0, 0.0, 0.0, 0.0], ['\"Hop Obama\" Ale', '\"True Blue\" Blueberry Ale', 1.0, 1.0, 1.0, 1.0], ['\"Hop Obama\" Ale', '\"Woosta\" Weizenbock', 0.0, 0.0, 0.0, 0.0], ['\"Hop Obama\" Ale', '# 100', 0.99133688278298038, 0.99651225516825004, 0.99655147663212162, 0.9947183863256065], ['\"Hop Obama\" Ale', \"#'s Ale\", 0.99996948381878781, 0.99833080566982058, 1.0, 0.99778515785660882], ['\"Hop Obama\" Ale', \"Dale's Pale Ale\", 0.99159075063695945, 0.99230065682115298, 0.99609098652342432, 0.9941002672648005], ['\"Jessica & Brendan\\'s\" Bridal Ale', '! (Old Ale)', 0.0, 0.0, 0.0, 0.0], ['\"Jessica & Brendan\\'s\" Bridal Ale', '\"100\"', 0.0, 0.0, 0.0, 0.0], ['\"Jessica & Brendan\\'s\" Bridal Ale', '\"100\" Pale Ale', 0.0, 0.0, 0.0, 0.0], ['\"Jessica & Brendan\\'s\" Bridal Ale', '\"12\"  Belgian Golden Strong Ale', 0.0, 0.0, 0.0, 0.0], ['\"Jessica & Brendan\\'s\" Bridal Ale', '\"33\" Export', 0.0, 0.0, 0.0, 0.0], ['\"Jessica & Brendan\\'s\" Bridal Ale', '\"4\" Horse Oatmeal Stout', 0.0, 0.0, 0.0, 0.0], ['\"Jessica & Brendan\\'s\" Bridal Ale', '\"400\" Ale', 0.0, 0.0, 0.0, 0.0], ['\"Jessica & Brendan\\'s\" Bridal Ale', '\"50\" Golden Anniversary Lager', 0.0, 0.0, 0.0, 0.0], ['\"Jessica & Brendan\\'s\" Bridal Ale', '\"76\" Anniversary Ale', 0.0, 0.0, 0.0, 0.0], ['\"Jessica & Brendan\\'s\" Bridal Ale', '\"76\" Anniversary Ale With English Hops', 0.0, 0.0, 0.0, 0.0], ['\"Jessica & Brendan\\'s\" Bridal Ale', '\"Alt\"ered State', 0.0, 0.0, 0.0, 0.0], ['\"Jessica & Brendan\\'s\" Bridal Ale', '\"Best Of Both Worlds\" Stout', 0.0, 0.0, 0.0, 0.0], ['\"Jessica & Brendan\\'s\" Bridal Ale', '\"Cellar Reserve\" Triple Gold', 0.0, 0.0, 0.0, 0.0], ['\"Jessica & Brendan\\'s\" Bridal Ale', '\"Certifiably\" Blonde Ale', 0.0, 0.0, 0.0, 0.0], ['\"Jessica & Brendan\\'s\" Bridal Ale', '\"Check-Mate\" Cask Pilsner', 0.0, 0.0, 0.0, 0.0], ['\"Jessica & Brendan\\'s\" Bridal Ale', '\"Double Wrecked Wreck\" IPA', 0.0, 0.0, 0.0, 0.0], ['\"Jessica & Brendan\\'s\" Bridal Ale', '\"Fade To Black\" Porter', 0.0, 0.0, 0.0, 0.0], ['\"Jessica & Brendan\\'s\" Bridal Ale', '\"Great Satchmo\" Stout', 0.0, 0.0, 0.0, 0.0], ['\"Jessica & Brendan\\'s\" Bridal Ale', '\"Hop Obama\" Ale', 0.0, 0.0, 0.0, 0.0], ['\"Jessica & Brendan\\'s\" Bridal Ale', '\"Just One More\" Scotch Ale', 0.0, 0.0, 0.0, 0.0], ['\"Jessica & Brendan\\'s\" Bridal Ale', '\"Little John\\'s Myth\" Robust Porter', 0.0, 0.0, 0.0, 0.0], ['\"Jessica & Brendan\\'s\" Bridal Ale', '\"M\"', 0.0, 0.0, 0.0, 0.0], ['\"Jessica & Brendan\\'s\" Bridal Ale', '\"M\"-perial Stout', 0.0, 0.0, 0.0, 0.0], ['\"Jessica & Brendan\\'s\" Bridal Ale', '\"Marnie\" Gras Carnival Ale', 0.0, 0.0, 0.0, 0.0], ['\"Jessica & Brendan\\'s\" Bridal Ale', '\"Naughty Scot\" Scotch Ale', 0.0, 0.0, 0.0, 0.0], ['\"Jessica & Brendan\\'s\" Bridal Ale', '\"Nein Toll Bier\" German Alt', 0.0, 0.0, 0.0, 0.0], ['\"Jessica & Brendan\\'s\" Bridal Ale', '\"Not Guilty\" 1924 Deer Brand', 0.0, 0.0, 0.0, 0.0], ['\"Jessica & Brendan\\'s\" Bridal Ale', '\"Not Your Bock\" Maibock', 0.0, 0.0, 0.0, 0.0], ['\"Jessica & Brendan\\'s\" Bridal Ale', '\"O Smokey Night\"', 0.0, 0.0, 0.0, 0.0], ['\"Jessica & Brendan\\'s\" Bridal Ale', '\"O!\" Gold', 0.0, 0.0, 0.0, 0.0], ['\"Jessica & Brendan\\'s\" Bridal Ale', '\"Old School\" Craft Cream Ale', 0.0, 0.0, 0.0, 0.0], ['\"Jessica & Brendan\\'s\" Bridal Ale', '\"Old Yeltsin\" Imperial Stout', 0.0, 0.0, 0.0, 0.0], ['\"Jessica & Brendan\\'s\" Bridal Ale', '\"Requisite\" Imperialistic Stout', 1.0, 1.0, 1.0, 1.0], ['\"Jessica & Brendan\\'s\" Bridal Ale', '\"See No Evil\" American Pale Ale', 0.0, 0.0, 0.0, 0.0], ['\"Jessica & Brendan\\'s\" Bridal Ale', '\"Shabadoo\" Black & Tan Ale', 0.0, 0.0, 0.0, 0.0], ['\"Jessica & Brendan\\'s\" Bridal Ale', '\"Six\" Belgian Style Table Beer', 0.0, 0.0, 0.0, 0.0], ['\"Jessica & Brendan\\'s\" Bridal Ale', '\"Stout Stoat\" Stout', 0.0, 0.0, 0.0, 0.0], ['\"Jessica & Brendan\\'s\" Bridal Ale', '\"Talk To Me\" IPA', 0.0, 0.0, 0.0, 0.0], ['\"Jessica & Brendan\\'s\" Bridal Ale', '\"The Bridge\" Nut-Brown Ale', 0.0, 0.0, 0.0, 0.0], ['\"Jessica & Brendan\\'s\" Bridal Ale', '\"The Buk\" Pale Ale', 0.0, 0.0, 0.0, 0.0], ['\"Jessica & Brendan\\'s\" Bridal Ale', '\"The Camp\" Barleywine', 0.0, 0.0, 0.0, 0.0], ['\"Jessica & Brendan\\'s\" Bridal Ale', '\"The Mountain\" Ale', 0.0, 0.0, 0.0, 0.0], ['\"Jessica & Brendan\\'s\" Bridal Ale', '\"The Wind Cried Mari...\" Scottish Heather Ale', 0.0, 0.0, 0.0, 0.0], ['\"Jessica & Brendan\\'s\" Bridal Ale', '\"They Made Me Do It\" Blueberry Ale', 0.0, 0.0, 0.0, 0.0], ['\"Jessica & Brendan\\'s\" Bridal Ale', '\"Trouble\"', 0.0, 0.0, 0.0, 0.0], ['\"Jessica & Brendan\\'s\" Bridal Ale', '\"True Blue\" Blueberry Ale', 0.0, 0.0, 0.0, 0.0], ['\"Jessica & Brendan\\'s\" Bridal Ale', '\"Woosta\" Weizenbock', 0.0, 0.0, 0.0, 0.0], ['\"Jessica & Brendan\\'s\" Bridal Ale', '# 100', 0.99905615835505945, 0.99788010596581844, 0.99434561695850276, 0.99896854021029968], ['\"Jessica & Brendan\\'s\" Bridal Ale', \"#'s Ale\", 0.96737222338024531, 0.9970544855015816, 0.99705448550158149, 0.98994949366116647], ['\"Jessica & Brendan\\'s\" Bridal Ale', \"Dale's Pale Ale\", 0.93237973802473961, 0.9777278949739916, 0.98478355881793678, 0.92676044620488363], ['\"Just One More\" Scotch Ale', '! (Old Ale)', 0.0, 0.0, 0.0, 0.0], ['\"Just One More\" Scotch Ale', '\"100\"', 0.0, 0.0, 0.0, 0.0], ['\"Just One More\" Scotch Ale', '\"100\" Pale Ale', 0.0, 0.0, 0.0, 0.0], ['\"Just One More\" Scotch Ale', '\"12\"  Belgian Golden Strong Ale', 0.0, 0.0, 0.0, 0.0], ['\"Just One More\" Scotch Ale', '\"33\" Export', 0.0, 0.0, 0.0, 0.0], ['\"Just One More\" Scotch Ale', '\"4\" Horse Oatmeal Stout', 0.0, 0.0, 0.0, 0.0], ['\"Just One More\" Scotch Ale', '\"400\" Ale', 0.0, 0.0, 0.0, 0.0], ['\"Just One More\" Scotch Ale', '\"50\" Golden Anniversary Lager', 0.0, 0.0, 0.0, 0.0], ['\"Just One More\" Scotch Ale', '\"76\" Anniversary Ale', 1.0, 1.0, 1.0, 1.0], ['\"Just One More\" Scotch Ale', '\"76\" Anniversary Ale With English Hops', 1.0, 1.0, 1.0, 1.0], ['\"Just One More\" Scotch Ale', '\"Alt\"ered State', 0.0, 0.0, 0.0, 0.0], ['\"Just One More\" Scotch Ale', '\"Best Of Both Worlds\" Stout', 0.0, 0.0, 0.0, 0.0], ['\"Just One More\" Scotch Ale', '\"Cellar Reserve\" Triple Gold', 0.0, 0.0, 0.0, 0.0], ['\"Just One More\" Scotch Ale', '\"Certifiably\" Blonde Ale', 0.0, 0.0, 0.0, 0.0], ['\"Just One More\" Scotch Ale', '\"Check-Mate\" Cask Pilsner', 0.0, 0.0, 0.0, 0.0], ['\"Just One More\" Scotch Ale', '\"Double Wrecked Wreck\" IPA', 0.0, 0.0, 0.0, 0.0], ['\"Just One More\" Scotch Ale', '\"Fade To Black\" Porter', 0.0, 0.0, 0.0, 0.0], ['\"Just One More\" Scotch Ale', '\"Great Satchmo\" Stout', 0.0, 0.0, 0.0, 0.0], ['\"Just One More\" Scotch Ale', '\"Hop Obama\" Ale', 0.0, 0.0, 0.0, 0.0], ['\"Just One More\" Scotch Ale', '\"Jessica & Brendan\\'s\" Bridal Ale', 0.0, 0.0, 0.0, 0.0], ['\"Just One More\" Scotch Ale', '\"Little John\\'s Myth\" Robust Porter', 0.0, 0.0, 0.0, 0.0], ['\"Just One More\" Scotch Ale', '\"M\"', 0.0, 0.0, 0.0, 0.0], ['\"Just One More\" Scotch Ale', '\"M\"-perial Stout', 0.0, 0.0, 0.0, 0.0], ['\"Just One More\" Scotch Ale', '\"Marnie\" Gras Carnival Ale', 0.0, 0.0, 0.0, 0.0], ['\"Just One More\" Scotch Ale', '\"Naughty Scot\" Scotch Ale', 0.0, 0.0, 0.0, 0.0], ['\"Just One More\" Scotch Ale', '\"Nein Toll Bier\" German Alt', 0.0, 0.0, 0.0, 0.0], ['\"Just One More\" Scotch Ale', '\"Not Guilty\" 1924 Deer Brand', 0.0, 0.0, 0.0, 0.0], ['\"Just One More\" Scotch Ale', '\"Not Your Bock\" Maibock', 0.0, 0.0, 0.0, 0.0], ['\"Just One More\" Scotch Ale', '\"O Smokey Night\"', 0.0, 0.0, 0.0, 0.0], ['\"Just One More\" Scotch Ale', '\"O!\" Gold', 0.0, 0.0, 0.0, 0.0], ['\"Just One More\" Scotch Ale', '\"Old School\" Craft Cream Ale', 0.0, 0.0, 0.0, 0.0], ['\"Just One More\" Scotch Ale', '\"Old Yeltsin\" Imperial Stout', 0.0, 0.0, 0.0, 0.0], ['\"Just One More\" Scotch Ale', '\"Requisite\" Imperialistic Stout', 0.0, 0.0, 0.0, 0.0], ['\"Just One More\" Scotch Ale', '\"See No Evil\" American Pale Ale', 0.0, 0.0, 0.0, 0.0], ['\"Just One More\" Scotch Ale', '\"Shabadoo\" Black & Tan Ale', 1.0, 1.0, 1.0, 1.0], ['\"Just One More\" Scotch Ale', '\"Six\" Belgian Style Table Beer', 0.0, 0.0, 0.0, 0.0], ['\"Just One More\" Scotch Ale', '\"Stout Stoat\" Stout', 0.0, 0.0, 0.0, 0.0], ['\"Just One More\" Scotch Ale', '\"Talk To Me\" IPA', 0.0, 0.0, 0.0, 0.0], ['\"Just One More\" Scotch Ale', '\"The Bridge\" Nut-Brown Ale', 0.0, 0.0, 0.0, 0.0], ['\"Just One More\" Scotch Ale', '\"The Buk\" Pale Ale', 0.0, 0.0, 0.0, 0.0], ['\"Just One More\" Scotch Ale', '\"The Camp\" Barleywine', 0.0, 0.0, 0.0, 0.0], ['\"Just One More\" Scotch Ale', '\"The Mountain\" Ale', 0.0, 0.0, 0.0, 0.0], ['\"Just One More\" Scotch Ale', '\"The Wind Cried Mari...\" Scottish Heather Ale', 0.0, 0.0, 0.0, 0.0], ['\"Just One More\" Scotch Ale', '\"They Made Me Do It\" Blueberry Ale', 0.0, 0.0, 0.0, 0.0], ['\"Just One More\" Scotch Ale', '\"Trouble\"', 0.0, 0.0, 0.0, 0.0], ['\"Just One More\" Scotch Ale', '\"True Blue\" Blueberry Ale', 0.0, 0.0, 0.0, 0.0], ['\"Just One More\" Scotch Ale', '\"Woosta\" Weizenbock', 0.0, 0.0, 0.0, 0.0], ['\"Just One More\" Scotch Ale', '# 100', 0.0, 0.0, 0.0, 0.0], ['\"Just One More\" Scotch Ale', \"#'s Ale\", 0.0, 0.0, 0.0, 0.0], ['\"Just One More\" Scotch Ale', \"Dale's Pale Ale\", 0.98515748782748291, 0.99326591666484454, 0.99811498418631661, 0.97986577181208068], ['\"Little John\\'s Myth\" Robust Porter', '! (Old Ale)', 0.0, 0.0, 0.0, 0.0], ['\"Little John\\'s Myth\" Robust Porter', '\"100\"', 0.0, 0.0, 0.0, 0.0], ['\"Little John\\'s Myth\" Robust Porter', '\"100\" Pale Ale', 0.0, 0.0, 0.0, 0.0], ['\"Little John\\'s Myth\" Robust Porter', '\"12\"  Belgian Golden Strong Ale', 0.0, 0.0, 0.0, 0.0], ['\"Little John\\'s Myth\" Robust Porter', '\"33\" Export', 0.0, 0.0, 0.0, 0.0], ['\"Little John\\'s Myth\" Robust Porter', '\"4\" Horse Oatmeal Stout', 0.0, 0.0, 0.0, 0.0], ['\"Little John\\'s Myth\" Robust Porter', '\"400\" Ale', 0.0, 0.0, 0.0, 0.0], ['\"Little John\\'s Myth\" Robust Porter', '\"50\" Golden Anniversary Lager', 0.0, 0.0, 0.0, 0.0], ['\"Little John\\'s Myth\" Robust Porter', '\"76\" Anniversary Ale', 0.0, 0.0, 0.0, 0.0], ['\"Little John\\'s Myth\" Robust Porter', '\"76\" Anniversary Ale With English Hops', 0.0, 0.0, 0.0, 0.0], ['\"Little John\\'s Myth\" Robust Porter', '\"Alt\"ered State', 0.0, 0.0, 0.0, 0.0], ['\"Little John\\'s Myth\" Robust Porter', '\"Best Of Both Worlds\" Stout', 0.0, 0.0, 0.0, 0.0], ['\"Little John\\'s Myth\" Robust Porter', '\"Cellar Reserve\" Triple Gold', 0.0, 0.0, 0.0, 0.0], ['\"Little John\\'s Myth\" Robust Porter', '\"Certifiably\" Blonde Ale', 0.0, 0.0, 0.0, 0.0], ['\"Little John\\'s Myth\" Robust Porter', '\"Check-Mate\" Cask Pilsner', 1.0, 1.0, 1.0, 1.0], ['\"Little John\\'s Myth\" Robust Porter', '\"Double Wrecked Wreck\" IPA', 0.0, 0.0, 0.0, 0.0], ['\"Little John\\'s Myth\" Robust Porter', '\"Fade To Black\" Porter', 0.0, 0.0, 0.0, 0.0], ['\"Little John\\'s Myth\" Robust Porter', '\"Great Satchmo\" Stout', 0.0, 0.0, 0.0, 0.0], ['\"Little John\\'s Myth\" Robust Porter', '\"Hop Obama\" Ale', 0.0, 0.0, 0.0, 0.0], ['\"Little John\\'s Myth\" Robust Porter', '\"Jessica & Brendan\\'s\" Bridal Ale', 0.0, 0.0, 0.0, 0.0], ['\"Little John\\'s Myth\" Robust Porter', '\"Just One More\" Scotch Ale', 0.0, 0.0, 0.0, 0.0], ['\"Little John\\'s Myth\" Robust Porter', '\"M\"', 0.0, 0.0, 0.0, 0.0], ['\"Little John\\'s Myth\" Robust Porter', '\"M\"-perial Stout', 0.0, 0.0, 0.0, 0.0], ['\"Little John\\'s Myth\" Robust Porter', '\"Marnie\" Gras Carnival Ale', 0.0, 0.0, 0.0, 0.0], ['\"Little John\\'s Myth\" Robust Porter', '\"Naughty Scot\" Scotch Ale', 0.0, 0.0, 0.0, 0.0], ['\"Little John\\'s Myth\" Robust Porter', '\"Nein Toll Bier\" German Alt', 0.0, 0.0, 0.0, 0.0], ['\"Little John\\'s Myth\" Robust Porter', '\"Not Guilty\" 1924 Deer Brand', 0.0, 0.0, 0.0, 0.0], ['\"Little John\\'s Myth\" Robust Porter', '\"Not Your Bock\" Maibock', 0.0, 0.0, 0.0, 0.0], ['\"Little John\\'s Myth\" Robust Porter', '\"O Smokey Night\"', 0.0, 0.0, 0.0, 0.0], ['\"Little John\\'s Myth\" Robust Porter', '\"O!\" Gold', 0.0, 0.0, 0.0, 0.0], ['\"Little John\\'s Myth\" Robust Porter', '\"Old School\" Craft Cream Ale', 0.0, 0.0, 0.0, 0.0], ['\"Little John\\'s Myth\" Robust Porter', '\"Old Yeltsin\" Imperial Stout', 0.0, 0.0, 0.0, 0.0], ['\"Little John\\'s Myth\" Robust Porter', '\"Requisite\" Imperialistic Stout', 0.0, 0.0, 0.0, 0.0], ['\"Little John\\'s Myth\" Robust Porter', '\"See No Evil\" American Pale Ale', 0.0, 0.0, 0.0, 0.0], ['\"Little John\\'s Myth\" Robust Porter', '\"Shabadoo\" Black & Tan Ale', 0.0, 0.0, 0.0, 0.0], ['\"Little John\\'s Myth\" Robust Porter', '\"Six\" Belgian Style Table Beer', 0.0, 0.0, 0.0, 0.0], ['\"Little John\\'s Myth\" Robust Porter', '\"Stout Stoat\" Stout', 1.0, 1.0, 1.0, 1.0], ['\"Little John\\'s Myth\" Robust Porter', '\"Talk To Me\" IPA', 0.0, 0.0, 0.0, 0.0], ['\"Little John\\'s Myth\" Robust Porter', '\"The Bridge\" Nut-Brown Ale', 0.0, 0.0, 0.0, 0.0], ['\"Little John\\'s Myth\" Robust Porter', '\"The Buk\" Pale Ale', 0.0, 0.0, 0.0, 0.0], ['\"Little John\\'s Myth\" Robust Porter', '\"The Camp\" Barleywine', 0.0, 0.0, 0.0, 0.0], ['\"Little John\\'s Myth\" Robust Porter', '\"The Mountain\" Ale', 0.0, 0.0, 0.0, 0.0], ['\"Little John\\'s Myth\" Robust Porter', '\"The Wind Cried Mari...\" Scottish Heather Ale', 0.0, 0.0, 0.0, 0.0], ['\"Little John\\'s Myth\" Robust Porter', '\"They Made Me Do It\" Blueberry Ale', 0.0, 0.0, 0.0, 0.0], ['\"Little John\\'s Myth\" Robust Porter', '\"Trouble\"', 0.0, 0.0, 0.0, 0.0], ['\"Little John\\'s Myth\" Robust Porter', '\"True Blue\" Blueberry Ale', 0.0, 0.0, 0.0, 0.0], ['\"Little John\\'s Myth\" Robust Porter', '\"Woosta\" Weizenbock', 0.0, 0.0, 0.0, 0.0], ['\"Little John\\'s Myth\" Robust Porter', '# 100', 0.0, 0.0, 0.0, 0.0], ['\"Little John\\'s Myth\" Robust Porter', \"#'s Ale\", 0.0, 0.0, 0.0, 0.0], ['\"Little John\\'s Myth\" Robust Porter', \"Dale's Pale Ale\", 0.0, 0.0, 0.0, 0.0], ['\"M\"', '! (Old Ale)', 0.0, 0.0, 0.0, 0.0], ['\"M\"', '\"100\"', 0.0, 0.0, 0.0, 0.0], ['\"M\"', '\"100\" Pale Ale', 0.0, 0.0, 0.0, 0.0], ['\"M\"', '\"12\"  Belgian Golden Strong Ale', 0.0, 0.0, 0.0, 0.0], ['\"M\"', '\"33\" Export', 0.0, 0.0, 0.0, 0.0], ['\"M\"', '\"4\" Horse Oatmeal Stout', 0.0, 0.0, 0.0, 0.0], ['\"M\"', '\"400\" Ale', 0.0, 0.0, 0.0, 0.0], ['\"M\"', '\"50\" Golden Anniversary Lager', 0.0, 0.0, 0.0, 0.0], ['\"M\"', '\"76\" Anniversary Ale', 0.0, 0.0, 0.0, 0.0], ['\"M\"', '\"76\" Anniversary Ale With English Hops', 0.0, 0.0, 0.0, 0.0], ['\"M\"', '\"Alt\"ered State', 0.0, 0.0, 0.0, 0.0], ['\"M\"', '\"Best Of Both Worlds\" Stout', 0.0, 0.0, 0.0, 0.0], ['\"M\"', '\"Cellar Reserve\" Triple Gold', 0.0, 0.0, 0.0, 0.0], ['\"M\"', '\"Certifiably\" Blonde Ale', 0.0, 0.0, 0.0, 0.0], ['\"M\"', '\"Check-Mate\" Cask Pilsner', 0.0, 0.0, 0.0, 0.0], ['\"M\"', '\"Double Wrecked Wreck\" IPA', 0.0, 0.0, 0.0, 0.0], ['\"M\"', '\"Fade To Black\" Porter', 0.0, 0.0, 0.0, 0.0], ['\"M\"', '\"Great Satchmo\" Stout', 0.0, 0.0, 0.0, 0.0], ['\"M\"', '\"Hop Obama\" Ale', 0.0, 0.0, 0.0, 0.0], ['\"M\"', '\"Jessica & Brendan\\'s\" Bridal Ale', 0.0, 0.0, 0.0, 0.0], ['\"M\"', '\"Just One More\" Scotch Ale', 0.0, 0.0, 0.0, 0.0], ['\"M\"', '\"Little John\\'s Myth\" Robust Porter', 0.0, 0.0, 0.0, 0.0], ['\"M\"', '\"M\"-perial Stout', 0.0, 0.0, 0.0, 0.0], ['\"M\"', '\"Marnie\" Gras Carnival Ale', 0.0, 0.0, 0.0, 0.0], ['\"M\"', '\"Naughty Scot\" Scotch Ale', 0.0, 0.0, 0.0, 0.0], ['\"M\"', '\"Nein Toll Bier\" German Alt', 0.0, 0.0, 0.0, 0.0], ['\"M\"', '\"Not Guilty\" 1924 Deer Brand', 0.0, 0.0, 0.0, 0.0], ['\"M\"', '\"Not Your Bock\" Maibock', 0.0, 0.0, 0.0, 0.0], ['\"M\"', '\"O Smokey Night\"', 0.0, 0.0, 0.0, 0.0], ['\"M\"', '\"O!\" Gold', 0.0, 0.0, 0.0, 0.0], ['\"M\"', '\"Old School\" Craft Cream Ale', 0.0, 0.0, 0.0, 0.0], ['\"M\"', '\"Old Yeltsin\" Imperial Stout', 0.0, 0.0, 0.0, 0.0], ['\"M\"', '\"Requisite\" Imperialistic Stout', 0.0, 0.0, 0.0, 0.0], ['\"M\"', '\"See No Evil\" American Pale Ale', 0.0, 0.0, 0.0, 0.0], ['\"M\"', '\"Shabadoo\" Black & Tan Ale', 0.0, 0.0, 0.0, 0.0], ['\"M\"', '\"Six\" Belgian Style Table Beer', 0.0, 0.0, 0.0, 0.0], ['\"M\"', '\"Stout Stoat\" Stout', 0.0, 0.0, 0.0, 0.0], ['\"M\"', '\"Talk To Me\" IPA', 0.0, 0.0, 0.0, 0.0], ['\"M\"', '\"The Bridge\" Nut-Brown Ale', 0.0, 0.0, 0.0, 0.0], ['\"M\"', '\"The Buk\" Pale Ale', 0.0, 0.0, 0.0, 0.0], ['\"M\"', '\"The Camp\" Barleywine', 0.0, 0.0, 0.0, 0.0], ['\"M\"', '\"The Mountain\" Ale', 0.0, 0.0, 0.0, 0.0], ['\"M\"', '\"The Wind Cried Mari...\" Scottish Heather Ale', 0.0, 0.0, 0.0, 0.0], ['\"M\"', '\"They Made Me Do It\" Blueberry Ale', 0.0, 0.0, 0.0, 0.0], ['\"M\"', '\"Trouble\"', 0.0, 0.0, 0.0, 0.0], ['\"M\"', '\"True Blue\" Blueberry Ale', 1.0, 1.0, 1.0, 1.0], ['\"M\"', '\"Woosta\" Weizenbock', 0.0, 0.0, 0.0, 0.0], ['\"M\"', '# 100', 1.0, 1.0, 1.0, 1.0], ['\"M\"', \"#'s Ale\", 0.0, 0.0, 0.0, 0.0], ['\"M\"', \"Dale's Pale Ale\", 1.0, 1.0, 1.0, 1.0], ['\"M\"-perial Stout', '! (Old Ale)', 0.0, 0.0, 0.0, 0.0], ['\"M\"-perial Stout', '\"100\"', 0.0, 0.0, 0.0, 0.0], ['\"M\"-perial Stout', '\"100\" Pale Ale', 0.0, 0.0, 0.0, 0.0], ['\"M\"-perial Stout', '\"12\"  Belgian Golden Strong Ale', 0.0, 0.0, 0.0, 0.0], ['\"M\"-perial Stout', '\"33\" Export', 0.0, 0.0, 0.0, 0.0], ['\"M\"-perial Stout', '\"4\" Horse Oatmeal Stout', 0.0, 0.0, 0.0, 0.0], ['\"M\"-perial Stout', '\"400\" Ale', 0.0, 0.0, 0.0, 0.0], ['\"M\"-perial Stout', '\"50\" Golden Anniversary Lager', 0.0, 0.0, 0.0, 0.0], ['\"M\"-perial Stout', '\"76\" Anniversary Ale', 0.0, 0.0, 0.0, 0.0], ['\"M\"-perial Stout', '\"76\" Anniversary Ale With English Hops', 0.0, 0.0, 0.0, 0.0], ['\"M\"-perial Stout', '\"Alt\"ered State', 0.0, 0.0, 0.0, 0.0], ['\"M\"-perial Stout', '\"Best Of Both Worlds\" Stout', 0.0, 0.0, 0.0, 0.0], ['\"M\"-perial Stout', '\"Cellar Reserve\" Triple Gold', 0.0, 0.0, 0.0, 0.0], ['\"M\"-perial Stout', '\"Certifiably\" Blonde Ale', 0.0, 0.0, 0.0, 0.0], ['\"M\"-perial Stout', '\"Check-Mate\" Cask Pilsner', 0.0, 0.0, 0.0, 0.0], ['\"M\"-perial Stout', '\"Double Wrecked Wreck\" IPA', 0.0, 0.0, 0.0, 0.0], ['\"M\"-perial Stout', '\"Fade To Black\" Porter', 0.0, 0.0, 0.0, 0.0], ['\"M\"-perial Stout', '\"Great Satchmo\" Stout', 0.0, 0.0, 0.0, 0.0], ['\"M\"-perial Stout', '\"Hop Obama\" Ale', 0.0, 0.0, 0.0, 0.0], ['\"M\"-perial Stout', '\"Jessica & Brendan\\'s\" Bridal Ale', 0.0, 0.0, 0.0, 0.0], ['\"M\"-perial Stout', '\"Just One More\" Scotch Ale', 0.0, 0.0, 0.0, 0.0], ['\"M\"-perial Stout', '\"Little John\\'s Myth\" Robust Porter', 0.0, 0.0, 0.0, 0.0], ['\"M\"-perial Stout', '\"M\"', 0.0, 0.0, 0.0, 0.0], ['\"M\"-perial Stout', '\"Marnie\" Gras Carnival Ale', 0.0, 0.0, 0.0, 0.0], ['\"M\"-perial Stout', '\"Naughty Scot\" Scotch Ale', 0.0, 0.0, 0.0, 0.0], ['\"M\"-perial Stout', '\"Nein Toll Bier\" German Alt', 0.0, 0.0, 0.0, 0.0], ['\"M\"-perial Stout', '\"Not Guilty\" 1924 Deer Brand', 0.0, 0.0, 0.0, 0.0], ['\"M\"-perial Stout', '\"Not Your Bock\" Maibock', 0.0, 0.0, 0.0, 0.0], ['\"M\"-perial Stout', '\"O Smokey Night\"', 0.0, 0.0, 0.0, 0.0], ['\"M\"-perial Stout', '\"O!\" Gold', 0.0, 0.0, 0.0, 0.0], ['\"M\"-perial Stout', '\"Old School\" Craft Cream Ale', 0.0, 0.0, 0.0, 0.0], ['\"M\"-perial Stout', '\"Old Yeltsin\" Imperial Stout', 0.0, 0.0, 0.0, 0.0], ['\"M\"-perial Stout', '\"Requisite\" Imperialistic Stout', 0.0, 0.0, 0.0, 0.0], ['\"M\"-perial Stout', '\"See No Evil\" American Pale Ale', 0.0, 0.0, 0.0, 0.0], ['\"M\"-perial Stout', '\"Shabadoo\" Black & Tan Ale', 0.0, 0.0, 0.0, 0.0], ['\"M\"-perial Stout', '\"Six\" Belgian Style Table Beer', 0.0, 0.0, 0.0, 0.0], ['\"M\"-perial Stout', '\"Stout Stoat\" Stout', 0.0, 0.0, 0.0, 0.0], ['\"M\"-perial Stout', '\"Talk To Me\" IPA', 0.0, 0.0, 0.0, 0.0], ['\"M\"-perial Stout', '\"The Bridge\" Nut-Brown Ale', 0.0, 0.0, 0.0, 0.0], ['\"M\"-perial Stout', '\"The Buk\" Pale Ale', 0.0, 0.0, 0.0, 0.0], ['\"M\"-perial Stout', '\"The Camp\" Barleywine', 0.0, 0.0, 0.0, 0.0], ['\"M\"-perial Stout', '\"The Mountain\" Ale', 0.0, 0.0, 0.0, 0.0], ['\"M\"-perial Stout', '\"The Wind Cried Mari...\" Scottish Heather Ale', 0.0, 0.0, 0.0, 0.0], ['\"M\"-perial Stout', '\"They Made Me Do It\" Blueberry Ale', 0.0, 0.0, 0.0, 0.0], ['\"M\"-perial Stout', '\"Trouble\"', 0.0, 0.0, 0.0, 0.0], ['\"M\"-perial Stout', '\"True Blue\" Blueberry Ale', 0.0, 0.0, 0.0, 0.0], ['\"M\"-perial Stout', '\"Woosta\" Weizenbock', 0.0, 0.0, 0.0, 0.0], ['\"M\"-perial Stout', '# 100', 0.0, 0.0, 0.0, 0.0], ['\"M\"-perial Stout', \"#'s Ale\", 0.0, 0.0, 0.0, 0.0], ['\"M\"-perial Stout', \"Dale's Pale Ale\", 0.0, 0.0, 0.0, 0.0], ['\"Marnie\" Gras Carnival Ale', '! (Old Ale)', 0.0, 0.0, 0.0, 0.0], ['\"Marnie\" Gras Carnival Ale', '\"100\"', 0.0, 0.0, 0.0, 0.0], ['\"Marnie\" Gras Carnival Ale', '\"100\" Pale Ale', 0.0, 0.0, 0.0, 0.0], ['\"Marnie\" Gras Carnival Ale', '\"12\"  Belgian Golden Strong Ale', 0.0, 0.0, 0.0, 0.0], ['\"Marnie\" Gras Carnival Ale', '\"33\" Export', 0.0, 0.0, 0.0, 0.0], ['\"Marnie\" Gras Carnival Ale', '\"4\" Horse Oatmeal Stout', 0.0, 0.0, 0.0, 0.0], ['\"Marnie\" Gras Carnival Ale', '\"400\" Ale', 0.0, 0.0, 0.0, 0.0], ['\"Marnie\" Gras Carnival Ale', '\"50\" Golden Anniversary Lager', 0.0, 0.0, 0.0, 0.0], ['\"Marnie\" Gras Carnival Ale', '\"76\" Anniversary Ale', 0.0, 0.0, 0.0, 0.0], ['\"Marnie\" Gras Carnival Ale', '\"76\" Anniversary Ale With English Hops', 0.0, 0.0, 0.0, 0.0], ['\"Marnie\" Gras Carnival Ale', '\"Alt\"ered State', 0.0, 0.0, 0.0, 0.0], ['\"Marnie\" Gras Carnival Ale', '\"Best Of Both Worlds\" Stout', 0.0, 0.0, 0.0, 0.0], ['\"Marnie\" Gras Carnival Ale', '\"Cellar Reserve\" Triple Gold', 0.0, 0.0, 0.0, 0.0], ['\"Marnie\" Gras Carnival Ale', '\"Certifiably\" Blonde Ale', 0.0, 0.0, 0.0, 0.0], ['\"Marnie\" Gras Carnival Ale', '\"Check-Mate\" Cask Pilsner', 0.0, 0.0, 0.0, 0.0], ['\"Marnie\" Gras Carnival Ale', '\"Double Wrecked Wreck\" IPA', 0.0, 0.0, 0.0, 0.0], ['\"Marnie\" Gras Carnival Ale', '\"Fade To Black\" Porter', 0.0, 0.0, 0.0, 0.0], ['\"Marnie\" Gras Carnival Ale', '\"Great Satchmo\" Stout', 0.0, 0.0, 0.0, 0.0], ['\"Marnie\" Gras Carnival Ale', '\"Hop Obama\" Ale', 0.0, 0.0, 0.0, 0.0], ['\"Marnie\" Gras Carnival Ale', '\"Jessica & Brendan\\'s\" Bridal Ale', 0.0, 0.0, 0.0, 0.0], ['\"Marnie\" Gras Carnival Ale', '\"Just One More\" Scotch Ale', 0.0, 0.0, 0.0, 0.0], ['\"Marnie\" Gras Carnival Ale', '\"Little John\\'s Myth\" Robust Porter', 0.0, 0.0, 0.0, 0.0], ['\"Marnie\" Gras Carnival Ale', '\"M\"', 0.0, 0.0, 0.0, 0.0], ['\"Marnie\" Gras Carnival Ale', '\"M\"-perial Stout', 0.0, 0.0, 0.0, 0.0], ['\"Marnie\" Gras Carnival Ale', '\"Naughty Scot\" Scotch Ale', 0.0, 0.0, 0.0, 0.0], ['\"Marnie\" Gras Carnival Ale', '\"Nein Toll Bier\" German Alt', 0.0, 0.0, 0.0, 0.0], ['\"Marnie\" Gras Carnival Ale', '\"Not Guilty\" 1924 Deer Brand', 0.0, 0.0, 0.0, 0.0], ['\"Marnie\" Gras Carnival Ale', '\"Not Your Bock\" Maibock', 0.0, 0.0, 0.0, 0.0], ['\"Marnie\" Gras Carnival Ale', '\"O Smokey Night\"', 0.0, 0.0, 0.0, 0.0], ['\"Marnie\" Gras Carnival Ale', '\"O!\" Gold', 0.0, 0.0, 0.0, 0.0], ['\"Marnie\" Gras Carnival Ale', '\"Old School\" Craft Cream Ale', 0.0, 0.0, 0.0, 0.0], ['\"Marnie\" Gras Carnival Ale', '\"Old Yeltsin\" Imperial Stout', 0.99827437317499579, 0.9982743731749959, 1.0, 0.99861782933250964], ['\"Marnie\" Gras Carnival Ale', '\"Requisite\" Imperialistic Stout', 0.0, 0.0, 0.0, 0.0], ['\"Marnie\" Gras Carnival Ale', '\"See No Evil\" American Pale Ale', 0.0, 0.0, 0.0, 0.0], ['\"Marnie\" Gras Carnival Ale', '\"Shabadoo\" Black & Tan Ale', 0.0, 0.0, 0.0, 0.0], ['\"Marnie\" Gras Carnival Ale', '\"Six\" Belgian Style Table Beer', 0.0, 0.0, 0.0, 0.0], ['\"Marnie\" Gras Carnival Ale', '\"Stout Stoat\" Stout', 0.0, 0.0, 0.0, 0.0], ['\"Marnie\" Gras Carnival Ale', '\"Talk To Me\" IPA', 0.0, 0.0, 0.0, 0.0], ['\"Marnie\" Gras Carnival Ale', '\"The Bridge\" Nut-Brown Ale', 0.0, 0.0, 0.0, 0.0], ['\"Marnie\" Gras Carnival Ale', '\"The Buk\" Pale Ale', 0.0, 0.0, 0.0, 0.0], ['\"Marnie\" Gras Carnival Ale', '\"The Camp\" Barleywine', 0.0, 0.0, 0.0, 0.0], ['\"Marnie\" Gras Carnival Ale', '\"The Mountain\" Ale', 0.0, 0.0, 0.0, 0.0], ['\"Marnie\" Gras Carnival Ale', '\"The Wind Cried Mari...\" Scottish Heather Ale', 0.0, 0.0, 0.0, 0.0], ['\"Marnie\" Gras Carnival Ale', '\"They Made Me Do It\" Blueberry Ale', 0.0, 0.0, 0.0, 0.0], ['\"Marnie\" Gras Carnival Ale', '\"Trouble\"', 0.0, 0.0, 0.0, 0.0], ['\"Marnie\" Gras Carnival Ale', '\"True Blue\" Blueberry Ale', 0.0, 0.0, 0.0, 0.0], ['\"Marnie\" Gras Carnival Ale', '\"Woosta\" Weizenbock', 0.0, 0.0, 0.0, 0.0], ['\"Marnie\" Gras Carnival Ale', '# 100', 1.0, 0.99827437317499579, 1.0, 0.99827437317499579], ['\"Marnie\" Gras Carnival Ale', \"#'s Ale\", 0.0, 0.0, 0.0, 0.0], ['\"Marnie\" Gras Carnival Ale', \"Dale's Pale Ale\", 0.99999999999999978, 1.0, 0.99827437317499579, 1.0], ['\"Naughty Scot\" Scotch Ale', '! (Old Ale)', 0.0, 0.0, 0.0, 0.0], ['\"Naughty Scot\" Scotch Ale', '\"100\"', 0.0, 0.0, 0.0, 0.0], ['\"Naughty Scot\" Scotch Ale', '\"100\" Pale Ale', 0.0, 0.0, 0.0, 0.0], ['\"Naughty Scot\" Scotch Ale', '\"12\"  Belgian Golden Strong Ale', 0.0, 0.0, 0.0, 0.0], ['\"Naughty Scot\" Scotch Ale', '\"33\" Export', 0.0, 0.0, 0.0, 0.0], ['\"Naughty Scot\" Scotch Ale', '\"4\" Horse Oatmeal Stout', 0.0, 0.0, 0.0, 0.0], ['\"Naughty Scot\" Scotch Ale', '\"400\" Ale', 0.0, 0.0, 0.0, 0.0], ['\"Naughty Scot\" Scotch Ale', '\"50\" Golden Anniversary Lager', 0.0, 0.0, 0.0, 0.0], ['\"Naughty Scot\" Scotch Ale', '\"76\" Anniversary Ale', 0.0, 0.0, 0.0, 0.0], ['\"Naughty Scot\" Scotch Ale', '\"76\" Anniversary Ale With English Hops', 0.0, 0.0, 0.0, 0.0], ['\"Naughty Scot\" Scotch Ale', '\"Alt\"ered State', 0.0, 0.0, 0.0, 0.0], ['\"Naughty Scot\" Scotch Ale', '\"Best Of Both Worlds\" Stout', 0.0, 0.0, 0.0, 0.0], ['\"Naughty Scot\" Scotch Ale', '\"Cellar Reserve\" Triple Gold', 0.0, 0.0, 0.0, 0.0], ['\"Naughty Scot\" Scotch Ale', '\"Certifiably\" Blonde Ale', 0.0, 0.0, 0.0, 0.0], ['\"Naughty Scot\" Scotch Ale', '\"Check-Mate\" Cask Pilsner', 0.0, 0.0, 0.0, 0.0], ['\"Naughty Scot\" Scotch Ale', '\"Double Wrecked Wreck\" IPA', 0.0, 0.0, 0.0, 0.0], ['\"Naughty Scot\" Scotch Ale', '\"Fade To Black\" Porter', 0.0, 0.0, 0.0, 0.0], ['\"Naughty Scot\" Scotch Ale', '\"Great Satchmo\" Stout', 0.0, 0.0, 0.0, 0.0], ['\"Naughty Scot\" Scotch Ale', '\"Hop Obama\" Ale', 0.0, 0.0, 0.0, 0.0], ['\"Naughty Scot\" Scotch Ale', '\"Jessica & Brendan\\'s\" Bridal Ale', 0.0, 0.0, 0.0, 0.0], ['\"Naughty Scot\" Scotch Ale', '\"Just One More\" Scotch Ale', 0.0, 0.0, 0.0, 0.0], ['\"Naughty Scot\" Scotch Ale', '\"Little John\\'s Myth\" Robust Porter', 0.0, 0.0, 0.0, 0.0], ['\"Naughty Scot\" Scotch Ale', '\"M\"', 0.0, 0.0, 0.0, 0.0], ['\"Naughty Scot\" Scotch Ale', '\"M\"-perial Stout', 0.0, 0.0, 0.0, 0.0], ['\"Naughty Scot\" Scotch Ale', '\"Marnie\" Gras Carnival Ale', 0.0, 0.0, 0.0, 0.0], ['\"Naughty Scot\" Scotch Ale', '\"Nein Toll Bier\" German Alt', 0.0, 0.0, 0.0, 0.0], ['\"Naughty Scot\" Scotch Ale', '\"Not Guilty\" 1924 Deer Brand', 0.0, 0.0, 0.0, 0.0], ['\"Naughty Scot\" Scotch Ale', '\"Not Your Bock\" Maibock', 0.0, 0.0, 0.0, 0.0], ['\"Naughty Scot\" Scotch Ale', '\"O Smokey Night\"', 0.0, 0.0, 0.0, 0.0], ['\"Naughty Scot\" Scotch Ale', '\"O!\" Gold', 0.0, 0.0, 0.0, 0.0], ['\"Naughty Scot\" Scotch Ale', '\"Old School\" Craft Cream Ale', 0.0, 0.0, 0.0, 0.0], ['\"Naughty Scot\" Scotch Ale', '\"Old Yeltsin\" Imperial Stout', 0.0, 0.0, 0.0, 0.0], ['\"Naughty Scot\" Scotch Ale', '\"Requisite\" Imperialistic Stout', 0.0, 0.0, 0.0, 0.0], ['\"Naughty Scot\" Scotch Ale', '\"See No Evil\" American Pale Ale', 0.0, 0.0, 0.0, 0.0], ['\"Naughty Scot\" Scotch Ale', '\"Shabadoo\" Black & Tan Ale', 0.0, 0.0, 0.0, 0.0], ['\"Naughty Scot\" Scotch Ale', '\"Six\" Belgian Style Table Beer', 0.0, 0.0, 0.0, 0.0], ['\"Naughty Scot\" Scotch Ale', '\"Stout Stoat\" Stout', 0.0, 0.0, 0.0, 0.0], ['\"Naughty Scot\" Scotch Ale', '\"Talk To Me\" IPA', 0.0, 0.0, 0.0, 0.0], ['\"Naughty Scot\" Scotch Ale', '\"The Bridge\" Nut-Brown Ale', 0.0, 0.0, 0.0, 0.0], ['\"Naughty Scot\" Scotch Ale', '\"The Buk\" Pale Ale', 0.0, 0.0, 0.0, 0.0], ['\"Naughty Scot\" Scotch Ale', '\"The Camp\" Barleywine', 0.0, 0.0, 0.0, 0.0], ['\"Naughty Scot\" Scotch Ale', '\"The Mountain\" Ale', 0.0, 0.0, 0.0, 0.0], ['\"Naughty Scot\" Scotch Ale', '\"The Wind Cried Mari...\" Scottish Heather Ale', 0.0, 0.0, 0.0, 0.0], ['\"Naughty Scot\" Scotch Ale', '\"They Made Me Do It\" Blueberry Ale', 0.0, 0.0, 0.0, 0.0], ['\"Naughty Scot\" Scotch Ale', '\"Trouble\"', 0.0, 0.0, 0.0, 0.0], ['\"Naughty Scot\" Scotch Ale', '\"True Blue\" Blueberry Ale', 0.0, 0.0, 0.0, 0.0], ['\"Naughty Scot\" Scotch Ale', '\"Woosta\" Weizenbock', 0.0, 0.0, 0.0, 0.0], ['\"Naughty Scot\" Scotch Ale', '# 100', 0.0, 0.0, 0.0, 0.0], ['\"Naughty Scot\" Scotch Ale', \"#'s Ale\", 0.0, 0.0, 0.0, 0.0], ['\"Naughty Scot\" Scotch Ale', \"Dale's Pale Ale\", 0.0, 0.0, 0.0, 0.0], ['\"Nein Toll Bier\" German Alt', '! (Old Ale)', 0.0, 0.0, 0.0, 0.0], ['\"Nein Toll Bier\" German Alt', '\"100\"', 0.0, 0.0, 0.0, 0.0], ['\"Nein Toll Bier\" German Alt', '\"100\" Pale Ale', 0.0, 0.0, 0.0, 0.0], ['\"Nein Toll Bier\" German Alt', '\"12\"  Belgian Golden Strong Ale', 0.0, 0.0, 0.0, 0.0], ['\"Nein Toll Bier\" German Alt', '\"33\" Export', 0.0, 0.0, 0.0, 0.0], ['\"Nein Toll Bier\" German Alt', '\"4\" Horse Oatmeal Stout', 0.0, 0.0, 0.0, 0.0], ['\"Nein Toll Bier\" German Alt', '\"400\" Ale', 0.0, 0.0, 0.0, 0.0], ['\"Nein Toll Bier\" German Alt', '\"50\" Golden Anniversary Lager', 0.0, 0.0, 0.0, 0.0], ['\"Nein Toll Bier\" German Alt', '\"76\" Anniversary Ale', 0.0, 0.0, 0.0, 0.0], ['\"Nein Toll Bier\" German Alt', '\"76\" Anniversary Ale With English Hops', 0.0, 0.0, 0.0, 0.0], ['\"Nein Toll Bier\" German Alt', '\"Alt\"ered State', 0.0, 0.0, 0.0, 0.0], ['\"Nein Toll Bier\" German Alt', '\"Best Of Both Worlds\" Stout', 0.0, 0.0, 0.0, 0.0], ['\"Nein Toll Bier\" German Alt', '\"Cellar Reserve\" Triple Gold', 0.0, 0.0, 0.0, 0.0], ['\"Nein Toll Bier\" German Alt', '\"Certifiably\" Blonde Ale', 0.0, 0.0, 0.0, 0.0], ['\"Nein Toll Bier\" German Alt', '\"Check-Mate\" Cask Pilsner', 0.0, 0.0, 0.0, 0.0], ['\"Nein Toll Bier\" German Alt', '\"Double Wrecked Wreck\" IPA', 0.0, 0.0, 0.0, 0.0], ['\"Nein Toll Bier\" German Alt', '\"Fade To Black\" Porter', 0.0, 0.0, 0.0, 0.0], ['\"Nein Toll Bier\" German Alt', '\"Great Satchmo\" Stout', 0.0, 0.0, 0.0, 0.0], ['\"Nein Toll Bier\" German Alt', '\"Hop Obama\" Ale', 0.0, 0.0, 0.0, 0.0], ['\"Nein Toll Bier\" German Alt', '\"Jessica & Brendan\\'s\" Bridal Ale', 0.0, 0.0, 0.0, 0.0], ['\"Nein Toll Bier\" German Alt', '\"Just One More\" Scotch Ale', 0.0, 0.0, 0.0, 0.0], ['\"Nein Toll Bier\" German Alt', '\"Little John\\'s Myth\" Robust Porter', 0.0, 0.0, 0.0, 0.0], ['\"Nein Toll Bier\" German Alt', '\"M\"', 0.0, 0.0, 0.0, 0.0], ['\"Nein Toll Bier\" German Alt', '\"M\"-perial Stout', 0.0, 0.0, 0.0, 0.0], ['\"Nein Toll Bier\" German Alt', '\"Marnie\" Gras Carnival Ale', 0.0, 0.0, 0.0, 0.0], ['\"Nein Toll Bier\" German Alt', '\"Naughty Scot\" Scotch Ale', 0.0, 0.0, 0.0, 0.0], ['\"Nein Toll Bier\" German Alt', '\"Not Guilty\" 1924 Deer Brand', 0.0, 0.0, 0.0, 0.0], ['\"Nein Toll Bier\" German Alt', '\"Not Your Bock\" Maibock', 0.0, 0.0, 0.0, 0.0], ['\"Nein Toll Bier\" German Alt', '\"O Smokey Night\"', 0.0, 0.0, 0.0, 0.0], ['\"Nein Toll Bier\" German Alt', '\"O!\" Gold', 0.0, 0.0, 0.0, 0.0], ['\"Nein Toll Bier\" German Alt', '\"Old School\" Craft Cream Ale', 0.0, 0.0, 0.0, 0.0], ['\"Nein Toll Bier\" German Alt', '\"Old Yeltsin\" Imperial Stout', 0.0, 0.0, 0.0, 0.0], ['\"Nein Toll Bier\" German Alt', '\"Requisite\" Imperialistic Stout', 0.0, 0.0, 0.0, 0.0], ['\"Nein Toll Bier\" German Alt', '\"See No Evil\" American Pale Ale', 0.0, 0.0, 0.0, 0.0], ['\"Nein Toll Bier\" German Alt', '\"Shabadoo\" Black & Tan Ale', 1.0, 1.0, 1.0, 1.0], ['\"Nein Toll Bier\" German Alt', '\"Six\" Belgian Style Table Beer', 0.0, 0.0, 0.0, 0.0], ['\"Nein Toll Bier\" German Alt', '\"Stout Stoat\" Stout', 0.0, 0.0, 0.0, 0.0], ['\"Nein Toll Bier\" German Alt', '\"Talk To Me\" IPA', 0.0, 0.0, 0.0, 0.0], ['\"Nein Toll Bier\" German Alt', '\"The Bridge\" Nut-Brown Ale', 0.0, 0.0, 0.0, 0.0], ['\"Nein Toll Bier\" German Alt', '\"The Buk\" Pale Ale', 0.0, 0.0, 0.0, 0.0], ['\"Nein Toll Bier\" German Alt', '\"The Camp\" Barleywine', 0.0, 0.0, 0.0, 0.0], ['\"Nein Toll Bier\" German Alt', '\"The Mountain\" Ale', 0.0, 0.0, 0.0, 0.0], ['\"Nein Toll Bier\" German Alt', '\"The Wind Cried Mari...\" Scottish Heather Ale', 0.0, 0.0, 0.0, 0.0], ['\"Nein Toll Bier\" German Alt', '\"They Made Me Do It\" Blueberry Ale', 0.0, 0.0, 0.0, 0.0], ['\"Nein Toll Bier\" German Alt', '\"Trouble\"', 0.0, 0.0, 0.0, 0.0], ['\"Nein Toll Bier\" German Alt', '\"True Blue\" Blueberry Ale', 0.0, 0.0, 0.0, 0.0], ['\"Nein Toll Bier\" German Alt', '\"Woosta\" Weizenbock', 0.0, 0.0, 0.0, 0.0], ['\"Nein Toll Bier\" German Alt', '# 100', 0.0, 0.0, 0.0, 0.0], ['\"Nein Toll Bier\" German Alt', \"#'s Ale\", 0.0, 0.0, 0.0, 0.0], ['\"Nein Toll Bier\" German Alt', \"Dale's Pale Ale\", 0.0, 0.0, 0.0, 0.0], ['\"Not Guilty\" 1924 Deer Brand', '! (Old Ale)', 0.0, 0.0, 0.0, 0.0], ['\"Not Guilty\" 1924 Deer Brand', '\"100\"', 0.0, 0.0, 0.0, 0.0], ['\"Not Guilty\" 1924 Deer Brand', '\"100\" Pale Ale', 0.0, 0.0, 0.0, 0.0], ['\"Not Guilty\" 1924 Deer Brand', '\"12\"  Belgian Golden Strong Ale', 0.0, 0.0, 0.0, 0.0], ['\"Not Guilty\" 1924 Deer Brand', '\"33\" Export', 0.0, 0.0, 0.0, 0.0], ['\"Not Guilty\" 1924 Deer Brand', '\"4\" Horse Oatmeal Stout', 0.0, 0.0, 0.0, 0.0], ['\"Not Guilty\" 1924 Deer Brand', '\"400\" Ale', 0.0, 0.0, 0.0, 0.0], ['\"Not Guilty\" 1924 Deer Brand', '\"50\" Golden Anniversary Lager', 0.0, 0.0, 0.0, 0.0], ['\"Not Guilty\" 1924 Deer Brand', '\"76\" Anniversary Ale', 0.0, 0.0, 0.0, 0.0], ['\"Not Guilty\" 1924 Deer Brand', '\"76\" Anniversary Ale With English Hops', 0.0, 0.0, 0.0, 0.0], ['\"Not Guilty\" 1924 Deer Brand', '\"Alt\"ered State', 0.0, 0.0, 0.0, 0.0], ['\"Not Guilty\" 1924 Deer Brand', '\"Best Of Both Worlds\" Stout', 0.0, 0.0, 0.0, 0.0], ['\"Not Guilty\" 1924 Deer Brand', '\"Cellar Reserve\" Triple Gold', 0.0, 0.0, 0.0, 0.0], ['\"Not Guilty\" 1924 Deer Brand', '\"Certifiably\" Blonde Ale', 0.0, 0.0, 0.0, 0.0], ['\"Not Guilty\" 1924 Deer Brand', '\"Check-Mate\" Cask Pilsner', 0.0, 0.0, 0.0, 0.0], ['\"Not Guilty\" 1924 Deer Brand', '\"Double Wrecked Wreck\" IPA', 0.0, 0.0, 0.0, 0.0], ['\"Not Guilty\" 1924 Deer Brand', '\"Fade To Black\" Porter', 0.0, 0.0, 0.0, 0.0], ['\"Not Guilty\" 1924 Deer Brand', '\"Great Satchmo\" Stout', 0.0, 0.0, 0.0, 0.0], ['\"Not Guilty\" 1924 Deer Brand', '\"Hop Obama\" Ale', 0.0, 0.0, 0.0, 0.0], ['\"Not Guilty\" 1924 Deer Brand', '\"Jessica & Brendan\\'s\" Bridal Ale', 0.0, 0.0, 0.0, 0.0], ['\"Not Guilty\" 1924 Deer Brand', '\"Just One More\" Scotch Ale', 0.0, 0.0, 0.0, 0.0], ['\"Not Guilty\" 1924 Deer Brand', '\"Little John\\'s Myth\" Robust Porter', 0.0, 0.0, 0.0, 0.0], ['\"Not Guilty\" 1924 Deer Brand', '\"M\"', 0.0, 0.0, 0.0, 0.0], ['\"Not Guilty\" 1924 Deer Brand', '\"M\"-perial Stout', 0.0, 0.0, 0.0, 0.0], ['\"Not Guilty\" 1924 Deer Brand', '\"Marnie\" Gras Carnival Ale', 0.0, 0.0, 0.0, 0.0], ['\"Not Guilty\" 1924 Deer Brand', '\"Naughty Scot\" Scotch Ale', 0.0, 0.0, 0.0, 0.0], ['\"Not Guilty\" 1924 Deer Brand', '\"Nein Toll Bier\" German Alt', 0.0, 0.0, 0.0, 0.0], ['\"Not Guilty\" 1924 Deer Brand', '\"Not Your Bock\" Maibock', 0.0, 0.0, 0.0, 0.0], ['\"Not Guilty\" 1924 Deer Brand', '\"O Smokey Night\"', 0.0, 0.0, 0.0, 0.0], ['\"Not Guilty\" 1924 Deer Brand', '\"O!\" Gold', 0.0, 0.0, 0.0, 0.0], ['\"Not Guilty\" 1924 Deer Brand', '\"Old School\" Craft Cream Ale', 0.0, 0.0, 0.0, 0.0], ['\"Not Guilty\" 1924 Deer Brand', '\"Old Yeltsin\" Imperial Stout', 0.0, 0.0, 0.0, 0.0], ['\"Not Guilty\" 1924 Deer Brand', '\"Requisite\" Imperialistic Stout', 0.0, 0.0, 0.0, 0.0], ['\"Not Guilty\" 1924 Deer Brand', '\"See No Evil\" American Pale Ale', 0.0, 0.0, 0.0, 0.0], ['\"Not Guilty\" 1924 Deer Brand', '\"Shabadoo\" Black & Tan Ale', 0.0, 0.0, 0.0, 0.0], ['\"Not Guilty\" 1924 Deer Brand', '\"Six\" Belgian Style Table Beer', 0.0, 0.0, 0.0, 0.0], ['\"Not Guilty\" 1924 Deer Brand', '\"Stout Stoat\" Stout', 0.0, 0.0, 0.0, 0.0], ['\"Not Guilty\" 1924 Deer Brand', '\"Talk To Me\" IPA', 0.0, 0.0, 0.0, 0.0], ['\"Not Guilty\" 1924 Deer Brand', '\"The Bridge\" Nut-Brown Ale', 0.0, 0.0, 0.0, 0.0], ['\"Not Guilty\" 1924 Deer Brand', '\"The Buk\" Pale Ale', 0.0, 0.0, 0.0, 0.0], ['\"Not Guilty\" 1924 Deer Brand', '\"The Camp\" Barleywine', 0.0, 0.0, 0.0, 0.0], ['\"Not Guilty\" 1924 Deer Brand', '\"The Mountain\" Ale', 0.0, 0.0, 0.0, 0.0], ['\"Not Guilty\" 1924 Deer Brand', '\"The Wind Cried Mari...\" Scottish Heather Ale', 0.0, 0.0, 0.0, 0.0], ['\"Not Guilty\" 1924 Deer Brand', '\"They Made Me Do It\" Blueberry Ale', 0.0, 0.0, 0.0, 0.0], ['\"Not Guilty\" 1924 Deer Brand', '\"Trouble\"', 0.0, 0.0, 0.0, 0.0], ['\"Not Guilty\" 1924 Deer Brand', '\"True Blue\" Blueberry Ale', 0.0, 0.0, 0.0, 0.0], ['\"Not Guilty\" 1924 Deer Brand', '\"Woosta\" Weizenbock', 0.0, 0.0, 0.0, 0.0], ['\"Not Guilty\" 1924 Deer Brand', '# 100', 0.0, 0.0, 0.0, 0.0], ['\"Not Guilty\" 1924 Deer Brand', \"#'s Ale\", 0.0, 0.0, 0.0, 0.0], ['\"Not Guilty\" 1924 Deer Brand', \"Dale's Pale Ale\", 1.0, 0.99811498418631661, 0.9981149841863165, 1.0000000000000002], ['\"Not Your Bock\" Maibock', '! (Old Ale)', 0.0, 0.0, 0.0, 0.0], ['\"Not Your Bock\" Maibock', '\"100\"', 0.0, 0.0, 0.0, 0.0], ['\"Not Your Bock\" Maibock', '\"100\" Pale Ale', 0.0, 0.0, 0.0, 0.0], ['\"Not Your Bock\" Maibock', '\"12\"  Belgian Golden Strong Ale', 0.0, 0.0, 0.0, 0.0], ['\"Not Your Bock\" Maibock', '\"33\" Export', 0.0, 0.0, 0.0, 0.0], ['\"Not Your Bock\" Maibock', '\"4\" Horse Oatmeal Stout', 0.0, 0.0, 0.0, 0.0], ['\"Not Your Bock\" Maibock', '\"400\" Ale', 0.0, 0.0, 0.0, 0.0], ['\"Not Your Bock\" Maibock', '\"50\" Golden Anniversary Lager', 0.0, 0.0, 0.0, 0.0], ['\"Not Your Bock\" Maibock', '\"76\" Anniversary Ale', 0.0, 0.0, 0.0, 0.0], ['\"Not Your Bock\" Maibock', '\"76\" Anniversary Ale With English Hops', 0.0, 0.0, 0.0, 0.0], ['\"Not Your Bock\" Maibock', '\"Alt\"ered State', 0.0, 0.0, 0.0, 0.0], ['\"Not Your Bock\" Maibock', '\"Best Of Both Worlds\" Stout', 0.0, 0.0, 0.0, 0.0], ['\"Not Your Bock\" Maibock', '\"Cellar Reserve\" Triple Gold', 0.0, 0.0, 0.0, 0.0], ['\"Not Your Bock\" Maibock', '\"Certifiably\" Blonde Ale', 0.0, 0.0, 0.0, 0.0], ['\"Not Your Bock\" Maibock', '\"Check-Mate\" Cask Pilsner', 0.0, 0.0, 0.0, 0.0], ['\"Not Your Bock\" Maibock', '\"Double Wrecked Wreck\" IPA', 0.0, 0.0, 0.0, 0.0], ['\"Not Your Bock\" Maibock', '\"Fade To Black\" Porter', 0.0, 0.0, 0.0, 0.0], ['\"Not Your Bock\" Maibock', '\"Great Satchmo\" Stout', 0.0, 0.0, 0.0, 0.0], ['\"Not Your Bock\" Maibock', '\"Hop Obama\" Ale', 0.0, 0.0, 0.0, 0.0], ['\"Not Your Bock\" Maibock', '\"Jessica & Brendan\\'s\" Bridal Ale', 0.0, 0.0, 0.0, 0.0], ['\"Not Your Bock\" Maibock', '\"Just One More\" Scotch Ale', 0.0, 0.0, 0.0, 0.0], ['\"Not Your Bock\" Maibock', '\"Little John\\'s Myth\" Robust Porter', 0.0, 0.0, 0.0, 0.0], ['\"Not Your Bock\" Maibock', '\"M\"', 0.0, 0.0, 0.0, 0.0], ['\"Not Your Bock\" Maibock', '\"M\"-perial Stout', 0.0, 0.0, 0.0, 0.0], ['\"Not Your Bock\" Maibock', '\"Marnie\" Gras Carnival Ale', 0.0, 0.0, 0.0, 0.0], ['\"Not Your Bock\" Maibock', '\"Naughty Scot\" Scotch Ale', 0.0, 0.0, 0.0, 0.0], ['\"Not Your Bock\" Maibock', '\"Nein Toll Bier\" German Alt', 0.0, 0.0, 0.0, 0.0], ['\"Not Your Bock\" Maibock', '\"Not Guilty\" 1924 Deer Brand', 0.0, 0.0, 0.0, 0.0], ['\"Not Your Bock\" Maibock', '\"O Smokey Night\"', 0.0, 0.0, 0.0, 0.0], ['\"Not Your Bock\" Maibock', '\"O!\" Gold', 0.0, 0.0, 0.0, 0.0], ['\"Not Your Bock\" Maibock', '\"Old School\" Craft Cream Ale', 0.0, 0.0, 0.0, 0.0], ['\"Not Your Bock\" Maibock', '\"Old Yeltsin\" Imperial Stout', 0.0, 0.0, 0.0, 0.0], ['\"Not Your Bock\" Maibock', '\"Requisite\" Imperialistic Stout', 0.0, 0.0, 0.0, 0.0], ['\"Not Your Bock\" Maibock', '\"See No Evil\" American Pale Ale', 0.0, 0.0, 0.0, 0.0], ['\"Not Your Bock\" Maibock', '\"Shabadoo\" Black & Tan Ale', 0.0, 0.0, 0.0, 0.0], ['\"Not Your Bock\" Maibock', '\"Six\" Belgian Style Table Beer', 0.0, 0.0, 0.0, 0.0], ['\"Not Your Bock\" Maibock', '\"Stout Stoat\" Stout', 0.0, 0.0, 0.0, 0.0], ['\"Not Your Bock\" Maibock', '\"Talk To Me\" IPA', 0.0, 0.0, 0.0, 0.0], ['\"Not Your Bock\" Maibock', '\"The Bridge\" Nut-Brown Ale', 0.0, 0.0, 0.0, 0.0], ['\"Not Your Bock\" Maibock', '\"The Buk\" Pale Ale', 0.0, 0.0, 0.0, 0.0], ['\"Not Your Bock\" Maibock', '\"The Camp\" Barleywine', 0.0, 0.0, 0.0, 0.0], ['\"Not Your Bock\" Maibock', '\"The Mountain\" Ale', 0.0, 0.0, 0.0, 0.0], ['\"Not Your Bock\" Maibock', '\"The Wind Cried Mari...\" Scottish Heather Ale', 0.0, 0.0, 0.0, 0.0], ['\"Not Your Bock\" Maibock', '\"They Made Me Do It\" Blueberry Ale', 0.0, 0.0, 0.0, 0.0], ['\"Not Your Bock\" Maibock', '\"Trouble\"', 0.0, 0.0, 0.0, 0.0], ['\"Not Your Bock\" Maibock', '\"True Blue\" Blueberry Ale', 0.0, 0.0, 0.0, 0.0], ['\"Not Your Bock\" Maibock', '\"Woosta\" Weizenbock', 0.0, 0.0, 0.0, 0.0], ['\"Not Your Bock\" Maibock', '# 100', 0.0, 0.0, 0.0, 0.0], ['\"Not Your Bock\" Maibock', \"#'s Ale\", 0.0, 0.0, 0.0, 0.0], ['\"Not Your Bock\" Maibock', \"Dale's Pale Ale\", 1.0, 1.0, 1.0, 1.0], ['\"O Smokey Night\"', '! (Old Ale)', 0.0, 0.0, 0.0, 0.0], ['\"O Smokey Night\"', '\"100\"', 0.0, 0.0, 0.0, 0.0], ['\"O Smokey Night\"', '\"100\" Pale Ale', 0.0, 0.0, 0.0, 0.0], ['\"O Smokey Night\"', '\"12\"  Belgian Golden Strong Ale', 0.0, 0.0, 0.0, 0.0], ['\"O Smokey Night\"', '\"33\" Export', 0.0, 0.0, 0.0, 0.0], ['\"O Smokey Night\"', '\"4\" Horse Oatmeal Stout', 0.0, 0.0, 0.0, 0.0], ['\"O Smokey Night\"', '\"400\" Ale', 0.0, 0.0, 0.0, 0.0], ['\"O Smokey Night\"', '\"50\" Golden Anniversary Lager', 0.0, 0.0, 0.0, 0.0], ['\"O Smokey Night\"', '\"76\" Anniversary Ale', 0.0, 0.0, 0.0, 0.0], ['\"O Smokey Night\"', '\"76\" Anniversary Ale With English Hops', 0.0, 0.0, 0.0, 0.0], ['\"O Smokey Night\"', '\"Alt\"ered State', 0.0, 0.0, 0.0, 0.0], ['\"O Smokey Night\"', '\"Best Of Both Worlds\" Stout', 0.0, 0.0, 0.0, 0.0], ['\"O Smokey Night\"', '\"Cellar Reserve\" Triple Gold', 0.0, 0.0, 0.0, 0.0], ['\"O Smokey Night\"', '\"Certifiably\" Blonde Ale', 0.0, 0.0, 0.0, 0.0], ['\"O Smokey Night\"', '\"Check-Mate\" Cask Pilsner', 0.0, 0.0, 0.0, 0.0], ['\"O Smokey Night\"', '\"Double Wrecked Wreck\" IPA', 0.0, 0.0, 0.0, 0.0], ['\"O Smokey Night\"', '\"Fade To Black\" Porter', 0.0, 0.0, 0.0, 0.0], ['\"O Smokey Night\"', '\"Great Satchmo\" Stout', 0.0, 0.0, 0.0, 0.0], ['\"O Smokey Night\"', '\"Hop Obama\" Ale', 0.0, 0.0, 0.0, 0.0], ['\"O Smokey Night\"', '\"Jessica & Brendan\\'s\" Bridal Ale', 0.0, 0.0, 0.0, 0.0], ['\"O Smokey Night\"', '\"Just One More\" Scotch Ale', 0.0, 0.0, 0.0, 0.0], ['\"O Smokey Night\"', '\"Little John\\'s Myth\" Robust Porter', 0.0, 0.0, 0.0, 0.0], ['\"O Smokey Night\"', '\"M\"', 0.0, 0.0, 0.0, 0.0], ['\"O Smokey Night\"', '\"M\"-perial Stout', 0.0, 0.0, 0.0, 0.0], ['\"O Smokey Night\"', '\"Marnie\" Gras Carnival Ale', 0.0, 0.0, 0.0, 0.0], ['\"O Smokey Night\"', '\"Naughty Scot\" Scotch Ale', 0.0, 0.0, 0.0, 0.0], ['\"O Smokey Night\"', '\"Nein Toll Bier\" German Alt', 0.0, 0.0, 0.0, 0.0], ['\"O Smokey Night\"', '\"Not Guilty\" 1924 Deer Brand', 0.0, 0.0, 0.0, 0.0], ['\"O Smokey Night\"', '\"Not Your Bock\" Maibock', 0.0, 0.0, 0.0, 0.0], ['\"O Smokey Night\"', '\"O!\" Gold', 0.0, 0.0, 0.0, 0.0], ['\"O Smokey Night\"', '\"Old School\" Craft Cream Ale', 0.0, 0.0, 0.0, 0.0], ['\"O Smokey Night\"', '\"Old Yeltsin\" Imperial Stout', 0.0, 0.0, 0.0, 0.0], ['\"O Smokey Night\"', '\"Requisite\" Imperialistic Stout', 0.0, 0.0, 0.0, 0.0], ['\"O Smokey Night\"', '\"See No Evil\" American Pale Ale', 0.0, 0.0, 0.0, 0.0], ['\"O Smokey Night\"', '\"Shabadoo\" Black & Tan Ale', 0.0, 0.0, 0.0, 0.0], ['\"O Smokey Night\"', '\"Six\" Belgian Style Table Beer', 0.0, 0.0, 0.0, 0.0], ['\"O Smokey Night\"', '\"Stout Stoat\" Stout', 0.0, 0.0, 0.0, 0.0], ['\"O Smokey Night\"', '\"Talk To Me\" IPA', 0.0, 0.0, 0.0, 0.0], ['\"O Smokey Night\"', '\"The Bridge\" Nut-Brown Ale', 0.0, 0.0, 0.0, 0.0], ['\"O Smokey Night\"', '\"The Buk\" Pale Ale', 0.0, 0.0, 0.0, 0.0], ['\"O Smokey Night\"', '\"The Camp\" Barleywine', 0.0, 0.0, 0.0, 0.0], ['\"O Smokey Night\"', '\"The Mountain\" Ale', 0.0, 0.0, 0.0, 0.0], ['\"O Smokey Night\"', '\"The Wind Cried Mari...\" Scottish Heather Ale', 0.0, 0.0, 0.0, 0.0], ['\"O Smokey Night\"', '\"They Made Me Do It\" Blueberry Ale', 0.0, 0.0, 0.0, 0.0], ['\"O Smokey Night\"', '\"Trouble\"', 0.0, 0.0, 0.0, 0.0], ['\"O Smokey Night\"', '\"True Blue\" Blueberry Ale', 0.0, 0.0, 0.0, 0.0], ['\"O Smokey Night\"', '\"Woosta\" Weizenbock', 0.0, 0.0, 0.0, 0.0], ['\"O Smokey Night\"', '# 100', 0.0, 0.0, 0.0, 0.0], ['\"O Smokey Night\"', \"#'s Ale\", 0.0, 0.0, 0.0, 0.0], ['\"O Smokey Night\"', \"Dale's Pale Ale\", 0.0, 0.0, 0.0, 0.0], ['\"O!\" Gold', '! (Old Ale)', 0.0, 0.0, 0.0, 0.0], ['\"O!\" Gold', '\"100\"', 0.0, 0.0, 0.0, 0.0], ['\"O!\" Gold', '\"100\" Pale Ale', 0.0, 0.0, 0.0, 0.0], ['\"O!\" Gold', '\"12\"  Belgian Golden Strong Ale', 0.0, 0.0, 0.0, 0.0], ['\"O!\" Gold', '\"33\" Export', 0.0, 0.0, 0.0, 0.0], ['\"O!\" Gold', '\"4\" Horse Oatmeal Stout', 1.0, 1.0, 1.0, 1.0], ['\"O!\" Gold', '\"400\" Ale', 0.0, 0.0, 0.0, 0.0], ['\"O!\" Gold', '\"50\" Golden Anniversary Lager', 0.0, 0.0, 0.0, 0.0], ['\"O!\" Gold', '\"76\" Anniversary Ale', 0.0, 0.0, 0.0, 0.0], ['\"O!\" Gold', '\"76\" Anniversary Ale With English Hops', 0.0, 0.0, 0.0, 0.0], ['\"O!\" Gold', '\"Alt\"ered State', 0.0, 0.0, 0.0, 0.0], ['\"O!\" Gold', '\"Best Of Both Worlds\" Stout', 0.0, 0.0, 0.0, 0.0], ['\"O!\" Gold', '\"Cellar Reserve\" Triple Gold', 0.0, 0.0, 0.0, 0.0], ['\"O!\" Gold', '\"Certifiably\" Blonde Ale', 0.0, 0.0, 0.0, 0.0], ['\"O!\" Gold', '\"Check-Mate\" Cask Pilsner', 0.0, 0.0, 0.0, 0.0], ['\"O!\" Gold', '\"Double Wrecked Wreck\" IPA', 0.0, 0.0, 0.0, 0.0], ['\"O!\" Gold', '\"Fade To Black\" Porter', 0.0, 0.0, 0.0, 0.0], ['\"O!\" Gold', '\"Great Satchmo\" Stout', 0.0, 0.0, 0.0, 0.0], ['\"O!\" Gold', '\"Hop Obama\" Ale', 0.0, 0.0, 0.0, 0.0], ['\"O!\" Gold', '\"Jessica & Brendan\\'s\" Bridal Ale', 0.0, 0.0, 0.0, 0.0], ['\"O!\" Gold', '\"Just One More\" Scotch Ale', 0.0, 0.0, 0.0, 0.0], ['\"O!\" Gold', '\"Little John\\'s Myth\" Robust Porter', 0.0, 0.0, 0.0, 0.0], ['\"O!\" Gold', '\"M\"', 0.0, 0.0, 0.0, 0.0], ['\"O!\" Gold', '\"M\"-perial Stout', 0.0, 0.0, 0.0, 0.0], ['\"O!\" Gold', '\"Marnie\" Gras Carnival Ale', 0.0, 0.0, 0.0, 0.0], ['\"O!\" Gold', '\"Naughty Scot\" Scotch Ale', 0.0, 0.0, 0.0, 0.0], ['\"O!\" Gold', '\"Nein Toll Bier\" German Alt', 0.0, 0.0, 0.0, 0.0], ['\"O!\" Gold', '\"Not Guilty\" 1924 Deer Brand', 0.0, 0.0, 0.0, 0.0], ['\"O!\" Gold', '\"Not Your Bock\" Maibock', 0.0, 0.0, 0.0, 0.0], ['\"O!\" Gold', '\"O Smokey Night\"', 0.0, 0.0, 0.0, 0.0], ['\"O!\" Gold', '\"Old School\" Craft Cream Ale', 0.0, 0.0, 0.0, 0.0], ['\"O!\" Gold', '\"Old Yeltsin\" Imperial Stout', 0.0, 0.0, 0.0, 0.0], ['\"O!\" Gold', '\"Requisite\" Imperialistic Stout', 0.0, 0.0, 0.0, 0.0], ['\"O!\" Gold', '\"See No Evil\" American Pale Ale', 0.0, 0.0, 0.0, 0.0], ['\"O!\" Gold', '\"Shabadoo\" Black & Tan Ale', 0.0, 0.0, 0.0, 0.0], ['\"O!\" Gold', '\"Six\" Belgian Style Table Beer', 0.0, 0.0, 0.0, 0.0], ['\"O!\" Gold', '\"Stout Stoat\" Stout', 0.0, 0.0, 0.0, 0.0], ['\"O!\" Gold', '\"Talk To Me\" IPA', 0.0, 0.0, 0.0, 0.0], ['\"O!\" Gold', '\"The Bridge\" Nut-Brown Ale', 0.0, 0.0, 0.0, 0.0], ['\"O!\" Gold', '\"The Buk\" Pale Ale', 0.0, 0.0, 0.0, 0.0], ['\"O!\" Gold', '\"The Camp\" Barleywine', 0.0, 0.0, 0.0, 0.0], ['\"O!\" Gold', '\"The Mountain\" Ale', 0.0, 0.0, 0.0, 0.0], ['\"O!\" Gold', '\"The Wind Cried Mari...\" Scottish Heather Ale', 1.0, 1.0, 1.0, 1.0], ['\"O!\" Gold', '\"They Made Me Do It\" Blueberry Ale', 0.0, 0.0, 0.0, 0.0], ['\"O!\" Gold', '\"Trouble\"', 0.0, 0.0, 0.0, 0.0], ['\"O!\" Gold', '\"True Blue\" Blueberry Ale', 0.0, 0.0, 0.0, 0.0], ['\"O!\" Gold', '\"Woosta\" Weizenbock', 0.0, 0.0, 0.0, 0.0], ['\"O!\" Gold', '# 100', 0.0, 0.0, 0.0, 0.0], ['\"O!\" Gold', \"#'s Ale\", 0.0, 0.0, 0.0, 0.0], ['\"O!\" Gold', \"Dale's Pale Ale\", 1.0, 1.0, 1.0, 1.0], ['\"Old School\" Craft Cream Ale', '! (Old Ale)', 0.0, 0.0, 0.0, 0.0], ['\"Old School\" Craft Cream Ale', '\"100\"', 0.0, 0.0, 0.0, 0.0], ['\"Old School\" Craft Cream Ale', '\"100\" Pale Ale', 0.0, 0.0, 0.0, 0.0], ['\"Old School\" Craft Cream Ale', '\"12\"  Belgian Golden Strong Ale', 0.0, 0.0, 0.0, 0.0], ['\"Old School\" Craft Cream Ale', '\"33\" Export', 0.0, 0.0, 0.0, 0.0], ['\"Old School\" Craft Cream Ale', '\"4\" Horse Oatmeal Stout', 0.0, 0.0, 0.0, 0.0], ['\"Old School\" Craft Cream Ale', '\"400\" Ale', 0.0, 0.0, 0.0, 0.0], ['\"Old School\" Craft Cream Ale', '\"50\" Golden Anniversary Lager', 0.0, 0.0, 0.0, 0.0], ['\"Old School\" Craft Cream Ale', '\"76\" Anniversary Ale', 0.0, 0.0, 0.0, 0.0], ['\"Old School\" Craft Cream Ale', '\"76\" Anniversary Ale With English Hops', 0.0, 0.0, 0.0, 0.0], ['\"Old School\" Craft Cream Ale', '\"Alt\"ered State', 0.0, 0.0, 0.0, 0.0], ['\"Old School\" Craft Cream Ale', '\"Best Of Both Worlds\" Stout', 0.0, 0.0, 0.0, 0.0], ['\"Old School\" Craft Cream Ale', '\"Cellar Reserve\" Triple Gold', 0.0, 0.0, 0.0, 0.0], ['\"Old School\" Craft Cream Ale', '\"Certifiably\" Blonde Ale', 0.0, 0.0, 0.0, 0.0], ['\"Old School\" Craft Cream Ale', '\"Check-Mate\" Cask Pilsner', 0.0, 0.0, 0.0, 0.0], ['\"Old School\" Craft Cream Ale', '\"Double Wrecked Wreck\" IPA', 0.0, 0.0, 0.0, 0.0], ['\"Old School\" Craft Cream Ale', '\"Fade To Black\" Porter', 0.0, 0.0, 0.0, 0.0], ['\"Old School\" Craft Cream Ale', '\"Great Satchmo\" Stout', 0.0, 0.0, 0.0, 0.0], ['\"Old School\" Craft Cream Ale', '\"Hop Obama\" Ale', 0.0, 0.0, 0.0, 0.0], ['\"Old School\" Craft Cream Ale', '\"Jessica & Brendan\\'s\" Bridal Ale', 0.0, 0.0, 0.0, 0.0], ['\"Old School\" Craft Cream Ale', '\"Just One More\" Scotch Ale', 0.0, 0.0, 0.0, 0.0], ['\"Old School\" Craft Cream Ale', '\"Little John\\'s Myth\" Robust Porter', 0.0, 0.0, 0.0, 0.0], ['\"Old School\" Craft Cream Ale', '\"M\"', 0.0, 0.0, 0.0, 0.0], ['\"Old School\" Craft Cream Ale', '\"M\"-perial Stout', 0.0, 0.0, 0.0, 0.0], ['\"Old School\" Craft Cream Ale', '\"Marnie\" Gras Carnival Ale', 0.0, 0.0, 0.0, 0.0], ['\"Old School\" Craft Cream Ale', '\"Naughty Scot\" Scotch Ale', 0.0, 0.0, 0.0, 0.0], ['\"Old School\" Craft Cream Ale', '\"Nein Toll Bier\" German Alt', 0.0, 0.0, 0.0, 0.0], ['\"Old School\" Craft Cream Ale', '\"Not Guilty\" 1924 Deer Brand', 0.0, 0.0, 0.0, 0.0], ['\"Old School\" Craft Cream Ale', '\"Not Your Bock\" Maibock', 0.0, 0.0, 0.0, 0.0], ['\"Old School\" Craft Cream Ale', '\"O Smokey Night\"', 0.0, 0.0, 0.0, 0.0], ['\"Old School\" Craft Cream Ale', '\"O!\" Gold', 0.0, 0.0, 0.0, 0.0], ['\"Old School\" Craft Cream Ale', '\"Old Yeltsin\" Imperial Stout', 0.0, 0.0, 0.0, 0.0], ['\"Old School\" Craft Cream Ale', '\"Requisite\" Imperialistic Stout', 0.0, 0.0, 0.0, 0.0], ['\"Old School\" Craft Cream Ale', '\"See No Evil\" American Pale Ale', 0.0, 0.0, 0.0, 0.0], ['\"Old School\" Craft Cream Ale', '\"Shabadoo\" Black & Tan Ale', 0.0, 0.0, 0.0, 0.0], ['\"Old School\" Craft Cream Ale', '\"Six\" Belgian Style Table Beer', 0.0, 0.0, 0.0, 0.0], ['\"Old School\" Craft Cream Ale', '\"Stout Stoat\" Stout', 0.0, 0.0, 0.0, 0.0], ['\"Old School\" Craft Cream Ale', '\"Talk To Me\" IPA', 0.0, 0.0, 0.0, 0.0], ['\"Old School\" Craft Cream Ale', '\"The Bridge\" Nut-Brown Ale', 0.0, 0.0, 0.0, 0.0], ['\"Old School\" Craft Cream Ale', '\"The Buk\" Pale Ale', 0.0, 0.0, 0.0, 0.0], ['\"Old School\" Craft Cream Ale', '\"The Camp\" Barleywine', 0.0, 0.0, 0.0, 0.0], ['\"Old School\" Craft Cream Ale', '\"The Mountain\" Ale', 0.0, 0.0, 0.0, 0.0], ['\"Old School\" Craft Cream Ale', '\"The Wind Cried Mari...\" Scottish Heather Ale', 0.0, 0.0, 0.0, 0.0], ['\"Old School\" Craft Cream Ale', '\"They Made Me Do It\" Blueberry Ale', 0.0, 0.0, 0.0, 0.0], ['\"Old School\" Craft Cream Ale', '\"Trouble\"', 0.0, 0.0, 0.0, 0.0], ['\"Old School\" Craft Cream Ale', '\"True Blue\" Blueberry Ale', 0.0, 0.0, 0.0, 0.0], ['\"Old School\" Craft Cream Ale', '\"Woosta\" Weizenbock', 0.0, 0.0, 0.0, 0.0], ['\"Old School\" Craft Cream Ale', '# 100', 0.0, 0.0, 0.0, 0.0], ['\"Old School\" Craft Cream Ale', \"#'s Ale\", 0.0, 0.0, 0.0, 0.0], ['\"Old School\" Craft Cream Ale', \"Dale's Pale Ale\", 0.0, 0.0, 0.0, 0.0], ['\"Old Yeltsin\" Imperial Stout', '! (Old Ale)', 0.0, 0.0, 0.0, 0.0], ['\"Old Yeltsin\" Imperial Stout', '\"100\"', 1.0, 1.0, 1.0, 1.0], ['\"Old Yeltsin\" Imperial Stout', '\"100\" Pale Ale', 0.0, 0.0, 0.0, 0.0], ['\"Old Yeltsin\" Imperial Stout', '\"12\"  Belgian Golden Strong Ale', 0.0, 0.0, 0.0, 0.0], ['\"Old Yeltsin\" Imperial Stout', '\"33\" Export', 0.0, 0.0, 0.0, 0.0], ['\"Old Yeltsin\" Imperial Stout', '\"4\" Horse Oatmeal Stout', 1.0, 1.0, 1.0, 1.0], ['\"Old Yeltsin\" Imperial Stout', '\"400\" Ale', 0.0, 0.0, 0.0, 0.0], ['\"Old Yeltsin\" Imperial Stout', '\"50\" Golden Anniversary Lager', 0.0, 0.0, 0.0, 0.0], ['\"Old Yeltsin\" Imperial Stout', '\"76\" Anniversary Ale', 0.0, 0.0, 0.0, 0.0], ['\"Old Yeltsin\" Imperial Stout', '\"76\" Anniversary Ale With English Hops', 0.0, 0.0, 0.0, 0.0], ['\"Old Yeltsin\" Imperial Stout', '\"Alt\"ered State', 1.0, 1.0, 1.0, 1.0], ['\"Old Yeltsin\" Imperial Stout', '\"Best Of Both Worlds\" Stout', 0.0, 0.0, 0.0, 0.0], ['\"Old Yeltsin\" Imperial Stout', '\"Cellar Reserve\" Triple Gold', 0.0, 0.0, 0.0, 0.0], ['\"Old Yeltsin\" Imperial Stout', '\"Certifiably\" Blonde Ale', 0.0, 0.0, 0.0, 0.0], ['\"Old Yeltsin\" Imperial Stout', '\"Check-Mate\" Cask Pilsner', 0.0, 0.0, 0.0, 0.0], ['\"Old Yeltsin\" Imperial Stout', '\"Double Wrecked Wreck\" IPA', 0.0, 0.0, 0.0, 0.0], ['\"Old Yeltsin\" Imperial Stout', '\"Fade To Black\" Porter', 0.0, 0.0, 0.0, 0.0], ['\"Old Yeltsin\" Imperial Stout', '\"Great Satchmo\" Stout', 0.0, 0.0, 0.0, 0.0], ['\"Old Yeltsin\" Imperial Stout', '\"Hop Obama\" Ale', 0.99778515785660882, 0.9982743731749959, 0.99215722222645342, 0.99778515785660882], ['\"Old Yeltsin\" Imperial Stout', '\"Jessica & Brendan\\'s\" Bridal Ale', 0.0, 0.0, 0.0, 0.0], ['\"Old Yeltsin\" Imperial Stout', '\"Just One More\" Scotch Ale', 0.0, 0.0, 0.0, 0.0], ['\"Old Yeltsin\" Imperial Stout', '\"Little John\\'s Myth\" Robust Porter', 0.0, 0.0, 0.0, 0.0], ['\"Old Yeltsin\" Imperial Stout', '\"M\"', 0.0, 0.0, 0.0, 0.0], ['\"Old Yeltsin\" Imperial Stout', '\"M\"-perial Stout', 0.0, 0.0, 0.0, 0.0], ['\"Old Yeltsin\" Imperial Stout', '\"Marnie\" Gras Carnival Ale', 0.99827437317499579, 0.9982743731749959, 1.0, 0.99861782933250964], ['\"Old Yeltsin\" Imperial Stout', '\"Naughty Scot\" Scotch Ale', 0.0, 0.0, 0.0, 0.0], ['\"Old Yeltsin\" Imperial Stout', '\"Nein Toll Bier\" German Alt', 0.0, 0.0, 0.0, 0.0], ['\"Old Yeltsin\" Imperial Stout', '\"Not Guilty\" 1924 Deer Brand', 0.0, 0.0, 0.0, 0.0], ['\"Old Yeltsin\" Imperial Stout', '\"Not Your Bock\" Maibock', 0.0, 0.0, 0.0, 0.0], ['\"Old Yeltsin\" Imperial Stout', '\"O Smokey Night\"', 0.0, 0.0, 0.0, 0.0], ['\"Old Yeltsin\" Imperial Stout', '\"O!\" Gold', 0.0, 0.0, 0.0, 0.0], ['\"Old Yeltsin\" Imperial Stout', '\"Old School\" Craft Cream Ale', 0.0, 0.0, 0.0, 0.0], ['\"Old Yeltsin\" Imperial Stout', '\"Requisite\" Imperialistic Stout', 0.0, 0.0, 0.0, 0.0], ['\"Old Yeltsin\" Imperial Stout', '\"See No Evil\" American Pale Ale', 0.0, 0.0, 0.0, 0.0], ['\"Old Yeltsin\" Imperial Stout', '\"Shabadoo\" Black & Tan Ale', 0.0, 0.0, 0.0, 0.0], ['\"Old Yeltsin\" Imperial Stout', '\"Six\" Belgian Style Table Beer', 0.0, 0.0, 0.0, 0.0], ['\"Old Yeltsin\" Imperial Stout', '\"Stout Stoat\" Stout', 0.0, 0.0, 0.0, 0.0], ['\"Old Yeltsin\" Imperial Stout', '\"Talk To Me\" IPA', 0.0, 0.0, 0.0, 0.0], ['\"Old Yeltsin\" Imperial Stout', '\"The Bridge\" Nut-Brown Ale', 0.0, 0.0, 0.0, 0.0], ['\"Old Yeltsin\" Imperial Stout', '\"The Buk\" Pale Ale', 1.0, 1.0, 1.0, 1.0], ['\"Old Yeltsin\" Imperial Stout', '\"The Camp\" Barleywine', 0.0, 0.0, 0.0, 0.0], ['\"Old Yeltsin\" Imperial Stout', '\"The Mountain\" Ale', 0.99984614201001332, 0.99778515785660893, 1.0, 0.9982743731749959], ['\"Old Yeltsin\" Imperial Stout', '\"The Wind Cried Mari...\" Scottish Heather Ale', 0.99784914579904482, 0.97834970311894109, 0.99833080566982058, 0.99040489536548915], ['\"Old Yeltsin\" Imperial Stout', '\"They Made Me Do It\" Blueberry Ale', 0.0, 0.0, 0.0, 0.0], ['\"Old Yeltsin\" Imperial Stout', '\"Trouble\"', 1.0, 1.0, 1.0, 1.0], ['\"Old Yeltsin\" Imperial Stout', '\"True Blue\" Blueberry Ale', 1.0, 1.0, 1.0, 1.0], ['\"Old Yeltsin\" Imperial Stout', '\"Woosta\" Weizenbock', 0.0, 0.0, 0.0, 0.0], ['\"Old Yeltsin\" Imperial Stout', '# 100', 0.99457357081821873, 0.99915688344043752, 0.97480992044922177, 0.98879912068910558], ['\"Old Yeltsin\" Imperial Stout', \"#'s Ale\", 0.97658699668825544, 0.99366079189645529, 0.96403143188611318, 0.9875602287009636], ['\"Old Yeltsin\" Imperial Stout', \"Dale's Pale Ale\", 0.97194359666119445, 0.99597129157934705, 0.99058671789541497, 0.97976160170770943], ['\"Requisite\" Imperialistic Stout', '! (Old Ale)', 0.0, 0.0, 0.0, 0.0], ['\"Requisite\" Imperialistic Stout', '\"100\"', 0.0, 0.0, 0.0, 0.0], ['\"Requisite\" Imperialistic Stout', '\"100\" Pale Ale', 0.0, 0.0, 0.0, 0.0], ['\"Requisite\" Imperialistic Stout', '\"12\"  Belgian Golden Strong Ale', 0.0, 0.0, 0.0, 0.0], ['\"Requisite\" Imperialistic Stout', '\"33\" Export', 0.0, 0.0, 0.0, 0.0], ['\"Requisite\" Imperialistic Stout', '\"4\" Horse Oatmeal Stout', 0.0, 0.0, 0.0, 0.0], ['\"Requisite\" Imperialistic Stout', '\"400\" Ale', 0.0, 0.0, 0.0, 0.0], ['\"Requisite\" Imperialistic Stout', '\"50\" Golden Anniversary Lager', 0.0, 0.0, 0.0, 0.0], ['\"Requisite\" Imperialistic Stout', '\"76\" Anniversary Ale', 0.0, 0.0, 0.0, 0.0], ['\"Requisite\" Imperialistic Stout', '\"76\" Anniversary Ale With English Hops', 0.0, 0.0, 0.0, 0.0], ['\"Requisite\" Imperialistic Stout', '\"Alt\"ered State', 0.0, 0.0, 0.0, 0.0], ['\"Requisite\" Imperialistic Stout', '\"Best Of Both Worlds\" Stout', 0.0, 0.0, 0.0, 0.0], ['\"Requisite\" Imperialistic Stout', '\"Cellar Reserve\" Triple Gold', 0.0, 0.0, 0.0, 0.0], ['\"Requisite\" Imperialistic Stout', '\"Certifiably\" Blonde Ale', 0.0, 0.0, 0.0, 0.0], ['\"Requisite\" Imperialistic Stout', '\"Check-Mate\" Cask Pilsner', 0.0, 0.0, 0.0, 0.0], ['\"Requisite\" Imperialistic Stout', '\"Double Wrecked Wreck\" IPA', 0.0, 0.0, 0.0, 0.0], ['\"Requisite\" Imperialistic Stout', '\"Fade To Black\" Porter', 0.0, 0.0, 0.0, 0.0], ['\"Requisite\" Imperialistic Stout', '\"Great Satchmo\" Stout', 0.0, 0.0, 0.0, 0.0], ['\"Requisite\" Imperialistic Stout', '\"Hop Obama\" Ale', 0.0, 0.0, 0.0, 0.0], ['\"Requisite\" Imperialistic Stout', '\"Jessica & Brendan\\'s\" Bridal Ale', 1.0, 1.0, 1.0, 1.0], ['\"Requisite\" Imperialistic Stout', '\"Just One More\" Scotch Ale', 0.0, 0.0, 0.0, 0.0], ['\"Requisite\" Imperialistic Stout', '\"Little John\\'s Myth\" Robust Porter', 0.0, 0.0, 0.0, 0.0], ['\"Requisite\" Imperialistic Stout', '\"M\"', 0.0, 0.0, 0.0, 0.0], ['\"Requisite\" Imperialistic Stout', '\"M\"-perial Stout', 0.0, 0.0, 0.0, 0.0], ['\"Requisite\" Imperialistic Stout', '\"Marnie\" Gras Carnival Ale', 0.0, 0.0, 0.0, 0.0], ['\"Requisite\" Imperialistic Stout', '\"Naughty Scot\" Scotch Ale', 0.0, 0.0, 0.0, 0.0], ['\"Requisite\" Imperialistic Stout', '\"Nein Toll Bier\" German Alt', 0.0, 0.0, 0.0, 0.0], ['\"Requisite\" Imperialistic Stout', '\"Not Guilty\" 1924 Deer Brand', 0.0, 0.0, 0.0, 0.0], ['\"Requisite\" Imperialistic Stout', '\"Not Your Bock\" Maibock', 0.0, 0.0, 0.0, 0.0], ['\"Requisite\" Imperialistic Stout', '\"O Smokey Night\"', 0.0, 0.0, 0.0, 0.0], ['\"Requisite\" Imperialistic Stout', '\"O!\" Gold', 0.0, 0.0, 0.0, 0.0], ['\"Requisite\" Imperialistic Stout', '\"Old School\" Craft Cream Ale', 0.0, 0.0, 0.0, 0.0], ['\"Requisite\" Imperialistic Stout', '\"Old Yeltsin\" Imperial Stout', 0.0, 0.0, 0.0, 0.0], ['\"Requisite\" Imperialistic Stout', '\"See No Evil\" American Pale Ale', 0.0, 0.0, 0.0, 0.0], ['\"Requisite\" Imperialistic Stout', '\"Shabadoo\" Black & Tan Ale', 0.0, 0.0, 0.0, 0.0], ['\"Requisite\" Imperialistic Stout', '\"Six\" Belgian Style Table Beer', 1.0, 1.0, 1.0, 1.0], ['\"Requisite\" Imperialistic Stout', '\"Stout Stoat\" Stout', 0.0, 0.0, 0.0, 0.0], ['\"Requisite\" Imperialistic Stout', '\"Talk To Me\" IPA', 0.0, 0.0, 0.0, 0.0], ['\"Requisite\" Imperialistic Stout', '\"The Bridge\" Nut-Brown Ale', 0.0, 0.0, 0.0, 0.0], ['\"Requisite\" Imperialistic Stout', '\"The Buk\" Pale Ale', 0.0, 0.0, 0.0, 0.0], ['\"Requisite\" Imperialistic Stout', '\"The Camp\" Barleywine', 0.0, 0.0, 0.0, 0.0], ['\"Requisite\" Imperialistic Stout', '\"The Mountain\" Ale', 0.0, 0.0, 0.0, 0.0], ['\"Requisite\" Imperialistic Stout', '\"The Wind Cried Mari...\" Scottish Heather Ale', 1.0, 1.0, 1.0, 1.0], ['\"Requisite\" Imperialistic Stout', '\"They Made Me Do It\" Blueberry Ale', 0.0, 0.0, 0.0, 0.0], ['\"Requisite\" Imperialistic Stout', '\"Trouble\"', 0.0, 0.0, 0.0, 0.0], ['\"Requisite\" Imperialistic Stout', '\"True Blue\" Blueberry Ale', 0.0, 0.0, 0.0, 0.0], ['\"Requisite\" Imperialistic Stout', '\"Woosta\" Weizenbock', 0.0, 0.0, 0.0, 0.0], ['\"Requisite\" Imperialistic Stout', '# 100', 0.0, 0.0, 0.0, 0.0], ['\"Requisite\" Imperialistic Stout', \"#'s Ale\", 1.0, 1.0, 1.0, 1.0], ['\"Requisite\" Imperialistic Stout', \"Dale's Pale Ale\", 0.97899516167223122, 0.99025867574990678, 0.99498743710661985, 0.99456530861920611], ['\"See No Evil\" American Pale Ale', '! (Old Ale)', 0.0, 0.0, 0.0, 0.0], ['\"See No Evil\" American Pale Ale', '\"100\"', 0.0, 0.0, 0.0, 0.0], ['\"See No Evil\" American Pale Ale', '\"100\" Pale Ale', 0.0, 0.0, 0.0, 0.0], ['\"See No Evil\" American Pale Ale', '\"12\"  Belgian Golden Strong Ale', 0.0, 0.0, 0.0, 0.0], ['\"See No Evil\" American Pale Ale', '\"33\" Export', 0.0, 0.0, 0.0, 0.0], ['\"See No Evil\" American Pale Ale', '\"4\" Horse Oatmeal Stout', 0.0, 0.0, 0.0, 0.0], ['\"See No Evil\" American Pale Ale', '\"400\" Ale', 0.0, 0.0, 0.0, 0.0], ['\"See No Evil\" American Pale Ale', '\"50\" Golden Anniversary Lager', 0.0, 0.0, 0.0, 0.0], ['\"See No Evil\" American Pale Ale', '\"76\" Anniversary Ale', 0.0, 0.0, 0.0, 0.0], ['\"See No Evil\" American Pale Ale', '\"76\" Anniversary Ale With English Hops', 0.0, 0.0, 0.0, 0.0], ['\"See No Evil\" American Pale Ale', '\"Alt\"ered State', 0.0, 0.0, 0.0, 0.0], ['\"See No Evil\" American Pale Ale', '\"Best Of Both Worlds\" Stout', 0.0, 0.0, 0.0, 0.0], ['\"See No Evil\" American Pale Ale', '\"Cellar Reserve\" Triple Gold', 0.0, 0.0, 0.0, 0.0], ['\"See No Evil\" American Pale Ale', '\"Certifiably\" Blonde Ale', 0.0, 0.0, 0.0, 0.0], ['\"See No Evil\" American Pale Ale', '\"Check-Mate\" Cask Pilsner', 0.0, 0.0, 0.0, 0.0], ['\"See No Evil\" American Pale Ale', '\"Double Wrecked Wreck\" IPA', 0.0, 0.0, 0.0, 0.0], ['\"See No Evil\" American Pale Ale', '\"Fade To Black\" Porter', 0.0, 0.0, 0.0, 0.0], ['\"See No Evil\" American Pale Ale', '\"Great Satchmo\" Stout', 0.0, 0.0, 0.0, 0.0], ['\"See No Evil\" American Pale Ale', '\"Hop Obama\" Ale', 0.0, 0.0, 0.0, 0.0], ['\"See No Evil\" American Pale Ale', '\"Jessica & Brendan\\'s\" Bridal Ale', 0.0, 0.0, 0.0, 0.0], ['\"See No Evil\" American Pale Ale', '\"Just One More\" Scotch Ale', 0.0, 0.0, 0.0, 0.0], ['\"See No Evil\" American Pale Ale', '\"Little John\\'s Myth\" Robust Porter', 0.0, 0.0, 0.0, 0.0], ['\"See No Evil\" American Pale Ale', '\"M\"', 0.0, 0.0, 0.0, 0.0], ['\"See No Evil\" American Pale Ale', '\"M\"-perial Stout', 0.0, 0.0, 0.0, 0.0], ['\"See No Evil\" American Pale Ale', '\"Marnie\" Gras Carnival Ale', 0.0, 0.0, 0.0, 0.0], ['\"See No Evil\" American Pale Ale', '\"Naughty Scot\" Scotch Ale', 0.0, 0.0, 0.0, 0.0], ['\"See No Evil\" American Pale Ale', '\"Nein Toll Bier\" German Alt', 0.0, 0.0, 0.0, 0.0], ['\"See No Evil\" American Pale Ale', '\"Not Guilty\" 1924 Deer Brand', 0.0, 0.0, 0.0, 0.0], ['\"See No Evil\" American Pale Ale', '\"Not Your Bock\" Maibock', 0.0, 0.0, 0.0, 0.0], ['\"See No Evil\" American Pale Ale', '\"O Smokey Night\"', 0.0, 0.0, 0.0, 0.0], ['\"See No Evil\" American Pale Ale', '\"O!\" Gold', 0.0, 0.0, 0.0, 0.0], ['\"See No Evil\" American Pale Ale', '\"Old School\" Craft Cream Ale', 0.0, 0.0, 0.0, 0.0], ['\"See No Evil\" American Pale Ale', '\"Old Yeltsin\" Imperial Stout', 0.0, 0.0, 0.0, 0.0], ['\"See No Evil\" American Pale Ale', '\"Requisite\" Imperialistic Stout', 0.0, 0.0, 0.0, 0.0], ['\"See No Evil\" American Pale Ale', '\"Shabadoo\" Black & Tan Ale', 0.0, 0.0, 0.0, 0.0], ['\"See No Evil\" American Pale Ale', '\"Six\" Belgian Style Table Beer', 0.0, 0.0, 0.0, 0.0], ['\"See No Evil\" American Pale Ale', '\"Stout Stoat\" Stout', 0.0, 0.0, 0.0, 0.0], ['\"See No Evil\" American Pale Ale', '\"Talk To Me\" IPA', 0.0, 0.0, 0.0, 0.0], ['\"See No Evil\" American Pale Ale', '\"The Bridge\" Nut-Brown Ale', 0.0, 0.0, 0.0, 0.0], ['\"See No Evil\" American Pale Ale', '\"The Buk\" Pale Ale', 0.0, 0.0, 0.0, 0.0], ['\"See No Evil\" American Pale Ale', '\"The Camp\" Barleywine', 0.0, 0.0, 0.0, 0.0], ['\"See No Evil\" American Pale Ale', '\"The Mountain\" Ale', 0.0, 0.0, 0.0, 0.0], ['\"See No Evil\" American Pale Ale', '\"The Wind Cried Mari...\" Scottish Heather Ale', 1.0, 1.0, 1.0, 1.0], ['\"See No Evil\" American Pale Ale', '\"They Made Me Do It\" Blueberry Ale', 0.0, 0.0, 0.0, 0.0], ['\"See No Evil\" American Pale Ale', '\"Trouble\"', 0.0, 0.0, 0.0, 0.0], ['\"See No Evil\" American Pale Ale', '\"True Blue\" Blueberry Ale', 0.0, 0.0, 0.0, 0.0], ['\"See No Evil\" American Pale Ale', '\"Woosta\" Weizenbock', 0.0, 0.0, 0.0, 0.0], ['\"See No Evil\" American Pale Ale', '# 100', 0.0, 0.0, 0.0, 0.0], ['\"See No Evil\" American Pale Ale', \"#'s Ale\", 0.0, 0.0, 0.0, 0.0], ['\"See No Evil\" American Pale Ale', \"Dale's Pale Ale\", 0.0, 0.0, 0.0, 0.0], ['\"Shabadoo\" Black & Tan Ale', '! (Old Ale)', 0.0, 0.0, 0.0, 0.0], ['\"Shabadoo\" Black & Tan Ale', '\"100\"', 0.0, 0.0, 0.0, 0.0], ['\"Shabadoo\" Black & Tan Ale', '\"100\" Pale Ale', 0.0, 0.0, 0.0, 0.0], ['\"Shabadoo\" Black & Tan Ale', '\"12\"  Belgian Golden Strong Ale', 0.0, 0.0, 0.0, 0.0], ['\"Shabadoo\" Black & Tan Ale', '\"33\" Export', 0.0, 0.0, 0.0, 0.0], ['\"Shabadoo\" Black & Tan Ale', '\"4\" Horse Oatmeal Stout', 0.0, 0.0, 0.0, 0.0], ['\"Shabadoo\" Black & Tan Ale', '\"400\" Ale', 0.0, 0.0, 0.0, 0.0], ['\"Shabadoo\" Black & Tan Ale', '\"50\" Golden Anniversary Lager', 0.0, 0.0, 0.0, 0.0], ['\"Shabadoo\" Black & Tan Ale', '\"76\" Anniversary Ale', 0.0, 0.0, 0.0, 0.0], ['\"Shabadoo\" Black & Tan Ale', '\"76\" Anniversary Ale With English Hops', 0.0, 0.0, 0.0, 0.0], ['\"Shabadoo\" Black & Tan Ale', '\"Alt\"ered State', 0.0, 0.0, 0.0, 0.0], ['\"Shabadoo\" Black & Tan Ale', '\"Best Of Both Worlds\" Stout', 0.0, 0.0, 0.0, 0.0], ['\"Shabadoo\" Black & Tan Ale', '\"Cellar Reserve\" Triple Gold', 0.0, 0.0, 0.0, 0.0], ['\"Shabadoo\" Black & Tan Ale', '\"Certifiably\" Blonde Ale', 0.0, 0.0, 0.0, 0.0], ['\"Shabadoo\" Black & Tan Ale', '\"Check-Mate\" Cask Pilsner', 0.0, 0.0, 0.0, 0.0], ['\"Shabadoo\" Black & Tan Ale', '\"Double Wrecked Wreck\" IPA', 0.0, 0.0, 0.0, 0.0], ['\"Shabadoo\" Black & Tan Ale', '\"Fade To Black\" Porter', 0.0, 0.0, 0.0, 0.0], ['\"Shabadoo\" Black & Tan Ale', '\"Great Satchmo\" Stout', 0.0, 0.0, 0.0, 0.0], ['\"Shabadoo\" Black & Tan Ale', '\"Hop Obama\" Ale', 0.99996948381878781, 0.98994949366116647, 0.98994949366116647, 0.99996948381878781], ['\"Shabadoo\" Black & Tan Ale', '\"Jessica & Brendan\\'s\" Bridal Ale', 0.0, 0.0, 0.0, 0.0], ['\"Shabadoo\" Black & Tan Ale', '\"Just One More\" Scotch Ale', 1.0, 1.0, 1.0, 1.0], ['\"Shabadoo\" Black & Tan Ale', '\"Little John\\'s Myth\" Robust Porter', 0.0, 0.0, 0.0, 0.0], ['\"Shabadoo\" Black & Tan Ale', '\"M\"', 0.0, 0.0, 0.0, 0.0], ['\"Shabadoo\" Black & Tan Ale', '\"M\"-perial Stout', 0.0, 0.0, 0.0, 0.0], ['\"Shabadoo\" Black & Tan Ale', '\"Marnie\" Gras Carnival Ale', 0.0, 0.0, 0.0, 0.0], ['\"Shabadoo\" Black & Tan Ale', '\"Naughty Scot\" Scotch Ale', 0.0, 0.0, 0.0, 0.0], ['\"Shabadoo\" Black & Tan Ale', '\"Nein Toll Bier\" German Alt', 1.0, 1.0, 1.0, 1.0], ['\"Shabadoo\" Black & Tan Ale', '\"Not Guilty\" 1924 Deer Brand', 0.0, 0.0, 0.0, 0.0], ['\"Shabadoo\" Black & Tan Ale', '\"Not Your Bock\" Maibock', 0.0, 0.0, 0.0, 0.0], ['\"Shabadoo\" Black & Tan Ale', '\"O Smokey Night\"', 0.0, 0.0, 0.0, 0.0], ['\"Shabadoo\" Black & Tan Ale', '\"O!\" Gold', 0.0, 0.0, 0.0, 0.0], ['\"Shabadoo\" Black & Tan Ale', '\"Old School\" Craft Cream Ale', 0.0, 0.0, 0.0, 0.0], ['\"Shabadoo\" Black & Tan Ale', '\"Old Yeltsin\" Imperial Stout', 0.0, 0.0, 0.0, 0.0], ['\"Shabadoo\" Black & Tan Ale', '\"Requisite\" Imperialistic Stout', 0.0, 0.0, 0.0, 0.0], ['\"Shabadoo\" Black & Tan Ale', '\"See No Evil\" American Pale Ale', 0.0, 0.0, 0.0, 0.0], ['\"Shabadoo\" Black & Tan Ale', '\"Six\" Belgian Style Table Beer', 0.0, 0.0, 0.0, 0.0], ['\"Shabadoo\" Black & Tan Ale', '\"Stout Stoat\" Stout', 0.0, 0.0, 0.0, 0.0], ['\"Shabadoo\" Black & Tan Ale', '\"Talk To Me\" IPA', 1.0, 1.0, 1.0, 1.0], ['\"Shabadoo\" Black & Tan Ale', '\"The Bridge\" Nut-Brown Ale', 0.0, 0.0, 0.0, 0.0], ['\"Shabadoo\" Black & Tan Ale', '\"The Buk\" Pale Ale', 1.0, 1.0, 1.0, 1.0], ['\"Shabadoo\" Black & Tan Ale', '\"The Camp\" Barleywine', 0.0, 0.0, 0.0, 0.0], ['\"Shabadoo\" Black & Tan Ale', '\"The Mountain\" Ale', 0.0, 0.0, 0.0, 0.0], ['\"Shabadoo\" Black & Tan Ale', '\"The Wind Cried Mari...\" Scottish Heather Ale', 0.99821030596075133, 0.99794026557833193, 0.97979589711327131, 0.9930556599191489], ['\"Shabadoo\" Black & Tan Ale', '\"They Made Me Do It\" Blueberry Ale', 0.0, 0.0, 0.0, 0.0], ['\"Shabadoo\" Black & Tan Ale', '\"Trouble\"', 0.0, 0.0, 0.0, 0.0], ['\"Shabadoo\" Black & Tan Ale', '\"True Blue\" Blueberry Ale', 0.99999999999999978, 0.99778515785660882, 0.99115044247787598, 0.9682773237093576], ['\"Shabadoo\" Black & Tan Ale', '\"Woosta\" Weizenbock', 1.0, 1.0, 1.0, 1.0], ['\"Shabadoo\" Black & Tan Ale', '# 100', 0.99584201417949969, 0.98847594688093554, 0.99491140327921457, 0.99618677952740009], ['\"Shabadoo\" Black & Tan Ale', \"#'s Ale\", 0.99227787671366763, 0.98974439199138509, 0.99778515785660882, 0.99115044247787598], ['\"Shabadoo\" Black & Tan Ale', \"Dale's Pale Ale\", 0.98934126698392078, 0.98817219507291343, 0.98606170549967231, 0.98830300898892098], ['\"Six\" Belgian Style Table Beer', '! (Old Ale)', 0.0, 0.0, 0.0, 0.0], ['\"Six\" Belgian Style Table Beer', '\"100\"', 0.0, 0.0, 0.0, 0.0], ['\"Six\" Belgian Style Table Beer', '\"100\" Pale Ale', 0.0, 0.0, 0.0, 0.0], ['\"Six\" Belgian Style Table Beer', '\"12\"  Belgian Golden Strong Ale', 0.0, 0.0, 0.0, 0.0], ['\"Six\" Belgian Style Table Beer', '\"33\" Export', 0.0, 0.0, 0.0, 0.0], ['\"Six\" Belgian Style Table Beer', '\"4\" Horse Oatmeal Stout', 0.0, 0.0, 0.0, 0.0], ['\"Six\" Belgian Style Table Beer', '\"400\" Ale', 0.0, 0.0, 0.0, 0.0], ['\"Six\" Belgian Style Table Beer', '\"50\" Golden Anniversary Lager', 0.0, 0.0, 0.0, 0.0], ['\"Six\" Belgian Style Table Beer', '\"76\" Anniversary Ale', 0.0, 0.0, 0.0, 0.0], ['\"Six\" Belgian Style Table Beer', '\"76\" Anniversary Ale With English Hops', 0.0, 0.0, 0.0, 0.0], ['\"Six\" Belgian Style Table Beer', '\"Alt\"ered State', 0.0, 0.0, 0.0, 0.0], ['\"Six\" Belgian Style Table Beer', '\"Best Of Both Worlds\" Stout', 0.0, 0.0, 0.0, 0.0], ['\"Six\" Belgian Style Table Beer', '\"Cellar Reserve\" Triple Gold', 0.0, 0.0, 0.0, 0.0], ['\"Six\" Belgian Style Table Beer', '\"Certifiably\" Blonde Ale', 0.0, 0.0, 0.0, 0.0], ['\"Six\" Belgian Style Table Beer', '\"Check-Mate\" Cask Pilsner', 0.0, 0.0, 0.0, 0.0], ['\"Six\" Belgian Style Table Beer', '\"Double Wrecked Wreck\" IPA', 0.0, 0.0, 0.0, 0.0], ['\"Six\" Belgian Style Table Beer', '\"Fade To Black\" Porter', 0.0, 0.0, 0.0, 0.0], ['\"Six\" Belgian Style Table Beer', '\"Great Satchmo\" Stout', 0.0, 0.0, 0.0, 0.0], ['\"Six\" Belgian Style Table Beer', '\"Hop Obama\" Ale', 0.0, 0.0, 0.0, 0.0], ['\"Six\" Belgian Style Table Beer', '\"Jessica & Brendan\\'s\" Bridal Ale', 0.0, 0.0, 0.0, 0.0], ['\"Six\" Belgian Style Table Beer', '\"Just One More\" Scotch Ale', 0.0, 0.0, 0.0, 0.0], ['\"Six\" Belgian Style Table Beer', '\"Little John\\'s Myth\" Robust Porter', 0.0, 0.0, 0.0, 0.0], ['\"Six\" Belgian Style Table Beer', '\"M\"', 0.0, 0.0, 0.0, 0.0], ['\"Six\" Belgian Style Table Beer', '\"M\"-perial Stout', 0.0, 0.0, 0.0, 0.0], ['\"Six\" Belgian Style Table Beer', '\"Marnie\" Gras Carnival Ale', 0.0, 0.0, 0.0, 0.0], ['\"Six\" Belgian Style Table Beer', '\"Naughty Scot\" Scotch Ale', 0.0, 0.0, 0.0, 0.0], ['\"Six\" Belgian Style Table Beer', '\"Nein Toll Bier\" German Alt', 0.0, 0.0, 0.0, 0.0], ['\"Six\" Belgian Style Table Beer', '\"Not Guilty\" 1924 Deer Brand', 0.0, 0.0, 0.0, 0.0], ['\"Six\" Belgian Style Table Beer', '\"Not Your Bock\" Maibock', 0.0, 0.0, 0.0, 0.0], ['\"Six\" Belgian Style Table Beer', '\"O Smokey Night\"', 0.0, 0.0, 0.0, 0.0], ['\"Six\" Belgian Style Table Beer', '\"O!\" Gold', 0.0, 0.0, 0.0, 0.0], ['\"Six\" Belgian Style Table Beer', '\"Old School\" Craft Cream Ale', 0.0, 0.0, 0.0, 0.0], ['\"Six\" Belgian Style Table Beer', '\"Old Yeltsin\" Imperial Stout', 0.0, 0.0, 0.0, 0.0], ['\"Six\" Belgian Style Table Beer', '\"Requisite\" Imperialistic Stout', 1.0, 1.0, 1.0, 1.0], ['\"Six\" Belgian Style Table Beer', '\"See No Evil\" American Pale Ale', 0.0, 0.0, 0.0, 0.0], ['\"Six\" Belgian Style Table Beer', '\"Shabadoo\" Black & Tan Ale', 0.0, 0.0, 0.0, 0.0], ['\"Six\" Belgian Style Table Beer', '\"Stout Stoat\" Stout', 0.0, 0.0, 0.0, 0.0], ['\"Six\" Belgian Style Table Beer', '\"Talk To Me\" IPA', 0.0, 0.0, 0.0, 0.0], ['\"Six\" Belgian Style Table Beer', '\"The Bridge\" Nut-Brown Ale', 0.0, 0.0, 0.0, 0.0], ['\"Six\" Belgian Style Table Beer', '\"The Buk\" Pale Ale', 0.0, 0.0, 0.0, 0.0], ['\"Six\" Belgian Style Table Beer', '\"The Camp\" Barleywine', 0.0, 0.0, 0.0, 0.0], ['\"Six\" Belgian Style Table Beer', '\"The Mountain\" Ale', 0.0, 0.0, 0.0, 0.0], ['\"Six\" Belgian Style Table Beer', '\"The Wind Cried Mari...\" Scottish Heather Ale', 1.0, 1.0, 1.0, 1.0], ['\"Six\" Belgian Style Table Beer', '\"They Made Me Do It\" Blueberry Ale', 0.0, 0.0, 0.0, 0.0], ['\"Six\" Belgian Style Table Beer', '\"Trouble\"', 0.0, 0.0, 0.0, 0.0], ['\"Six\" Belgian Style Table Beer', '\"True Blue\" Blueberry Ale', 0.0, 0.0, 0.0, 0.0], ['\"Six\" Belgian Style Table Beer', '\"Woosta\" Weizenbock', 0.0, 0.0, 0.0, 0.0], ['\"Six\" Belgian Style Table Beer', '# 100', 0.0, 0.0, 0.0, 0.0], ['\"Six\" Belgian Style Table Beer', \"#'s Ale\", 1.0, 1.0, 1.0, 1.0], ['\"Six\" Belgian Style Table Beer', \"Dale's Pale Ale\", 0.99145429554254361, 0.98994949366116658, 0.98994949366116647, 1.0000000000000002], ['\"Stout Stoat\" Stout', '! (Old Ale)', 0.0, 0.0, 0.0, 0.0], ['\"Stout Stoat\" Stout', '\"100\"', 0.0, 0.0, 0.0, 0.0], ['\"Stout Stoat\" Stout', '\"100\" Pale Ale', 0.0, 0.0, 0.0, 0.0], ['\"Stout Stoat\" Stout', '\"12\"  Belgian Golden Strong Ale', 0.0, 0.0, 0.0, 0.0], ['\"Stout Stoat\" Stout', '\"33\" Export', 0.0, 0.0, 0.0, 0.0], ['\"Stout Stoat\" Stout', '\"4\" Horse Oatmeal Stout', 0.0, 0.0, 0.0, 0.0], ['\"Stout Stoat\" Stout', '\"400\" Ale', 0.0, 0.0, 0.0, 0.0], ['\"Stout Stoat\" Stout', '\"50\" Golden Anniversary Lager', 0.0, 0.0, 0.0, 0.0], ['\"Stout Stoat\" Stout', '\"76\" Anniversary Ale', 0.0, 0.0, 0.0, 0.0], ['\"Stout Stoat\" Stout', '\"76\" Anniversary Ale With English Hops', 0.0, 0.0, 0.0, 0.0], ['\"Stout Stoat\" Stout', '\"Alt\"ered State', 0.0, 0.0, 0.0, 0.0], ['\"Stout Stoat\" Stout', '\"Best Of Both Worlds\" Stout', 0.0, 0.0, 0.0, 0.0], ['\"Stout Stoat\" Stout', '\"Cellar Reserve\" Triple Gold', 0.0, 0.0, 0.0, 0.0], ['\"Stout Stoat\" Stout', '\"Certifiably\" Blonde Ale', 0.0, 0.0, 0.0, 0.0], ['\"Stout Stoat\" Stout', '\"Check-Mate\" Cask Pilsner', 1.0, 1.0, 1.0, 1.0], ['\"Stout Stoat\" Stout', '\"Double Wrecked Wreck\" IPA', 0.0, 0.0, 0.0, 0.0], ['\"Stout Stoat\" Stout', '\"Fade To Black\" Porter', 0.0, 0.0, 0.0, 0.0], ['\"Stout Stoat\" Stout', '\"Great Satchmo\" Stout', 0.0, 0.0, 0.0, 0.0], ['\"Stout Stoat\" Stout', '\"Hop Obama\" Ale', 0.0, 0.0, 0.0, 0.0], ['\"Stout Stoat\" Stout', '\"Jessica & Brendan\\'s\" Bridal Ale', 0.0, 0.0, 0.0, 0.0], ['\"Stout Stoat\" Stout', '\"Just One More\" Scotch Ale', 0.0, 0.0, 0.0, 0.0], ['\"Stout Stoat\" Stout', '\"Little John\\'s Myth\" Robust Porter', 1.0, 1.0, 1.0, 1.0], ['\"Stout Stoat\" Stout', '\"M\"', 0.0, 0.0, 0.0, 0.0], ['\"Stout Stoat\" Stout', '\"M\"-perial Stout', 0.0, 0.0, 0.0, 0.0], ['\"Stout Stoat\" Stout', '\"Marnie\" Gras Carnival Ale', 0.0, 0.0, 0.0, 0.0], ['\"Stout Stoat\" Stout', '\"Naughty Scot\" Scotch Ale', 0.0, 0.0, 0.0, 0.0], ['\"Stout Stoat\" Stout', '\"Nein Toll Bier\" German Alt', 0.0, 0.0, 0.0, 0.0], ['\"Stout Stoat\" Stout', '\"Not Guilty\" 1924 Deer Brand', 0.0, 0.0, 0.0, 0.0], ['\"Stout Stoat\" Stout', '\"Not Your Bock\" Maibock', 0.0, 0.0, 0.0, 0.0], ['\"Stout Stoat\" Stout', '\"O Smokey Night\"', 0.0, 0.0, 0.0, 0.0], ['\"Stout Stoat\" Stout', '\"O!\" Gold', 0.0, 0.0, 0.0, 0.0], ['\"Stout Stoat\" Stout', '\"Old School\" Craft Cream Ale', 0.0, 0.0, 0.0, 0.0], ['\"Stout Stoat\" Stout', '\"Old Yeltsin\" Imperial Stout', 0.0, 0.0, 0.0, 0.0], ['\"Stout Stoat\" Stout', '\"Requisite\" Imperialistic Stout', 0.0, 0.0, 0.0, 0.0], ['\"Stout Stoat\" Stout', '\"See No Evil\" American Pale Ale', 0.0, 0.0, 0.0, 0.0], ['\"Stout Stoat\" Stout', '\"Shabadoo\" Black & Tan Ale', 0.0, 0.0, 0.0, 0.0], ['\"Stout Stoat\" Stout', '\"Six\" Belgian Style Table Beer', 0.0, 0.0, 0.0, 0.0], ['\"Stout Stoat\" Stout', '\"Talk To Me\" IPA', 0.0, 0.0, 0.0, 0.0], ['\"Stout Stoat\" Stout', '\"The Bridge\" Nut-Brown Ale', 0.0, 0.0, 0.0, 0.0], ['\"Stout Stoat\" Stout', '\"The Buk\" Pale Ale', 0.0, 0.0, 0.0, 0.0], ['\"Stout Stoat\" Stout', '\"The Camp\" Barleywine', 0.0, 0.0, 0.0, 0.0], ['\"Stout Stoat\" Stout', '\"The Mountain\" Ale', 0.0, 0.0, 0.0, 0.0], ['\"Stout Stoat\" Stout', '\"The Wind Cried Mari...\" Scottish Heather Ale', 0.0, 0.0, 0.0, 0.0], ['\"Stout Stoat\" Stout', '\"They Made Me Do It\" Blueberry Ale', 0.0, 0.0, 0.0, 0.0], ['\"Stout Stoat\" Stout', '\"Trouble\"', 0.0, 0.0, 0.0, 0.0], ['\"Stout Stoat\" Stout', '\"True Blue\" Blueberry Ale', 0.0, 0.0, 0.0, 0.0], ['\"Stout Stoat\" Stout', '\"Woosta\" Weizenbock', 0.0, 0.0, 0.0, 0.0], ['\"Stout Stoat\" Stout', '# 100', 0.0, 0.0, 0.0, 0.0], ['\"Stout Stoat\" Stout', \"#'s Ale\", 0.0, 0.0, 0.0, 0.0], ['\"Stout Stoat\" Stout', \"Dale's Pale Ale\", 0.0, 0.0, 0.0, 0.0], ['\"Talk To Me\" IPA', '! (Old Ale)', 0.0, 0.0, 0.0, 0.0], ['\"Talk To Me\" IPA', '\"100\"', 0.0, 0.0, 0.0, 0.0], ['\"Talk To Me\" IPA', '\"100\" Pale Ale', 0.0, 0.0, 0.0, 0.0], ['\"Talk To Me\" IPA', '\"12\"  Belgian Golden Strong Ale', 0.0, 0.0, 0.0, 0.0], ['\"Talk To Me\" IPA', '\"33\" Export', 0.0, 0.0, 0.0, 0.0], ['\"Talk To Me\" IPA', '\"4\" Horse Oatmeal Stout', 0.0, 0.0, 0.0, 0.0], ['\"Talk To Me\" IPA', '\"400\" Ale', 0.0, 0.0, 0.0, 0.0], ['\"Talk To Me\" IPA', '\"50\" Golden Anniversary Lager', 0.0, 0.0, 0.0, 0.0], ['\"Talk To Me\" IPA', '\"76\" Anniversary Ale', 0.0, 0.0, 0.0, 0.0], ['\"Talk To Me\" IPA', '\"76\" Anniversary Ale With English Hops', 0.0, 0.0, 0.0, 0.0], ['\"Talk To Me\" IPA', '\"Alt\"ered State', 0.0, 0.0, 0.0, 0.0], ['\"Talk To Me\" IPA', '\"Best Of Both Worlds\" Stout', 0.0, 0.0, 0.0, 0.0], ['\"Talk To Me\" IPA', '\"Cellar Reserve\" Triple Gold', 0.0, 0.0, 0.0, 0.0], ['\"Talk To Me\" IPA', '\"Certifiably\" Blonde Ale', 0.0, 0.0, 0.0, 0.0], ['\"Talk To Me\" IPA', '\"Check-Mate\" Cask Pilsner', 0.0, 0.0, 0.0, 0.0], ['\"Talk To Me\" IPA', '\"Double Wrecked Wreck\" IPA', 0.0, 0.0, 0.0, 0.0], ['\"Talk To Me\" IPA', '\"Fade To Black\" Porter', 0.0, 0.0, 0.0, 0.0], ['\"Talk To Me\" IPA', '\"Great Satchmo\" Stout', 0.0, 0.0, 0.0, 0.0], ['\"Talk To Me\" IPA', '\"Hop Obama\" Ale', 0.0, 0.0, 0.0, 0.0], ['\"Talk To Me\" IPA', '\"Jessica & Brendan\\'s\" Bridal Ale', 0.0, 0.0, 0.0, 0.0], ['\"Talk To Me\" IPA', '\"Just One More\" Scotch Ale', 0.0, 0.0, 0.0, 0.0], ['\"Talk To Me\" IPA', '\"Little John\\'s Myth\" Robust Porter', 0.0, 0.0, 0.0, 0.0], ['\"Talk To Me\" IPA', '\"M\"', 0.0, 0.0, 0.0, 0.0], ['\"Talk To Me\" IPA', '\"M\"-perial Stout', 0.0, 0.0, 0.0, 0.0], ['\"Talk To Me\" IPA', '\"Marnie\" Gras Carnival Ale', 0.0, 0.0, 0.0, 0.0], ['\"Talk To Me\" IPA', '\"Naughty Scot\" Scotch Ale', 0.0, 0.0, 0.0, 0.0], ['\"Talk To Me\" IPA', '\"Nein Toll Bier\" German Alt', 0.0, 0.0, 0.0, 0.0], ['\"Talk To Me\" IPA', '\"Not Guilty\" 1924 Deer Brand', 0.0, 0.0, 0.0, 0.0], ['\"Talk To Me\" IPA', '\"Not Your Bock\" Maibock', 0.0, 0.0, 0.0, 0.0], ['\"Talk To Me\" IPA', '\"O Smokey Night\"', 0.0, 0.0, 0.0, 0.0], ['\"Talk To Me\" IPA', '\"O!\" Gold', 0.0, 0.0, 0.0, 0.0], ['\"Talk To Me\" IPA', '\"Old School\" Craft Cream Ale', 0.0, 0.0, 0.0, 0.0], ['\"Talk To Me\" IPA', '\"Old Yeltsin\" Imperial Stout', 0.0, 0.0, 0.0, 0.0], ['\"Talk To Me\" IPA', '\"Requisite\" Imperialistic Stout', 0.0, 0.0, 0.0, 0.0], ['\"Talk To Me\" IPA', '\"See No Evil\" American Pale Ale', 0.0, 0.0, 0.0, 0.0], ['\"Talk To Me\" IPA', '\"Shabadoo\" Black & Tan Ale', 1.0, 1.0, 1.0, 1.0], ['\"Talk To Me\" IPA', '\"Six\" Belgian Style Table Beer', 0.0, 0.0, 0.0, 0.0], ['\"Talk To Me\" IPA', '\"Stout Stoat\" Stout', 0.0, 0.0, 0.0, 0.0], ['\"Talk To Me\" IPA', '\"The Bridge\" Nut-Brown Ale', 0.0, 0.0, 0.0, 0.0], ['\"Talk To Me\" IPA', '\"The Buk\" Pale Ale', 0.0, 0.0, 0.0, 0.0], ['\"Talk To Me\" IPA', '\"The Camp\" Barleywine', 0.0, 0.0, 0.0, 0.0], ['\"Talk To Me\" IPA', '\"The Mountain\" Ale', 0.0, 0.0, 0.0, 0.0], ['\"Talk To Me\" IPA', '\"The Wind Cried Mari...\" Scottish Heather Ale', 0.0, 0.0, 0.0, 0.0], ['\"Talk To Me\" IPA', '\"They Made Me Do It\" Blueberry Ale', 0.0, 0.0, 0.0, 0.0], ['\"Talk To Me\" IPA', '\"Trouble\"', 0.0, 0.0, 0.0, 0.0], ['\"Talk To Me\" IPA', '\"True Blue\" Blueberry Ale', 0.0, 0.0, 0.0, 0.0], ['\"Talk To Me\" IPA', '\"Woosta\" Weizenbock', 0.0, 0.0, 0.0, 0.0], ['\"Talk To Me\" IPA', '# 100', 0.0, 0.0, 0.0, 0.0], ['\"Talk To Me\" IPA', \"#'s Ale\", 0.0, 0.0, 0.0, 0.0], ['\"Talk To Me\" IPA', \"Dale's Pale Ale\", 0.0, 0.0, 0.0, 0.0], ['\"The Bridge\" Nut-Brown Ale', '! (Old Ale)', 0.0, 0.0, 0.0, 0.0], ['\"The Bridge\" Nut-Brown Ale', '\"100\"', 0.0, 0.0, 0.0, 0.0], ['\"The Bridge\" Nut-Brown Ale', '\"100\" Pale Ale', 0.0, 0.0, 0.0, 0.0], ['\"The Bridge\" Nut-Brown Ale', '\"12\"  Belgian Golden Strong Ale', 0.0, 0.0, 0.0, 0.0], ['\"The Bridge\" Nut-Brown Ale', '\"33\" Export', 0.0, 0.0, 0.0, 0.0], ['\"The Bridge\" Nut-Brown Ale', '\"4\" Horse Oatmeal Stout', 0.0, 0.0, 0.0, 0.0], ['\"The Bridge\" Nut-Brown Ale', '\"400\" Ale', 0.0, 0.0, 0.0, 0.0], ['\"The Bridge\" Nut-Brown Ale', '\"50\" Golden Anniversary Lager', 0.0, 0.0, 0.0, 0.0], ['\"The Bridge\" Nut-Brown Ale', '\"76\" Anniversary Ale', 0.0, 0.0, 0.0, 0.0], ['\"The Bridge\" Nut-Brown Ale', '\"76\" Anniversary Ale With English Hops', 0.0, 0.0, 0.0, 0.0], ['\"The Bridge\" Nut-Brown Ale', '\"Alt\"ered State', 0.0, 0.0, 0.0, 0.0], ['\"The Bridge\" Nut-Brown Ale', '\"Best Of Both Worlds\" Stout', 0.0, 0.0, 0.0, 0.0], ['\"The Bridge\" Nut-Brown Ale', '\"Cellar Reserve\" Triple Gold', 0.0, 0.0, 0.0, 0.0], ['\"The Bridge\" Nut-Brown Ale', '\"Certifiably\" Blonde Ale', 0.0, 0.0, 0.0, 0.0], ['\"The Bridge\" Nut-Brown Ale', '\"Check-Mate\" Cask Pilsner', 0.0, 0.0, 0.0, 0.0], ['\"The Bridge\" Nut-Brown Ale', '\"Double Wrecked Wreck\" IPA', 0.0, 0.0, 0.0, 0.0], ['\"The Bridge\" Nut-Brown Ale', '\"Fade To Black\" Porter', 0.0, 0.0, 0.0, 0.0], ['\"The Bridge\" Nut-Brown Ale', '\"Great Satchmo\" Stout', 0.0, 0.0, 0.0, 0.0], ['\"The Bridge\" Nut-Brown Ale', '\"Hop Obama\" Ale', 0.0, 0.0, 0.0, 0.0], ['\"The Bridge\" Nut-Brown Ale', '\"Jessica & Brendan\\'s\" Bridal Ale', 0.0, 0.0, 0.0, 0.0], ['\"The Bridge\" Nut-Brown Ale', '\"Just One More\" Scotch Ale', 0.0, 0.0, 0.0, 0.0], ['\"The Bridge\" Nut-Brown Ale', '\"Little John\\'s Myth\" Robust Porter', 0.0, 0.0, 0.0, 0.0], ['\"The Bridge\" Nut-Brown Ale', '\"M\"', 0.0, 0.0, 0.0, 0.0], ['\"The Bridge\" Nut-Brown Ale', '\"M\"-perial Stout', 0.0, 0.0, 0.0, 0.0], ['\"The Bridge\" Nut-Brown Ale', '\"Marnie\" Gras Carnival Ale', 0.0, 0.0, 0.0, 0.0], ['\"The Bridge\" Nut-Brown Ale', '\"Naughty Scot\" Scotch Ale', 0.0, 0.0, 0.0, 0.0], ['\"The Bridge\" Nut-Brown Ale', '\"Nein Toll Bier\" German Alt', 0.0, 0.0, 0.0, 0.0], ['\"The Bridge\" Nut-Brown Ale', '\"Not Guilty\" 1924 Deer Brand', 0.0, 0.0, 0.0, 0.0], ['\"The Bridge\" Nut-Brown Ale', '\"Not Your Bock\" Maibock', 0.0, 0.0, 0.0, 0.0], ['\"The Bridge\" Nut-Brown Ale', '\"O Smokey Night\"', 0.0, 0.0, 0.0, 0.0], ['\"The Bridge\" Nut-Brown Ale', '\"O!\" Gold', 0.0, 0.0, 0.0, 0.0], ['\"The Bridge\" Nut-Brown Ale', '\"Old School\" Craft Cream Ale', 0.0, 0.0, 0.0, 0.0], ['\"The Bridge\" Nut-Brown Ale', '\"Old Yeltsin\" Imperial Stout', 0.0, 0.0, 0.0, 0.0], ['\"The Bridge\" Nut-Brown Ale', '\"Requisite\" Imperialistic Stout', 0.0, 0.0, 0.0, 0.0], ['\"The Bridge\" Nut-Brown Ale', '\"See No Evil\" American Pale Ale', 0.0, 0.0, 0.0, 0.0], ['\"The Bridge\" Nut-Brown Ale', '\"Shabadoo\" Black & Tan Ale', 0.0, 0.0, 0.0, 0.0], ['\"The Bridge\" Nut-Brown Ale', '\"Six\" Belgian Style Table Beer', 0.0, 0.0, 0.0, 0.0], ['\"The Bridge\" Nut-Brown Ale', '\"Stout Stoat\" Stout', 0.0, 0.0, 0.0, 0.0], ['\"The Bridge\" Nut-Brown Ale', '\"Talk To Me\" IPA', 0.0, 0.0, 0.0, 0.0], ['\"The Bridge\" Nut-Brown Ale', '\"The Buk\" Pale Ale', 0.0, 0.0, 0.0, 0.0], ['\"The Bridge\" Nut-Brown Ale', '\"The Camp\" Barleywine', 0.0, 0.0, 0.0, 0.0], ['\"The Bridge\" Nut-Brown Ale', '\"The Mountain\" Ale', 0.0, 0.0, 0.0, 0.0], ['\"The Bridge\" Nut-Brown Ale', '\"The Wind Cried Mari...\" Scottish Heather Ale', 0.0, 0.0, 0.0, 0.0], ['\"The Bridge\" Nut-Brown Ale', '\"They Made Me Do It\" Blueberry Ale', 0.0, 0.0, 0.0, 0.0], ['\"The Bridge\" Nut-Brown Ale', '\"Trouble\"', 0.0, 0.0, 0.0, 0.0], ['\"The Bridge\" Nut-Brown Ale', '\"True Blue\" Blueberry Ale', 0.0, 0.0, 0.0, 0.0], ['\"The Bridge\" Nut-Brown Ale', '\"Woosta\" Weizenbock', 0.0, 0.0, 0.0, 0.0], ['\"The Bridge\" Nut-Brown Ale', '# 100', 0.0, 0.0, 0.0, 0.0], ['\"The Bridge\" Nut-Brown Ale', \"#'s Ale\", 0.0, 0.0, 0.0, 0.0], ['\"The Bridge\" Nut-Brown Ale', \"Dale's Pale Ale\", 1.0, 1.0, 1.0, 1.0], ['\"The Buk\" Pale Ale', '! (Old Ale)', 0.0, 0.0, 0.0, 0.0], ['\"The Buk\" Pale Ale', '\"100\"', 0.0, 0.0, 0.0, 0.0], ['\"The Buk\" Pale Ale', '\"100\" Pale Ale', 0.0, 0.0, 0.0, 0.0], ['\"The Buk\" Pale Ale', '\"12\"  Belgian Golden Strong Ale', 0.0, 0.0, 0.0, 0.0], ['\"The Buk\" Pale Ale', '\"33\" Export', 0.0, 0.0, 0.0, 0.0], ['\"The Buk\" Pale Ale', '\"4\" Horse Oatmeal Stout', 0.0, 0.0, 0.0, 0.0], ['\"The Buk\" Pale Ale', '\"400\" Ale', 0.0, 0.0, 0.0, 0.0], ['\"The Buk\" Pale Ale', '\"50\" Golden Anniversary Lager', 0.0, 0.0, 0.0, 0.0], ['\"The Buk\" Pale Ale', '\"76\" Anniversary Ale', 0.0, 0.0, 0.0, 0.0], ['\"The Buk\" Pale Ale', '\"76\" Anniversary Ale With English Hops', 0.0, 0.0, 0.0, 0.0], ['\"The Buk\" Pale Ale', '\"Alt\"ered State', 0.0, 0.0, 0.0, 0.0], ['\"The Buk\" Pale Ale', '\"Best Of Both Worlds\" Stout', 0.0, 0.0, 0.0, 0.0], ['\"The Buk\" Pale Ale', '\"Cellar Reserve\" Triple Gold', 0.0, 0.0, 0.0, 0.0], ['\"The Buk\" Pale Ale', '\"Certifiably\" Blonde Ale', 0.0, 0.0, 0.0, 0.0], ['\"The Buk\" Pale Ale', '\"Check-Mate\" Cask Pilsner', 0.0, 0.0, 0.0, 0.0], ['\"The Buk\" Pale Ale', '\"Double Wrecked Wreck\" IPA', 0.0, 0.0, 0.0, 0.0], ['\"The Buk\" Pale Ale', '\"Fade To Black\" Porter', 0.0, 0.0, 0.0, 0.0], ['\"The Buk\" Pale Ale', '\"Great Satchmo\" Stout', 0.0, 0.0, 0.0, 0.0], ['\"The Buk\" Pale Ale', '\"Hop Obama\" Ale', 1.0, 1.0, 1.0, 1.0], ['\"The Buk\" Pale Ale', '\"Jessica & Brendan\\'s\" Bridal Ale', 0.0, 0.0, 0.0, 0.0], ['\"The Buk\" Pale Ale', '\"Just One More\" Scotch Ale', 0.0, 0.0, 0.0, 0.0], ['\"The Buk\" Pale Ale', '\"Little John\\'s Myth\" Robust Porter', 0.0, 0.0, 0.0, 0.0], ['\"The Buk\" Pale Ale', '\"M\"', 0.0, 0.0, 0.0, 0.0], ['\"The Buk\" Pale Ale', '\"M\"-perial Stout', 0.0, 0.0, 0.0, 0.0], ['\"The Buk\" Pale Ale', '\"Marnie\" Gras Carnival Ale', 0.0, 0.0, 0.0, 0.0], ['\"The Buk\" Pale Ale', '\"Naughty Scot\" Scotch Ale', 0.0, 0.0, 0.0, 0.0], ['\"The Buk\" Pale Ale', '\"Nein Toll Bier\" German Alt', 0.0, 0.0, 0.0, 0.0], ['\"The Buk\" Pale Ale', '\"Not Guilty\" 1924 Deer Brand', 0.0, 0.0, 0.0, 0.0], ['\"The Buk\" Pale Ale', '\"Not Your Bock\" Maibock', 0.0, 0.0, 0.0, 0.0], ['\"The Buk\" Pale Ale', '\"O Smokey Night\"', 0.0, 0.0, 0.0, 0.0], ['\"The Buk\" Pale Ale', '\"O!\" Gold', 0.0, 0.0, 0.0, 0.0], ['\"The Buk\" Pale Ale', '\"Old School\" Craft Cream Ale', 0.0, 0.0, 0.0, 0.0], ['\"The Buk\" Pale Ale', '\"Old Yeltsin\" Imperial Stout', 1.0, 1.0, 1.0, 1.0], ['\"The Buk\" Pale Ale', '\"Requisite\" Imperialistic Stout', 0.0, 0.0, 0.0, 0.0], ['\"The Buk\" Pale Ale', '\"See No Evil\" American Pale Ale', 0.0, 0.0, 0.0, 0.0], ['\"The Buk\" Pale Ale', '\"Shabadoo\" Black & Tan Ale', 1.0, 1.0, 1.0, 1.0], ['\"The Buk\" Pale Ale', '\"Six\" Belgian Style Table Beer', 0.0, 0.0, 0.0, 0.0], ['\"The Buk\" Pale Ale', '\"Stout Stoat\" Stout', 0.0, 0.0, 0.0, 0.0], ['\"The Buk\" Pale Ale', '\"Talk To Me\" IPA', 0.0, 0.0, 0.0, 0.0], ['\"The Buk\" Pale Ale', '\"The Bridge\" Nut-Brown Ale', 0.0, 0.0, 0.0, 0.0], ['\"The Buk\" Pale Ale', '\"The Camp\" Barleywine', 0.0, 0.0, 0.0, 0.0], ['\"The Buk\" Pale Ale', '\"The Mountain\" Ale', 0.0, 0.0, 0.0, 0.0], ['\"The Buk\" Pale Ale', '\"The Wind Cried Mari...\" Scottish Heather Ale', 0.0, 0.0, 0.0, 0.0], ['\"The Buk\" Pale Ale', '\"They Made Me Do It\" Blueberry Ale', 0.0, 0.0, 0.0, 0.0], ['\"The Buk\" Pale Ale', '\"Trouble\"', 0.0, 0.0, 0.0, 0.0], ['\"The Buk\" Pale Ale', '\"True Blue\" Blueberry Ale', 0.99827437317499579, 0.99999999999999978, 0.99778515785660882, 0.99778515785660882], ['\"The Buk\" Pale Ale', '\"Woosta\" Weizenbock', 0.9982743731749959, 0.99778515785660882, 0.99827437317499579, 0.99999999999999978], ['\"The Buk\" Pale Ale', '# 100', 0.9982743731749959, 0.99827437317499579, 0.9982743731749959, 0.9982743731749959], ['\"The Buk\" Pale Ale', \"#'s Ale\", 1.0, 1.0, 1.0, 1.0], ['\"The Buk\" Pale Ale', \"Dale's Pale Ale\", 0.99805343824738857, 0.99804499366101607, 0.9900467902373673, 0.99512516485232627], ['\"The Camp\" Barleywine', '! (Old Ale)', 0.0, 0.0, 0.0, 0.0], ['\"The Camp\" Barleywine', '\"100\"', 0.0, 0.0, 0.0, 0.0], ['\"The Camp\" Barleywine', '\"100\" Pale Ale', 0.0, 0.0, 0.0, 0.0], ['\"The Camp\" Barleywine', '\"12\"  Belgian Golden Strong Ale', 0.0, 0.0, 0.0, 0.0], ['\"The Camp\" Barleywine', '\"33\" Export', 0.0, 0.0, 0.0, 0.0], ['\"The Camp\" Barleywine', '\"4\" Horse Oatmeal Stout', 0.0, 0.0, 0.0, 0.0], ['\"The Camp\" Barleywine', '\"400\" Ale', 0.0, 0.0, 0.0, 0.0], ['\"The Camp\" Barleywine', '\"50\" Golden Anniversary Lager', 0.0, 0.0, 0.0, 0.0], ['\"The Camp\" Barleywine', '\"76\" Anniversary Ale', 0.0, 0.0, 0.0, 0.0], ['\"The Camp\" Barleywine', '\"76\" Anniversary Ale With English Hops', 0.0, 0.0, 0.0, 0.0], ['\"The Camp\" Barleywine', '\"Alt\"ered State', 0.0, 0.0, 0.0, 0.0], ['\"The Camp\" Barleywine', '\"Best Of Both Worlds\" Stout', 0.0, 0.0, 0.0, 0.0], ['\"The Camp\" Barleywine', '\"Cellar Reserve\" Triple Gold', 0.0, 0.0, 0.0, 0.0], ['\"The Camp\" Barleywine', '\"Certifiably\" Blonde Ale', 0.0, 0.0, 0.0, 0.0], ['\"The Camp\" Barleywine', '\"Check-Mate\" Cask Pilsner', 0.0, 0.0, 0.0, 0.0], ['\"The Camp\" Barleywine', '\"Double Wrecked Wreck\" IPA', 0.0, 0.0, 0.0, 0.0], ['\"The Camp\" Barleywine', '\"Fade To Black\" Porter', 0.0, 0.0, 0.0, 0.0], ['\"The Camp\" Barleywine', '\"Great Satchmo\" Stout', 0.0, 0.0, 0.0, 0.0], ['\"The Camp\" Barleywine', '\"Hop Obama\" Ale', 0.0, 0.0, 0.0, 0.0], ['\"The Camp\" Barleywine', '\"Jessica & Brendan\\'s\" Bridal Ale', 0.0, 0.0, 0.0, 0.0], ['\"The Camp\" Barleywine', '\"Just One More\" Scotch Ale', 0.0, 0.0, 0.0, 0.0], ['\"The Camp\" Barleywine', '\"Little John\\'s Myth\" Robust Porter', 0.0, 0.0, 0.0, 0.0], ['\"The Camp\" Barleywine', '\"M\"', 0.0, 0.0, 0.0, 0.0], ['\"The Camp\" Barleywine', '\"M\"-perial Stout', 0.0, 0.0, 0.0, 0.0], ['\"The Camp\" Barleywine', '\"Marnie\" Gras Carnival Ale', 0.0, 0.0, 0.0, 0.0], ['\"The Camp\" Barleywine', '\"Naughty Scot\" Scotch Ale', 0.0, 0.0, 0.0, 0.0], ['\"The Camp\" Barleywine', '\"Nein Toll Bier\" German Alt', 0.0, 0.0, 0.0, 0.0], ['\"The Camp\" Barleywine', '\"Not Guilty\" 1924 Deer Brand', 0.0, 0.0, 0.0, 0.0], ['\"The Camp\" Barleywine', '\"Not Your Bock\" Maibock', 0.0, 0.0, 0.0, 0.0], ['\"The Camp\" Barleywine', '\"O Smokey Night\"', 0.0, 0.0, 0.0, 0.0], ['\"The Camp\" Barleywine', '\"O!\" Gold', 0.0, 0.0, 0.0, 0.0], ['\"The Camp\" Barleywine', '\"Old School\" Craft Cream Ale', 0.0, 0.0, 0.0, 0.0], ['\"The Camp\" Barleywine', '\"Old Yeltsin\" Imperial Stout', 0.0, 0.0, 0.0, 0.0], ['\"The Camp\" Barleywine', '\"Requisite\" Imperialistic Stout', 0.0, 0.0, 0.0, 0.0], ['\"The Camp\" Barleywine', '\"See No Evil\" American Pale Ale', 0.0, 0.0, 0.0, 0.0], ['\"The Camp\" Barleywine', '\"Shabadoo\" Black & Tan Ale', 0.0, 0.0, 0.0, 0.0], ['\"The Camp\" Barleywine', '\"Six\" Belgian Style Table Beer', 0.0, 0.0, 0.0, 0.0], ['\"The Camp\" Barleywine', '\"Stout Stoat\" Stout', 0.0, 0.0, 0.0, 0.0], ['\"The Camp\" Barleywine', '\"Talk To Me\" IPA', 0.0, 0.0, 0.0, 0.0], ['\"The Camp\" Barleywine', '\"The Bridge\" Nut-Brown Ale', 0.0, 0.0, 0.0, 0.0], ['\"The Camp\" Barleywine', '\"The Buk\" Pale Ale', 0.0, 0.0, 0.0, 0.0], ['\"The Camp\" Barleywine', '\"The Mountain\" Ale', 0.0, 0.0, 0.0, 0.0], ['\"The Camp\" Barleywine', '\"The Wind Cried Mari...\" Scottish Heather Ale', 0.0, 0.0, 0.0, 0.0], ['\"The Camp\" Barleywine', '\"They Made Me Do It\" Blueberry Ale', 0.0, 0.0, 0.0, 0.0], ['\"The Camp\" Barleywine', '\"Trouble\"', 0.0, 0.0, 0.0, 0.0], ['\"The Camp\" Barleywine', '\"True Blue\" Blueberry Ale', 0.0, 0.0, 0.0, 0.0], ['\"The Camp\" Barleywine', '\"Woosta\" Weizenbock', 0.0, 0.0, 0.0, 0.0], ['\"The Camp\" Barleywine', '# 100', 0.0, 0.0, 0.0, 0.0], ['\"The Camp\" Barleywine', \"#'s Ale\", 0.0, 0.0, 0.0, 0.0], ['\"The Camp\" Barleywine', \"Dale's Pale Ale\", 0.0, 0.0, 0.0, 0.0], ['\"The Mountain\" Ale', '! (Old Ale)', 0.0, 0.0, 0.0, 0.0], ['\"The Mountain\" Ale', '\"100\"', 0.0, 0.0, 0.0, 0.0], ['\"The Mountain\" Ale', '\"100\" Pale Ale', 0.0, 0.0, 0.0, 0.0], ['\"The Mountain\" Ale', '\"12\"  Belgian Golden Strong Ale', 0.0, 0.0, 0.0, 0.0], ['\"The Mountain\" Ale', '\"33\" Export', 0.0, 0.0, 0.0, 0.0], ['\"The Mountain\" Ale', '\"4\" Horse Oatmeal Stout', 0.0, 0.0, 0.0, 0.0], ['\"The Mountain\" Ale', '\"400\" Ale', 0.0, 0.0, 0.0, 0.0], ['\"The Mountain\" Ale', '\"50\" Golden Anniversary Lager', 0.0, 0.0, 0.0, 0.0], ['\"The Mountain\" Ale', '\"76\" Anniversary Ale', 0.0, 0.0, 0.0, 0.0], ['\"The Mountain\" Ale', '\"76\" Anniversary Ale With English Hops', 0.0, 0.0, 0.0, 0.0], ['\"The Mountain\" Ale', '\"Alt\"ered State', 0.0, 0.0, 0.0, 0.0], ['\"The Mountain\" Ale', '\"Best Of Both Worlds\" Stout', 0.0, 0.0, 0.0, 0.0], ['\"The Mountain\" Ale', '\"Cellar Reserve\" Triple Gold', 0.0, 0.0, 0.0, 0.0], ['\"The Mountain\" Ale', '\"Certifiably\" Blonde Ale', 0.0, 0.0, 0.0, 0.0], ['\"The Mountain\" Ale', '\"Check-Mate\" Cask Pilsner', 0.0, 0.0, 0.0, 0.0], ['\"The Mountain\" Ale', '\"Double Wrecked Wreck\" IPA', 0.0, 0.0, 0.0, 0.0], ['\"The Mountain\" Ale', '\"Fade To Black\" Porter', 0.0, 0.0, 0.0, 0.0], ['\"The Mountain\" Ale', '\"Great Satchmo\" Stout', 0.0, 0.0, 0.0, 0.0], ['\"The Mountain\" Ale', '\"Hop Obama\" Ale', 0.0, 0.0, 0.0, 0.0], ['\"The Mountain\" Ale', '\"Jessica & Brendan\\'s\" Bridal Ale', 0.0, 0.0, 0.0, 0.0], ['\"The Mountain\" Ale', '\"Just One More\" Scotch Ale', 0.0, 0.0, 0.0, 0.0], ['\"The Mountain\" Ale', '\"Little John\\'s Myth\" Robust Porter', 0.0, 0.0, 0.0, 0.0], ['\"The Mountain\" Ale', '\"M\"', 0.0, 0.0, 0.0, 0.0], ['\"The Mountain\" Ale', '\"M\"-perial Stout', 0.0, 0.0, 0.0, 0.0], ['\"The Mountain\" Ale', '\"Marnie\" Gras Carnival Ale', 0.0, 0.0, 0.0, 0.0], ['\"The Mountain\" Ale', '\"Naughty Scot\" Scotch Ale', 0.0, 0.0, 0.0, 0.0], ['\"The Mountain\" Ale', '\"Nein Toll Bier\" German Alt', 0.0, 0.0, 0.0, 0.0], ['\"The Mountain\" Ale', '\"Not Guilty\" 1924 Deer Brand', 0.0, 0.0, 0.0, 0.0], ['\"The Mountain\" Ale', '\"Not Your Bock\" Maibock', 0.0, 0.0, 0.0, 0.0], ['\"The Mountain\" Ale', '\"O Smokey Night\"', 0.0, 0.0, 0.0, 0.0], ['\"The Mountain\" Ale', '\"O!\" Gold', 0.0, 0.0, 0.0, 0.0], ['\"The Mountain\" Ale', '\"Old School\" Craft Cream Ale', 0.0, 0.0, 0.0, 0.0], ['\"The Mountain\" Ale', '\"Old Yeltsin\" Imperial Stout', 0.99984614201001332, 0.99778515785660893, 1.0, 0.9982743731749959], ['\"The Mountain\" Ale', '\"Requisite\" Imperialistic Stout', 0.0, 0.0, 0.0, 0.0], ['\"The Mountain\" Ale', '\"See No Evil\" American Pale Ale', 0.0, 0.0, 0.0, 0.0], ['\"The Mountain\" Ale', '\"Shabadoo\" Black & Tan Ale', 0.0, 0.0, 0.0, 0.0], ['\"The Mountain\" Ale', '\"Six\" Belgian Style Table Beer', 0.0, 0.0, 0.0, 0.0], ['\"The Mountain\" Ale', '\"Stout Stoat\" Stout', 0.0, 0.0, 0.0, 0.0], ['\"The Mountain\" Ale', '\"Talk To Me\" IPA', 0.0, 0.0, 0.0, 0.0], ['\"The Mountain\" Ale', '\"The Bridge\" Nut-Brown Ale', 0.0, 0.0, 0.0, 0.0], ['\"The Mountain\" Ale', '\"The Buk\" Pale Ale', 0.0, 0.0, 0.0, 0.0], ['\"The Mountain\" Ale', '\"The Camp\" Barleywine', 0.0, 0.0, 0.0, 0.0], ['\"The Mountain\" Ale', '\"The Wind Cried Mari...\" Scottish Heather Ale', 0.0, 0.0, 0.0, 0.0], ['\"The Mountain\" Ale', '\"They Made Me Do It\" Blueberry Ale', 0.0, 0.0, 0.0, 0.0], ['\"The Mountain\" Ale', '\"Trouble\"', 0.0, 0.0, 0.0, 0.0], ['\"The Mountain\" Ale', '\"True Blue\" Blueberry Ale', 0.0, 0.0, 0.0, 0.0], ['\"The Mountain\" Ale', '\"Woosta\" Weizenbock', 0.0, 0.0, 0.0, 0.0], ['\"The Mountain\" Ale', '# 100', 0.0, 0.0, 0.0, 0.0], ['\"The Mountain\" Ale', \"#'s Ale\", 0.0, 0.0, 0.0, 0.0], ['\"The Mountain\" Ale', \"Dale's Pale Ale\", 0.0, 0.0, 0.0, 0.0], ['\"The Wind Cried Mari...\" Scottish Heather Ale', '! (Old Ale)', 0.0, 0.0, 0.0, 0.0], ['\"The Wind Cried Mari...\" Scottish Heather Ale', '\"100\"', 0.0, 0.0, 0.0, 0.0], ['\"The Wind Cried Mari...\" Scottish Heather Ale', '\"100\" Pale Ale', 0.0, 0.0, 0.0, 0.0], ['\"The Wind Cried Mari...\" Scottish Heather Ale', '\"12\"  Belgian Golden Strong Ale', 0.0, 0.0, 0.0, 0.0], ['\"The Wind Cried Mari...\" Scottish Heather Ale', '\"33\" Export', 0.0, 0.0, 0.0, 0.0], ['\"The Wind Cried Mari...\" Scottish Heather Ale', '\"4\" Horse Oatmeal Stout', 1.0, 1.0, 1.0, 1.0], ['\"The Wind Cried Mari...\" Scottish Heather Ale', '\"400\" Ale', 0.0, 0.0, 0.0, 0.0], ['\"The Wind Cried Mari...\" Scottish Heather Ale', '\"50\" Golden Anniversary Lager', 0.0, 0.0, 0.0, 0.0], ['\"The Wind Cried Mari...\" Scottish Heather Ale', '\"76\" Anniversary Ale', 0.0, 0.0, 0.0, 0.0], ['\"The Wind Cried Mari...\" Scottish Heather Ale', '\"76\" Anniversary Ale With English Hops', 0.0, 0.0, 0.0, 0.0], ['\"The Wind Cried Mari...\" Scottish Heather Ale', '\"Alt\"ered State', 0.0, 0.0, 0.0, 0.0], ['\"The Wind Cried Mari...\" Scottish Heather Ale', '\"Best Of Both Worlds\" Stout', 0.0, 0.0, 0.0, 0.0], ['\"The Wind Cried Mari...\" Scottish Heather Ale', '\"Cellar Reserve\" Triple Gold', 0.0, 0.0, 0.0, 0.0], ['\"The Wind Cried Mari...\" Scottish Heather Ale', '\"Certifiably\" Blonde Ale', 0.0, 0.0, 0.0, 0.0], ['\"The Wind Cried Mari...\" Scottish Heather Ale', '\"Check-Mate\" Cask Pilsner', 0.0, 0.0, 0.0, 0.0], ['\"The Wind Cried Mari...\" Scottish Heather Ale', '\"Double Wrecked Wreck\" IPA', 0.0, 0.0, 0.0, 0.0], ['\"The Wind Cried Mari...\" Scottish Heather Ale', '\"Fade To Black\" Porter', 0.0, 0.0, 0.0, 0.0], ['\"The Wind Cried Mari...\" Scottish Heather Ale', '\"Great Satchmo\" Stout', 0.0, 0.0, 0.0, 0.0], ['\"The Wind Cried Mari...\" Scottish Heather Ale', '\"Hop Obama\" Ale', 1.0, 1.0, 1.0, 1.0], ['\"The Wind Cried Mari...\" Scottish Heather Ale', '\"Jessica & Brendan\\'s\" Bridal Ale', 0.0, 0.0, 0.0, 0.0], ['\"The Wind Cried Mari...\" Scottish Heather Ale', '\"Just One More\" Scotch Ale', 0.0, 0.0, 0.0, 0.0], ['\"The Wind Cried Mari...\" Scottish Heather Ale', '\"Little John\\'s Myth\" Robust Porter', 0.0, 0.0, 0.0, 0.0], ['\"The Wind Cried Mari...\" Scottish Heather Ale', '\"M\"', 0.0, 0.0, 0.0, 0.0], ['\"The Wind Cried Mari...\" Scottish Heather Ale', '\"M\"-perial Stout', 0.0, 0.0, 0.0, 0.0], ['\"The Wind Cried Mari...\" Scottish Heather Ale', '\"Marnie\" Gras Carnival Ale', 0.0, 0.0, 0.0, 0.0], ['\"The Wind Cried Mari...\" Scottish Heather Ale', '\"Naughty Scot\" Scotch Ale', 0.0, 0.0, 0.0, 0.0], ['\"The Wind Cried Mari...\" Scottish Heather Ale', '\"Nein Toll Bier\" German Alt', 0.0, 0.0, 0.0, 0.0], ['\"The Wind Cried Mari...\" Scottish Heather Ale', '\"Not Guilty\" 1924 Deer Brand', 0.0, 0.0, 0.0, 0.0], ['\"The Wind Cried Mari...\" Scottish Heather Ale', '\"Not Your Bock\" Maibock', 0.0, 0.0, 0.0, 0.0], ['\"The Wind Cried Mari...\" Scottish Heather Ale', '\"O Smokey Night\"', 0.0, 0.0, 0.0, 0.0], ['\"The Wind Cried Mari...\" Scottish Heather Ale', '\"O!\" Gold', 1.0, 1.0, 1.0, 1.0], ['\"The Wind Cried Mari...\" Scottish Heather Ale', '\"Old School\" Craft Cream Ale', 0.0, 0.0, 0.0, 0.0], ['\"The Wind Cried Mari...\" Scottish Heather Ale', '\"Old Yeltsin\" Imperial Stout', 0.99784914579904482, 0.97834970311894109, 0.99833080566982058, 0.99040489536548915], ['\"The Wind Cried Mari...\" Scottish Heather Ale', '\"Requisite\" Imperialistic Stout', 1.0, 1.0, 1.0, 1.0], ['\"The Wind Cried Mari...\" Scottish Heather Ale', '\"See No Evil\" American Pale Ale', 1.0, 1.0, 1.0, 1.0], ['\"The Wind Cried Mari...\" Scottish Heather Ale', '\"Shabadoo\" Black & Tan Ale', 0.99821030596075133, 0.99794026557833193, 0.97979589711327131, 0.9930556599191489], ['\"The Wind Cried Mari...\" Scottish Heather Ale', '\"Six\" Belgian Style Table Beer', 1.0, 1.0, 1.0, 1.0], ['\"The Wind Cried Mari...\" Scottish Heather Ale', '\"Stout Stoat\" Stout', 0.0, 0.0, 0.0, 0.0], ['\"The Wind Cried Mari...\" Scottish Heather Ale', '\"Talk To Me\" IPA', 0.0, 0.0, 0.0, 0.0], ['\"The Wind Cried Mari...\" Scottish Heather Ale', '\"The Bridge\" Nut-Brown Ale', 0.0, 0.0, 0.0, 0.0], ['\"The Wind Cried Mari...\" Scottish Heather Ale', '\"The Buk\" Pale Ale', 0.0, 0.0, 0.0, 0.0], ['\"The Wind Cried Mari...\" Scottish Heather Ale', '\"The Camp\" Barleywine', 0.0, 0.0, 0.0, 0.0], ['\"The Wind Cried Mari...\" Scottish Heather Ale', '\"The Mountain\" Ale', 0.0, 0.0, 0.0, 0.0], ['\"The Wind Cried Mari...\" Scottish Heather Ale', '\"They Made Me Do It\" Blueberry Ale', 0.0, 0.0, 0.0, 0.0], ['\"The Wind Cried Mari...\" Scottish Heather Ale', '\"Trouble\"', 0.0, 0.0, 0.0, 0.0], ['\"The Wind Cried Mari...\" Scottish Heather Ale', '\"True Blue\" Blueberry Ale', 1.0, 1.0, 1.0, 1.0], ['\"The Wind Cried Mari...\" Scottish Heather Ale', '\"Woosta\" Weizenbock', 0.0, 0.0, 0.0, 0.0], ['\"The Wind Cried Mari...\" Scottish Heather Ale', '# 100', 0.0, 0.0, 0.0, 0.0], ['\"The Wind Cried Mari...\" Scottish Heather Ale', \"#'s Ale\", 0.0, 0.0, 0.0, 0.0], ['\"The Wind Cried Mari...\" Scottish Heather Ale', \"Dale's Pale Ale\", 0.9659100653636612, 0.97224814941064386, 0.9907106868241855, 0.97512865329346043], ['\"They Made Me Do It\" Blueberry Ale', '! (Old Ale)', 0.0, 0.0, 0.0, 0.0], ['\"They Made Me Do It\" Blueberry Ale', '\"100\"', 0.0, 0.0, 0.0, 0.0], ['\"They Made Me Do It\" Blueberry Ale', '\"100\" Pale Ale', 0.0, 0.0, 0.0, 0.0], ['\"They Made Me Do It\" Blueberry Ale', '\"12\"  Belgian Golden Strong Ale', 0.0, 0.0, 0.0, 0.0], ['\"They Made Me Do It\" Blueberry Ale', '\"33\" Export', 0.0, 0.0, 0.0, 0.0], ['\"They Made Me Do It\" Blueberry Ale', '\"4\" Horse Oatmeal Stout', 0.0, 0.0, 0.0, 0.0], ['\"They Made Me Do It\" Blueberry Ale', '\"400\" Ale', 0.0, 0.0, 0.0, 0.0], ['\"They Made Me Do It\" Blueberry Ale', '\"50\" Golden Anniversary Lager', 0.0, 0.0, 0.0, 0.0], ['\"They Made Me Do It\" Blueberry Ale', '\"76\" Anniversary Ale', 0.0, 0.0, 0.0, 0.0], ['\"They Made Me Do It\" Blueberry Ale', '\"76\" Anniversary Ale With English Hops', 0.0, 0.0, 0.0, 0.0], ['\"They Made Me Do It\" Blueberry Ale', '\"Alt\"ered State', 0.0, 0.0, 0.0, 0.0], ['\"They Made Me Do It\" Blueberry Ale', '\"Best Of Both Worlds\" Stout', 0.0, 0.0, 0.0, 0.0], ['\"They Made Me Do It\" Blueberry Ale', '\"Cellar Reserve\" Triple Gold', 0.0, 0.0, 0.0, 0.0], ['\"They Made Me Do It\" Blueberry Ale', '\"Certifiably\" Blonde Ale', 0.0, 0.0, 0.0, 0.0], ['\"They Made Me Do It\" Blueberry Ale', '\"Check-Mate\" Cask Pilsner', 0.0, 0.0, 0.0, 0.0], ['\"They Made Me Do It\" Blueberry Ale', '\"Double Wrecked Wreck\" IPA', 0.0, 0.0, 0.0, 0.0], ['\"They Made Me Do It\" Blueberry Ale', '\"Fade To Black\" Porter', 0.0, 0.0, 0.0, 0.0], ['\"They Made Me Do It\" Blueberry Ale', '\"Great Satchmo\" Stout', 0.0, 0.0, 0.0, 0.0], ['\"They Made Me Do It\" Blueberry Ale', '\"Hop Obama\" Ale', 0.0, 0.0, 0.0, 0.0], ['\"They Made Me Do It\" Blueberry Ale', '\"Jessica & Brendan\\'s\" Bridal Ale', 0.0, 0.0, 0.0, 0.0], ['\"They Made Me Do It\" Blueberry Ale', '\"Just One More\" Scotch Ale', 0.0, 0.0, 0.0, 0.0], ['\"They Made Me Do It\" Blueberry Ale', '\"Little John\\'s Myth\" Robust Porter', 0.0, 0.0, 0.0, 0.0], ['\"They Made Me Do It\" Blueberry Ale', '\"M\"', 0.0, 0.0, 0.0, 0.0], ['\"They Made Me Do It\" Blueberry Ale', '\"M\"-perial Stout', 0.0, 0.0, 0.0, 0.0], ['\"They Made Me Do It\" Blueberry Ale', '\"Marnie\" Gras Carnival Ale', 0.0, 0.0, 0.0, 0.0], ['\"They Made Me Do It\" Blueberry Ale', '\"Naughty Scot\" Scotch Ale', 0.0, 0.0, 0.0, 0.0], ['\"They Made Me Do It\" Blueberry Ale', '\"Nein Toll Bier\" German Alt', 0.0, 0.0, 0.0, 0.0], ['\"They Made Me Do It\" Blueberry Ale', '\"Not Guilty\" 1924 Deer Brand', 0.0, 0.0, 0.0, 0.0], ['\"They Made Me Do It\" Blueberry Ale', '\"Not Your Bock\" Maibock', 0.0, 0.0, 0.0, 0.0], ['\"They Made Me Do It\" Blueberry Ale', '\"O Smokey Night\"', 0.0, 0.0, 0.0, 0.0], ['\"They Made Me Do It\" Blueberry Ale', '\"O!\" Gold', 0.0, 0.0, 0.0, 0.0], ['\"They Made Me Do It\" Blueberry Ale', '\"Old School\" Craft Cream Ale', 0.0, 0.0, 0.0, 0.0], ['\"They Made Me Do It\" Blueberry Ale', '\"Old Yeltsin\" Imperial Stout', 0.0, 0.0, 0.0, 0.0], ['\"They Made Me Do It\" Blueberry Ale', '\"Requisite\" Imperialistic Stout', 0.0, 0.0, 0.0, 0.0], ['\"They Made Me Do It\" Blueberry Ale', '\"See No Evil\" American Pale Ale', 0.0, 0.0, 0.0, 0.0], ['\"They Made Me Do It\" Blueberry Ale', '\"Shabadoo\" Black & Tan Ale', 0.0, 0.0, 0.0, 0.0], ['\"They Made Me Do It\" Blueberry Ale', '\"Six\" Belgian Style Table Beer', 0.0, 0.0, 0.0, 0.0], ['\"They Made Me Do It\" Blueberry Ale', '\"Stout Stoat\" Stout', 0.0, 0.0, 0.0, 0.0], ['\"They Made Me Do It\" Blueberry Ale', '\"Talk To Me\" IPA', 0.0, 0.0, 0.0, 0.0], ['\"They Made Me Do It\" Blueberry Ale', '\"The Bridge\" Nut-Brown Ale', 0.0, 0.0, 0.0, 0.0], ['\"They Made Me Do It\" Blueberry Ale', '\"The Buk\" Pale Ale', 0.0, 0.0, 0.0, 0.0], ['\"They Made Me Do It\" Blueberry Ale', '\"The Camp\" Barleywine', 0.0, 0.0, 0.0, 0.0], ['\"They Made Me Do It\" Blueberry Ale', '\"The Mountain\" Ale', 0.0, 0.0, 0.0, 0.0], ['\"They Made Me Do It\" Blueberry Ale', '\"The Wind Cried Mari...\" Scottish Heather Ale', 0.0, 0.0, 0.0, 0.0], ['\"They Made Me Do It\" Blueberry Ale', '\"Trouble\"', 0.0, 0.0, 0.0, 0.0], ['\"They Made Me Do It\" Blueberry Ale', '\"True Blue\" Blueberry Ale', 0.0, 0.0, 0.0, 0.0], ['\"They Made Me Do It\" Blueberry Ale', '\"Woosta\" Weizenbock', 0.0, 0.0, 0.0, 0.0], ['\"They Made Me Do It\" Blueberry Ale', '# 100', 0.0, 0.0, 0.0, 0.0], ['\"They Made Me Do It\" Blueberry Ale', \"#'s Ale\", 0.0, 0.0, 0.0, 0.0], ['\"They Made Me Do It\" Blueberry Ale', \"Dale's Pale Ale\", 0.99996948381878781, 0.98994949366116647, 0.98994949366116658, 0.9990282349375621], ['\"Trouble\"', '! (Old Ale)', 0.0, 0.0, 0.0, 0.0], ['\"Trouble\"', '\"100\"', 0.0, 0.0, 0.0, 0.0], ['\"Trouble\"', '\"100\" Pale Ale', 0.0, 0.0, 0.0, 0.0], ['\"Trouble\"', '\"12\"  Belgian Golden Strong Ale', 0.0, 0.0, 0.0, 0.0], ['\"Trouble\"', '\"33\" Export', 0.0, 0.0, 0.0, 0.0], ['\"Trouble\"', '\"4\" Horse Oatmeal Stout', 0.0, 0.0, 0.0, 0.0], ['\"Trouble\"', '\"400\" Ale', 0.0, 0.0, 0.0, 0.0], ['\"Trouble\"', '\"50\" Golden Anniversary Lager', 0.0, 0.0, 0.0, 0.0], ['\"Trouble\"', '\"76\" Anniversary Ale', 0.0, 0.0, 0.0, 0.0], ['\"Trouble\"', '\"76\" Anniversary Ale With English Hops', 0.0, 0.0, 0.0, 0.0], ['\"Trouble\"', '\"Alt\"ered State', 0.0, 0.0, 0.0, 0.0], ['\"Trouble\"', '\"Best Of Both Worlds\" Stout', 0.0, 0.0, 0.0, 0.0], ['\"Trouble\"', '\"Cellar Reserve\" Triple Gold', 0.0, 0.0, 0.0, 0.0], ['\"Trouble\"', '\"Certifiably\" Blonde Ale', 0.0, 0.0, 0.0, 0.0], ['\"Trouble\"', '\"Check-Mate\" Cask Pilsner', 0.0, 0.0, 0.0, 0.0], ['\"Trouble\"', '\"Double Wrecked Wreck\" IPA', 0.0, 0.0, 0.0, 0.0], ['\"Trouble\"', '\"Fade To Black\" Porter', 0.0, 0.0, 0.0, 0.0], ['\"Trouble\"', '\"Great Satchmo\" Stout', 0.0, 0.0, 0.0, 0.0], ['\"Trouble\"', '\"Hop Obama\" Ale', 0.0, 0.0, 0.0, 0.0], ['\"Trouble\"', '\"Jessica & Brendan\\'s\" Bridal Ale', 0.0, 0.0, 0.0, 0.0], ['\"Trouble\"', '\"Just One More\" Scotch Ale', 0.0, 0.0, 0.0, 0.0], ['\"Trouble\"', '\"Little John\\'s Myth\" Robust Porter', 0.0, 0.0, 0.0, 0.0], ['\"Trouble\"', '\"M\"', 0.0, 0.0, 0.0, 0.0], ['\"Trouble\"', '\"M\"-perial Stout', 0.0, 0.0, 0.0, 0.0], ['\"Trouble\"', '\"Marnie\" Gras Carnival Ale', 0.0, 0.0, 0.0, 0.0], ['\"Trouble\"', '\"Naughty Scot\" Scotch Ale', 0.0, 0.0, 0.0, 0.0], ['\"Trouble\"', '\"Nein Toll Bier\" German Alt', 0.0, 0.0, 0.0, 0.0], ['\"Trouble\"', '\"Not Guilty\" 1924 Deer Brand', 0.0, 0.0, 0.0, 0.0], ['\"Trouble\"', '\"Not Your Bock\" Maibock', 0.0, 0.0, 0.0, 0.0], ['\"Trouble\"', '\"O Smokey Night\"', 0.0, 0.0, 0.0, 0.0], ['\"Trouble\"', '\"O!\" Gold', 0.0, 0.0, 0.0, 0.0], ['\"Trouble\"', '\"Old School\" Craft Cream Ale', 0.0, 0.0, 0.0, 0.0], ['\"Trouble\"', '\"Old Yeltsin\" Imperial Stout', 1.0, 1.0, 1.0, 1.0], ['\"Trouble\"', '\"Requisite\" Imperialistic Stout', 0.0, 0.0, 0.0, 0.0], ['\"Trouble\"', '\"See No Evil\" American Pale Ale', 0.0, 0.0, 0.0, 0.0], ['\"Trouble\"', '\"Shabadoo\" Black & Tan Ale', 0.0, 0.0, 0.0, 0.0], ['\"Trouble\"', '\"Six\" Belgian Style Table Beer', 0.0, 0.0, 0.0, 0.0], ['\"Trouble\"', '\"Stout Stoat\" Stout', 0.0, 0.0, 0.0, 0.0], ['\"Trouble\"', '\"Talk To Me\" IPA', 0.0, 0.0, 0.0, 0.0], ['\"Trouble\"', '\"The Bridge\" Nut-Brown Ale', 0.0, 0.0, 0.0, 0.0], ['\"Trouble\"', '\"The Buk\" Pale Ale', 0.0, 0.0, 0.0, 0.0], ['\"Trouble\"', '\"The Camp\" Barleywine', 0.0, 0.0, 0.0, 0.0], ['\"Trouble\"', '\"The Mountain\" Ale', 0.0, 0.0, 0.0, 0.0], ['\"Trouble\"', '\"The Wind Cried Mari...\" Scottish Heather Ale', 0.0, 0.0, 0.0, 0.0], ['\"Trouble\"', '\"They Made Me Do It\" Blueberry Ale', 0.0, 0.0, 0.0, 0.0], ['\"Trouble\"', '\"True Blue\" Blueberry Ale', 0.0, 0.0, 0.0, 0.0], ['\"Trouble\"', '\"Woosta\" Weizenbock', 0.0, 0.0, 0.0, 0.0], ['\"Trouble\"', '# 100', 1.0, 1.0, 1.0, 1.0], ['\"Trouble\"', \"#'s Ale\", 1.0, 1.0, 1.0, 1.0], ['\"Trouble\"', \"Dale's Pale Ale\", 1.0, 1.0, 1.0, 1.0], ['\"True Blue\" Blueberry Ale', '! (Old Ale)', 0.0, 0.0, 0.0, 0.0], ['\"True Blue\" Blueberry Ale', '\"100\"', 0.0, 0.0, 0.0, 0.0], ['\"True Blue\" Blueberry Ale', '\"100\" Pale Ale', 0.0, 0.0, 0.0, 0.0], ['\"True Blue\" Blueberry Ale', '\"12\"  Belgian Golden Strong Ale', 0.0, 0.0, 0.0, 0.0], ['\"True Blue\" Blueberry Ale', '\"33\" Export', 0.0, 0.0, 0.0, 0.0], ['\"True Blue\" Blueberry Ale', '\"4\" Horse Oatmeal Stout', 0.0, 0.0, 0.0, 0.0], ['\"True Blue\" Blueberry Ale', '\"400\" Ale', 1.0, 1.0, 1.0, 1.0], ['\"True Blue\" Blueberry Ale', '\"50\" Golden Anniversary Lager', 0.0, 0.0, 0.0, 0.0], ['\"True Blue\" Blueberry Ale', '\"76\" Anniversary Ale', 0.0, 0.0, 0.0, 0.0], ['\"True Blue\" Blueberry Ale', '\"76\" Anniversary Ale With English Hops', 0.0, 0.0, 0.0, 0.0], ['\"True Blue\" Blueberry Ale', '\"Alt\"ered State', 0.0, 0.0, 0.0, 0.0], ['\"True Blue\" Blueberry Ale', '\"Best Of Both Worlds\" Stout', 0.0, 0.0, 0.0, 0.0], ['\"True Blue\" Blueberry Ale', '\"Cellar Reserve\" Triple Gold', 0.0, 0.0, 0.0, 0.0], ['\"True Blue\" Blueberry Ale', '\"Certifiably\" Blonde Ale', 0.0, 0.0, 0.0, 0.0], ['\"True Blue\" Blueberry Ale', '\"Check-Mate\" Cask Pilsner', 0.0, 0.0, 0.0, 0.0], ['\"True Blue\" Blueberry Ale', '\"Double Wrecked Wreck\" IPA', 0.0, 0.0, 0.0, 0.0], ['\"True Blue\" Blueberry Ale', '\"Fade To Black\" Porter', 0.0, 0.0, 0.0, 0.0], ['\"True Blue\" Blueberry Ale', '\"Great Satchmo\" Stout', 0.0, 0.0, 0.0, 0.0], ['\"True Blue\" Blueberry Ale', '\"Hop Obama\" Ale', 1.0, 1.0, 1.0, 1.0], ['\"True Blue\" Blueberry Ale', '\"Jessica & Brendan\\'s\" Bridal Ale', 0.0, 0.0, 0.0, 0.0], ['\"True Blue\" Blueberry Ale', '\"Just One More\" Scotch Ale', 0.0, 0.0, 0.0, 0.0], ['\"True Blue\" Blueberry Ale', '\"Little John\\'s Myth\" Robust Porter', 0.0, 0.0, 0.0, 0.0], ['\"True Blue\" Blueberry Ale', '\"M\"', 1.0, 1.0, 1.0, 1.0], ['\"True Blue\" Blueberry Ale', '\"M\"-perial Stout', 0.0, 0.0, 0.0, 0.0], ['\"True Blue\" Blueberry Ale', '\"Marnie\" Gras Carnival Ale', 0.0, 0.0, 0.0, 0.0], ['\"True Blue\" Blueberry Ale', '\"Naughty Scot\" Scotch Ale', 0.0, 0.0, 0.0, 0.0], ['\"True Blue\" Blueberry Ale', '\"Nein Toll Bier\" German Alt', 0.0, 0.0, 0.0, 0.0], ['\"True Blue\" Blueberry Ale', '\"Not Guilty\" 1924 Deer Brand', 0.0, 0.0, 0.0, 0.0], ['\"True Blue\" Blueberry Ale', '\"Not Your Bock\" Maibock', 0.0, 0.0, 0.0, 0.0], ['\"True Blue\" Blueberry Ale', '\"O Smokey Night\"', 0.0, 0.0, 0.0, 0.0], ['\"True Blue\" Blueberry Ale', '\"O!\" Gold', 0.0, 0.0, 0.0, 0.0], ['\"True Blue\" Blueberry Ale', '\"Old School\" Craft Cream Ale', 0.0, 0.0, 0.0, 0.0], ['\"True Blue\" Blueberry Ale', '\"Old Yeltsin\" Imperial Stout', 1.0, 1.0, 1.0, 1.0], ['\"True Blue\" Blueberry Ale', '\"Requisite\" Imperialistic Stout', 0.0, 0.0, 0.0, 0.0], ['\"True Blue\" Blueberry Ale', '\"See No Evil\" American Pale Ale', 0.0, 0.0, 0.0, 0.0], ['\"True Blue\" Blueberry Ale', '\"Shabadoo\" Black & Tan Ale', 0.99999999999999978, 0.99778515785660882, 0.99115044247787598, 0.9682773237093576], ['\"True Blue\" Blueberry Ale', '\"Six\" Belgian Style Table Beer', 0.0, 0.0, 0.0, 0.0], ['\"True Blue\" Blueberry Ale', '\"Stout Stoat\" Stout', 0.0, 0.0, 0.0, 0.0], ['\"True Blue\" Blueberry Ale', '\"Talk To Me\" IPA', 0.0, 0.0, 0.0, 0.0], ['\"True Blue\" Blueberry Ale', '\"The Bridge\" Nut-Brown Ale', 0.0, 0.0, 0.0, 0.0], ['\"True Blue\" Blueberry Ale', '\"The Buk\" Pale Ale', 0.99827437317499579, 0.99999999999999978, 0.99778515785660882, 0.99778515785660882], ['\"True Blue\" Blueberry Ale', '\"The Camp\" Barleywine', 0.0, 0.0, 0.0, 0.0], ['\"True Blue\" Blueberry Ale', '\"The Mountain\" Ale', 0.0, 0.0, 0.0, 0.0], ['\"True Blue\" Blueberry Ale', '\"The Wind Cried Mari...\" Scottish Heather Ale', 1.0, 1.0, 1.0, 1.0], ['\"True Blue\" Blueberry Ale', '\"They Made Me Do It\" Blueberry Ale', 0.0, 0.0, 0.0, 0.0], ['\"True Blue\" Blueberry Ale', '\"Trouble\"', 0.0, 0.0, 0.0, 0.0], ['\"True Blue\" Blueberry Ale', '\"Woosta\" Weizenbock', 1.0, 1.0, 1.0, 1.0], ['\"True Blue\" Blueberry Ale', '# 100', 0.9897689566954806, 0.9988005678896732, 0.9984265880488703, 0.99509444050808149], ['\"True Blue\" Blueberry Ale', \"#'s Ale\", 1.0, 1.0, 1.0, 1.0], ['\"True Blue\" Blueberry Ale', \"Dale's Pale Ale\", 0.99009832295543798, 0.99100152077710368, 0.9892883024070156, 0.99486932807143635], ['\"Woosta\" Weizenbock', '! (Old Ale)', 0.0, 0.0, 0.0, 0.0], ['\"Woosta\" Weizenbock', '\"100\"', 0.0, 0.0, 0.0, 0.0], ['\"Woosta\" Weizenbock', '\"100\" Pale Ale', 0.0, 0.0, 0.0, 0.0], ['\"Woosta\" Weizenbock', '\"12\"  Belgian Golden Strong Ale', 0.0, 0.0, 0.0, 0.0], ['\"Woosta\" Weizenbock', '\"33\" Export', 0.0, 0.0, 0.0, 0.0], ['\"Woosta\" Weizenbock', '\"4\" Horse Oatmeal Stout', 0.0, 0.0, 0.0, 0.0], ['\"Woosta\" Weizenbock', '\"400\" Ale', 0.0, 0.0, 0.0, 0.0], ['\"Woosta\" Weizenbock', '\"50\" Golden Anniversary Lager', 0.0, 0.0, 0.0, 0.0], ['\"Woosta\" Weizenbock', '\"76\" Anniversary Ale', 0.0, 0.0, 0.0, 0.0], ['\"Woosta\" Weizenbock', '\"76\" Anniversary Ale With English Hops', 0.0, 0.0, 0.0, 0.0], ['\"Woosta\" Weizenbock', '\"Alt\"ered State', 0.0, 0.0, 0.0, 0.0], ['\"Woosta\" Weizenbock', '\"Best Of Both Worlds\" Stout', 0.0, 0.0, 0.0, 0.0], ['\"Woosta\" Weizenbock', '\"Cellar Reserve\" Triple Gold', 0.0, 0.0, 0.0, 0.0], ['\"Woosta\" Weizenbock', '\"Certifiably\" Blonde Ale', 0.0, 0.0, 0.0, 0.0], ['\"Woosta\" Weizenbock', '\"Check-Mate\" Cask Pilsner', 0.0, 0.0, 0.0, 0.0], ['\"Woosta\" Weizenbock', '\"Double Wrecked Wreck\" IPA', 0.0, 0.0, 0.0, 0.0], ['\"Woosta\" Weizenbock', '\"Fade To Black\" Porter', 0.0, 0.0, 0.0, 0.0], ['\"Woosta\" Weizenbock', '\"Great Satchmo\" Stout', 0.0, 0.0, 0.0, 0.0], ['\"Woosta\" Weizenbock', '\"Hop Obama\" Ale', 0.0, 0.0, 0.0, 0.0], ['\"Woosta\" Weizenbock', '\"Jessica & Brendan\\'s\" Bridal Ale', 0.0, 0.0, 0.0, 0.0], ['\"Woosta\" Weizenbock', '\"Just One More\" Scotch Ale', 0.0, 0.0, 0.0, 0.0], ['\"Woosta\" Weizenbock', '\"Little John\\'s Myth\" Robust Porter', 0.0, 0.0, 0.0, 0.0], ['\"Woosta\" Weizenbock', '\"M\"', 0.0, 0.0, 0.0, 0.0], ['\"Woosta\" Weizenbock', '\"M\"-perial Stout', 0.0, 0.0, 0.0, 0.0], ['\"Woosta\" Weizenbock', '\"Marnie\" Gras Carnival Ale', 0.0, 0.0, 0.0, 0.0], ['\"Woosta\" Weizenbock', '\"Naughty Scot\" Scotch Ale', 0.0, 0.0, 0.0, 0.0], ['\"Woosta\" Weizenbock', '\"Nein Toll Bier\" German Alt', 0.0, 0.0, 0.0, 0.0], ['\"Woosta\" Weizenbock', '\"Not Guilty\" 1924 Deer Brand', 0.0, 0.0, 0.0, 0.0], ['\"Woosta\" Weizenbock', '\"Not Your Bock\" Maibock', 0.0, 0.0, 0.0, 0.0], ['\"Woosta\" Weizenbock', '\"O Smokey Night\"', 0.0, 0.0, 0.0, 0.0], ['\"Woosta\" Weizenbock', '\"O!\" Gold', 0.0, 0.0, 0.0, 0.0], ['\"Woosta\" Weizenbock', '\"Old School\" Craft Cream Ale', 0.0, 0.0, 0.0, 0.0], ['\"Woosta\" Weizenbock', '\"Old Yeltsin\" Imperial Stout', 0.0, 0.0, 0.0, 0.0], ['\"Woosta\" Weizenbock', '\"Requisite\" Imperialistic Stout', 0.0, 0.0, 0.0, 0.0], ['\"Woosta\" Weizenbock', '\"See No Evil\" American Pale Ale', 0.0, 0.0, 0.0, 0.0], ['\"Woosta\" Weizenbock', '\"Shabadoo\" Black & Tan Ale', 1.0, 1.0, 1.0, 1.0], ['\"Woosta\" Weizenbock', '\"Six\" Belgian Style Table Beer', 0.0, 0.0, 0.0, 0.0], ['\"Woosta\" Weizenbock', '\"Stout Stoat\" Stout', 0.0, 0.0, 0.0, 0.0], ['\"Woosta\" Weizenbock', '\"Talk To Me\" IPA', 0.0, 0.0, 0.0, 0.0], ['\"Woosta\" Weizenbock', '\"The Bridge\" Nut-Brown Ale', 0.0, 0.0, 0.0, 0.0], ['\"Woosta\" Weizenbock', '\"The Buk\" Pale Ale', 0.9982743731749959, 0.99778515785660882, 0.99827437317499579, 0.99999999999999978], ['\"Woosta\" Weizenbock', '\"The Camp\" Barleywine', 0.0, 0.0, 0.0, 0.0], ['\"Woosta\" Weizenbock', '\"The Mountain\" Ale', 0.0, 0.0, 0.0, 0.0], ['\"Woosta\" Weizenbock', '\"The Wind Cried Mari...\" Scottish Heather Ale', 0.0, 0.0, 0.0, 0.0], ['\"Woosta\" Weizenbock', '\"They Made Me Do It\" Blueberry Ale', 0.0, 0.0, 0.0, 0.0], ['\"Woosta\" Weizenbock', '\"Trouble\"', 0.0, 0.0, 0.0, 0.0], ['\"Woosta\" Weizenbock', '\"True Blue\" Blueberry Ale', 1.0, 1.0, 1.0, 1.0], ['\"Woosta\" Weizenbock', '# 100', 1.0, 1.0, 1.0, 1.0], ['\"Woosta\" Weizenbock', \"#'s Ale\", 0.0, 0.0, 0.0, 0.0], ['\"Woosta\" Weizenbock', \"Dale's Pale Ale\", 1.0, 1.0, 1.0, 1.0], ['# 100', '! (Old Ale)', 1.0, 1.0, 1.0, 1.0], ['# 100', '\"100\"', 1.0, 1.0, 1.0, 1.0], ['# 100', '\"100\" Pale Ale', 0.0, 0.0, 0.0, 0.0], ['# 100', '\"12\"  Belgian Golden Strong Ale', 0.0, 0.0, 0.0, 0.0], ['# 100', '\"33\" Export', 1.0, 1.0, 1.0, 1.0], ['# 100', '\"4\" Horse Oatmeal Stout', 0.0, 0.0, 0.0, 0.0], ['# 100', '\"400\" Ale', 0.99277506656169934, 0.99482490433055115, 0.98460893256855697, 0.9939603106164222], ['# 100', '\"50\" Golden Anniversary Lager', 0.0, 0.0, 0.0, 0.0], ['# 100', '\"76\" Anniversary Ale', 1.0, 1.0, 1.0, 1.0], ['# 100', '\"76\" Anniversary Ale With English Hops', 0.0, 0.0, 0.0, 0.0], ['# 100', '\"Alt\"ered State', 1.0, 1.0, 1.0, 1.0], ['# 100', '\"Best Of Both Worlds\" Stout', 0.0, 0.0, 0.0, 0.0], ['# 100', '\"Cellar Reserve\" Triple Gold', 0.0, 0.0, 0.0, 0.0], ['# 100', '\"Certifiably\" Blonde Ale', 0.0, 0.0, 0.0, 0.0], ['# 100', '\"Check-Mate\" Cask Pilsner', 0.0, 0.0, 0.0, 0.0], ['# 100', '\"Double Wrecked Wreck\" IPA', 1.0, 1.0, 1.0, 1.0], ['# 100', '\"Fade To Black\" Porter', 0.0, 0.0, 0.0, 0.0], ['# 100', '\"Great Satchmo\" Stout', 0.0, 0.0, 0.0, 0.0], ['# 100', '\"Hop Obama\" Ale', 0.99133688278298038, 0.99651225516825004, 0.99655147663212162, 0.9947183863256065], ['# 100', '\"Jessica & Brendan\\'s\" Bridal Ale', 0.99905615835505945, 0.99788010596581844, 0.99434561695850276, 0.99896854021029968], ['# 100', '\"Just One More\" Scotch Ale', 0.0, 0.0, 0.0, 0.0], ['# 100', '\"Little John\\'s Myth\" Robust Porter', 0.0, 0.0, 0.0, 0.0], ['# 100', '\"M\"', 1.0, 1.0, 1.0, 1.0], ['# 100', '\"M\"-perial Stout', 0.0, 0.0, 0.0, 0.0], ['# 100', '\"Marnie\" Gras Carnival Ale', 1.0, 0.99827437317499579, 1.0, 0.99827437317499579], ['# 100', '\"Naughty Scot\" Scotch Ale', 0.0, 0.0, 0.0, 0.0], ['# 100', '\"Nein Toll Bier\" German Alt', 0.0, 0.0, 0.0, 0.0], ['# 100', '\"Not Guilty\" 1924 Deer Brand', 0.0, 0.0, 0.0, 0.0], ['# 100', '\"Not Your Bock\" Maibock', 0.0, 0.0, 0.0, 0.0], ['# 100', '\"O Smokey Night\"', 0.0, 0.0, 0.0, 0.0], ['# 100', '\"O!\" Gold', 0.0, 0.0, 0.0, 0.0], ['# 100', '\"Old School\" Craft Cream Ale', 0.0, 0.0, 0.0, 0.0], ['# 100', '\"Old Yeltsin\" Imperial Stout', 0.99457357081821873, 0.99915688344043752, 0.97480992044922177, 0.98879912068910558], ['# 100', '\"Requisite\" Imperialistic Stout', 0.0, 0.0, 0.0, 0.0], ['# 100', '\"See No Evil\" American Pale Ale', 0.0, 0.0, 0.0, 0.0], ['# 100', '\"Shabadoo\" Black & Tan Ale', 0.99584201417949969, 0.98847594688093543, 0.99491140327921457, 0.99618677952740009], ['# 100', '\"Six\" Belgian Style Table Beer', 0.0, 0.0, 0.0, 0.0], ['# 100', '\"Stout Stoat\" Stout', 0.0, 0.0, 0.0, 0.0], ['# 100', '\"Talk To Me\" IPA', 0.0, 0.0, 0.0, 0.0], ['# 100', '\"The Bridge\" Nut-Brown Ale', 0.0, 0.0, 0.0, 0.0], ['# 100', '\"The Buk\" Pale Ale', 0.9982743731749959, 0.99827437317499579, 0.9982743731749959, 0.9982743731749959], ['# 100', '\"The Camp\" Barleywine', 0.0, 0.0, 0.0, 0.0], ['# 100', '\"The Mountain\" Ale', 0.0, 0.0, 0.0, 0.0], ['# 100', '\"The Wind Cried Mari...\" Scottish Heather Ale', 0.0, 0.0, 0.0, 0.0], ['# 100', '\"They Made Me Do It\" Blueberry Ale', 0.0, 0.0, 0.0, 0.0], ['# 100', '\"Trouble\"', 1.0, 1.0, 1.0, 1.0], ['# 100', '\"True Blue\" Blueberry Ale', 0.9897689566954806, 0.9988005678896732, 0.9984265880488703, 0.99509444050808149], ['# 100', '\"Woosta\" Weizenbock', 1.0, 1.0, 1.0, 1.0], ['# 100', \"#'s Ale\", 0.99289940789177489, 0.99337687731488977, 0.98997840755791433, 0.99447414194512118], ['# 100', \"Dale's Pale Ale\", 0.98610463741278076, 0.99102136390970763, 0.98905640036530429, 0.9902404293455942], [\"#'s Ale\", '! (Old Ale)', 0.0, 0.0, 0.0, 0.0], [\"#'s Ale\", '\"100\"', 1.0, 1.0, 1.0, 1.0], [\"#'s Ale\", '\"100\" Pale Ale', 0.0, 0.0, 0.0, 0.0], [\"#'s Ale\", '\"12\"  Belgian Golden Strong Ale', 0.0, 0.0, 0.0, 0.0], [\"#'s Ale\", '\"33\" Export', 1.0, 1.0, 1.0, 1.0], [\"#'s Ale\", '\"4\" Horse Oatmeal Stout', 0.0, 0.0, 0.0, 0.0], [\"#'s Ale\", '\"400\" Ale', 1.0, 1.0, 1.0, 1.0], [\"#'s Ale\", '\"50\" Golden Anniversary Lager', 0.0, 0.0, 0.0, 0.0], [\"#'s Ale\", '\"76\" Anniversary Ale', 0.0, 0.0, 0.0, 0.0], [\"#'s Ale\", '\"76\" Anniversary Ale With English Hops', 0.0, 0.0, 0.0, 0.0], [\"#'s Ale\", '\"Alt\"ered State', 0.0, 0.0, 0.0, 0.0], [\"#'s Ale\", '\"Best Of Both Worlds\" Stout', 0.0, 0.0, 0.0, 0.0], [\"#'s Ale\", '\"Cellar Reserve\" Triple Gold', 0.0, 0.0, 0.0, 0.0], [\"#'s Ale\", '\"Certifiably\" Blonde Ale', 0.0, 0.0, 0.0, 0.0], [\"#'s Ale\", '\"Check-Mate\" Cask Pilsner', 0.0, 0.0, 0.0, 0.0], [\"#'s Ale\", '\"Double Wrecked Wreck\" IPA', 0.0, 0.0, 0.0, 0.0], [\"#'s Ale\", '\"Fade To Black\" Porter', 0.0, 0.0, 0.0, 0.0], [\"#'s Ale\", '\"Great Satchmo\" Stout', 0.0, 0.0, 0.0, 0.0], [\"#'s Ale\", '\"Hop Obama\" Ale', 0.99996948381878781, 0.99833080566982058, 1.0, 0.99778515785660882], [\"#'s Ale\", '\"Jessica & Brendan\\'s\" Bridal Ale', 0.96737222338024531, 0.9970544855015816, 0.99705448550158149, 0.98994949366116647], [\"#'s Ale\", '\"Just One More\" Scotch Ale', 0.0, 0.0, 0.0, 0.0], [\"#'s Ale\", '\"Little John\\'s Myth\" Robust Porter', 0.0, 0.0, 0.0, 0.0], [\"#'s Ale\", '\"M\"', 0.0, 0.0, 0.0, 0.0], [\"#'s Ale\", '\"M\"-perial Stout', 0.0, 0.0, 0.0, 0.0], [\"#'s Ale\", '\"Marnie\" Gras Carnival Ale', 0.0, 0.0, 0.0, 0.0], [\"#'s Ale\", '\"Naughty Scot\" Scotch Ale', 0.0, 0.0, 0.0, 0.0], [\"#'s Ale\", '\"Nein Toll Bier\" German Alt', 0.0, 0.0, 0.0, 0.0], [\"#'s Ale\", '\"Not Guilty\" 1924 Deer Brand', 0.0, 0.0, 0.0, 0.0], [\"#'s Ale\", '\"Not Your Bock\" Maibock', 0.0, 0.0, 0.0, 0.0], [\"#'s Ale\", '\"O Smokey Night\"', 0.0, 0.0, 0.0, 0.0], [\"#'s Ale\", '\"O!\" Gold', 0.0, 0.0, 0.0, 0.0], [\"#'s Ale\", '\"Old School\" Craft Cream Ale', 0.0, 0.0, 0.0, 0.0], [\"#'s Ale\", '\"Old Yeltsin\" Imperial Stout', 0.97658699668825544, 0.99366079189645529, 0.96403143188611318, 0.9875602287009636], [\"#'s Ale\", '\"Requisite\" Imperialistic Stout', 1.0, 1.0, 1.0, 1.0], [\"#'s Ale\", '\"See No Evil\" American Pale Ale', 0.0, 0.0, 0.0, 0.0], [\"#'s Ale\", '\"Shabadoo\" Black & Tan Ale', 0.99227787671366763, 0.98974439199138509, 0.99778515785660882, 0.99115044247787598], [\"#'s Ale\", '\"Six\" Belgian Style Table Beer', 1.0, 1.0, 1.0, 1.0], [\"#'s Ale\", '\"Stout Stoat\" Stout', 0.0, 0.0, 0.0, 0.0], [\"#'s Ale\", '\"Talk To Me\" IPA', 0.0, 0.0, 0.0, 0.0], [\"#'s Ale\", '\"The Bridge\" Nut-Brown Ale', 0.0, 0.0, 0.0, 0.0], [\"#'s Ale\", '\"The Buk\" Pale Ale', 1.0, 1.0, 1.0, 1.0], [\"#'s Ale\", '\"The Camp\" Barleywine', 0.0, 0.0, 0.0, 0.0], [\"#'s Ale\", '\"The Mountain\" Ale', 0.0, 0.0, 0.0, 0.0], [\"#'s Ale\", '\"The Wind Cried Mari...\" Scottish Heather Ale', 0.0, 0.0, 0.0, 0.0], [\"#'s Ale\", '\"They Made Me Do It\" Blueberry Ale', 0.0, 0.0, 0.0, 0.0], [\"#'s Ale\", '\"Trouble\"', 1.0, 1.0, 1.0, 1.0], [\"#'s Ale\", '\"True Blue\" Blueberry Ale', 1.0, 1.0, 1.0, 1.0], [\"#'s Ale\", '\"Woosta\" Weizenbock', 0.0, 0.0, 0.0, 0.0], [\"#'s Ale\", '# 100', 0.99289940789177489, 0.99337687731488977, 0.98997840755791433, 0.99447414194512118], [\"#'s Ale\", \"Dale's Pale Ale\", 0.99182363616840563, 0.98758259953417105, 0.99251381391709159, 0.99653891085212842], [\"Dale's Pale Ale\", '! (Old Ale)', 1.0, 1.0, 1.0, 1.0], [\"Dale's Pale Ale\", '\"100\"', 0.99366079189645551, 0.99336361922143168, 0.99435028248587587, 1.0], [\"Dale's Pale Ale\", '\"100\" Pale Ale', 1.0, 1.0, 1.0, 1.0], [\"Dale's Pale Ale\", '\"12\"  Belgian Golden Strong Ale', 1.0, 1.0, 1.0, 1.0], [\"Dale's Pale Ale\", '\"33\" Export', 0.98058067569092011, 0.96265094015389874, 0.97618706018395274, 0.988767049205314], [\"Dale's Pale Ale\", '\"4\" Horse Oatmeal Stout', 0.99827437317499579, 0.98478355881793689, 0.98974439199138509, 0.99994794242428597], [\"Dale's Pale Ale\", '\"400\" Ale', 0.90070558381146237, 0.98818710692836143, 0.97743127164469323, 0.90026366159914617], [\"Dale's Pale Ale\", '\"50\" Golden Anniversary Lager', 0.0, 0.0, 0.0, 0.0], [\"Dale's Pale Ale\", '\"76\" Anniversary Ale', 0.99183659813417568, 0.99821030596075133, 0.99183659813417568, 0.98749227911400661], [\"Dale's Pale Ale\", '\"76\" Anniversary Ale With English Hops', 1.0, 1.0, 1.0, 1.0], [\"Dale's Pale Ale\", '\"Alt\"ered State', 1.0000000000000002, 0.99778515785660893, 0.99999999999999978, 0.99227787671366774], [\"Dale's Pale Ale\", '\"Best Of Both Worlds\" Stout', 0.0, 0.0, 0.0, 0.0], [\"Dale's Pale Ale\", '\"Cellar Reserve\" Triple Gold', 0.0, 0.0, 0.0, 0.0], [\"Dale's Pale Ale\", '\"Certifiably\" Blonde Ale', 0.0, 0.0, 0.0, 0.0], [\"Dale's Pale Ale\", '\"Check-Mate\" Cask Pilsner', 0.0, 0.0, 0.0, 0.0], [\"Dale's Pale Ale\", '\"Double Wrecked Wreck\" IPA', 1.0, 1.0, 1.0, 1.0], [\"Dale's Pale Ale\", '\"Fade To Black\" Porter', 1.0, 1.0, 1.0, 1.0], [\"Dale's Pale Ale\", '\"Great Satchmo\" Stout', 0.0, 0.0, 0.0, 0.0], [\"Dale's Pale Ale\", '\"Hop Obama\" Ale', 0.99159075063695945, 0.99230065682115298, 0.99609098652342432, 0.9941002672648005], [\"Dale's Pale Ale\", '\"Jessica & Brendan\\'s\" Bridal Ale', 0.93237973802473961, 0.9777278949739916, 0.98478355881793678, 0.92676044620488363], [\"Dale's Pale Ale\", '\"Just One More\" Scotch Ale', 0.98515748782748291, 0.99326591666484454, 0.99811498418631661, 0.97986577181208068], [\"Dale's Pale Ale\", '\"Little John\\'s Myth\" Robust Porter', 0.0, 0.0, 0.0, 0.0], [\"Dale's Pale Ale\", '\"M\"', 1.0, 1.0, 1.0, 1.0], [\"Dale's Pale Ale\", '\"M\"-perial Stout', 0.0, 0.0, 0.0, 0.0], [\"Dale's Pale Ale\", '\"Marnie\" Gras Carnival Ale', 0.99999999999999978, 1.0, 0.99827437317499579, 1.0], [\"Dale's Pale Ale\", '\"Naughty Scot\" Scotch Ale', 0.0, 0.0, 0.0, 0.0], [\"Dale's Pale Ale\", '\"Nein Toll Bier\" German Alt', 0.0, 0.0, 0.0, 0.0], [\"Dale's Pale Ale\", '\"Not Guilty\" 1924 Deer Brand', 1.0, 0.99811498418631661, 0.9981149841863165, 1.0000000000000002], [\"Dale's Pale Ale\", '\"Not Your Bock\" Maibock', 1.0, 1.0, 1.0, 1.0], [\"Dale's Pale Ale\", '\"O Smokey Night\"', 0.0, 0.0, 0.0, 0.0], [\"Dale's Pale Ale\", '\"O!\" Gold', 1.0, 1.0, 1.0, 1.0], [\"Dale's Pale Ale\", '\"Old School\" Craft Cream Ale', 0.0, 0.0, 0.0, 0.0], [\"Dale's Pale Ale\", '\"Old Yeltsin\" Imperial Stout', 0.97194359666119456, 0.99597129157934705, 0.99058671789541497, 0.97976160170770932], [\"Dale's Pale Ale\", '\"Requisite\" Imperialistic Stout', 0.97899516167223122, 0.99025867574990678, 0.99498743710661985, 0.99456530861920611], [\"Dale's Pale Ale\", '\"See No Evil\" American Pale Ale', 0.0, 0.0, 0.0, 0.0], [\"Dale's Pale Ale\", '\"Shabadoo\" Black & Tan Ale', 0.98934126698392078, 0.98817219507291343, 0.98606170549967231, 0.98830300898892098], [\"Dale's Pale Ale\", '\"Six\" Belgian Style Table Beer', 0.99145429554254361, 0.98994949366116658, 0.98994949366116647, 1.0000000000000002], [\"Dale's Pale Ale\", '\"Stout Stoat\" Stout', 0.0, 0.0, 0.0, 0.0], [\"Dale's Pale Ale\", '\"Talk To Me\" IPA', 0.0, 0.0, 0.0, 0.0], [\"Dale's Pale Ale\", '\"The Bridge\" Nut-Brown Ale', 1.0, 1.0, 1.0, 1.0], [\"Dale's Pale Ale\", '\"The Buk\" Pale Ale', 0.99805343824738857, 0.99804499366101607, 0.9900467902373673, 0.99512516485232627], [\"Dale's Pale Ale\", '\"The Camp\" Barleywine', 0.0, 0.0, 0.0, 0.0], [\"Dale's Pale Ale\", '\"The Mountain\" Ale', 0.0, 0.0, 0.0, 0.0], [\"Dale's Pale Ale\", '\"The Wind Cried Mari...\" Scottish Heather Ale', 0.9659100653636612, 0.97224814941064386, 0.9907106868241855, 0.97512865329346043], [\"Dale's Pale Ale\", '\"They Made Me Do It\" Blueberry Ale', 0.99996948381878781, 0.98994949366116647, 0.98994949366116658, 0.9990282349375621], [\"Dale's Pale Ale\", '\"Trouble\"', 1.0, 1.0, 1.0, 1.0], [\"Dale's Pale Ale\", '\"True Blue\" Blueberry Ale', 0.99009832295543798, 0.99100152077710368, 0.9892883024070156, 0.99486932807143635], [\"Dale's Pale Ale\", '\"Woosta\" Weizenbock', 1.0, 1.0, 1.0, 1.0], [\"Dale's Pale Ale\", '# 100', 0.98610463741278076, 0.99102136390970763, 0.98905640036530429, 0.9902404293455942], [\"Dale's Pale Ale\", \"#'s Ale\", 0.99182363616840563, 0.98758259953417105, 0.99251381391709159, 0.99653891085212831]]\n"
       ]
      },
      {
       "html": [
        "<div style=\"max-height:1000px;max-width:1500px;overflow:auto;\">\n",
        "<table border=\"1\" class=\"dataframe\">\n",
        "  <thead>\n",
        "    <tr style=\"text-align: right;\">\n",
        "      <th></th>\n",
        "      <th>beer1</th>\n",
        "      <th>beer2</th>\n",
        "      <th>overall_dist</th>\n",
        "      <th>aroma_dist</th>\n",
        "      <th>palate_dist</th>\n",
        "      <th>taste_dist</th>\n",
        "    </tr>\n",
        "  </thead>\n",
        "  <tbody>\n",
        "    <tr>\n",
        "      <th>2545</th>\n",
        "      <td> Dale's Pale Ale</td>\n",
        "      <td>                 \"Trouble\"</td>\n",
        "      <td> 1.000000</td>\n",
        "      <td> 1.000000</td>\n",
        "      <td> 1.000000</td>\n",
        "      <td> 1.000000</td>\n",
        "    </tr>\n",
        "    <tr>\n",
        "      <th>2546</th>\n",
        "      <td> Dale's Pale Ale</td>\n",
        "      <td> \"True Blue\" Blueberry Ale</td>\n",
        "      <td> 0.990098</td>\n",
        "      <td> 0.991002</td>\n",
        "      <td> 0.989288</td>\n",
        "      <td> 0.994869</td>\n",
        "    </tr>\n",
        "    <tr>\n",
        "      <th>2547</th>\n",
        "      <td> Dale's Pale Ale</td>\n",
        "      <td>       \"Woosta\" Weizenbock</td>\n",
        "      <td> 1.000000</td>\n",
        "      <td> 1.000000</td>\n",
        "      <td> 1.000000</td>\n",
        "      <td> 1.000000</td>\n",
        "    </tr>\n",
        "    <tr>\n",
        "      <th>2548</th>\n",
        "      <td> Dale's Pale Ale</td>\n",
        "      <td>                     # 100</td>\n",
        "      <td> 0.986105</td>\n",
        "      <td> 0.991021</td>\n",
        "      <td> 0.989056</td>\n",
        "      <td> 0.990240</td>\n",
        "    </tr>\n",
        "    <tr>\n",
        "      <th>2549</th>\n",
        "      <td> Dale's Pale Ale</td>\n",
        "      <td>                   #'s Ale</td>\n",
        "      <td> 0.991824</td>\n",
        "      <td> 0.987583</td>\n",
        "      <td> 0.992514</td>\n",
        "      <td> 0.996539</td>\n",
        "    </tr>\n",
        "  </tbody>\n",
        "</table>\n",
        "</div>"
       ],
       "metadata": {},
       "output_type": "pyout",
       "prompt_number": 29,
       "text": [
        "                beer1                      beer2  overall_dist  aroma_dist  \\\n",
        "2545  Dale's Pale Ale                  \"Trouble\"      1.000000    1.000000   \n",
        "2546  Dale's Pale Ale  \"True Blue\" Blueberry Ale      0.990098    0.991002   \n",
        "2547  Dale's Pale Ale        \"Woosta\" Weizenbock      1.000000    1.000000   \n",
        "2548  Dale's Pale Ale                      # 100      0.986105    0.991021   \n",
        "2549  Dale's Pale Ale                    #'s Ale      0.991824    0.987583   \n",
        "\n",
        "      palate_dist  taste_dist  \n",
        "2545     1.000000    1.000000  \n",
        "2546     0.989288    0.994869  \n",
        "2547     1.000000    1.000000  \n",
        "2548     0.989056    0.990240  \n",
        "2549     0.992514    0.996539  "
       ]
      }
     ],
     "prompt_number": 29
    },
    {
     "cell_type": "heading",
     "level": 2,
     "metadata": {},
     "source": [
      "Find Top 5 Similar Beers for \"Dale's Pale Ale\" with the three different distance measures and three different weights"
     ]
    },
    {
     "cell_type": "code",
     "collapsed": false,
     "input": [
      "my_beer = \"Dale's Pale Ale\"\n",
      "\n",
      "#EUCLIDEAN\n",
      "\n",
      "results1 = []\n",
      "for b in beers:\n",
      "    if my_beer!=b:\n",
      "        results1.append((my_beer, b, calc_distance(simple_euclidean_distances, my_beer, b, weights1)))\n",
      "print pd.Series(sorted(results1, key=lambda x: x[2]))[:5]\n",
      "\n",
      "\n",
      "results2 = []\n",
      "for b in beers:\n",
      "    if my_beer!=b:\n",
      "        results2.append((my_beer, b, calc_distance(simple_euclidean_distances, my_beer, b, weights2)))\n",
      "print pd.Series(sorted(results2, key=lambda x: x[2]))[:5]\n",
      "\n",
      "\n",
      "results3 = []\n",
      "for b in beers:\n",
      "    if my_beer!=b:\n",
      "        results3.append((my_beer, b, calc_distance(simple_euclidean_distances, my_beer, b, weights3)))\n",
      "print pd.Series(sorted(results3, key=lambda x: x[2]))[:5]"
     ],
     "language": "python",
     "metadata": {},
     "outputs": [
      {
       "output_type": "stream",
       "stream": "stdout",
       "text": [
        "0    (Dale's Pale Ale, \"50\" Golden Anniversary Lage...\n",
        "1    (Dale's Pale Ale, \"Best Of Both Worlds\" Stout,...\n",
        "2    (Dale's Pale Ale, \"Cellar Reserve\" Triple Gold...\n",
        "3     (Dale's Pale Ale, \"Certifiably\" Blonde Ale, 0.0)\n",
        "4    (Dale's Pale Ale, \"Check-Mate\" Cask Pilsner, 0.0)\n",
        "dtype: object\n",
        "0    (Dale's Pale Ale, \"50\" Golden Anniversary Lage...\n",
        "1    (Dale's Pale Ale, \"Best Of Both Worlds\" Stout,...\n",
        "2    (Dale's Pale Ale, \"Cellar Reserve\" Triple Gold...\n",
        "3     (Dale's Pale Ale, \"Certifiably\" Blonde Ale, 0.0)\n",
        "4    (Dale's Pale Ale, \"Check-Mate\" Cask Pilsner, 0.0)\n",
        "dtype: object"
       ]
      },
      {
       "output_type": "stream",
       "stream": "stdout",
       "text": [
        "\n",
        "0    (Dale's Pale Ale, \"50\" Golden Anniversary Lage...\n",
        "1    (Dale's Pale Ale, \"Best Of Both Worlds\" Stout,...\n",
        "2    (Dale's Pale Ale, \"Cellar Reserve\" Triple Gold...\n",
        "3     (Dale's Pale Ale, \"Certifiably\" Blonde Ale, 0.0)\n",
        "4    (Dale's Pale Ale, \"Check-Mate\" Cask Pilsner, 0.0)\n",
        "dtype: object"
       ]
      },
      {
       "output_type": "stream",
       "stream": "stdout",
       "text": [
        "\n"
       ]
      }
     ],
     "prompt_number": 30
    },
    {
     "cell_type": "code",
     "collapsed": false,
     "input": [
      "my_beer = \"Dale's Pale Ale\"\n",
      "\n",
      "#MANHATTAN\n",
      "\n",
      "results4 = []\n",
      "for b in beers:\n",
      "    if my_beer!=b:\n",
      "        results4.append((my_beer, b, calc_distance(simple_manhattan_distances, my_beer, b, weights1)))\n",
      "print pd.Series(sorted(results4, key=lambda x: x[2]))[:5]\n",
      "\n",
      "\n",
      "results5 = []\n",
      "for b in beers:\n",
      "    if my_beer!=b:\n",
      "        results5.append((my_beer, b, calc_distance(simple_manhattan_distances, my_beer, b, weights2)))\n",
      "print pd.Series(sorted(results5, key=lambda x: x[2]))[:5]\n",
      "\n",
      "\n",
      "results6 = []\n",
      "for b in beers:\n",
      "    if my_beer!=b:\n",
      "        results6.append((my_beer, b, calc_distance(simple_manhattan_distances, my_beer, b, weights3)))\n",
      "print pd.Series(sorted(results6, key=lambda x: x[2]))[:5]"
     ],
     "language": "python",
     "metadata": {},
     "outputs": [
      {
       "output_type": "stream",
       "stream": "stdout",
       "text": [
        "0    (Dale's Pale Ale, \"50\" Golden Anniversary Lage...\n",
        "1    (Dale's Pale Ale, \"Best Of Both Worlds\" Stout,...\n",
        "2    (Dale's Pale Ale, \"Cellar Reserve\" Triple Gold...\n",
        "3     (Dale's Pale Ale, \"Certifiably\" Blonde Ale, 0.0)\n",
        "4    (Dale's Pale Ale, \"Check-Mate\" Cask Pilsner, 0.0)\n",
        "dtype: object\n",
        "0    (Dale's Pale Ale, \"50\" Golden Anniversary Lage...\n",
        "1    (Dale's Pale Ale, \"Best Of Both Worlds\" Stout,...\n",
        "2    (Dale's Pale Ale, \"Cellar Reserve\" Triple Gold...\n",
        "3     (Dale's Pale Ale, \"Certifiably\" Blonde Ale, 0.0)\n",
        "4    (Dale's Pale Ale, \"Check-Mate\" Cask Pilsner, 0.0)\n",
        "dtype: object"
       ]
      },
      {
       "output_type": "stream",
       "stream": "stdout",
       "text": [
        "\n",
        "0    (Dale's Pale Ale, \"50\" Golden Anniversary Lage...\n",
        "1    (Dale's Pale Ale, \"Best Of Both Worlds\" Stout,...\n",
        "2    (Dale's Pale Ale, \"Cellar Reserve\" Triple Gold...\n",
        "3     (Dale's Pale Ale, \"Certifiably\" Blonde Ale, 0.0)\n",
        "4    (Dale's Pale Ale, \"Check-Mate\" Cask Pilsner, 0.0)\n",
        "dtype: object"
       ]
      },
      {
       "output_type": "stream",
       "stream": "stdout",
       "text": [
        "\n"
       ]
      }
     ],
     "prompt_number": 31
    },
    {
     "cell_type": "code",
     "collapsed": false,
     "input": [
      "my_beer = \"Dale's Pale Ale\"\n",
      "\n",
      "#COSINE\n",
      "\n",
      "results7 = []\n",
      "for b in beers:\n",
      "    if my_beer!=b:\n",
      "        results7.append((my_beer, b, calc_distance(simple_cosine_distances, my_beer, b, weights1)))\n",
      "print pd.Series(sorted(results7, key=lambda x: x[2]))[:5]\n",
      "\n",
      "\n",
      "results8 = []\n",
      "for b in beers:\n",
      "    if my_beer!=b:\n",
      "        results8.append((my_beer, b, calc_distance(simple_cosine_distances, my_beer, b, weights2)))\n",
      "print pd.Series(sorted(results8, key=lambda x: x[2]))[:5]\n",
      "\n",
      "\n",
      "results9 = []\n",
      "for b in beers:\n",
      "    if my_beer!=b:\n",
      "        results9.append((my_beer, b, calc_distance(simple_cosine_distances, my_beer, b, weights3)))\n",
      "print pd.Series(sorted(results9, key=lambda x: x[2]))[:5]"
     ],
     "language": "python",
     "metadata": {},
     "outputs": [
      {
       "output_type": "stream",
       "stream": "stdout",
       "text": [
        "0    (Dale's Pale Ale, \"50\" Golden Anniversary Lage...\n",
        "1    (Dale's Pale Ale, \"Best Of Both Worlds\" Stout,...\n",
        "2    (Dale's Pale Ale, \"Cellar Reserve\" Triple Gold...\n",
        "3     (Dale's Pale Ale, \"Certifiably\" Blonde Ale, 0.0)\n",
        "4    (Dale's Pale Ale, \"Check-Mate\" Cask Pilsner, 0.0)\n",
        "dtype: object\n",
        "0    (Dale's Pale Ale, \"50\" Golden Anniversary Lage...\n",
        "1    (Dale's Pale Ale, \"Best Of Both Worlds\" Stout,...\n",
        "2    (Dale's Pale Ale, \"Cellar Reserve\" Triple Gold...\n",
        "3     (Dale's Pale Ale, \"Certifiably\" Blonde Ale, 0.0)\n",
        "4    (Dale's Pale Ale, \"Check-Mate\" Cask Pilsner, 0.0)\n",
        "dtype: object"
       ]
      },
      {
       "output_type": "stream",
       "stream": "stdout",
       "text": [
        "\n",
        "0    (Dale's Pale Ale, \"50\" Golden Anniversary Lage...\n",
        "1    (Dale's Pale Ale, \"Best Of Both Worlds\" Stout,...\n",
        "2    (Dale's Pale Ale, \"Cellar Reserve\" Triple Gold...\n",
        "3     (Dale's Pale Ale, \"Certifiably\" Blonde Ale, 0.0)\n",
        "4    (Dale's Pale Ale, \"Check-Mate\" Cask Pilsner, 0.0)\n",
        "dtype: object"
       ]
      },
      {
       "output_type": "stream",
       "stream": "stdout",
       "text": [
        "\n"
       ]
      }
     ],
     "prompt_number": 32
    },
    {
     "cell_type": "heading",
     "level": 2,
     "metadata": {},
     "source": [
      "The top beers similar to Dale's Pale Ale with 3 different weights and 3 different distance/similarity measures are same in all cases"
     ]
    },
    {
     "cell_type": "heading",
     "level": 1,
     "metadata": {},
     "source": [
      "Wrap it in Yhat"
     ]
    },
    {
     "cell_type": "code",
     "collapsed": false,
     "input": [
      "from yhat import Yhat, BaseModel, YhatModel, preprocess\n",
      "\n",
      "class BeerRec(BaseModel):\n",
      "    @preprocess(in_type=dict, out_type=dict)\n",
      "    def transform(self, raw_data):\n",
      "        beers = raw_data['beer']\n",
      "        weights = raw_data.get(\"weights\", [1, 1, 1, 1])\n",
      "        # normalize the weights so they sum to 1.0\n",
      "        weights = [float(w) / sum(weights) for w in weights]\n",
      "        return (beers, weights)\n",
      "        \n",
      "    def predict(self, data):\n",
      "        beers, weights = data\n",
      "        results = []\n",
      "        for beer_cmp in self.beers:\n",
      "            if beer!=beer_cmp:\n",
      "                dist = calc_distance(self.simple_euclidean_distances, beer, beer_cmp, weights)\n",
      "                results.append((beer, beer_cmp, dist))\n",
      "        return sorted(results, key=lambda x: x[2])"
     ],
     "language": "python",
     "metadata": {},
     "outputs": [],
     "prompt_number": 45
    },
    {
     "cell_type": "heading",
     "level": 1,
     "metadata": {},
     "source": [
      "Deploy to Yhat"
     ]
    },
    {
     "cell_type": "code",
     "collapsed": false,
     "input": [
      "yh = Yhat(\"kothari_rupesh@hotmail.com\", \"b7358e18e20ff0da1c75ce4ac5b2679f\", \"http://cloud.yhathq.com/\")\n",
      "#br = BeerRec(simple_distances=simple_euclidean_distances, beers=beers, udfs=[calc_distance])\n",
      "yh.deploy(\"PydataBeerRec\", BeerRec, globals(), True)"
     ],
     "language": "python",
     "metadata": {},
     "outputs": [
      {
       "metadata": {},
       "output_type": "pyout",
       "prompt_number": 34,
       "text": [
        "{u'lang': u'python',\n",
        " u'message': u'Your model has been uploaded and is currently being built. You can check the status by logging into your Yhat account and viewing: /model/PydataBeerRec/',\n",
        " u'model_endpoint': u'/kothari_rupesh@hotmail.com/models/PydataBeerRec/',\n",
        " u'modelname': u'PydataBeerRec',\n",
        " u'status': u'success',\n",
        " u'timestamp': u'20141125225921',\n",
        " u'version': 8}"
       ]
      }
     ],
     "prompt_number": 34
    },
    {
     "cell_type": "code",
     "collapsed": false,
     "input": [
      "yh = Yhat(\"myles.gartland@rockhurst.edu\", \"e68038ecb98e3dcc0f9f78a5c2467aeb\", \"http://cloud.yhathq.com/\")\n",
      "#br = BeerRec(simple_distances=simple_euclidean_distances, beers=beers, udfs=[calc_distance])\n",
      "yh.deploy(\"PydataBeerRec1\", BeerRec, globals(), True)"
     ],
     "language": "python",
     "metadata": {},
     "outputs": [
      {
       "metadata": {},
       "output_type": "pyout",
       "prompt_number": 46,
       "text": [
        "{u'lang': u'python',\n",
        " u'message': u'Your model has been uploaded and is currently being built. You can check the status by logging into your Yhat account and viewing: /model/PydataBeerRec1/',\n",
        " u'model_endpoint': u'/myles.gartland@rockhurst.edu/models/PydataBeerRec1/',\n",
        " u'modelname': u'PydataBeerRec1',\n",
        " u'status': u'success',\n",
        " u'timestamp': u'20141126011127',\n",
        " u'version': 1}"
       ]
      }
     ],
     "prompt_number": 46
    },
    {
     "cell_type": "code",
     "collapsed": false,
     "input": [
      "yh.deploy_to_file(\"PydataBeerRec\", BeerRec, globals())"
     ],
     "language": "python",
     "metadata": {},
     "outputs": [
      {
       "output_type": "stream",
       "stream": "stdout",
       "text": [
        "Model successfully bundled to file:\n",
        "\t/Users/mpgartland1/Documents/Documents/Courses/Predictive Models/week 6/beer_reviews/PydataBeerRec.yhat\n",
        "\u001b[36mTo deploy, visit http://cloud.yhathq.com/model/upload and upload PydataBeerRec.yhat.\n",
        "\u001b[39m\n"
       ]
      },
      {
       "metadata": {},
       "output_type": "pyout",
       "prompt_number": 47,
       "text": [
        "'PydataBeerRec.yhat'"
       ]
      }
     ],
     "prompt_number": 47
    },
    {
     "cell_type": "heading",
     "level": 1,
     "metadata": {},
     "source": [
      "Test it Out"
     ]
    },
    {
     "cell_type": "code",
     "collapsed": false,
     "input": [
      "yh.predict(\"PydataBeerRec\", {\"beers\": \"Dale's Pale Ale\", \"weights\": [1, 1, 1, 1]})"
     ],
     "language": "python",
     "metadata": {},
     "outputs": [
      {
       "metadata": {},
       "output_type": "pyout",
       "prompt_number": 48,
       "text": [
        "{u'error': u\"'beer'\",\n",
        " u'yhat_id': u'160ca043-e7b4-4339-a54b-032e041b0b67',\n",
        " u'yhat_model': u'PydataBeerRec'}"
       ]
      }
     ],
     "prompt_number": 48
    },
    {
     "cell_type": "code",
     "collapsed": false,
     "input": [
      "yh.predict(\"PydataBeerRec\", {\"beer\": \"Dale's Pale Ale\", \"weights\": [2, 1, 0, 0]})"
     ],
     "language": "python",
     "metadata": {},
     "outputs": [
      {
       "metadata": {},
       "output_type": "pyout",
       "prompt_number": 43,
       "text": [
        "{u'error': u\"'beer'\",\n",
        " u'yhat_id': u'69ef5f20-8fae-4d9a-99fe-9ed8f4aa1385',\n",
        " u'yhat_model': u'PydataBeerRec'}"
       ]
      }
     ],
     "prompt_number": 43
    },
    {
     "cell_type": "code",
     "collapsed": false,
     "input": [],
     "language": "python",
     "metadata": {},
     "outputs": [],
     "prompt_number": 36
    }
   ],
   "metadata": {}
  }
 ]
}