{
 "metadata": {
  "name": "",
  "signature": "sha256:ee20035f72f128e9ff2432e76e314e4f3395dd7e3cfb7d97b184ba7cdfc965be"
 },
 "nbformat": 3,
 "nbformat_minor": 0,
 "worksheets": []
}