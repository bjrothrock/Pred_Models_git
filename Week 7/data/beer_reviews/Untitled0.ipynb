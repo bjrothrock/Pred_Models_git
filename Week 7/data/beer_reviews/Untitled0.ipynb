{
 "metadata": {
  "name": "",
  "signature": "sha256:f6460dbcffd1f2ba076d9530611decfadadc0eb3f60c97fce634ffb469fd3189"
 },
 "nbformat": 3,
 "nbformat_minor": 0,
 "worksheets": [
  {
   "cells": [
    {
     "cell_type": "code",
     "collapsed": false,
     "input": [
      "import pandas as pd\n",
      "import numpy as np\n",
      "from sklearn.metrics.pairwise import cosine_similarity\n",
      "import pprint as pp\n",
      "import os\n",
      "\n",
      "filename = os.path.join(\"beer_reviews.csv\")\n",
      "df = pd.read_csv(filename)\n",
      "# let's limit things to the top 250\n",
      "n = 250\n",
      "top_n = df.beer_name.value_counts().index[:n]\n",
      "df = df[df.beer_name.isin(top_n)]\n",
      "\n",
      "print df.head()"
     ],
     "language": "python",
     "metadata": {},
     "outputs": [
      {
       "output_type": "stream",
       "stream": "stdout",
       "text": [
        "      brewery_id             brewery_name  review_time  review_overall  \\\n",
        "798         1075  Caldera Brewing Company   1212201268             4.5   \n",
        "1559       11715  Destiny Brewing Company   1137124057             4.0   \n",
        "1560       11715  Destiny Brewing Company   1129504403             4.0   \n",
        "1563       11715  Destiny Brewing Company   1137125989             3.5   \n",
        "1564       11715  Destiny Brewing Company   1130936611             3.0   \n",
        "\n",
        "      review_aroma  review_appearance review_profilename  \\\n",
        "798            4.5                  4             grumpy   \n",
        "1559           3.5                  4    blitheringidiot   \n",
        "1560           2.5                  4        NeroFiddled   \n",
        "1563           3.0                  4    blitheringidiot   \n",
        "1564           3.0                  3             Gavage   \n",
        "\n",
        "                            beer_style  review_palate  review_taste  \\\n",
        "798   American Double / Imperial Stout            4.0           4.5   \n",
        "1559           American Pale Ale (APA)            3.5           3.5   \n",
        "1560           American Pale Ale (APA)            4.0           3.5   \n",
        "1563                      American IPA            4.0           4.0   \n",
        "1564                      American IPA            4.0           3.5   \n",
        "\n",
        "           beer_name  beer_abv  beer_beerid  \n",
        "798   Imperial Stout       NaN        42964  \n",
        "1559        Pale Ale       4.5        26420  \n",
        "1560        Pale Ale       4.5        26420  \n",
        "1563             IPA       NaN        26132  \n",
        "1564             IPA       NaN        26132  \n"
       ]
      }
     ],
     "prompt_number": 1
    },
    {
     "cell_type": "code",
     "collapsed": false,
     "input": [
      "print \"melting...\"\n",
      "df_wide = pd.pivot_table(df, values=[\"review_overall\"],\n",
      "                         rows=[\"beer_name\", \"review_profilename\"],\n",
      "                         aggfunc=np.mean).unstack()\n",
      "\n",
      "# any cells that are missing data (i.e. a user didn't buy a particular product)\n",
      "# we're going to set to 0\n",
      "df_wide = df_wide.fillna(0)"
     ],
     "language": "python",
     "metadata": {},
     "outputs": [
      {
       "output_type": "stream",
       "stream": "stdout",
       "text": [
        "melting...\n"
       ]
      },
      {
       "output_type": "stream",
       "stream": "stderr",
       "text": [
        "/Users/mpgartland1/anaconda/lib/python2.7/site-packages/pandas/util/decorators.py:81: FutureWarning: the 'rows' keyword is deprecated, use 'index' instead\n",
        "  warnings.warn(msg, FutureWarning)\n"
       ]
      }
     ],
     "prompt_number": 2
    },
    {
     "cell_type": "code",
     "collapsed": false,
     "input": [
      "# this is the key. we're going to use cosine_similarity from scikit-learn\n",
      "# to compute the distance between all beers\n",
      "print \"calculating similarity\"\n",
      "dists = cosine_similarity(df_wide)\n",
      "\n",
      "# stuff the distance matrix into a dataframe so it's easier to operate on\n",
      "dists = pd.DataFrame(dists, columns=df_wide.index)\n",
      "\n",
      "# give the indicies (equivalent to rownames in R) the name of the product id\n",
      "dists.index = dists.columns\n",
      "\n",
      "def get_sims(products):\n",
      "    \"\"\"\n",
      "    get_top10 takes a distance matrix an a productid (assumed to be integer)\n",
      "    and will calculate the 10 most similar products to product based on the\n",
      "    distance matrix\n",
      "\n",
      "    dists - a distance matrix\n",
      "    product - a product id (integer)\n",
      "    \"\"\"\n",
      "    p = dists[products].apply(lambda row: np.sum(row), axis=1)\n",
      "    p = p.order(ascending=False)\n",
      "    return p.index[p.index.isin(products)==False]\n",
      "\n",
      "get_sims([\"Sierra Nevada Pale Ale\", \"120 Minute IPA\", \"Coors Light\"])"
     ],
     "language": "python",
     "metadata": {},
     "outputs": [
      {
       "output_type": "stream",
       "stream": "stdout",
       "text": [
        "calculating similarity\n"
       ]
      },
      {
       "metadata": {},
       "output_type": "pyout",
       "prompt_number": 3,
       "text": [
        "Index([u'Samuel Adams Boston Lager', u'Sierra Nevada Celebration Ale', u'90 Minute IPA', u'Arrogant Bastard Ale', u'Stone IPA (India Pale Ale)', u'60 Minute IPA', u'HopDevil Ale', u'Stone Ruination IPA', u'Sierra Nevada Bigfoot Barleywine Style Ale', u'Storm King Stout', u'Samuel Adams Winter Lager', u'Samuel Adams Summer Ale', u'Prima Pils', u'Anchor Steam Beer', u'Old Rasputin Russian Imperial Stout', u'Samuel Adams Octoberfest', u'La Fin Du Monde', u'Brooklyn Black Chocolate Stout', u'Ayinger Celebrator Doppelbock', u'Dead Guy Ale', u'Hop Rod Rye', u'Double Bastard Ale', u'Duvel', u'Two Hearted Ale', u'Hop Wallop', u'Samuel Smith's Oatmeal Stout', u'Guinness Draught', u'Oaked Arrogant Bastard Ale', u'India Pale Ale', u'St. Bernardus Abt 12', u'Stone Smoked Porter', u'Stone Imperial Russian Stout', u'Chocolate Stout', u'Hennepin (Farmhouse Saison)', u'Schneider Aventinus', u'Anchor Liberty Ale', u'Samuel Adams Black Lager', u'Racer 5 India Pale Ale', u'Indian Brown Ale', u'Weihenstephaner Hefeweissbier', u'Shakespeare Oatmeal Stout', u'Samuel Smith's Imperial Stout', u'Sierra Nevada Summerfest Lager', u'Chimay Grande R\u00e9serve (Blue)', u'Young's Double Chocolate Stout', u'Trois Pistoles', u'Raison D'etre', u'Sierra Nevada Porter', u'ApriHop', u'Samuel Adams Old Fezziwig Ale', u'Maudite', u'Sierra Nevada Torpedo Extra IPA', u'Punkin Ale', u'Three Philosophers Belgian Style Blend (Quadrupel)', u'Fat Tire Amber Ale', u'Heineken Lager Beer', u'Blue Moon Belgian White', u'Golden Monkey', u'Sierra Nevada Stout', u'Chimay Premi\u00e8re (Red)', u'World Wide Stout', u'Samuel Adams Boston Ale (Stock Ale)', u'Trappistes Rochefort 10', u'Chimay Tripel (White)', u'Franziskaner Hefe-Weisse', u'Samuel Adams Holiday Porter', u'Hercules Double IPA', u'Northern Hemisphere Harvest Wet Hop Ale', u'Pale Ale', u'Bud Light', u'Budweiser', u'Stella Artois', u'Midas Touch Golden Elixir', u'Yeti Imperial Stout', u'Orval Trappist Ale', u'#9', u'Dale's Pale Ale', u'Bass Pale Ale', u'Anchor Porter', u'Stone Sublimely Self-Righteous Ale', u'Maharaja', u'Smuttynose IPA \"Finest Kind\"', u'Long Hammer IPA', u'Snake Dog IPA', u'Newcastle Brown Ale', u'India Pale Ale (IPA)', u'Hoegaarden Original White Ale', u'Trappistes Rochefort 8', u'Ommegang (Abbey Ale)', u'Titan IPA', u'Samuel Smith's Nut Brown Ale', u'Miller Lite', u'Bell's Expedition Stout', u'Fuller's ESB', u'Imperial Stout', u'Samuel Adams Noble Pils', u'Palo Santo Marron', u'Guinness Extra Stout (Original)', u'Gonzo Imperial Porter', u'Santa's Private Reserve Ale', ...], dtype='object')"
       ]
      }
     ],
     "prompt_number": 3
    },
    {
     "cell_type": "code",
     "collapsed": false,
     "input": [
      "from yhat import Yhat, YhatModel, preprocess\n",
      "from yhat import *\n",
      "\n",
      "class BeerRecommender(YhatModel):\n",
      "    @preprocess(in_type=dict, out_type=dict)\n",
      "    def execute(self, data):\n",
      "        beers = data.get(\"beers\")\n",
      "        suggested_beers = get_sims(beers)\n",
      "        result = []\n",
      "        for beer in suggested_beers:\n",
      "            result.append({\"beer\": beer})\n",
      "        return result"
     ],
     "language": "python",
     "metadata": {},
     "outputs": [],
     "prompt_number": 11
    },
    {
     "cell_type": "code",
     "collapsed": false,
     "input": [
      "yh = Yhat(\"myles.gartland@rockhurst.edu\", 'e68038ecb98e3dcc0f9f78a5c2467aeb',\"http://cloud.yhathq.com/\")\n",
      "yh.deploy(\"BeerRecommender\", BeerRecommender, globals())"
     ],
     "language": "python",
     "metadata": {},
     "outputs": [
      {
       "name": "stdout",
       "output_type": "stream",
       "stream": "stdout",
       "text": [
        "Are you sure you want to deploy? (y/N): y\n"
       ]
      },
      {
       "metadata": {},
       "output_type": "pyout",
       "prompt_number": 13,
       "text": [
        "{u'lang': u'python',\n",
        " u'message': u'Your model has been uploaded and is currently being built. You can check the status by logging into your Yhat account and viewing: /model/BeerRecommender/',\n",
        " u'model_endpoint': u'/myles.gartland@rockhurst.edu/models/BeerRecommender/',\n",
        " u'modelname': u'BeerRecommender',\n",
        " u'status': u'success',\n",
        " u'timestamp': u'20141125221247',\n",
        " u'version': 1}"
       ]
      }
     ],
     "prompt_number": 13
    },
    {
     "cell_type": "code",
     "collapsed": false,
     "input": [],
     "language": "python",
     "metadata": {},
     "outputs": []
    }
   ],
   "metadata": {}
  }
 ]
}